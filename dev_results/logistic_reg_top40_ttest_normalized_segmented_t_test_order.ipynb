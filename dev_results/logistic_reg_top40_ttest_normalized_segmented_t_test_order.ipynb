{
  "nbformat": 4,
  "nbformat_minor": 0,
  "metadata": {
    "colab": {
      "name": "logistic_reg_top40_ttest_normalized_segmented_t-test_order.ipynb",
      "provenance": [],
      "collapsed_sections": [],
      "toc_visible": true,
      "machine_shape": "hm"
    },
    "kernelspec": {
      "display_name": "Python 3",
      "name": "python3"
    }
  },
  "cells": [
    {
      "cell_type": "markdown",
      "metadata": {
        "id": "Zo-a97e4Nu_V"
      },
      "source": [
        "### increase ram size if required"
      ]
    },
    {
      "cell_type": "code",
      "metadata": {
        "id": "87T5BetZQYQv"
      },
      "source": [
        "i = []\n",
        "while True:\n",
        "  i.append(i)"
      ],
      "execution_count": null,
      "outputs": []
    },
    {
      "cell_type": "markdown",
      "metadata": {
        "id": "j54GcKUzOyWh"
      },
      "source": [
        "### mount google drive"
      ]
    },
    {
      "cell_type": "code",
      "metadata": {
        "colab": {
          "base_uri": "https://localhost:8080/"
        },
        "id": "7CKdxEViNnEs",
        "outputId": "75442803-1774-4426-e9f5-015a7c1f1521"
      },
      "source": [
        "from google.colab import drive\n",
        "drive.mount('/content/drive')"
      ],
      "execution_count": null,
      "outputs": [
        {
          "output_type": "stream",
          "text": [
            "Drive already mounted at /content/drive; to attempt to forcibly remount, call drive.mount(\"/content/drive\", force_remount=True).\n"
          ],
          "name": "stdout"
        }
      ]
    },
    {
      "cell_type": "code",
      "metadata": {
        "colab": {
          "base_uri": "https://localhost:8080/"
        },
        "id": "De9k_j9JNnBq",
        "outputId": "445fd559-f17a-4ff4-dd94-354a73884c48"
      },
      "source": [
        "import cv2\n",
        "import numpy as np\n",
        "import matplotlib.pyplot as plt\n",
        "import seaborn as sns\n",
        "# import spectral.io.envi as envi\n",
        "import pandas as pd\n",
        "from sklearn.metrics import confusion_matrix, accuracy_score, recall_score, precision_score\n",
        "from sklearn.metrics import precision_recall_curve, classification_report\n",
        "from sklearn.model_selection import train_test_split\n",
        "from sklearn.linear_model import LogisticRegressionCV\n",
        "from sklearn.linear_model import LogisticRegression\n",
        "from sklearn.model_selection import KFold\n",
        "\n",
        "import tensorflow as tf\n",
        "from tensorflow import keras\n",
        "from tensorflow.keras import layers\n",
        "from tensorflow.keras.layers.experimental import preprocessing\n",
        "from tensorflow.keras.callbacks import EarlyStopping\n",
        "from keras.models import Sequential\n",
        "from keras.layers import Dense\n",
        "\n",
        "print(tf.__version__)"
      ],
      "execution_count": null,
      "outputs": [
        {
          "output_type": "stream",
          "text": [
            "2.4.1\n"
          ],
          "name": "stdout"
        }
      ]
    },
    {
      "cell_type": "markdown",
      "metadata": {
        "id": "wIa5Kx_Vuog8"
      },
      "source": [
        "### get list of top 40 features based on t-test"
      ]
    },
    {
      "cell_type": "code",
      "metadata": {
        "id": "VBd_fgt_u_dP"
      },
      "source": [
        "t_statistic_array = np.abs(np.genfromtxt(\"/content/drive/MyDrive/Thesis/files/no_background/t_statistic_array.csv\", delimiter=','))\n",
        "ttest_df = pd.DataFrame(data=t_statistic_array, columns=['ttest_val'])\n",
        "ttest_df.ttest_val = np.abs(ttest_df.ttest_val.values)\n",
        "ttest_df.insert(loc=0, column='band_no', value=np.arange(186))"
      ],
      "execution_count": null,
      "outputs": []
    },
    {
      "cell_type": "code",
      "metadata": {
        "colab": {
          "base_uri": "https://localhost:8080/",
          "height": 350
        },
        "id": "mRlvEEqS04Nb",
        "outputId": "f7121e89-060d-4478-9bd0-e4279930375e"
      },
      "source": [
        "plt.figure(figsize=(17, 5))\n",
        "plt.bar(ttest_df.band_no.values, ttest_df.ttest_val.values)\n",
        "plt.xlabel('Channel Number')\n",
        "plt.ylabel('ttest_values')\n",
        "plt.title('t_test chart')\n",
        "# plt.savefig('/content/drive/MyDrive/Thesis/images/normalized/no_background/LR/' + 'ttest_normalized' + '.png')\n",
        "plt.show() "
      ],
      "execution_count": null,
      "outputs": [
        {
          "output_type": "display_data",
          "data": {
            "image/png": "[encoded data removed]",
            "text/plain": [
              "<Figure size 1224x360 with 1 Axes>"
            ]
          },
          "metadata": {
            "tags": [],
            "needs_background": "light"
          }
        }
      ]
    },
    {
      "cell_type": "code",
      "metadata": {
        "id": "2MrVurQN04FH"
      },
      "source": [
        "sorted_ttest_df = ttest_df.sort_values(ascending=False, by='ttest_val')"
      ],
      "execution_count": null,
      "outputs": []
    },
    {
      "cell_type": "code",
      "metadata": {
        "id": "LfJU9waa3n-P"
      },
      "source": [
        "top_selected = sorted_ttest_df.iloc[:40,:]"
      ],
      "execution_count": null,
      "outputs": []
    },
    {
      "cell_type": "code",
      "metadata": {
        "colab": {
          "base_uri": "https://localhost:8080/",
          "height": 350
        },
        "id": "QyQgLZ-94N69",
        "outputId": "805f4314-d61d-4937-99bc-2d08f4bceaf0"
      },
      "source": [
        "plt.figure(figsize=(17, 5))\n",
        "plt.bar(ttest_df.band_no.values, ttest_df.ttest_val.values, label='less_important_channels_based_on_ttest')\n",
        "plt.bar(top_selected.band_no.values, top_selected.ttest_val.values, color='cyan', label='top40_channels_based_on_ttest')\n",
        "plt.xlabel('Channel Number')\n",
        "plt.ylabel('ttest_values')\n",
        "plt.title('t_test chart')\n",
        "plt.legend(loc='upper right')\n",
        "# plt.savefig('/content/drive/MyDrive/Thesis/images/normalized/no_background/LR/' + 'top40_ttest_normalized_no_background' + '.png')\n",
        "plt.show() "
      ],
      "execution_count": null,
      "outputs": [
        {
          "output_type": "display_data",
          "data": {
            "image/png": "[encoded data removed]",
            "text/plain": [
              "<Figure size 1224x360 with 1 Axes>"
            ]
          },
          "metadata": {
            "tags": [],
            "needs_background": "light"
          }
        }
      ]
    },
    {
      "cell_type": "markdown",
      "metadata": {
        "id": "yKi4bc7S5jU6"
      },
      "source": [
        "### load selected channels for training"
      ]
    },
    {
      "cell_type": "code",
      "metadata": {
        "id": "nO9IltV161MN"
      },
      "source": [
        "bands_list = top_selected.band_no.values"
      ],
      "execution_count": null,
      "outputs": []
    },
    {
      "cell_type": "code",
      "metadata": {
        "colab": {
          "base_uri": "https://localhost:8080/"
        },
        "id": "Ra2FdKN19DF2",
        "outputId": "26c1f0df-b910-4f55-c1c8-7906f9cc1bcf"
      },
      "source": [
        "bands_list"
      ],
      "execution_count": null,
      "outputs": [
        {
          "output_type": "execute_result",
          "data": {
            "text/plain": [
              "array([ 43,  44,  45,  46,  41,  42,  47,  48,  40,  39,   5,   9,  10,\n",
              "         8,  38,   7,  49,  12,   3,  13, 166,  11,   6, 118,   2,   4,\n",
              "       123, 124, 116,  50, 109, 114,  14, 117, 113, 120, 112, 169,   1,\n",
              "       175])"
            ]
          },
          "metadata": {
            "tags": []
          },
          "execution_count": 9
        }
      ]
    },
    {
      "cell_type": "code",
      "metadata": {
        "id": "LyAIPGDC9W_S"
      },
      "source": [
        "y = np.load('/content/drive/MyDrive/Thesis/segmented_bands/label.npy')"
      ],
      "execution_count": null,
      "outputs": []
    },
    {
      "cell_type": "code",
      "metadata": {
        "colab": {
          "base_uri": "https://localhost:8080/"
        },
        "id": "AIkxglZH0mIz",
        "outputId": "01ca3ef6-e198-47a0-ae4a-a4ff440a8ef7"
      },
      "source": [
        "y.shape"
      ],
      "execution_count": null,
      "outputs": [
        {
          "output_type": "execute_result",
          "data": {
            "text/plain": [
              "(8410045,)"
            ]
          },
          "metadata": {
            "tags": []
          },
          "execution_count": 11
        }
      ]
    },
    {
      "cell_type": "code",
      "metadata": {
        "id": "myn0BZ2t9d1t"
      },
      "source": [
        "X = np.zeros((8410045, 40), dtype='float32')"
      ],
      "execution_count": null,
      "outputs": []
    },
    {
      "cell_type": "code",
      "metadata": {
        "id": "6DavEs7v-6Zf"
      },
      "source": [
        "for i in range(len(bands_list)):\n",
        "  X[:, i:i+1] = np.load('/content/drive/MyDrive/Thesis/segmented_bands/band_' + str(bands_list[i]) + '.npy').reshape(-1, 1)\n",
        "  print(i)"
      ],
      "execution_count": null,
      "outputs": []
    },
    {
      "cell_type": "code",
      "metadata": {
        "id": "YUSVpxa5LWzG"
      },
      "source": [
        "# using numpy =====================================\n",
        "# X = np.concatenate((X, y), axis=1)\n",
        "# np.random.shuffle(X)\n",
        "# y = X[:, 50:]\n",
        "# X = np.delete(X, 50, 1)"
      ],
      "execution_count": null,
      "outputs": []
    },
    {
      "cell_type": "code",
      "metadata": {
        "colab": {
          "base_uri": "https://localhost:8080/",
          "height": 161
        },
        "id": "cZVkb6BNlBHs",
        "outputId": "a7952300-452d-4a2c-c0f0-680118b4a7a3"
      },
      "source": [
        "df = pd.DataFrame(data=X)\n",
        "df.head(3)"
      ],
      "execution_count": null,
      "outputs": [
        {
          "output_type": "execute_result",
          "data": {
            "text/html": [
              "<div>\n",
              "<style scoped>\n",
              "    .dataframe tbody tr th:only-of-type {\n",
              "        vertical-align: middle;\n",
              "    }\n",
              "\n",
              "    .dataframe tbody tr th {\n",
              "        vertical-align: top;\n",
              "    }\n",
              "\n",
              "    .dataframe thead th {\n",
              "        text-align: right;\n",
              "    }\n",
              "</style>\n",
              "<table border=\"1\" class=\"dataframe\">\n",
              "  <thead>\n",
              "    <tr style=\"text-align: right;\">\n",
              "      <th></th>\n",
              "      <th>0</th>\n",
              "      <th>1</th>\n",
              "      <th>2</th>\n",
              "      <th>3</th>\n",
              "      <th>4</th>\n",
              "      <th>5</th>\n",
              "      <th>6</th>\n",
              "      <th>7</th>\n",
              "      <th>8</th>\n",
              "      <th>9</th>\n",
              "      <th>10</th>\n",
              "      <th>11</th>\n",
              "      <th>12</th>\n",
              "      <th>13</th>\n",
              "      <th>14</th>\n",
              "      <th>15</th>\n",
              "      <th>16</th>\n",
              "      <th>17</th>\n",
              "      <th>18</th>\n",
              "      <th>19</th>\n",
              "      <th>20</th>\n",
              "      <th>21</th>\n",
              "      <th>22</th>\n",
              "      <th>23</th>\n",
              "      <th>24</th>\n",
              "      <th>25</th>\n",
              "      <th>26</th>\n",
              "      <th>27</th>\n",
              "      <th>28</th>\n",
              "      <th>29</th>\n",
              "      <th>30</th>\n",
              "      <th>31</th>\n",
              "      <th>32</th>\n",
              "      <th>33</th>\n",
              "      <th>34</th>\n",
              "      <th>35</th>\n",
              "      <th>36</th>\n",
              "      <th>37</th>\n",
              "      <th>38</th>\n",
              "      <th>39</th>\n",
              "    </tr>\n",
              "  </thead>\n",
              "  <tbody>\n",
              "    <tr>\n",
              "      <th>0</th>\n",
              "      <td>0.080748</td>\n",
              "      <td>0.081628</td>\n",
              "      <td>0.082246</td>\n",
              "      <td>0.082209</td>\n",
              "      <td>0.082994</td>\n",
              "      <td>0.081314</td>\n",
              "      <td>0.085431</td>\n",
              "      <td>0.083697</td>\n",
              "      <td>0.080989</td>\n",
              "      <td>0.081016</td>\n",
              "      <td>0.073905</td>\n",
              "      <td>0.056552</td>\n",
              "      <td>0.062749</td>\n",
              "      <td>0.060123</td>\n",
              "      <td>0.074765</td>\n",
              "      <td>0.062921</td>\n",
              "      <td>0.085600</td>\n",
              "      <td>0.059066</td>\n",
              "      <td>0.062560</td>\n",
              "      <td>0.066134</td>\n",
              "      <td>0.284609</td>\n",
              "      <td>0.059414</td>\n",
              "      <td>0.055737</td>\n",
              "      <td>0.200913</td>\n",
              "      <td>0.071277</td>\n",
              "      <td>0.062931</td>\n",
              "      <td>0.211861</td>\n",
              "      <td>0.210896</td>\n",
              "      <td>0.199281</td>\n",
              "      <td>0.085764</td>\n",
              "      <td>0.193743</td>\n",
              "      <td>0.196735</td>\n",
              "      <td>0.064663</td>\n",
              "      <td>0.198488</td>\n",
              "      <td>0.195890</td>\n",
              "      <td>0.203392</td>\n",
              "      <td>0.195848</td>\n",
              "      <td>0.271737</td>\n",
              "      <td>0.055364</td>\n",
              "      <td>0.293130</td>\n",
              "    </tr>\n",
              "    <tr>\n",
              "      <th>1</th>\n",
              "      <td>0.094785</td>\n",
              "      <td>0.093623</td>\n",
              "      <td>0.097864</td>\n",
              "      <td>0.098773</td>\n",
              "      <td>0.092296</td>\n",
              "      <td>0.094340</td>\n",
              "      <td>0.099247</td>\n",
              "      <td>0.100791</td>\n",
              "      <td>0.091789</td>\n",
              "      <td>0.082082</td>\n",
              "      <td>0.062005</td>\n",
              "      <td>0.064419</td>\n",
              "      <td>0.063158</td>\n",
              "      <td>0.061098</td>\n",
              "      <td>0.084942</td>\n",
              "      <td>0.056494</td>\n",
              "      <td>0.097506</td>\n",
              "      <td>0.062476</td>\n",
              "      <td>0.059053</td>\n",
              "      <td>0.054707</td>\n",
              "      <td>0.326965</td>\n",
              "      <td>0.051043</td>\n",
              "      <td>0.055613</td>\n",
              "      <td>0.268123</td>\n",
              "      <td>0.058796</td>\n",
              "      <td>0.048920</td>\n",
              "      <td>0.270552</td>\n",
              "      <td>0.277620</td>\n",
              "      <td>0.262482</td>\n",
              "      <td>0.101604</td>\n",
              "      <td>0.254955</td>\n",
              "      <td>0.259298</td>\n",
              "      <td>0.055160</td>\n",
              "      <td>0.264362</td>\n",
              "      <td>0.256119</td>\n",
              "      <td>0.270898</td>\n",
              "      <td>0.256110</td>\n",
              "      <td>0.337200</td>\n",
              "      <td>0.071298</td>\n",
              "      <td>0.342472</td>\n",
              "    </tr>\n",
              "    <tr>\n",
              "      <th>2</th>\n",
              "      <td>0.092634</td>\n",
              "      <td>0.090981</td>\n",
              "      <td>0.092011</td>\n",
              "      <td>0.093833</td>\n",
              "      <td>0.089847</td>\n",
              "      <td>0.093519</td>\n",
              "      <td>0.097458</td>\n",
              "      <td>0.094397</td>\n",
              "      <td>0.092310</td>\n",
              "      <td>0.089588</td>\n",
              "      <td>0.060415</td>\n",
              "      <td>0.065689</td>\n",
              "      <td>0.063281</td>\n",
              "      <td>0.054036</td>\n",
              "      <td>0.087074</td>\n",
              "      <td>0.059265</td>\n",
              "      <td>0.095819</td>\n",
              "      <td>0.056630</td>\n",
              "      <td>0.054795</td>\n",
              "      <td>0.062356</td>\n",
              "      <td>0.310785</td>\n",
              "      <td>0.055753</td>\n",
              "      <td>0.061075</td>\n",
              "      <td>0.250791</td>\n",
              "      <td>0.045807</td>\n",
              "      <td>0.055062</td>\n",
              "      <td>0.256087</td>\n",
              "      <td>0.254455</td>\n",
              "      <td>0.248540</td>\n",
              "      <td>0.098819</td>\n",
              "      <td>0.238980</td>\n",
              "      <td>0.243044</td>\n",
              "      <td>0.071907</td>\n",
              "      <td>0.245912</td>\n",
              "      <td>0.240436</td>\n",
              "      <td>0.252370</td>\n",
              "      <td>0.242744</td>\n",
              "      <td>0.325962</td>\n",
              "      <td>0.043482</td>\n",
              "      <td>0.327869</td>\n",
              "    </tr>\n",
              "  </tbody>\n",
              "</table>\n",
              "</div>"
            ],
            "text/plain": [
              "         0         1         2   ...        37        38        39\n",
              "0  0.080748  0.081628  0.082246  ...  0.271737  0.055364  0.293130\n",
              "1  0.094785  0.093623  0.097864  ...  0.337200  0.071298  0.342472\n",
              "2  0.092634  0.090981  0.092011  ...  0.325962  0.043482  0.327869\n",
              "\n",
              "[3 rows x 40 columns]"
            ]
          },
          "metadata": {
            "tags": []
          },
          "execution_count": 14
        }
      ]
    },
    {
      "cell_type": "code",
      "metadata": {
        "id": "8oDzAcFolA49"
      },
      "source": [
        "df.insert(0, \"label\", value=np.array(y, dtype=int), allow_duplicates=True)"
      ],
      "execution_count": null,
      "outputs": []
    },
    {
      "cell_type": "code",
      "metadata": {
        "colab": {
          "base_uri": "https://localhost:8080/",
          "height": 161
        },
        "id": "AkLutXjGlA25",
        "outputId": "b06d153b-30a9-4894-e981-67a197641772"
      },
      "source": [
        "df = df.sample(frac = 1)\n",
        "df.head(3)"
      ],
      "execution_count": null,
      "outputs": [
        {
          "output_type": "execute_result",
          "data": {
            "text/html": [
              "<div>\n",
              "<style scoped>\n",
              "    .dataframe tbody tr th:only-of-type {\n",
              "        vertical-align: middle;\n",
              "    }\n",
              "\n",
              "    .dataframe tbody tr th {\n",
              "        vertical-align: top;\n",
              "    }\n",
              "\n",
              "    .dataframe thead th {\n",
              "        text-align: right;\n",
              "    }\n",
              "</style>\n",
              "<table border=\"1\" class=\"dataframe\">\n",
              "  <thead>\n",
              "    <tr style=\"text-align: right;\">\n",
              "      <th></th>\n",
              "      <th>label</th>\n",
              "      <th>0</th>\n",
              "      <th>1</th>\n",
              "      <th>2</th>\n",
              "      <th>3</th>\n",
              "      <th>4</th>\n",
              "      <th>5</th>\n",
              "      <th>6</th>\n",
              "      <th>7</th>\n",
              "      <th>8</th>\n",
              "      <th>9</th>\n",
              "      <th>10</th>\n",
              "      <th>11</th>\n",
              "      <th>12</th>\n",
              "      <th>13</th>\n",
              "      <th>14</th>\n",
              "      <th>15</th>\n",
              "      <th>16</th>\n",
              "      <th>17</th>\n",
              "      <th>18</th>\n",
              "      <th>19</th>\n",
              "      <th>20</th>\n",
              "      <th>21</th>\n",
              "      <th>22</th>\n",
              "      <th>23</th>\n",
              "      <th>24</th>\n",
              "      <th>25</th>\n",
              "      <th>26</th>\n",
              "      <th>27</th>\n",
              "      <th>28</th>\n",
              "      <th>29</th>\n",
              "      <th>30</th>\n",
              "      <th>31</th>\n",
              "      <th>32</th>\n",
              "      <th>33</th>\n",
              "      <th>34</th>\n",
              "      <th>35</th>\n",
              "      <th>36</th>\n",
              "      <th>37</th>\n",
              "      <th>38</th>\n",
              "      <th>39</th>\n",
              "    </tr>\n",
              "  </thead>\n",
              "  <tbody>\n",
              "    <tr>\n",
              "      <th>700140</th>\n",
              "      <td>1</td>\n",
              "      <td>0.084975</td>\n",
              "      <td>0.087776</td>\n",
              "      <td>0.083549</td>\n",
              "      <td>0.086385</td>\n",
              "      <td>0.082325</td>\n",
              "      <td>0.088286</td>\n",
              "      <td>0.086695</td>\n",
              "      <td>0.087743</td>\n",
              "      <td>0.082818</td>\n",
              "      <td>0.087912</td>\n",
              "      <td>0.085637</td>\n",
              "      <td>0.071125</td>\n",
              "      <td>0.071407</td>\n",
              "      <td>0.068774</td>\n",
              "      <td>0.081129</td>\n",
              "      <td>0.072117</td>\n",
              "      <td>0.088883</td>\n",
              "      <td>0.081089</td>\n",
              "      <td>0.076670</td>\n",
              "      <td>0.068954</td>\n",
              "      <td>0.487430</td>\n",
              "      <td>0.069952</td>\n",
              "      <td>0.081757</td>\n",
              "      <td>0.483044</td>\n",
              "      <td>0.082645</td>\n",
              "      <td>0.080342</td>\n",
              "      <td>0.491733</td>\n",
              "      <td>0.485602</td>\n",
              "      <td>0.483638</td>\n",
              "      <td>0.090581</td>\n",
              "      <td>0.482649</td>\n",
              "      <td>0.490003</td>\n",
              "      <td>0.077062</td>\n",
              "      <td>0.494047</td>\n",
              "      <td>0.487821</td>\n",
              "      <td>0.492995</td>\n",
              "      <td>0.486369</td>\n",
              "      <td>0.481623</td>\n",
              "      <td>0.085778</td>\n",
              "      <td>0.466268</td>\n",
              "    </tr>\n",
              "    <tr>\n",
              "      <th>8297149</th>\n",
              "      <td>0</td>\n",
              "      <td>0.192702</td>\n",
              "      <td>0.200854</td>\n",
              "      <td>0.204203</td>\n",
              "      <td>0.200365</td>\n",
              "      <td>0.183293</td>\n",
              "      <td>0.183203</td>\n",
              "      <td>0.205694</td>\n",
              "      <td>0.208118</td>\n",
              "      <td>0.175464</td>\n",
              "      <td>0.163791</td>\n",
              "      <td>0.050981</td>\n",
              "      <td>0.046007</td>\n",
              "      <td>0.046738</td>\n",
              "      <td>0.055958</td>\n",
              "      <td>0.147730</td>\n",
              "      <td>0.056606</td>\n",
              "      <td>0.201470</td>\n",
              "      <td>0.051341</td>\n",
              "      <td>0.051147</td>\n",
              "      <td>0.045245</td>\n",
              "      <td>0.413389</td>\n",
              "      <td>0.050119</td>\n",
              "      <td>0.047243</td>\n",
              "      <td>0.440536</td>\n",
              "      <td>0.040974</td>\n",
              "      <td>0.054395</td>\n",
              "      <td>0.447890</td>\n",
              "      <td>0.446468</td>\n",
              "      <td>0.445963</td>\n",
              "      <td>0.200111</td>\n",
              "      <td>0.445408</td>\n",
              "      <td>0.455932</td>\n",
              "      <td>0.042681</td>\n",
              "      <td>0.449317</td>\n",
              "      <td>0.443102</td>\n",
              "      <td>0.447064</td>\n",
              "      <td>0.441245</td>\n",
              "      <td>0.414518</td>\n",
              "      <td>0.072347</td>\n",
              "      <td>0.414072</td>\n",
              "    </tr>\n",
              "    <tr>\n",
              "      <th>3430141</th>\n",
              "      <td>0</td>\n",
              "      <td>0.146417</td>\n",
              "      <td>0.140903</td>\n",
              "      <td>0.146958</td>\n",
              "      <td>0.153840</td>\n",
              "      <td>0.135042</td>\n",
              "      <td>0.136614</td>\n",
              "      <td>0.156644</td>\n",
              "      <td>0.156625</td>\n",
              "      <td>0.129507</td>\n",
              "      <td>0.123562</td>\n",
              "      <td>0.041466</td>\n",
              "      <td>0.034652</td>\n",
              "      <td>0.039814</td>\n",
              "      <td>0.042392</td>\n",
              "      <td>0.114508</td>\n",
              "      <td>0.036563</td>\n",
              "      <td>0.160911</td>\n",
              "      <td>0.035321</td>\n",
              "      <td>0.060152</td>\n",
              "      <td>0.029388</td>\n",
              "      <td>0.431400</td>\n",
              "      <td>0.039726</td>\n",
              "      <td>0.041521</td>\n",
              "      <td>0.436624</td>\n",
              "      <td>0.030723</td>\n",
              "      <td>0.037170</td>\n",
              "      <td>0.426990</td>\n",
              "      <td>0.434417</td>\n",
              "      <td>0.438668</td>\n",
              "      <td>0.155599</td>\n",
              "      <td>0.431726</td>\n",
              "      <td>0.434029</td>\n",
              "      <td>0.034472</td>\n",
              "      <td>0.427490</td>\n",
              "      <td>0.429271</td>\n",
              "      <td>0.427360</td>\n",
              "      <td>0.424795</td>\n",
              "      <td>0.427509</td>\n",
              "      <td>0.037478</td>\n",
              "      <td>0.426143</td>\n",
              "    </tr>\n",
              "  </tbody>\n",
              "</table>\n",
              "</div>"
            ],
            "text/plain": [
              "         label         0         1  ...        37        38        39\n",
              "700140       1  0.084975  0.087776  ...  0.481623  0.085778  0.466268\n",
              "8297149      0  0.192702  0.200854  ...  0.414518  0.072347  0.414072\n",
              "3430141      0  0.146417  0.140903  ...  0.427509  0.037478  0.426143\n",
              "\n",
              "[3 rows x 41 columns]"
            ]
          },
          "metadata": {
            "tags": []
          },
          "execution_count": 16
        }
      ]
    },
    {
      "cell_type": "code",
      "metadata": {
        "id": "BzUe1WpbmwyZ"
      },
      "source": [
        "X = df.iloc[:, 1:]"
      ],
      "execution_count": null,
      "outputs": []
    },
    {
      "cell_type": "code",
      "metadata": {
        "id": "XC9eZIgHgCYm"
      },
      "source": [
        "# np.save('/content/drive/MyDrive/Thesis/shuffled_top40/dataset.npy', X)"
      ],
      "execution_count": null,
      "outputs": []
    },
    {
      "cell_type": "code",
      "metadata": {
        "id": "IzlIFjylF4cD"
      },
      "source": [
        "y = df.iloc[:, 0:1]"
      ],
      "execution_count": null,
      "outputs": []
    },
    {
      "cell_type": "code",
      "metadata": {
        "id": "M0Z6iOaYgtAs"
      },
      "source": [
        "# np.save('/content/drive/MyDrive/Thesis/shuffled_top40/label.npy', y)"
      ],
      "execution_count": null,
      "outputs": []
    },
    {
      "cell_type": "code",
      "metadata": {
        "id": "GZZqnQ4YhfPB"
      },
      "source": [
        "# y = np.load('/content/drive/MyDrive/Thesis/shuffled_top40/label.npy')"
      ],
      "execution_count": null,
      "outputs": []
    },
    {
      "cell_type": "code",
      "metadata": {
        "id": "HZJ5PZ8rhfLw"
      },
      "source": [
        "# X = np.load('/content/drive/MyDrive/Thesis/shuffled_top40/dataset.npy')"
      ],
      "execution_count": null,
      "outputs": []
    },
    {
      "cell_type": "markdown",
      "metadata": {
        "id": "wdKAin1QmcD0"
      },
      "source": [
        "### logistic regression using keras"
      ]
    },
    {
      "cell_type": "markdown",
      "metadata": {
        "id": "5ljCaRudGEC-"
      },
      "source": [
        "start preparing dataset"
      ]
    },
    {
      "cell_type": "code",
      "metadata": {
        "colab": {
          "base_uri": "https://localhost:8080/"
        },
        "id": "UW5lTvtsGPJn",
        "outputId": "269bb0a4-6fe1-471d-a329-40fd92bd0a4f"
      },
      "source": [
        "input_shape = [X.shape[1],]\n",
        "input_shape"
      ],
      "execution_count": null,
      "outputs": [
        {
          "output_type": "execute_result",
          "data": {
            "text/plain": [
              "[40]"
            ]
          },
          "metadata": {
            "tags": []
          },
          "execution_count": 23
        }
      ]
    },
    {
      "cell_type": "code",
      "metadata": {
        "id": "-rTt_p85s66H"
      },
      "source": [
        "num_folds = 5\n",
        "# Define per-fold score containers <-- these are new\n",
        "acc_per_fold = []\n",
        "loss_per_fold = []"
      ],
      "execution_count": null,
      "outputs": []
    },
    {
      "cell_type": "code",
      "metadata": {
        "id": "BgRH0PTyBOPe"
      },
      "source": [
        ""
      ],
      "execution_count": null,
      "outputs": []
    },
    {
      "cell_type": "code",
      "metadata": {
        "id": "UYcgHeias63m"
      },
      "source": [
        "for train, test in kfold.split(X, y):\n",
        "  input_shape = [X.shape[1],]\n",
        "  band_normalizer = preprocessing.Normalization(input_shape=input_shape)\n",
        "\n",
        "  model = tf.keras.Sequential([\n",
        "    band_normalizer,\n",
        "    layers.Dense(units=1, activation='sigmoid')\n",
        "  ])\n",
        "\n",
        "  model.compile(\n",
        "    optimizer=tf.optimizers.Adam(learning_rate=0.1),\n",
        "    loss='binary_crossentropy', metrics=['accuracy'])\n",
        "\n",
        "  callback = tf.keras.callbacks.EarlyStopping(monitor='loss', min_delta=1e-3, patience=3)\n",
        "\n",
        "  %%time\n",
        "  history = model.fit(\n",
        "    X[train], y[train],\n",
        "    epochs=100,\n",
        "    # suppress logging\n",
        "    verbose=0,\n",
        "    # Calculate validation results on 25% of the training data\n",
        "    # validation_split = 0.25,\n",
        "    callbacks=[callback]\n",
        "    )\n",
        "  \n",
        "  # Generate generalization metrics\n",
        "  scores = model.evaluate(inputs[test], targets[test], verbose=0)\n",
        "  print(f'Score for fold {fold_no}: {model.metrics_names[0]} of {scores[0]}; {model.metrics_names[1]} of {scores[1]*100}%')\n",
        "  acc_per_fold.append(scores[1] * 100)\n",
        "  loss_per_fold.append(scores[0])\n",
        "\n",
        "  # Increase fold number\n",
        "  fold_no = fold_no + 1\n",
        "  "
      ],
      "execution_count": null,
      "outputs": []
    },
    {
      "cell_type": "code",
      "metadata": {
        "id": "SqIGC2Hxs6z8"
      },
      "source": [
        ""
      ],
      "execution_count": null,
      "outputs": []
    },
    {
      "cell_type": "code",
      "metadata": {
        "id": "uSC2BIcZs6wU"
      },
      "source": [
        ""
      ],
      "execution_count": null,
      "outputs": []
    },
    {
      "cell_type": "code",
      "metadata": {
        "id": "6p8MCPSlGPHn"
      },
      "source": [
        "band_normalizer = preprocessing.Normalization(input_shape=input_shape)"
      ],
      "execution_count": null,
      "outputs": []
    },
    {
      "cell_type": "code",
      "metadata": {
        "id": "L6sCwedWGPFm"
      },
      "source": [
        "# bands = np.array(X)"
      ],
      "execution_count": null,
      "outputs": []
    },
    {
      "cell_type": "code",
      "metadata": {
        "id": "0PFQ4LCKGPCd"
      },
      "source": [
        "band_normalizer.adapt(np.array(X))"
      ],
      "execution_count": null,
      "outputs": []
    },
    {
      "cell_type": "code",
      "metadata": {
        "colab": {
          "base_uri": "https://localhost:8080/"
        },
        "id": "ImR-tjGkGO_X",
        "outputId": "b7b1af6e-2a43-4c6a-e63b-4cb1403e6ae0"
      },
      "source": [
        "model = tf.keras.Sequential([\n",
        "    band_normalizer,\n",
        "    layers.Dense(units=1, activation='sigmoid')\n",
        "])\n",
        "\n",
        "model.summary()"
      ],
      "execution_count": null,
      "outputs": [
        {
          "output_type": "stream",
          "text": [
            "Model: \"sequential\"\n",
            "_________________________________________________________________\n",
            "Layer (type)                 Output Shape              Param #   \n",
            "=================================================================\n",
            "normalization (Normalization (None, 40)                81        \n",
            "_________________________________________________________________\n",
            "dense (Dense)                (None, 1)                 41        \n",
            "=================================================================\n",
            "Total params: 122\n",
            "Trainable params: 41\n",
            "Non-trainable params: 81\n",
            "_________________________________________________________________\n"
          ],
          "name": "stdout"
        }
      ]
    },
    {
      "cell_type": "code",
      "metadata": {
        "id": "uIjpJVB0GO9d"
      },
      "source": [
        "model.compile(\n",
        "    optimizer=tf.optimizers.Adam(learning_rate=0.1),\n",
        "    loss='binary_crossentropy', metrics=['accuracy'])"
      ],
      "execution_count": null,
      "outputs": []
    },
    {
      "cell_type": "code",
      "metadata": {
        "id": "zlhQjpGFGO6S"
      },
      "source": [
        "callback = tf.keras.callbacks.EarlyStopping(monitor='loss', min_delta=1e-3, patience=3)"
      ],
      "execution_count": null,
      "outputs": []
    },
    {
      "cell_type": "code",
      "metadata": {
        "colab": {
          "base_uri": "https://localhost:8080/"
        },
        "id": "e7gEXG-fGO4e",
        "outputId": "7c18b6d7-a013-407d-e6ef-a2d77c95d083"
      },
      "source": [
        "%%time\n",
        "history = model.fit(\n",
        "    X, y,\n",
        "    epochs=100,\n",
        "    # suppress logging\n",
        "    verbose=1,\n",
        "    # Calculate validation results on 25% of the training data\n",
        "    validation_split = 0.25,\n",
        "    callbacks=[callback]\n",
        "    )"
      ],
      "execution_count": null,
      "outputs": [
        {
          "output_type": "stream",
          "text": [
            "Epoch 1/100\n",
            "197111/197111 [==============================] - 504s 3ms/step - loss: 0.4114 - accuracy: 0.8311 - val_loss: 0.3857 - val_accuracy: 0.8385\n",
            "Epoch 2/100\n",
            "197111/197111 [==============================] - 524s 3ms/step - loss: 0.4094 - accuracy: 0.8329 - val_loss: 0.4564 - val_accuracy: 0.8068\n",
            "Epoch 3/100\n",
            "197111/197111 [==============================] - 506s 3ms/step - loss: 0.4101 - accuracy: 0.8327 - val_loss: 0.4004 - val_accuracy: 0.8255\n",
            "Epoch 4/100\n",
            "197111/197111 [==============================] - 515s 3ms/step - loss: 0.4101 - accuracy: 0.8326 - val_loss: 0.3795 - val_accuracy: 0.8467\n",
            "CPU times: user 40min, sys: 7min 32s, total: 47min 32s\n",
            "Wall time: 34min 9s\n"
          ],
          "name": "stdout"
        }
      ]
    },
    {
      "cell_type": "code",
      "metadata": {
        "colab": {
          "base_uri": "https://localhost:8080/",
          "height": 171
        },
        "id": "VznfDEliGO1p",
        "outputId": "0f695335-8602-4de6-db39-7d2692c13da3"
      },
      "source": [
        "hist = pd.DataFrame(history.history)\n",
        "hist['epoch'] = history.epoch\n",
        "hist.tail()"
      ],
      "execution_count": null,
      "outputs": [
        {
          "output_type": "execute_result",
          "data": {
            "text/html": [
              "<div>\n",
              "<style scoped>\n",
              "    .dataframe tbody tr th:only-of-type {\n",
              "        vertical-align: middle;\n",
              "    }\n",
              "\n",
              "    .dataframe tbody tr th {\n",
              "        vertical-align: top;\n",
              "    }\n",
              "\n",
              "    .dataframe thead th {\n",
              "        text-align: right;\n",
              "    }\n",
              "</style>\n",
              "<table border=\"1\" class=\"dataframe\">\n",
              "  <thead>\n",
              "    <tr style=\"text-align: right;\">\n",
              "      <th></th>\n",
              "      <th>loss</th>\n",
              "      <th>accuracy</th>\n",
              "      <th>val_loss</th>\n",
              "      <th>val_accuracy</th>\n",
              "      <th>epoch</th>\n",
              "    </tr>\n",
              "  </thead>\n",
              "  <tbody>\n",
              "    <tr>\n",
              "      <th>0</th>\n",
              "      <td>0.410023</td>\n",
              "      <td>0.832448</td>\n",
              "      <td>0.385663</td>\n",
              "      <td>0.838519</td>\n",
              "      <td>0</td>\n",
              "    </tr>\n",
              "    <tr>\n",
              "      <th>1</th>\n",
              "      <td>0.409838</td>\n",
              "      <td>0.832613</td>\n",
              "      <td>0.456354</td>\n",
              "      <td>0.806801</td>\n",
              "      <td>1</td>\n",
              "    </tr>\n",
              "    <tr>\n",
              "      <th>2</th>\n",
              "      <td>0.409925</td>\n",
              "      <td>0.832628</td>\n",
              "      <td>0.400411</td>\n",
              "      <td>0.825494</td>\n",
              "      <td>2</td>\n",
              "    </tr>\n",
              "    <tr>\n",
              "      <th>3</th>\n",
              "      <td>0.409666</td>\n",
              "      <td>0.832609</td>\n",
              "      <td>0.379524</td>\n",
              "      <td>0.846710</td>\n",
              "      <td>3</td>\n",
              "    </tr>\n",
              "  </tbody>\n",
              "</table>\n",
              "</div>"
            ],
            "text/plain": [
              "       loss  accuracy  val_loss  val_accuracy  epoch\n",
              "0  0.410023  0.832448  0.385663      0.838519      0\n",
              "1  0.409838  0.832613  0.456354      0.806801      1\n",
              "2  0.409925  0.832628  0.400411      0.825494      2\n",
              "3  0.409666  0.832609  0.379524      0.846710      3"
            ]
          },
          "metadata": {
            "tags": []
          },
          "execution_count": 31
        }
      ]
    },
    {
      "cell_type": "code",
      "metadata": {
        "id": "JOSGVQWwG-iH"
      },
      "source": [
        "def plot_loss(history):\n",
        "  plt.plot(history.history['loss'], label='loss')\n",
        "  plt.plot(history.history['val_loss'], label='val_loss')\n",
        "  plt.ylim([0, 5])\n",
        "  plt.xlabel('Epoch')\n",
        "  plt.ylabel('error')\n",
        "  plt.legend()\n",
        "  plt.grid(True)"
      ],
      "execution_count": null,
      "outputs": []
    },
    {
      "cell_type": "code",
      "metadata": {
        "id": "XLDZhEGesW3e"
      },
      "source": [
        "def plot_accuracy(history):\n",
        "  plt.plot(history.history['accuracy'], label='accuracy')\n",
        "  plt.plot(history.history['val_accuracy'], label='val_accuracy')\n",
        "  plt.ylim([0, 1])\n",
        "  plt.xlabel('Epoch')\n",
        "  plt.ylabel('accuracy')\n",
        "  plt.legend()\n",
        "  plt.grid(True)"
      ],
      "execution_count": null,
      "outputs": []
    },
    {
      "cell_type": "code",
      "metadata": {
        "colab": {
          "base_uri": "https://localhost:8080/",
          "height": 283
        },
        "id": "UhJwFA05G-gU",
        "outputId": "48609e2d-0cdc-4372-9f66-f180e0b2c80a"
      },
      "source": [
        "plot_loss(history)"
      ],
      "execution_count": null,
      "outputs": [
        {
          "output_type": "display_data",
          "data": {
            "image/png": "[encoded data removed]",
            "text/plain": [
              "<Figure size 432x288 with 1 Axes>"
            ]
          },
          "metadata": {
            "tags": [],
            "needs_background": "light"
          }
        }
      ]
    },
    {
      "cell_type": "code",
      "metadata": {
        "colab": {
          "base_uri": "https://localhost:8080/",
          "height": 283
        },
        "id": "6QOEsV_QsnnJ",
        "outputId": "1b6a233b-452e-4fec-e18f-c8bbc52addda"
      },
      "source": [
        "plot_accuracy(history)"
      ],
      "execution_count": null,
      "outputs": [
        {
          "output_type": "display_data",
          "data": {
            "image/png": "[encoded data removed]",
            "text/plain": [
              "<Figure size 432x288 with 1 Axes>"
            ]
          },
          "metadata": {
            "tags": [],
            "needs_background": "light"
          }
        }
      ]
    },
    {
      "cell_type": "code",
      "metadata": {
        "colab": {
          "base_uri": "https://localhost:8080/"
        },
        "id": "fROtsPzxJoC1",
        "outputId": "2a365df5-fec4-4424-eb4d-c0c7cdd6dbdd"
      },
      "source": [
        "# # save model\n",
        "# model.save('/content/drive/MyDrive/Thesis/models/LR_normalized_top40_ttest_nobackground')"
      ],
      "execution_count": null,
      "outputs": [
        {
          "output_type": "stream",
          "text": [
            "INFO:tensorflow:Assets written to: /content/drive/MyDrive/Thesis/models/LR_normalized_top40_ttest_nobackground/assets\n"
          ],
          "name": "stdout"
        }
      ]
    },
    {
      "cell_type": "code",
      "metadata": {
        "id": "2pYjb7-xJn_Z"
      },
      "source": [
        "# # load model\n",
        "# from tensorflow import keras\n",
        "# model = keras.models.load_model('/content/drive/MyDrive/Thesis/models/LR_normalized_top40_ttest_nobackground')"
      ],
      "execution_count": null,
      "outputs": []
    },
    {
      "cell_type": "code",
      "metadata": {
        "id": "IL3iwhczG-az"
      },
      "source": [
        "# predict = model.predict(X)\n",
        "# accuracy_score(np.round(predict), y[:])"
      ],
      "execution_count": null,
      "outputs": []
    },
    {
      "cell_type": "markdown",
      "metadata": {
        "id": "cTh4xFNlMSdH"
      },
      "source": [
        "## test model on mean values dataset"
      ]
    },
    {
      "cell_type": "code",
      "metadata": {
        "id": "8TRQGq6RMSIn"
      },
      "source": [
        "columns = np.array(np.arange(186) + 1, dtype='int')"
      ],
      "execution_count": null,
      "outputs": []
    },
    {
      "cell_type": "code",
      "metadata": {
        "colab": {
          "base_uri": "https://localhost:8080/"
        },
        "id": "GWI3_tIjMSDL",
        "outputId": "6b9ebc1b-2715-4257-cae0-6e343c4cc6fd"
      },
      "source": [
        "# getting list of cropped reference images\n",
        "source_file = '/content/drive/MyDrive/Thesis/source/VNIR_img.txt'\n",
        "img_list = []\n",
        "with open(source_file, \"r\") as listOfImages:\n",
        "    for line in listOfImages:\n",
        "        to_lower = str(line.strip()).lower() # make lower case to match reference imgs name\n",
        "        img_list.append(to_lower)\n",
        "        \n",
        "print(len(img_list))"
      ],
      "execution_count": null,
      "outputs": [
        {
          "output_type": "stream",
          "text": [
            "12\n"
          ],
          "name": "stdout"
        }
      ]
    },
    {
      "cell_type": "code",
      "metadata": {
        "colab": {
          "base_uri": "https://localhost:8080/",
          "height": 141
        },
        "id": "I8ZTMUfnMR-G",
        "outputId": "3ec9026a-4742-4e88-a178-ab62e7216ebb"
      },
      "source": [
        "ref = pd.read_csv('/content/drive/MyDrive/Thesis/files/img_labels.csv', encoding='latin-1')\n",
        "ref.insert(loc=1, column='ref', value=img_list)\n",
        "ref.head(3)"
      ],
      "execution_count": null,
      "outputs": [
        {
          "output_type": "execute_result",
          "data": {
            "text/html": [
              "<div>\n",
              "<style scoped>\n",
              "    .dataframe tbody tr th:only-of-type {\n",
              "        vertical-align: middle;\n",
              "    }\n",
              "\n",
              "    .dataframe tbody tr th {\n",
              "        vertical-align: top;\n",
              "    }\n",
              "\n",
              "    .dataframe thead th {\n",
              "        text-align: right;\n",
              "    }\n",
              "</style>\n",
              "<table border=\"1\" class=\"dataframe\">\n",
              "  <thead>\n",
              "    <tr style=\"text-align: right;\">\n",
              "      <th></th>\n",
              "      <th>Img_name</th>\n",
              "      <th>ref</th>\n",
              "      <th>PCR</th>\n",
              "    </tr>\n",
              "  </thead>\n",
              "  <tbody>\n",
              "    <tr>\n",
              "      <th>0</th>\n",
              "      <td>Ind-AT1_V1-A_Blatt_VNIR</td>\n",
              "      <td>ind-at1_v1-a_blatt_vnir</td>\n",
              "      <td>1</td>\n",
              "    </tr>\n",
              "    <tr>\n",
              "      <th>1</th>\n",
              "      <td>Ind-AT1_V1-B_Blatt_VNIR</td>\n",
              "      <td>ind-at1_v1-b_blatt_vnir</td>\n",
              "      <td>1</td>\n",
              "    </tr>\n",
              "    <tr>\n",
              "      <th>2</th>\n",
              "      <td>Ind-AT1_V1-C_Blatt_VNIR</td>\n",
              "      <td>ind-at1_v1-c_blatt_vnir</td>\n",
              "      <td>1</td>\n",
              "    </tr>\n",
              "  </tbody>\n",
              "</table>\n",
              "</div>"
            ],
            "text/plain": [
              "                  Img_name                      ref  PCR\n",
              "0  Ind-AT1_V1-A_Blatt_VNIR  ind-at1_v1-a_blatt_vnir    1\n",
              "1  Ind-AT1_V1-B_Blatt_VNIR  ind-at1_v1-b_blatt_vnir    1\n",
              "2  Ind-AT1_V1-C_Blatt_VNIR  ind-at1_v1-c_blatt_vnir    1"
            ]
          },
          "metadata": {
            "tags": []
          },
          "execution_count": 42
        }
      ]
    },
    {
      "cell_type": "code",
      "metadata": {
        "id": "IJnFq6y3MR7-"
      },
      "source": [
        "img = np.load('/content/drive/MyDrive/Thesis/cropped_imgs/'+ ref.Img_name[0] +'.npy')"
      ],
      "execution_count": null,
      "outputs": []
    },
    {
      "cell_type": "code",
      "metadata": {
        "colab": {
          "base_uri": "https://localhost:8080/"
        },
        "id": "2uWLzlcLfCdG",
        "outputId": "7e114b7f-c194-4c29-825e-33ea8e3abf0e"
      },
      "source": [
        "img.shape"
      ],
      "execution_count": null,
      "outputs": [
        {
          "output_type": "execute_result",
          "data": {
            "text/plain": [
              "(2270, 1270, 186)"
            ]
          },
          "metadata": {
            "tags": []
          },
          "execution_count": 46
        }
      ]
    },
    {
      "cell_type": "code",
      "metadata": {
        "id": "TEQeMRrOMRxR"
      },
      "source": [
        "df = pd.DataFrame(data=img.reshape(-1, 186), columns=columns)"
      ],
      "execution_count": null,
      "outputs": []
    },
    {
      "cell_type": "code",
      "metadata": {
        "id": "2dCmP73ZMRrJ"
      },
      "source": [
        "band_list = np.array([ 43,  44,  45,  46,  41,  42,  47,  48,  40,  39,   5,   9,  10, \n",
        "                      8,  38,   7,  49,  12,   3,  13, 166,  11,   6, 118,   2,   4,\n",
        "                      123, 124, 116,  50, 109, 114,  14, 117, 113, 120, 112, 169, 1, 175])"
      ],
      "execution_count": null,
      "outputs": []
    },
    {
      "cell_type": "code",
      "metadata": {
        "colab": {
          "base_uri": "https://localhost:8080/"
        },
        "id": "MLymYRkPMRpE",
        "outputId": "888e5bf9-18af-4fb4-abb2-386153058494"
      },
      "source": [
        "for i in band_list:\n",
        "  img[:, :, i:i+1].reshape(-1, 1)\n",
        "  print(i)"
      ],
      "execution_count": null,
      "outputs": [
        {
          "output_type": "stream",
          "text": [
            "43\n",
            "44\n",
            "45\n",
            "46\n",
            "41\n",
            "42\n",
            "47\n",
            "48\n",
            "40\n",
            "39\n",
            "5\n",
            "9\n",
            "10\n",
            "8\n",
            "38\n",
            "7\n",
            "49\n",
            "12\n",
            "3\n",
            "13\n",
            "166\n",
            "11\n",
            "6\n",
            "118\n",
            "2\n",
            "4\n",
            "123\n",
            "124\n",
            "116\n",
            "50\n",
            "109\n",
            "114\n",
            "14\n",
            "117\n",
            "113\n",
            "120\n",
            "112\n",
            "169\n",
            "1\n",
            "175\n"
          ],
          "name": "stdout"
        }
      ]
    },
    {
      "cell_type": "code",
      "metadata": {
        "id": "iE3jiRueMRmJ"
      },
      "source": [
        ""
      ],
      "execution_count": null,
      "outputs": []
    },
    {
      "cell_type": "code",
      "metadata": {
        "id": "R0lLyhKCMRi6"
      },
      "source": [
        ""
      ],
      "execution_count": null,
      "outputs": []
    },
    {
      "cell_type": "code",
      "metadata": {
        "id": "0JJKk5Ix6oWV"
      },
      "source": [
        ""
      ],
      "execution_count": null,
      "outputs": []
    },
    {
      "cell_type": "code",
      "metadata": {
        "id": "JwxwqL5LnDgu"
      },
      "source": [
        ""
      ],
      "execution_count": null,
      "outputs": []
    },
    {
      "cell_type": "code",
      "metadata": {
        "id": "mqSg-QPJAQ5m"
      },
      "source": [
        ""
      ],
      "execution_count": null,
      "outputs": []
    },
    {
      "cell_type": "markdown",
      "metadata": {
        "id": "IUUyux6vZbsH"
      },
      "source": [
        "### Logistic Regression using sklearn"
      ]
    },
    {
      "cell_type": "code",
      "metadata": {
        "id": "M4DKp9YtnEin"
      },
      "source": [
        "X_train, X_test, y_train, y_test = train_test_split(X, y, test_size=0.25, random_state=42)"
      ],
      "execution_count": null,
      "outputs": []
    },
    {
      "cell_type": "code",
      "metadata": {
        "id": "ZYrb9Hv_m8e0",
        "colab": {
          "base_uri": "https://localhost:8080/"
        },
        "outputId": "bb0b039f-f6bd-494c-fb5e-fd41865e4a03"
      },
      "source": [
        "clf = LogisticRegression(penalty='none' ,random_state=0).fit(X_train, y_train)"
      ],
      "execution_count": null,
      "outputs": [
        {
          "output_type": "stream",
          "text": [
            "/usr/local/lib/python3.6/dist-packages/sklearn/utils/validation.py:760: DataConversionWarning: A column-vector y was passed when a 1d array was expected. Please change the shape of y to (n_samples, ), for example using ravel().\n",
            "  y = column_or_1d(y, warn=True)\n",
            "/usr/local/lib/python3.6/dist-packages/sklearn/linear_model/_logistic.py:940: ConvergenceWarning: lbfgs failed to converge (status=1):\n",
            "STOP: TOTAL NO. of ITERATIONS REACHED LIMIT.\n",
            "\n",
            "Increase the number of iterations (max_iter) or scale the data as shown in:\n",
            "    https://scikit-learn.org/stable/modules/preprocessing.html\n",
            "Please also refer to the documentation for alternative solver options:\n",
            "    https://scikit-learn.org/stable/modules/linear_model.html#logistic-regression\n",
            "  extra_warning_msg=_LOGISTIC_SOLVER_CONVERGENCE_MSG)\n"
          ],
          "name": "stderr"
        }
      ]
    },
    {
      "cell_type": "code",
      "metadata": {
        "id": "azRvkfn1m8Pw"
      },
      "source": [
        "predict = clf.predict(X_test)"
      ],
      "execution_count": null,
      "outputs": []
    },
    {
      "cell_type": "code",
      "metadata": {
        "id": "o97aEqcem8Lf",
        "colab": {
          "base_uri": "https://localhost:8080/"
        },
        "outputId": "ab7b455e-d708-4438-980f-53b3b61d881f"
      },
      "source": [
        "accuracy_score(predict, y_test)"
      ],
      "execution_count": null,
      "outputs": [
        {
          "output_type": "execute_result",
          "data": {
            "text/plain": [
              "0.8502924121241638"
            ]
          },
          "metadata": {
            "tags": []
          },
          "execution_count": 53
        }
      ]
    },
    {
      "cell_type": "code",
      "metadata": {
        "colab": {
          "base_uri": "https://localhost:8080/"
        },
        "id": "xveKK_ZoAn_f",
        "outputId": "1d1328df-98f2-4751-aa3c-5de00a43f127"
      },
      "source": [
        "print(classification_report(predict, y_test))"
      ],
      "execution_count": null,
      "outputs": [
        {
          "output_type": "stream",
          "text": [
            "              precision    recall  f1-score   support\n",
            "\n",
            "           0       0.88      0.86      0.87   1229505\n",
            "           1       0.81      0.84      0.82    873007\n",
            "\n",
            "    accuracy                           0.85   2102512\n",
            "   macro avg       0.85      0.85      0.85   2102512\n",
            "weighted avg       0.85      0.85      0.85   2102512\n",
            "\n"
          ],
          "name": "stdout"
        }
      ]
    },
    {
      "cell_type": "code",
      "metadata": {
        "colab": {
          "base_uri": "https://localhost:8080/"
        },
        "id": "gFPcN6UUAn89",
        "outputId": "79aaff9b-c263-47d5-882b-e7e8aad21e7b"
      },
      "source": [
        "precision_recall_curve(y_test, predict)"
      ],
      "execution_count": null,
      "outputs": [
        {
          "output_type": "execute_result",
          "data": {
            "text/plain": [
              "(array([0.43335639, 0.8415637 , 1.        ]),\n",
              " array([1.        , 0.80634526, 0.        ]),\n",
              " array([0, 1]))"
            ]
          },
          "metadata": {
            "tags": []
          },
          "execution_count": 55
        }
      ]
    },
    {
      "cell_type": "code",
      "metadata": {
        "id": "sSE_qzSVCCvL"
      },
      "source": [
        "from sklearn.metrics import plot_precision_recall_curve"
      ],
      "execution_count": null,
      "outputs": []
    },
    {
      "cell_type": "code",
      "metadata": {
        "colab": {
          "base_uri": "https://localhost:8080/",
          "height": 279
        },
        "id": "abCk7YURCCsF",
        "outputId": "7748ef54-0e9b-4ab7-8682-cfb2ead22e85"
      },
      "source": [
        "disp = plot_precision_recall_curve(clf, X_test, y_test)"
      ],
      "execution_count": null,
      "outputs": [
        {
          "output_type": "display_data",
          "data": {
            "image/png": "[encoded data removed]",
            "text/plain": [
              "<Figure size 432x288 with 1 Axes>"
            ]
          },
          "metadata": {
            "tags": [],
            "needs_background": "light"
          }
        }
      ]
    },
    {
      "cell_type": "code",
      "metadata": {
        "id": "--iH9BUxCCpN"
      },
      "source": [
        ""
      ],
      "execution_count": null,
      "outputs": []
    },
    {
      "cell_type": "code",
      "metadata": {
        "id": "mid2KZrvYRlX"
      },
      "source": [
        ""
      ],
      "execution_count": null,
      "outputs": []
    },
    {
      "cell_type": "markdown",
      "metadata": {
        "id": "bbgOmUJXZl9h"
      },
      "source": [
        "### LDA using sklearn"
      ]
    },
    {
      "cell_type": "code",
      "metadata": {
        "id": "MmLkTgjiYRjH"
      },
      "source": [
        "from sklearn.discriminant_analysis import LinearDiscriminantAnalysis"
      ],
      "execution_count": null,
      "outputs": []
    },
    {
      "cell_type": "code",
      "metadata": {
        "id": "ebvUp9tvYRgq"
      },
      "source": [
        "lda = LinearDiscriminantAnalysis()"
      ],
      "execution_count": null,
      "outputs": []
    },
    {
      "cell_type": "code",
      "metadata": {
        "colab": {
          "base_uri": "https://localhost:8080/"
        },
        "id": "jDupTNndYRds",
        "outputId": "675fb397-befe-44fc-f3dd-5c77505821b9"
      },
      "source": [
        "clf = lda.fit(X_train, y_train)"
      ],
      "execution_count": null,
      "outputs": [
        {
          "output_type": "stream",
          "text": [
            "/usr/local/lib/python3.6/dist-packages/sklearn/utils/validation.py:760: DataConversionWarning: A column-vector y was passed when a 1d array was expected. Please change the shape of y to (n_samples, ), for example using ravel().\n",
            "  y = column_or_1d(y, warn=True)\n"
          ],
          "name": "stderr"
        }
      ]
    },
    {
      "cell_type": "code",
      "metadata": {
        "id": "qhcAPcvpAn5C"
      },
      "source": [
        "predict = clf.predict(X_test)"
      ],
      "execution_count": null,
      "outputs": []
    },
    {
      "cell_type": "code",
      "metadata": {
        "id": "dcwtJFIdHO_F",
        "colab": {
          "base_uri": "https://localhost:8080/"
        },
        "outputId": "cca2706b-8083-4a32-c006-a608d2f9cfa4"
      },
      "source": [
        "clf.explained_variance_ratio_"
      ],
      "execution_count": null,
      "outputs": [
        {
          "output_type": "execute_result",
          "data": {
            "text/plain": [
              "array([1.])"
            ]
          },
          "metadata": {
            "tags": []
          },
          "execution_count": 28
        }
      ]
    },
    {
      "cell_type": "code",
      "metadata": {
        "colab": {
          "base_uri": "https://localhost:8080/"
        },
        "id": "MJQsUvk2Yk3F",
        "outputId": "ebdd0c5f-4d3d-4cc7-f371-88f745bb7245"
      },
      "source": [
        "accuracy_score(y_test, predict)"
      ],
      "execution_count": null,
      "outputs": [
        {
          "output_type": "execute_result",
          "data": {
            "text/plain": [
              "0.8514714779273554"
            ]
          },
          "metadata": {
            "tags": []
          },
          "execution_count": 29
        }
      ]
    },
    {
      "cell_type": "code",
      "metadata": {
        "colab": {
          "base_uri": "https://localhost:8080/"
        },
        "id": "4EaB5oP1Yk07",
        "outputId": "32ad04fd-5b3b-4c08-ad1b-2047f380b235"
      },
      "source": [
        "print(classification_report(y_test, predict, target_names=['Pos', 'Neg']))"
      ],
      "execution_count": null,
      "outputs": [
        {
          "output_type": "stream",
          "text": [
            "              precision    recall  f1-score   support\n",
            "\n",
            "         Pos       0.86      0.89      0.87   1191532\n",
            "         Neg       0.85      0.80      0.82    910980\n",
            "\n",
            "    accuracy                           0.85   2102512\n",
            "   macro avg       0.85      0.85      0.85   2102512\n",
            "weighted avg       0.85      0.85      0.85   2102512\n",
            "\n"
          ],
          "name": "stdout"
        }
      ]
    },
    {
      "cell_type": "code",
      "metadata": {
        "colab": {
          "base_uri": "https://localhost:8080/",
          "height": 279
        },
        "id": "dtbUQLXuYkY0",
        "outputId": "8dd438ae-97af-4f4b-b101-1c3439dd41bf"
      },
      "source": [
        "disp = plot_precision_recall_curve(clf, X_test, y_test)"
      ],
      "execution_count": null,
      "outputs": [
        {
          "output_type": "display_data",
          "data": {
            "image/png": "[encoded data removed]",
            "text/plain": [
              "<Figure size 432x288 with 1 Axes>"
            ]
          },
          "metadata": {
            "tags": [],
            "needs_background": "light"
          }
        }
      ]
    },
    {
      "cell_type": "code",
      "metadata": {
        "id": "B3r5MrGaYkV1"
      },
      "source": [
        ""
      ],
      "execution_count": null,
      "outputs": []
    },
    {
      "cell_type": "code",
      "metadata": {
        "id": "kCLXiePBYkTb"
      },
      "source": [
        ""
      ],
      "execution_count": null,
      "outputs": []
    },
    {
      "cell_type": "markdown",
      "metadata": {
        "id": "W4dgAlWkbXeP"
      },
      "source": [
        "### RF usnig sklearn"
      ]
    },
    {
      "cell_type": "code",
      "metadata": {
        "id": "HIcNIloQbAGB"
      },
      "source": [
        "from sklearn.ensemble import RandomForestClassifier"
      ],
      "execution_count": null,
      "outputs": []
    },
    {
      "cell_type": "code",
      "metadata": {
        "id": "L6grZPBnbADj"
      },
      "source": [
        "clf = RandomForestClassifier(max_depth=2, random_state=0)"
      ],
      "execution_count": null,
      "outputs": []
    },
    {
      "cell_type": "code",
      "metadata": {
        "colab": {
          "base_uri": "https://localhost:8080/"
        },
        "id": "cj3tqX5WbAAj",
        "outputId": "3548ab5a-0200-4662-84b7-cc1f13656041"
      },
      "source": [
        "clf = clf.fit(X_train, y_train)"
      ],
      "execution_count": null,
      "outputs": [
        {
          "output_type": "stream",
          "text": [
            "/usr/local/lib/python3.6/dist-packages/ipykernel_launcher.py:1: DataConversionWarning: A column-vector y was passed when a 1d array was expected. Please change the shape of y to (n_samples,), for example using ravel().\n",
            "  \"\"\"Entry point for launching an IPython kernel.\n"
          ],
          "name": "stderr"
        }
      ]
    },
    {
      "cell_type": "code",
      "metadata": {
        "id": "CVzv-EOpa_-B"
      },
      "source": [
        "predict = clf.predict(X_test)"
      ],
      "execution_count": null,
      "outputs": []
    },
    {
      "cell_type": "code",
      "metadata": {
        "id": "F-KfRcqQafs6"
      },
      "source": [
        "print(classification_report(y_test, predict, target_names=['Pos', 'Neg']))"
      ],
      "execution_count": null,
      "outputs": []
    },
    {
      "cell_type": "code",
      "metadata": {
        "id": "V0BH9ySMZZbh"
      },
      "source": [
        "disp = plot_precision_recall_curve(clf, X_test, y_test)"
      ],
      "execution_count": null,
      "outputs": []
    },
    {
      "cell_type": "code",
      "metadata": {
        "id": "wkWqyfVmZZSf"
      },
      "source": [
        ""
      ],
      "execution_count": null,
      "outputs": []
    },
    {
      "cell_type": "code",
      "metadata": {
        "id": "VrwWrDydi_lc"
      },
      "source": [
        "import os, signal\n",
        "os.kill(os.getpid(), signal.SIGKILL)"
      ],
      "execution_count": null,
      "outputs": []
    },
    {
      "cell_type": "code",
      "metadata": {
        "id": "HBlP8QipVZgI"
      },
      "source": [
        ""
      ],
      "execution_count": null,
      "outputs": []
    }
  ]
}