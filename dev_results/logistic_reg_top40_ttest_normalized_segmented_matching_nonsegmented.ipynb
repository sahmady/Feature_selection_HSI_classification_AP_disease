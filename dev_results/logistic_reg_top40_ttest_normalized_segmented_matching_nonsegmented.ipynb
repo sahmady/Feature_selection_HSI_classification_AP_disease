{
  "nbformat": 4,
  "nbformat_minor": 0,
  "metadata": {
    "colab": {
      "name": "logistic_reg_top40_ttest_normalized_segmented_matching_nonsegmented.ipynb",
      "provenance": [],
      "collapsed_sections": [],
      "machine_shape": "hm"
    },
    "kernelspec": {
      "display_name": "Python 3",
      "name": "python3"
    }
  },
  "cells": [
    {
      "cell_type": "markdown",
      "metadata": {
        "id": "Zo-a97e4Nu_V"
      },
      "source": [
        "### increase ram size if required"
      ]
    },
    {
      "cell_type": "code",
      "metadata": {
        "id": "87T5BetZQYQv"
      },
      "source": [
        "i = []\n",
        "while True:\n",
        "  i.append(i)"
      ],
      "execution_count": null,
      "outputs": []
    },
    {
      "cell_type": "markdown",
      "metadata": {
        "id": "j54GcKUzOyWh"
      },
      "source": [
        "### mount google drive"
      ]
    },
    {
      "cell_type": "code",
      "metadata": {
        "colab": {
          "base_uri": "https://localhost:8080/"
        },
        "id": "7CKdxEViNnEs",
        "outputId": "a55a888d-bab4-44fb-e58c-1de2594bdc6d"
      },
      "source": [
        "from google.colab import drive\n",
        "drive.mount('/content/drive')"
      ],
      "execution_count": null,
      "outputs": [
        {
          "output_type": "stream",
          "text": [
            "Mounted at /content/drive\n"
          ],
          "name": "stdout"
        }
      ]
    },
    {
      "cell_type": "code",
      "metadata": {
        "colab": {
          "base_uri": "https://localhost:8080/"
        },
        "id": "De9k_j9JNnBq",
        "outputId": "196023e3-85b3-4789-dc8e-b22dfffbe7ba"
      },
      "source": [
        "import cv2\n",
        "import numpy as np\n",
        "import matplotlib.pyplot as plt\n",
        "import seaborn as sns\n",
        "# import spectral.io.envi as envi\n",
        "import pandas as pd\n",
        "from sklearn.metrics import confusion_matrix, accuracy_score, recall_score, precision_score\n",
        "from sklearn.metrics import precision_recall_curve, classification_report\n",
        "from sklearn.model_selection import train_test_split\n",
        "from sklearn.linear_model import LogisticRegressionCV\n",
        "from sklearn.linear_model import LogisticRegression\n",
        "\n",
        "import tensorflow as tf\n",
        "from tensorflow import keras\n",
        "from tensorflow.keras import layers\n",
        "from tensorflow.keras.layers.experimental import preprocessing\n",
        "from tensorflow.keras.callbacks import EarlyStopping\n",
        "from keras.models import Sequential\n",
        "from keras.layers import Dense\n",
        "\n",
        "print(tf.__version__)"
      ],
      "execution_count": null,
      "outputs": [
        {
          "output_type": "stream",
          "text": [
            "2.4.1\n"
          ],
          "name": "stdout"
        }
      ]
    },
    {
      "cell_type": "markdown",
      "metadata": {
        "id": "wIa5Kx_Vuog8"
      },
      "source": [
        "### get list of top 40 features based on t-test"
      ]
    },
    {
      "cell_type": "code",
      "metadata": {
        "id": "VBd_fgt_u_dP"
      },
      "source": [
        "t_statistic_array = np.abs(np.genfromtxt(\"/content/drive/MyDrive/Thesis/files/no_background/t_statistic_array.csv\", delimiter=','))\n",
        "ttest_df = pd.DataFrame(data=t_statistic_array, columns=['ttest_val'])\n",
        "ttest_df.ttest_val = np.abs(ttest_df.ttest_val.values)\n",
        "ttest_df.insert(loc=0, column='band_no', value=np.arange(186))"
      ],
      "execution_count": null,
      "outputs": []
    },
    {
      "cell_type": "code",
      "metadata": {
        "colab": {
          "base_uri": "https://localhost:8080/",
          "height": 350
        },
        "id": "mRlvEEqS04Nb",
        "outputId": "cdce73ee-3ceb-497b-b53d-991488cdee59"
      },
      "source": [
        "plt.figure(figsize=(17, 5))\n",
        "plt.bar(ttest_df.band_no.values, ttest_df.ttest_val.values)\n",
        "plt.xlabel('Channel Number')\n",
        "plt.ylabel('ttest_values')\n",
        "plt.title('t_test chart')\n",
        "# plt.savefig('/content/drive/MyDrive/Thesis/images/' + '.png')\n",
        "plt.show() "
      ],
      "execution_count": null,
      "outputs": [
        {
          "output_type": "display_data",
          "data": {
            "image/png": "[encoded data removed]",
            "text/plain": [
              "<Figure size 1224x360 with 1 Axes>"
            ]
          },
          "metadata": {
            "tags": [],
            "needs_background": "light"
          }
        }
      ]
    },
    {
      "cell_type": "code",
      "metadata": {
        "id": "8vKs6t5-EMk-"
      },
      "source": [
        "bands_list = np.array([ 44,  45,  47,  46,  49,  48,  42,  43,  50,  51,  41,  40,  52, \n",
        "                       39,  53,  54,  56,  38,  55, 167, 119, 110, 124, 117, 115, 125, 176, \n",
        "                       173, 114, 113, 118, 111, 183, 170, 121, 161, 149, 126, 116, 57])"
      ],
      "execution_count": null,
      "outputs": []
    },
    {
      "cell_type": "code",
      "metadata": {
        "id": "9DctDL0MFshS"
      },
      "source": [
        "top_selected = ttest_df[ttest_df.band_no.isin(bands_list)]"
      ],
      "execution_count": null,
      "outputs": []
    },
    {
      "cell_type": "code",
      "metadata": {
        "colab": {
          "base_uri": "https://localhost:8080/",
          "height": 350
        },
        "id": "QyQgLZ-94N69",
        "outputId": "406de14a-eb8f-4b34-9b88-2ac4641d8b94"
      },
      "source": [
        "plt.figure(figsize=(17, 5))\n",
        "plt.bar(ttest_df.band_no.values, ttest_df.ttest_val.values, label='less_important_channels_based_on_ttest')\n",
        "plt.bar(top_selected.band_no.values, top_selected.ttest_val.values, color='cyan', label='top40_channels_based_on_ttest')\n",
        "plt.xlabel('Channel Number')\n",
        "plt.ylabel('ttest_values')\n",
        "plt.title('t_test chart')\n",
        "plt.legend(loc='upper right')\n",
        "plt.savefig('/content/drive/MyDrive/Thesis/images/normalized/no_background/LR/' + 'top40_ttest_normalized' + '.png')\n",
        "plt.show() "
      ],
      "execution_count": null,
      "outputs": [
        {
          "output_type": "display_data",
          "data": {
            "image/png": "[encoded data removed]",
            "text/plain": [
              "<Figure size 1224x360 with 1 Axes>"
            ]
          },
          "metadata": {
            "tags": [],
            "needs_background": "light"
          }
        }
      ]
    },
    {
      "cell_type": "markdown",
      "metadata": {
        "id": "yKi4bc7S5jU6"
      },
      "source": [
        "### load selected channels for training"
      ]
    },
    {
      "cell_type": "code",
      "metadata": {
        "id": "LyAIPGDC9W_S"
      },
      "source": [
        "y = np.load('/content/drive/MyDrive/Thesis/segmented_bands/label.npy')"
      ],
      "execution_count": null,
      "outputs": []
    },
    {
      "cell_type": "code",
      "metadata": {
        "colab": {
          "base_uri": "https://localhost:8080/"
        },
        "id": "AIkxglZH0mIz",
        "outputId": "ec233ba0-e340-4955-ebb4-7ee9074b4488"
      },
      "source": [
        "y.shape"
      ],
      "execution_count": null,
      "outputs": [
        {
          "output_type": "execute_result",
          "data": {
            "text/plain": [
              "(8410045,)"
            ]
          },
          "metadata": {
            "tags": []
          },
          "execution_count": 39
        }
      ]
    },
    {
      "cell_type": "code",
      "metadata": {
        "id": "myn0BZ2t9d1t"
      },
      "source": [
        "X = np.zeros((8410045, 40), dtype='float32')"
      ],
      "execution_count": null,
      "outputs": []
    },
    {
      "cell_type": "code",
      "metadata": {
        "id": "6DavEs7v-6Zf"
      },
      "source": [
        "for i in range(len(bands_list)):\n",
        "  X[:, i:i+1] = np.load('/content/drive/MyDrive/Thesis/segmented_bands/band_' + str(bands_list[i]) + '.npy').reshape(-1, 1)\n",
        "  print(i)"
      ],
      "execution_count": null,
      "outputs": []
    },
    {
      "cell_type": "code",
      "metadata": {
        "id": "YUSVpxa5LWzG"
      },
      "source": [
        "# using numpy =====================================\n",
        "# X = np.concatenate((X, y), axis=1)\n",
        "# np.random.shuffle(X)\n",
        "# y = X[:, 50:]\n",
        "# X = np.delete(X, 50, 1)"
      ],
      "execution_count": null,
      "outputs": []
    },
    {
      "cell_type": "code",
      "metadata": {
        "colab": {
          "base_uri": "https://localhost:8080/",
          "height": 161
        },
        "id": "cZVkb6BNlBHs",
        "outputId": "a3673efb-276b-4b7d-d739-a16746727590"
      },
      "source": [
        "df = pd.DataFrame(data=X)\n",
        "df.head(3)"
      ],
      "execution_count": null,
      "outputs": [
        {
          "output_type": "execute_result",
          "data": {
            "text/html": [
              "<div>\n",
              "<style scoped>\n",
              "    .dataframe tbody tr th:only-of-type {\n",
              "        vertical-align: middle;\n",
              "    }\n",
              "\n",
              "    .dataframe tbody tr th {\n",
              "        vertical-align: top;\n",
              "    }\n",
              "\n",
              "    .dataframe thead th {\n",
              "        text-align: right;\n",
              "    }\n",
              "</style>\n",
              "<table border=\"1\" class=\"dataframe\">\n",
              "  <thead>\n",
              "    <tr style=\"text-align: right;\">\n",
              "      <th></th>\n",
              "      <th>0</th>\n",
              "      <th>1</th>\n",
              "      <th>2</th>\n",
              "      <th>3</th>\n",
              "      <th>4</th>\n",
              "      <th>5</th>\n",
              "      <th>6</th>\n",
              "      <th>7</th>\n",
              "      <th>8</th>\n",
              "      <th>9</th>\n",
              "      <th>10</th>\n",
              "      <th>11</th>\n",
              "      <th>12</th>\n",
              "      <th>13</th>\n",
              "      <th>14</th>\n",
              "      <th>15</th>\n",
              "      <th>16</th>\n",
              "      <th>17</th>\n",
              "      <th>18</th>\n",
              "      <th>19</th>\n",
              "      <th>20</th>\n",
              "      <th>21</th>\n",
              "      <th>22</th>\n",
              "      <th>23</th>\n",
              "      <th>24</th>\n",
              "      <th>25</th>\n",
              "      <th>26</th>\n",
              "      <th>27</th>\n",
              "      <th>28</th>\n",
              "      <th>29</th>\n",
              "      <th>30</th>\n",
              "      <th>31</th>\n",
              "      <th>32</th>\n",
              "      <th>33</th>\n",
              "      <th>34</th>\n",
              "      <th>35</th>\n",
              "      <th>36</th>\n",
              "      <th>37</th>\n",
              "      <th>38</th>\n",
              "      <th>39</th>\n",
              "    </tr>\n",
              "  </thead>\n",
              "  <tbody>\n",
              "    <tr>\n",
              "      <th>0</th>\n",
              "      <td>0.081628</td>\n",
              "      <td>0.082246</td>\n",
              "      <td>0.085431</td>\n",
              "      <td>0.082209</td>\n",
              "      <td>0.085600</td>\n",
              "      <td>0.083697</td>\n",
              "      <td>0.081314</td>\n",
              "      <td>0.080748</td>\n",
              "      <td>0.085764</td>\n",
              "      <td>0.087223</td>\n",
              "      <td>0.082994</td>\n",
              "      <td>0.080989</td>\n",
              "      <td>0.088558</td>\n",
              "      <td>0.081016</td>\n",
              "      <td>0.087292</td>\n",
              "      <td>0.090143</td>\n",
              "      <td>0.088575</td>\n",
              "      <td>0.074765</td>\n",
              "      <td>0.091832</td>\n",
              "      <td>0.276917</td>\n",
              "      <td>0.205657</td>\n",
              "      <td>0.194963</td>\n",
              "      <td>0.210896</td>\n",
              "      <td>0.198488</td>\n",
              "      <td>0.197381</td>\n",
              "      <td>0.210913</td>\n",
              "      <td>0.280577</td>\n",
              "      <td>0.297305</td>\n",
              "      <td>0.196735</td>\n",
              "      <td>0.195890</td>\n",
              "      <td>0.200913</td>\n",
              "      <td>0.19665</td>\n",
              "      <td>0.289494</td>\n",
              "      <td>0.296084</td>\n",
              "      <td>0.202966</td>\n",
              "      <td>0.276127</td>\n",
              "      <td>0.252226</td>\n",
              "      <td>0.211765</td>\n",
              "      <td>0.199281</td>\n",
              "      <td>0.092812</td>\n",
              "    </tr>\n",
              "    <tr>\n",
              "      <th>1</th>\n",
              "      <td>0.093623</td>\n",
              "      <td>0.097864</td>\n",
              "      <td>0.099247</td>\n",
              "      <td>0.098773</td>\n",
              "      <td>0.097506</td>\n",
              "      <td>0.100791</td>\n",
              "      <td>0.094340</td>\n",
              "      <td>0.094785</td>\n",
              "      <td>0.101604</td>\n",
              "      <td>0.101581</td>\n",
              "      <td>0.092296</td>\n",
              "      <td>0.091789</td>\n",
              "      <td>0.104166</td>\n",
              "      <td>0.082082</td>\n",
              "      <td>0.101183</td>\n",
              "      <td>0.102780</td>\n",
              "      <td>0.102613</td>\n",
              "      <td>0.084942</td>\n",
              "      <td>0.107643</td>\n",
              "      <td>0.341444</td>\n",
              "      <td>0.263656</td>\n",
              "      <td>0.255374</td>\n",
              "      <td>0.277620</td>\n",
              "      <td>0.264362</td>\n",
              "      <td>0.264889</td>\n",
              "      <td>0.280218</td>\n",
              "      <td>0.323957</td>\n",
              "      <td>0.333967</td>\n",
              "      <td>0.259298</td>\n",
              "      <td>0.256119</td>\n",
              "      <td>0.268123</td>\n",
              "      <td>0.25594</td>\n",
              "      <td>0.329328</td>\n",
              "      <td>0.329748</td>\n",
              "      <td>0.268474</td>\n",
              "      <td>0.334451</td>\n",
              "      <td>0.301649</td>\n",
              "      <td>0.272473</td>\n",
              "      <td>0.262482</td>\n",
              "      <td>0.103786</td>\n",
              "    </tr>\n",
              "    <tr>\n",
              "      <th>2</th>\n",
              "      <td>0.090981</td>\n",
              "      <td>0.092011</td>\n",
              "      <td>0.097458</td>\n",
              "      <td>0.093833</td>\n",
              "      <td>0.095819</td>\n",
              "      <td>0.094397</td>\n",
              "      <td>0.093519</td>\n",
              "      <td>0.092634</td>\n",
              "      <td>0.098819</td>\n",
              "      <td>0.097097</td>\n",
              "      <td>0.089847</td>\n",
              "      <td>0.092310</td>\n",
              "      <td>0.099581</td>\n",
              "      <td>0.089588</td>\n",
              "      <td>0.102386</td>\n",
              "      <td>0.102394</td>\n",
              "      <td>0.104574</td>\n",
              "      <td>0.087074</td>\n",
              "      <td>0.102893</td>\n",
              "      <td>0.302768</td>\n",
              "      <td>0.250737</td>\n",
              "      <td>0.242091</td>\n",
              "      <td>0.254455</td>\n",
              "      <td>0.245912</td>\n",
              "      <td>0.245833</td>\n",
              "      <td>0.259417</td>\n",
              "      <td>0.309852</td>\n",
              "      <td>0.318563</td>\n",
              "      <td>0.243044</td>\n",
              "      <td>0.240436</td>\n",
              "      <td>0.250791</td>\n",
              "      <td>0.24328</td>\n",
              "      <td>0.317119</td>\n",
              "      <td>0.323051</td>\n",
              "      <td>0.249026</td>\n",
              "      <td>0.313106</td>\n",
              "      <td>0.293755</td>\n",
              "      <td>0.259000</td>\n",
              "      <td>0.248540</td>\n",
              "      <td>0.105358</td>\n",
              "    </tr>\n",
              "  </tbody>\n",
              "</table>\n",
              "</div>"
            ],
            "text/plain": [
              "         0         1         2   ...        37        38        39\n",
              "0  0.081628  0.082246  0.085431  ...  0.211765  0.199281  0.092812\n",
              "1  0.093623  0.097864  0.099247  ...  0.272473  0.262482  0.103786\n",
              "2  0.090981  0.092011  0.097458  ...  0.259000  0.248540  0.105358\n",
              "\n",
              "[3 rows x 40 columns]"
            ]
          },
          "metadata": {
            "tags": []
          },
          "execution_count": 42
        }
      ]
    },
    {
      "cell_type": "code",
      "metadata": {
        "id": "8oDzAcFolA49"
      },
      "source": [
        "df.insert(0, \"label\", value=np.array(y, dtype=int), allow_duplicates=True)"
      ],
      "execution_count": null,
      "outputs": []
    },
    {
      "cell_type": "code",
      "metadata": {
        "colab": {
          "base_uri": "https://localhost:8080/",
          "height": 161
        },
        "id": "AkLutXjGlA25",
        "outputId": "eebb9397-3854-4345-8bc4-758157c9ab27"
      },
      "source": [
        "df = df.sample(frac = 1)\n",
        "df.head(3)"
      ],
      "execution_count": null,
      "outputs": [
        {
          "output_type": "execute_result",
          "data": {
            "text/html": [
              "<div>\n",
              "<style scoped>\n",
              "    .dataframe tbody tr th:only-of-type {\n",
              "        vertical-align: middle;\n",
              "    }\n",
              "\n",
              "    .dataframe tbody tr th {\n",
              "        vertical-align: top;\n",
              "    }\n",
              "\n",
              "    .dataframe thead th {\n",
              "        text-align: right;\n",
              "    }\n",
              "</style>\n",
              "<table border=\"1\" class=\"dataframe\">\n",
              "  <thead>\n",
              "    <tr style=\"text-align: right;\">\n",
              "      <th></th>\n",
              "      <th>label</th>\n",
              "      <th>0</th>\n",
              "      <th>1</th>\n",
              "      <th>2</th>\n",
              "      <th>3</th>\n",
              "      <th>4</th>\n",
              "      <th>5</th>\n",
              "      <th>6</th>\n",
              "      <th>7</th>\n",
              "      <th>8</th>\n",
              "      <th>9</th>\n",
              "      <th>10</th>\n",
              "      <th>11</th>\n",
              "      <th>12</th>\n",
              "      <th>13</th>\n",
              "      <th>14</th>\n",
              "      <th>15</th>\n",
              "      <th>16</th>\n",
              "      <th>17</th>\n",
              "      <th>18</th>\n",
              "      <th>19</th>\n",
              "      <th>20</th>\n",
              "      <th>21</th>\n",
              "      <th>22</th>\n",
              "      <th>23</th>\n",
              "      <th>24</th>\n",
              "      <th>25</th>\n",
              "      <th>26</th>\n",
              "      <th>27</th>\n",
              "      <th>28</th>\n",
              "      <th>29</th>\n",
              "      <th>30</th>\n",
              "      <th>31</th>\n",
              "      <th>32</th>\n",
              "      <th>33</th>\n",
              "      <th>34</th>\n",
              "      <th>35</th>\n",
              "      <th>36</th>\n",
              "      <th>37</th>\n",
              "      <th>38</th>\n",
              "      <th>39</th>\n",
              "    </tr>\n",
              "  </thead>\n",
              "  <tbody>\n",
              "    <tr>\n",
              "      <th>614765</th>\n",
              "      <td>1</td>\n",
              "      <td>0.083661</td>\n",
              "      <td>0.085998</td>\n",
              "      <td>0.086989</td>\n",
              "      <td>0.085603</td>\n",
              "      <td>0.088619</td>\n",
              "      <td>0.089258</td>\n",
              "      <td>0.083252</td>\n",
              "      <td>0.082653</td>\n",
              "      <td>0.089819</td>\n",
              "      <td>0.092242</td>\n",
              "      <td>0.079612</td>\n",
              "      <td>0.078673</td>\n",
              "      <td>0.090189</td>\n",
              "      <td>0.073675</td>\n",
              "      <td>0.093038</td>\n",
              "      <td>0.089614</td>\n",
              "      <td>0.090720</td>\n",
              "      <td>0.076790</td>\n",
              "      <td>0.087359</td>\n",
              "      <td>0.322449</td>\n",
              "      <td>0.334940</td>\n",
              "      <td>0.332749</td>\n",
              "      <td>0.338076</td>\n",
              "      <td>0.335019</td>\n",
              "      <td>0.331218</td>\n",
              "      <td>0.339575</td>\n",
              "      <td>0.308235</td>\n",
              "      <td>0.301759</td>\n",
              "      <td>0.333272</td>\n",
              "      <td>0.333660</td>\n",
              "      <td>0.338127</td>\n",
              "      <td>0.340254</td>\n",
              "      <td>0.301691</td>\n",
              "      <td>0.311515</td>\n",
              "      <td>0.339282</td>\n",
              "      <td>0.315584</td>\n",
              "      <td>0.330172</td>\n",
              "      <td>0.343667</td>\n",
              "      <td>0.340739</td>\n",
              "      <td>0.093668</td>\n",
              "    </tr>\n",
              "    <tr>\n",
              "      <th>5849720</th>\n",
              "      <td>1</td>\n",
              "      <td>0.113706</td>\n",
              "      <td>0.116625</td>\n",
              "      <td>0.119181</td>\n",
              "      <td>0.115890</td>\n",
              "      <td>0.115987</td>\n",
              "      <td>0.120399</td>\n",
              "      <td>0.108057</td>\n",
              "      <td>0.108099</td>\n",
              "      <td>0.114228</td>\n",
              "      <td>0.113667</td>\n",
              "      <td>0.105774</td>\n",
              "      <td>0.097404</td>\n",
              "      <td>0.108920</td>\n",
              "      <td>0.088651</td>\n",
              "      <td>0.105325</td>\n",
              "      <td>0.101457</td>\n",
              "      <td>0.097503</td>\n",
              "      <td>0.086656</td>\n",
              "      <td>0.098263</td>\n",
              "      <td>0.315898</td>\n",
              "      <td>0.334156</td>\n",
              "      <td>0.329587</td>\n",
              "      <td>0.329809</td>\n",
              "      <td>0.334727</td>\n",
              "      <td>0.332886</td>\n",
              "      <td>0.336584</td>\n",
              "      <td>0.306395</td>\n",
              "      <td>0.302681</td>\n",
              "      <td>0.341745</td>\n",
              "      <td>0.334702</td>\n",
              "      <td>0.343409</td>\n",
              "      <td>0.331148</td>\n",
              "      <td>0.292027</td>\n",
              "      <td>0.327466</td>\n",
              "      <td>0.343143</td>\n",
              "      <td>0.332000</td>\n",
              "      <td>0.328642</td>\n",
              "      <td>0.337564</td>\n",
              "      <td>0.339831</td>\n",
              "      <td>0.094165</td>\n",
              "    </tr>\n",
              "    <tr>\n",
              "      <th>5655192</th>\n",
              "      <td>1</td>\n",
              "      <td>0.153300</td>\n",
              "      <td>0.158559</td>\n",
              "      <td>0.163623</td>\n",
              "      <td>0.162250</td>\n",
              "      <td>0.168675</td>\n",
              "      <td>0.171299</td>\n",
              "      <td>0.152832</td>\n",
              "      <td>0.150708</td>\n",
              "      <td>0.169951</td>\n",
              "      <td>0.171474</td>\n",
              "      <td>0.148121</td>\n",
              "      <td>0.136992</td>\n",
              "      <td>0.163789</td>\n",
              "      <td>0.127860</td>\n",
              "      <td>0.164308</td>\n",
              "      <td>0.160894</td>\n",
              "      <td>0.161147</td>\n",
              "      <td>0.126123</td>\n",
              "      <td>0.158606</td>\n",
              "      <td>0.462902</td>\n",
              "      <td>0.453607</td>\n",
              "      <td>0.461355</td>\n",
              "      <td>0.460492</td>\n",
              "      <td>0.458644</td>\n",
              "      <td>0.456690</td>\n",
              "      <td>0.469117</td>\n",
              "      <td>0.435970</td>\n",
              "      <td>0.433912</td>\n",
              "      <td>0.464904</td>\n",
              "      <td>0.463929</td>\n",
              "      <td>0.465293</td>\n",
              "      <td>0.453317</td>\n",
              "      <td>0.426135</td>\n",
              "      <td>0.440061</td>\n",
              "      <td>0.456862</td>\n",
              "      <td>0.447371</td>\n",
              "      <td>0.451700</td>\n",
              "      <td>0.464191</td>\n",
              "      <td>0.459458</td>\n",
              "      <td>0.151971</td>\n",
              "    </tr>\n",
              "  </tbody>\n",
              "</table>\n",
              "</div>"
            ],
            "text/plain": [
              "         label         0         1  ...        37        38        39\n",
              "614765       1  0.083661  0.085998  ...  0.343667  0.340739  0.093668\n",
              "5849720      1  0.113706  0.116625  ...  0.337564  0.339831  0.094165\n",
              "5655192      1  0.153300  0.158559  ...  0.464191  0.459458  0.151971\n",
              "\n",
              "[3 rows x 41 columns]"
            ]
          },
          "metadata": {
            "tags": []
          },
          "execution_count": 44
        }
      ]
    },
    {
      "cell_type": "markdown",
      "metadata": {
        "id": "wdKAin1QmcD0"
      },
      "source": [
        "### logistic regression using keras"
      ]
    },
    {
      "cell_type": "code",
      "metadata": {
        "id": "BzUe1WpbmwyZ"
      },
      "source": [
        "X = df.iloc[:, 1:]"
      ],
      "execution_count": null,
      "outputs": []
    },
    {
      "cell_type": "code",
      "metadata": {
        "id": "XC9eZIgHgCYm"
      },
      "source": [
        "# np.save('/content/drive/MyDrive/Thesis/shuffled_top40/dataset.npy', X)"
      ],
      "execution_count": null,
      "outputs": []
    },
    {
      "cell_type": "code",
      "metadata": {
        "id": "IzlIFjylF4cD"
      },
      "source": [
        "y = df.iloc[:, 0:1]"
      ],
      "execution_count": null,
      "outputs": []
    },
    {
      "cell_type": "code",
      "metadata": {
        "id": "M0Z6iOaYgtAs"
      },
      "source": [
        "# np.save('/content/drive/MyDrive/Thesis/shuffled_top40/label.npy', y)"
      ],
      "execution_count": null,
      "outputs": []
    },
    {
      "cell_type": "code",
      "metadata": {
        "id": "GZZqnQ4YhfPB"
      },
      "source": [
        "# y = np.load('/content/drive/MyDrive/Thesis/shuffled_top40/label.npy')"
      ],
      "execution_count": null,
      "outputs": []
    },
    {
      "cell_type": "code",
      "metadata": {
        "id": "HZJ5PZ8rhfLw"
      },
      "source": [
        "# X = np.load('/content/drive/MyDrive/Thesis/shuffled_top40/dataset.npy')"
      ],
      "execution_count": null,
      "outputs": []
    },
    {
      "cell_type": "markdown",
      "metadata": {
        "id": "5ljCaRudGEC-"
      },
      "source": [
        "start preparing dataset"
      ]
    },
    {
      "cell_type": "code",
      "metadata": {
        "colab": {
          "base_uri": "https://localhost:8080/"
        },
        "id": "UW5lTvtsGPJn",
        "outputId": "c78496e4-87b8-4808-dfe7-eddac32a3007"
      },
      "source": [
        "input_shape = [X.shape[1],]\n",
        "input_shape"
      ],
      "execution_count": null,
      "outputs": [
        {
          "output_type": "execute_result",
          "data": {
            "text/plain": [
              "[40]"
            ]
          },
          "metadata": {
            "tags": []
          },
          "execution_count": 21
        }
      ]
    },
    {
      "cell_type": "code",
      "metadata": {
        "id": "6p8MCPSlGPHn"
      },
      "source": [
        "band_normalizer = preprocessing.Normalization(input_shape=input_shape)"
      ],
      "execution_count": null,
      "outputs": []
    },
    {
      "cell_type": "code",
      "metadata": {
        "id": "L6sCwedWGPFm"
      },
      "source": [
        "bands = np.array(X)"
      ],
      "execution_count": null,
      "outputs": []
    },
    {
      "cell_type": "code",
      "metadata": {
        "id": "0PFQ4LCKGPCd"
      },
      "source": [
        "band_normalizer.adapt(bands)"
      ],
      "execution_count": null,
      "outputs": []
    },
    {
      "cell_type": "code",
      "metadata": {
        "colab": {
          "base_uri": "https://localhost:8080/"
        },
        "id": "ImR-tjGkGO_X",
        "outputId": "e37c6bba-cf59-4ef9-bd4a-e6e759cb64f4"
      },
      "source": [
        "model = tf.keras.Sequential([\n",
        "    band_normalizer,\n",
        "    layers.Dense(units=1, activation='sigmoid')\n",
        "])\n",
        "\n",
        "model.summary()"
      ],
      "execution_count": null,
      "outputs": [
        {
          "output_type": "stream",
          "text": [
            "Model: \"sequential\"\n",
            "_________________________________________________________________\n",
            "Layer (type)                 Output Shape              Param #   \n",
            "=================================================================\n",
            "normalization (Normalization (None, 40)                81        \n",
            "_________________________________________________________________\n",
            "dense (Dense)                (None, 1)                 41        \n",
            "=================================================================\n",
            "Total params: 122\n",
            "Trainable params: 41\n",
            "Non-trainable params: 81\n",
            "_________________________________________________________________\n"
          ],
          "name": "stdout"
        }
      ]
    },
    {
      "cell_type": "code",
      "metadata": {
        "id": "uIjpJVB0GO9d"
      },
      "source": [
        "model.compile(\n",
        "    optimizer=tf.optimizers.Adam(learning_rate=0.1),\n",
        "    loss='binary_crossentropy', metrics=['accuracy'])"
      ],
      "execution_count": null,
      "outputs": []
    },
    {
      "cell_type": "code",
      "metadata": {
        "id": "zlhQjpGFGO6S"
      },
      "source": [
        "callback = tf.keras.callbacks.EarlyStopping(monitor='loss', min_delta=1e-3, patience=3)"
      ],
      "execution_count": null,
      "outputs": []
    },
    {
      "cell_type": "code",
      "metadata": {
        "colab": {
          "base_uri": "https://localhost:8080/"
        },
        "id": "e7gEXG-fGO4e",
        "outputId": "b6783856-f2c6-4a6f-9244-9118e65d219b"
      },
      "source": [
        "%%time\n",
        "history = model.fit(\n",
        "    X, y,\n",
        "    epochs=100,\n",
        "    # suppress logging\n",
        "    verbose=1,\n",
        "    # Calculate validation results on 25% of the training data\n",
        "    validation_split = 0.25,\n",
        "    callbacks=[callback]\n",
        "    )"
      ],
      "execution_count": null,
      "outputs": [
        {
          "output_type": "stream",
          "text": [
            "Epoch 1/100\n",
            "197111/197111 [==============================] - 232s 1ms/step - loss: 0.4569 - accuracy: 0.8055 - val_loss: 0.5354 - val_accuracy: 0.7990\n",
            "Epoch 2/100\n",
            "197111/197111 [==============================] - 238s 1ms/step - loss: 0.4546 - accuracy: 0.8068 - val_loss: 0.4096 - val_accuracy: 0.8259\n",
            "Epoch 3/100\n",
            "197111/197111 [==============================] - 239s 1ms/step - loss: 0.4531 - accuracy: 0.8075 - val_loss: 0.4357 - val_accuracy: 0.8154\n",
            "Epoch 4/100\n",
            "197111/197111 [==============================] - 233s 1ms/step - loss: 0.4540 - accuracy: 0.8072 - val_loss: 0.4373 - val_accuracy: 0.8172\n",
            "CPU times: user 19min 49s, sys: 2min 43s, total: 22min 32s\n",
            "Wall time: 15min 44s\n"
          ],
          "name": "stdout"
        }
      ]
    },
    {
      "cell_type": "code",
      "metadata": {
        "colab": {
          "base_uri": "https://localhost:8080/",
          "height": 171
        },
        "id": "VznfDEliGO1p",
        "outputId": "8a12ec7c-0b93-48f0-ba25-11c14d8a34d1"
      },
      "source": [
        "hist = pd.DataFrame(history.history)\n",
        "hist['epoch'] = history.epoch\n",
        "hist.tail()"
      ],
      "execution_count": null,
      "outputs": [
        {
          "output_type": "execute_result",
          "data": {
            "text/html": [
              "<div>\n",
              "<style scoped>\n",
              "    .dataframe tbody tr th:only-of-type {\n",
              "        vertical-align: middle;\n",
              "    }\n",
              "\n",
              "    .dataframe tbody tr th {\n",
              "        vertical-align: top;\n",
              "    }\n",
              "\n",
              "    .dataframe thead th {\n",
              "        text-align: right;\n",
              "    }\n",
              "</style>\n",
              "<table border=\"1\" class=\"dataframe\">\n",
              "  <thead>\n",
              "    <tr style=\"text-align: right;\">\n",
              "      <th></th>\n",
              "      <th>loss</th>\n",
              "      <th>accuracy</th>\n",
              "      <th>val_loss</th>\n",
              "      <th>val_accuracy</th>\n",
              "      <th>epoch</th>\n",
              "    </tr>\n",
              "  </thead>\n",
              "  <tbody>\n",
              "    <tr>\n",
              "      <th>0</th>\n",
              "      <td>0.454222</td>\n",
              "      <td>0.806868</td>\n",
              "      <td>0.535399</td>\n",
              "      <td>0.799022</td>\n",
              "      <td>0</td>\n",
              "    </tr>\n",
              "    <tr>\n",
              "      <th>1</th>\n",
              "      <td>0.454032</td>\n",
              "      <td>0.807217</td>\n",
              "      <td>0.409621</td>\n",
              "      <td>0.825887</td>\n",
              "      <td>1</td>\n",
              "    </tr>\n",
              "    <tr>\n",
              "      <th>2</th>\n",
              "      <td>0.453260</td>\n",
              "      <td>0.807368</td>\n",
              "      <td>0.435736</td>\n",
              "      <td>0.815433</td>\n",
              "      <td>2</td>\n",
              "    </tr>\n",
              "    <tr>\n",
              "      <th>3</th>\n",
              "      <td>0.454079</td>\n",
              "      <td>0.807038</td>\n",
              "      <td>0.437310</td>\n",
              "      <td>0.817162</td>\n",
              "      <td>3</td>\n",
              "    </tr>\n",
              "  </tbody>\n",
              "</table>\n",
              "</div>"
            ],
            "text/plain": [
              "       loss  accuracy  val_loss  val_accuracy  epoch\n",
              "0  0.454222  0.806868  0.535399      0.799022      0\n",
              "1  0.454032  0.807217  0.409621      0.825887      1\n",
              "2  0.453260  0.807368  0.435736      0.815433      2\n",
              "3  0.454079  0.807038  0.437310      0.817162      3"
            ]
          },
          "metadata": {
            "tags": []
          },
          "execution_count": 29
        }
      ]
    },
    {
      "cell_type": "code",
      "metadata": {
        "id": "JOSGVQWwG-iH"
      },
      "source": [
        "def plot_loss(history):\n",
        "  plt.plot(history.history['loss'], label='loss')\n",
        "  plt.plot(history.history['val_loss'], label='val_loss')\n",
        "  plt.ylim([0, 5])\n",
        "  plt.xlabel('Epoch')\n",
        "  plt.ylabel('error')\n",
        "  plt.legend()\n",
        "  plt.grid(True)"
      ],
      "execution_count": null,
      "outputs": []
    },
    {
      "cell_type": "code",
      "metadata": {
        "id": "XLDZhEGesW3e"
      },
      "source": [
        "def plot_accuracy(history):\n",
        "  plt.plot(history.history['accuracy'], label='accuracy')\n",
        "  plt.plot(history.history['val_accuracy'], label='val_accuracy')\n",
        "  plt.ylim([0, 1])\n",
        "  plt.xlabel('Epoch')\n",
        "  plt.ylabel('accuracy')\n",
        "  plt.legend()\n",
        "  plt.grid(True)"
      ],
      "execution_count": null,
      "outputs": []
    },
    {
      "cell_type": "code",
      "metadata": {
        "colab": {
          "base_uri": "https://localhost:8080/",
          "height": 283
        },
        "id": "UhJwFA05G-gU",
        "outputId": "42dc9c78-e7a9-4fc9-f90f-9fd2be2f506a"
      },
      "source": [
        "plot_loss(history)"
      ],
      "execution_count": null,
      "outputs": [
        {
          "output_type": "display_data",
          "data": {
            "image/png": "[encoded data removed]",
            "text/plain": [
              "<Figure size 432x288 with 1 Axes>"
            ]
          },
          "metadata": {
            "tags": [],
            "needs_background": "light"
          }
        }
      ]
    },
    {
      "cell_type": "code",
      "metadata": {
        "colab": {
          "base_uri": "https://localhost:8080/",
          "height": 283
        },
        "id": "6QOEsV_QsnnJ",
        "outputId": "d96ae196-2783-4ce7-ed0b-1158925ef5ff"
      },
      "source": [
        "plot_accuracy(history)"
      ],
      "execution_count": null,
      "outputs": [
        {
          "output_type": "display_data",
          "data": {
            "image/png": "[encoded data removed]",
            "text/plain": [
              "<Figure size 432x288 with 1 Axes>"
            ]
          },
          "metadata": {
            "tags": [],
            "needs_background": "light"
          }
        }
      ]
    },
    {
      "cell_type": "code",
      "metadata": {
        "id": "IL3iwhczG-az"
      },
      "source": [
        "# predict = model.predict(X)\n",
        "# accuracy_score(np.round(predict), y[:])"
      ],
      "execution_count": null,
      "outputs": []
    },
    {
      "cell_type": "code",
      "metadata": {
        "id": "0JJKk5Ix6oWV"
      },
      "source": [
        ""
      ],
      "execution_count": null,
      "outputs": []
    },
    {
      "cell_type": "code",
      "metadata": {
        "id": "--iH9BUxCCpN"
      },
      "source": [
        ""
      ],
      "execution_count": null,
      "outputs": []
    },
    {
      "cell_type": "code",
      "metadata": {
        "id": "qhcAPcvpAn5C"
      },
      "source": [
        ""
      ],
      "execution_count": null,
      "outputs": []
    },
    {
      "cell_type": "code",
      "metadata": {
        "id": "dcwtJFIdHO_F"
      },
      "source": [
        ""
      ],
      "execution_count": null,
      "outputs": []
    },
    {
      "cell_type": "code",
      "metadata": {
        "id": "xlaZGIkWi_zO"
      },
      "source": [
        ""
      ],
      "execution_count": null,
      "outputs": []
    },
    {
      "cell_type": "code",
      "metadata": {
        "id": "VrwWrDydi_lc"
      },
      "source": [
        "import os, signal\n",
        "os.kill(os.getpid(), signal.SIGKILL)"
      ],
      "execution_count": null,
      "outputs": []
    },
    {
      "cell_type": "code",
      "metadata": {
        "id": "HBlP8QipVZgI"
      },
      "source": [
        ""
      ],
      "execution_count": null,
      "outputs": []
    }
  ]
}