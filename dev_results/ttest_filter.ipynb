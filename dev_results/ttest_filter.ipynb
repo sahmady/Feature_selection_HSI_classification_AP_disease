{
  "nbformat": 4,
  "nbformat_minor": 0,
  "metadata": {
    "accelerator": "TPU",
    "colab": {
      "name": "ttest_filter.ipynb",
      "provenance": [],
      "collapsed_sections": [
        "5jfPdBsuQcAJ",
        "58keJKrKJ5Mv",
        "cN5O_DvhA2Hy",
        "299NOpOdQkcE",
        "I3JwzO27BFF8",
        "HnMpgtMiMowX",
        "lUIbdjIu5qvW",
        "HoZ_UuoXkU4z",
        "5-aiiA7FgPtA",
        "oQcZXUsOgXY9",
        "DKmjdSBr8BIS"
      ],
      "toc_visible": true
    },
    "kernelspec": {
      "display_name": "Python 3",
      "name": "python3"
    }
  },
  "cells": [
    {
      "cell_type": "markdown",
      "metadata": {
        "id": "wsNtR-uoQXic"
      },
      "source": [
        "## Imports"
      ]
    },
    {
      "cell_type": "code",
      "metadata": {
        "colab": {
          "base_uri": "https://localhost:8080/"
        },
        "id": "xkNsbvGxkGhc",
        "outputId": "bb602c80-ca81-472c-ad4f-0d7c1f2d983d"
      },
      "source": [
        "import pickle\n",
        "import cv2\n",
        "import numpy as np\n",
        "import matplotlib.pyplot as plt\n",
        "import seaborn as sns\n",
        "# import spectral.io.envi as envi\n",
        "import pandas as pd\n",
        "from sklearn.metrics import confusion_matrix, accuracy_score, recall_score, precision_score\n",
        "from sklearn.metrics import precision_recall_curve, classification_report\n",
        "from sklearn.model_selection import train_test_split\n",
        "from sklearn.linear_model import LogisticRegressionCV\n",
        "from sklearn.linear_model import LogisticRegression\n",
        "from sklearn.linear_model import SGDClassifier\n",
        "from sklearn.preprocessing import StandardScaler\n",
        "from sklearn.pipeline import make_pipeline, Pipeline\n",
        "from sklearn.naive_bayes import GaussianNB\n",
        "from sklearn.svm import SVC\n",
        "from sklearn.tree import DecisionTreeClassifier\n",
        "from sklearn.ensemble import RandomForestClassifier\n",
        "# from sklearn.datasets import load_digits\n",
        "from sklearn.model_selection import KFold, learning_curve, ShuffleSplit, GridSearchCV\n",
        "# from yellowbrick.model_selection import RFECV\n",
        "from time import time\n",
        "# from sklearn.feature_selection import SequentialFeatureSelector\n",
        "from mlxtend.feature_selection import SequentialFeatureSelector as sfs\n",
        "from mlxtend.plotting import plot_sequential_feature_selection as plot_sfs\n",
        "\n",
        "# import tensorflow as tf\n",
        "# from tensorflow import keras\n",
        "# from tensorflow.keras import layers\n",
        "# from tensorflow.keras.layers.experimental import preprocessing\n",
        "# from tensorflow.keras.callbacks import EarlyStopping\n",
        "# from keras.models import Sequential\n",
        "# from keras.layers import Dense\n",
        "\n",
        "# print(tf.__version__)"
      ],
      "execution_count": null,
      "outputs": [
        {
          "output_type": "stream",
          "name": "stderr",
          "text": [
            "/usr/local/lib/python3.7/dist-packages/sklearn/externals/joblib/__init__.py:15: FutureWarning: sklearn.externals.joblib is deprecated in 0.21 and will be removed in 0.23. Please import this functionality directly from joblib, which can be installed with: pip install joblib. If this warning is raised when loading pickled models, you may need to re-serialize those models with scikit-learn 0.21+.\n",
            "  warnings.warn(msg, category=FutureWarning)\n"
          ]
        }
      ]
    },
    {
      "cell_type": "markdown",
      "metadata": {
        "id": "0DhfT_P5QPbP"
      },
      "source": [
        "## Connect to Drive"
      ]
    },
    {
      "cell_type": "code",
      "metadata": {
        "colab": {
          "base_uri": "https://localhost:8080/"
        },
        "id": "s7lPNvCBlz7I",
        "outputId": "dffb1a6e-35a3-4c38-88a9-ae8146a0b583"
      },
      "source": [
        "from google.colab import drive\n",
        "drive.mount('/content/drive')"
      ],
      "execution_count": null,
      "outputs": [
        {
          "output_type": "stream",
          "name": "stdout",
          "text": [
            "Mounted at /content/drive\n"
          ]
        }
      ]
    },
    {
      "cell_type": "markdown",
      "metadata": {
        "id": "HejoY1d9uBWs"
      },
      "source": [
        "## learning curve based on number of samples"
      ]
    },
    {
      "cell_type": "markdown",
      "metadata": {
        "id": "5jfPdBsuQcAJ"
      },
      "source": [
        "#### Load Dataset"
      ]
    },
    {
      "cell_type": "code",
      "metadata": {
        "id": "urlFFZ11mP5d"
      },
      "source": [
        "dataset = pd.read_csv('/content/drive/MyDrive/Thesis/mean_dataset/normalized/dataset_mean_normalized.csv', encoding='latin-1')\n",
        "# dataset.head(3)\n",
        "columns = dataset.iloc[:, 2:].columns.values"
      ],
      "execution_count": null,
      "outputs": []
    },
    {
      "cell_type": "code",
      "metadata": {
        "id": "BREwXWjkmw1W"
      },
      "source": [
        "X = np.load('/content/drive/MyDrive/Thesis/dataset/segmented_normalized_one_tenth/X.npy')\n",
        "y = np.load('/content/drive/MyDrive/Thesis/dataset/segmented_normalized_one_tenth/y.npy')"
      ],
      "execution_count": null,
      "outputs": []
    },
    {
      "cell_type": "markdown",
      "metadata": {
        "id": "58keJKrKJ5Mv"
      },
      "source": [
        "#### define function for learning curves"
      ]
    },
    {
      "cell_type": "code",
      "metadata": {
        "id": "C_kwPdj-uA-T"
      },
      "source": [
        "def plot_learning_curve(estimator, title, X, y, axes=None, ylim=None, cv=None,\n",
        "                        n_jobs=None, train_sizes=np.linspace(.1, 1.0, 5)):\n",
        "    \"\"\"\n",
        "    Generate 3 plots: the test and training learning curve, the training\n",
        "    samples vs fit times curve, the fit times vs score curve.\n",
        "\n",
        "    Parameters\n",
        "    ----------\n",
        "    estimator : estimator instance\n",
        "        An estimator instance implementing `fit` and `predict` methods which\n",
        "        will be cloned for each validation.\n",
        "\n",
        "    title : str\n",
        "        Title for the chart.\n",
        "\n",
        "    X : array-like of shape (n_samples, n_features)\n",
        "        Training vector, where ``n_samples`` is the number of samples and\n",
        "        ``n_features`` is the number of features.\n",
        "\n",
        "    y : array-like of shape (n_samples) or (n_samples, n_features)\n",
        "        Target relative to ``X`` for classification or regression;\n",
        "        None for unsupervised learning.\n",
        "\n",
        "    axes : array-like of shape (3,), default=None\n",
        "        Axes to use for plotting the curves.\n",
        "\n",
        "    ylim : tuple of shape (2,), default=None\n",
        "        Defines minimum and maximum y-values plotted, e.g. (ymin, ymax).\n",
        "\n",
        "    cv : int, cross-validation generator or an iterable, default=None\n",
        "        Determines the cross-validation splitting strategy.\n",
        "        Possible inputs for cv are:\n",
        "\n",
        "          - None, to use the default 5-fold cross-validation,\n",
        "          - integer, to specify the number of folds.\n",
        "          - :term:`CV splitter`,\n",
        "          - An iterable yielding (train, test) splits as arrays of indices.\n",
        "\n",
        "        For integer/None inputs, if ``y`` is binary or multiclass,\n",
        "        :class:`StratifiedKFold` used. If the estimator is not a classifier\n",
        "        or if ``y`` is neither binary nor multiclass, :class:`KFold` is used.\n",
        "\n",
        "        Refer :ref:`User Guide <cross_validation>` for the various\n",
        "        cross-validators that can be used here.\n",
        "\n",
        "    n_jobs : int or None, default=None\n",
        "        Number of jobs to run in parallel.\n",
        "        ``None`` means 1 unless in a :obj:`joblib.parallel_backend` context.\n",
        "        ``-1`` means using all processors. See :term:`Glossary <n_jobs>`\n",
        "        for more details.\n",
        "\n",
        "    train_sizes : array-like of shape (n_ticks,)\n",
        "        Relative or absolute numbers of training examples that will be used to\n",
        "        generate the learning curve. If the ``dtype`` is float, it is regarded\n",
        "        as a fraction of the maximum size of the training set (that is\n",
        "        determined by the selected validation method), i.e. it has to be within\n",
        "        (0, 1]. Otherwise it is interpreted as absolute sizes of the training\n",
        "        sets. Note that for classification the number of samples usually have\n",
        "        to be big enough to contain at least one sample from each class.\n",
        "        (default: np.linspace(0.1, 1.0, 5))\n",
        "    \"\"\"\n",
        "    if axes is None:\n",
        "        _, axes = plt.subplots(1, 3, figsize=(20, 5))\n",
        "\n",
        "    axes[0].set_title(title)\n",
        "    if ylim is not None:\n",
        "        axes[0].set_ylim(*ylim)\n",
        "    axes[0].set_xlabel(\"Training examples\")\n",
        "    axes[0].set_ylabel(\"Score\")\n",
        "\n",
        "    train_sizes, train_scores, test_scores, fit_times, _ = \\\n",
        "        learning_curve(estimator, X, y, cv=cv, n_jobs=n_jobs,\n",
        "                       train_sizes=train_sizes,\n",
        "                       return_times=True)\n",
        "    train_scores_mean = np.mean(train_scores, axis=1)\n",
        "    train_scores_std = np.std(train_scores, axis=1)\n",
        "    test_scores_mean = np.mean(test_scores, axis=1)\n",
        "    test_scores_std = np.std(test_scores, axis=1)\n",
        "    fit_times_mean = np.mean(fit_times, axis=1)\n",
        "    fit_times_std = np.std(fit_times, axis=1)\n",
        "\n",
        "    # Plot learning curve\n",
        "    axes[0].grid()\n",
        "    axes[0].fill_between(train_sizes, train_scores_mean - train_scores_std,\n",
        "                         train_scores_mean + train_scores_std, alpha=0.1,\n",
        "                         color=\"r\")\n",
        "    axes[0].fill_between(train_sizes, test_scores_mean - test_scores_std,\n",
        "                         test_scores_mean + test_scores_std, alpha=0.1,\n",
        "                         color=\"g\")\n",
        "    axes[0].plot(train_sizes, train_scores_mean, 'o-', color=\"r\",\n",
        "                 label=\"Training score\")\n",
        "    axes[0].plot(train_sizes, test_scores_mean, 'o-', color=\"g\",\n",
        "                 label=\"Cross-validation score\")\n",
        "    axes[0].legend(loc=\"best\")\n",
        "\n",
        "    # Plot n_samples vs fit_times\n",
        "    axes[1].grid()\n",
        "    axes[1].plot(train_sizes, fit_times_mean, 'o-')\n",
        "    axes[1].fill_between(train_sizes, fit_times_mean - fit_times_std,\n",
        "                         fit_times_mean + fit_times_std, alpha=0.1)\n",
        "    axes[1].set_xlabel(\"Training examples\")\n",
        "    axes[1].set_ylabel(\"fit_times\")\n",
        "    axes[1].set_title(\"Scalability of the model\")\n",
        "\n",
        "    # Plot fit_time vs score\n",
        "    axes[2].grid()\n",
        "    axes[2].plot(fit_times_mean, test_scores_mean, 'o-')\n",
        "    axes[2].fill_between(fit_times_mean, test_scores_mean - test_scores_std,\n",
        "                         test_scores_mean + test_scores_std, alpha=0.1)\n",
        "    axes[2].set_xlabel(\"fit_times\")\n",
        "    axes[2].set_ylabel(\"Score\")\n",
        "    axes[2].set_title(\"Performance of the model\")\n",
        "\n",
        "    return plt"
      ],
      "execution_count": null,
      "outputs": []
    },
    {
      "cell_type": "code",
      "metadata": {
        "id": "KdefZdexKtxY"
      },
      "source": [
        "def plot_learning_curve(estimator, title, X, y, axes=None, ylim=None, cv=None,\n",
        "                        n_jobs=None, train_sizes=np.linspace(.1, 1.0, 5)):\n",
        "    \"\"\"\n",
        "    Generate 3 plots: the test and training learning curve, the training\n",
        "    samples vs fit times curve, the fit times vs score curve.\n",
        "\n",
        "    Parameters\n",
        "    ----------\n",
        "    estimator : estimator instance\n",
        "        An estimator instance implementing `fit` and `predict` methods which\n",
        "        will be cloned for each validation.\n",
        "\n",
        "    title : str\n",
        "        Title for the chart.\n",
        "\n",
        "    X : array-like of shape (n_samples, n_features)\n",
        "        Training vector, where ``n_samples`` is the number of samples and\n",
        "        ``n_features`` is the number of features.\n",
        "\n",
        "    y : array-like of shape (n_samples) or (n_samples, n_features)\n",
        "        Target relative to ``X`` for classification or regression;\n",
        "        None for unsupervised learning.\n",
        "\n",
        "    axes : array-like of shape (3,), default=None\n",
        "        Axes to use for plotting the curves.\n",
        "\n",
        "    ylim : tuple of shape (2,), default=None\n",
        "        Defines minimum and maximum y-values plotted, e.g. (ymin, ymax).\n",
        "\n",
        "    cv : int, cross-validation generator or an iterable, default=None\n",
        "        Determines the cross-validation splitting strategy.\n",
        "        Possible inputs for cv are:\n",
        "\n",
        "          - None, to use the default 5-fold cross-validation,\n",
        "          - integer, to specify the number of folds.\n",
        "          - :term:`CV splitter`,\n",
        "          - An iterable yielding (train, test) splits as arrays of indices.\n",
        "\n",
        "        For integer/None inputs, if ``y`` is binary or multiclass,\n",
        "        :class:`StratifiedKFold` used. If the estimator is not a classifier\n",
        "        or if ``y`` is neither binary nor multiclass, :class:`KFold` is used.\n",
        "\n",
        "        Refer :ref:`User Guide <cross_validation>` for the various\n",
        "        cross-validators that can be used here.\n",
        "\n",
        "    n_jobs : int or None, default=None\n",
        "        Number of jobs to run in parallel.\n",
        "        ``None`` means 1 unless in a :obj:`joblib.parallel_backend` context.\n",
        "        ``-1`` means using all processors. See :term:`Glossary <n_jobs>`\n",
        "        for more details.\n",
        "\n",
        "    train_sizes : array-like of shape (n_ticks,)\n",
        "        Relative or absolute numbers of training examples that will be used to\n",
        "        generate the learning curve. If the ``dtype`` is float, it is regarded\n",
        "        as a fraction of the maximum size of the training set (that is\n",
        "        determined by the selected validation method), i.e. it has to be within\n",
        "        (0, 1]. Otherwise it is interpreted as absolute sizes of the training\n",
        "        sets. Note that for classification the number of samples usually have\n",
        "        to be big enough to contain at least one sample from each class.\n",
        "        (default: np.linspace(0.1, 1.0, 5))\n",
        "    \"\"\"\n",
        "\n",
        "    train_sizes, train_scores, test_scores, fit_times, _ = \\\n",
        "        learning_curve(estimator, X, y, cv=cv, n_jobs=n_jobs,\n",
        "                       train_sizes=train_sizes,\n",
        "                       return_times=True)\n",
        "    train_scores_mean = np.mean(train_scores, axis=1)\n",
        "    train_scores_std = np.std(train_scores, axis=1)\n",
        "    test_scores_mean = np.mean(test_scores, axis=1)\n",
        "    test_scores_std = np.std(test_scores, axis=1)\n",
        "\n",
        "    # Plot learning curve\n",
        "    plt.grid()\n",
        "    plt.fill_between(train_sizes, train_scores_mean - train_scores_std,\n",
        "                         train_scores_mean + train_scores_std, alpha=0.1,\n",
        "                         color=\"r\")\n",
        "    plt.fill_between(train_sizes, test_scores_mean - test_scores_std,\n",
        "                         test_scores_mean + test_scores_std, alpha=0.1,\n",
        "                         color=\"g\")\n",
        "    plt.plot(train_sizes, train_scores_mean, 'o-', color=\"r\",\n",
        "                 label=\"Training score\")\n",
        "    plt.plot(train_sizes, test_scores_mean, 'o-', color=\"g\",\n",
        "                 label=\"Cross-validation score\")\n",
        "    plt.xlabel(\"Training examples\")\n",
        "    plt.ylabel(\"Score\")\n",
        "    plt.title(title)\n",
        "    \n",
        "    plt.legend(loc=\"best\")\n",
        "\n",
        "    return plt"
      ],
      "execution_count": null,
      "outputs": []
    },
    {
      "cell_type": "markdown",
      "metadata": {
        "id": "cN5O_DvhA2Hy"
      },
      "source": [
        "#### only 10% of dataset"
      ]
    },
    {
      "cell_type": "code",
      "metadata": {
        "colab": {
          "base_uri": "https://localhost:8080/"
        },
        "id": "RxnXl624BBl3",
        "outputId": "7a0cd074-4439-4801-ddbd-60c203393fd3"
      },
      "source": [
        "# X = X[::3, :]\n",
        "# y = y[::3]\n",
        "X.shape"
      ],
      "execution_count": null,
      "outputs": [
        {
          "output_type": "execute_result",
          "data": {
            "text/plain": [
              "(841005, 186)"
            ]
          },
          "metadata": {
            "tags": []
          },
          "execution_count": 7
        }
      ]
    },
    {
      "cell_type": "code",
      "metadata": {
        "colab": {
          "base_uri": "https://localhost:8080/",
          "height": 316
        },
        "id": "ext0q2OouA02",
        "outputId": "5d40af72-aa0d-4790-d2f7-03035efbe794"
      },
      "source": [
        "title = r\"Learning Curves (Decision Tree, 10% of data)\"\n",
        "# SVC is more expensive so we do a lower number of CV iterations:\n",
        "cv = ShuffleSplit(n_splits=5, test_size=0.2, random_state=42)\n",
        "estimator = DecisionTreeClassifier(criterion='entropy')\n",
        "plot_learning_curve(estimator, title, X, y, ylim=(0.7, 1.01), cv=cv, n_jobs=-1)\n",
        "\n",
        "plt.show()"
      ],
      "execution_count": null,
      "outputs": [
        {
          "output_type": "stream",
          "text": [
            "/usr/local/lib/python3.7/dist-packages/joblib/externals/loky/process_executor.py:691: UserWarning: A worker stopped while some jobs were given to the executor. This can be caused by a too short worker timeout or by a memory leak.\n",
            "  \"timeout or by a memory leak.\", UserWarning\n"
          ],
          "name": "stderr"
        },
        {
          "output_type": "display_data",
          "data": {
            "image/png": "[encoded data removed]",
            "text/plain": [
              "<Figure size 1440x360 with 3 Axes>"
            ]
          },
          "metadata": {
            "tags": []
          }
        }
      ]
    },
    {
      "cell_type": "markdown",
      "metadata": {
        "id": "299NOpOdQkcE"
      },
      "source": [
        "#### only 1% of dataset"
      ]
    },
    {
      "cell_type": "code",
      "metadata": {
        "id": "W3WKHpIFneZc"
      },
      "source": [
        "X = X[::10, :]\n",
        "y = y[::10]"
      ],
      "execution_count": null,
      "outputs": []
    },
    {
      "cell_type": "code",
      "metadata": {
        "colab": {
          "base_uri": "https://localhost:8080/"
        },
        "id": "lx86P-44SM1h",
        "outputId": "7ad64124-9e62-4686-9a13-db751c602d02"
      },
      "source": [
        "X.shape"
      ],
      "execution_count": null,
      "outputs": [
        {
          "output_type": "execute_result",
          "data": {
            "text/plain": [
              "(84101, 186)"
            ]
          },
          "metadata": {
            "tags": []
          },
          "execution_count": 11
        }
      ]
    },
    {
      "cell_type": "code",
      "metadata": {
        "colab": {
          "base_uri": "https://localhost:8080/",
          "height": 261
        },
        "id": "hySp-SzyBCHR",
        "outputId": "c8262545-9ab7-47f6-f162-89f25bf23243"
      },
      "source": [
        "title = r\"Learning Curves (Decision Tree, 1% of data)\"\n",
        "# SVC is more expensive so we do a lower number of CV iterations:\n",
        "cv = ShuffleSplit(n_splits=5, test_size=0.2, random_state=42)\n",
        "estimator = DecisionTreeClassifier(criterion='entropy')\n",
        "plot_learning_curve(estimator, title, X, y, ylim=(0.7, 1.01), cv=cv, n_jobs=-1)\n",
        "\n",
        "plt.show()"
      ],
      "execution_count": null,
      "outputs": [
        {
          "output_type": "display_data",
          "data": {
            "image/png": "[encoded data removed]",
            "text/plain": [
              "<Figure size 1440x360 with 3 Axes>"
            ]
          },
          "metadata": {
            "tags": []
          }
        }
      ]
    },
    {
      "cell_type": "markdown",
      "metadata": {
        "id": "I3JwzO27BFF8"
      },
      "source": [
        "#### only 0.1% of data"
      ]
    },
    {
      "cell_type": "code",
      "metadata": {
        "colab": {
          "base_uri": "https://localhost:8080/"
        },
        "id": "FofieWd8-t7U",
        "outputId": "2027c39b-cd0a-41d7-ebc1-1a6d415d2544"
      },
      "source": [
        "X = X[::10, :]\n",
        "y = y[::10]\n",
        "X.shape"
      ],
      "execution_count": null,
      "outputs": [
        {
          "output_type": "execute_result",
          "data": {
            "text/plain": [
              "(8411, 186)"
            ]
          },
          "metadata": {
            "tags": []
          },
          "execution_count": 13
        }
      ]
    },
    {
      "cell_type": "code",
      "metadata": {
        "colab": {
          "base_uri": "https://localhost:8080/",
          "height": 261
        },
        "id": "SWSxYgS5-tUS",
        "outputId": "efd1d944-92e7-4ce8-a007-c78925092c27"
      },
      "source": [
        "title = r\"Learning Curves (Decision Tree, 0.1% of data)\"\n",
        "# SVC is more expensive so we do a lower number of CV iterations:\n",
        "cv = ShuffleSplit(n_splits=5, test_size=0.2, random_state=42)\n",
        "estimator = DecisionTreeClassifier(criterion='entropy')\n",
        "plot_learning_curve(estimator, title, X, y, ylim=(0.7, 1.01), cv=cv, n_jobs=-1)\n",
        "\n",
        "plt.show()"
      ],
      "execution_count": null,
      "outputs": [
        {
          "output_type": "display_data",
          "data": {
            "image/png": "[encoded data removed]",
            "text/plain": [
              "<Figure size 1440x360 with 3 Axes>"
            ]
          },
          "metadata": {
            "tags": []
          }
        }
      ]
    },
    {
      "cell_type": "markdown",
      "metadata": {
        "id": "sMBrQb08Q0A3"
      },
      "source": [
        "## load data and build DT basd on entropy 10% of data"
      ]
    },
    {
      "cell_type": "code",
      "metadata": {
        "colab": {
          "base_uri": "https://localhost:8080/"
        },
        "id": "6E6LOWha52EC",
        "outputId": "4cfe43bd-85cf-4b0d-9cc6-ef2a6890fb4b"
      },
      "source": [
        "X = np.load('/content/drive/MyDrive/Thesis/dataset/segmented_normalized_one_tenth/X.npy')\n",
        "y = np.load('/content/drive/MyDrive/Thesis/dataset/segmented_normalized_one_tenth/y.npy')\n",
        "X.shape"
      ],
      "execution_count": null,
      "outputs": [
        {
          "output_type": "execute_result",
          "data": {
            "text/plain": [
              "(841005, 186)"
            ]
          },
          "metadata": {
            "tags": []
          },
          "execution_count": 15
        }
      ]
    },
    {
      "cell_type": "code",
      "metadata": {
        "id": "QwEqZMDDnkac"
      },
      "source": [
        "clf = DecisionTreeClassifier(criterion='entropy')"
      ],
      "execution_count": null,
      "outputs": []
    },
    {
      "cell_type": "code",
      "metadata": {
        "colab": {
          "base_uri": "https://localhost:8080/"
        },
        "id": "xCdK3Rnd5gkj",
        "outputId": "35987b0e-b3ff-42c6-cf3b-c3bd8390dcfb"
      },
      "source": [
        "clf.fit(X, y)"
      ],
      "execution_count": null,
      "outputs": [
        {
          "output_type": "execute_result",
          "data": {
            "text/plain": [
              "DecisionTreeClassifier(ccp_alpha=0.0, class_weight=None, criterion='entropy',\n",
              "                       max_depth=None, max_features=None, max_leaf_nodes=None,\n",
              "                       min_impurity_decrease=0.0, min_impurity_split=None,\n",
              "                       min_samples_leaf=1, min_samples_split=2,\n",
              "                       min_weight_fraction_leaf=0.0, presort='deprecated',\n",
              "                       random_state=None, splitter='best')"
            ]
          },
          "metadata": {
            "tags": []
          },
          "execution_count": 6
        }
      ]
    },
    {
      "cell_type": "code",
      "metadata": {
        "colab": {
          "base_uri": "https://localhost:8080/",
          "height": 283
        },
        "id": "AaWDV2B75gRF",
        "outputId": "ee9cd1fb-715e-4a28-d9c0-ebfa612396bd"
      },
      "source": [
        "# plt.figure(figsize=(15, 5))\n",
        "# plt.scatter(np.arange(186)+1, clf.feature_importances_)\n",
        "plt.plot(clf.feature_importances_)"
      ],
      "execution_count": null,
      "outputs": [
        {
          "output_type": "execute_result",
          "data": {
            "text/plain": [
              "[<matplotlib.lines.Line2D at 0x7f63c7877e50>]"
            ]
          },
          "metadata": {
            "tags": []
          },
          "execution_count": 7
        },
        {
          "output_type": "display_data",
          "data": {
            "image/png": "[encoded data removed]",
            "text/plain": [
              "<Figure size 432x288 with 1 Axes>"
            ]
          },
          "metadata": {
            "tags": []
          }
        }
      ]
    },
    {
      "cell_type": "code",
      "metadata": {
        "id": "cuaW92y3-ZtV"
      },
      "source": [
        "ordered_bands = pd.DataFrame()"
      ],
      "execution_count": null,
      "outputs": []
    },
    {
      "cell_type": "code",
      "metadata": {
        "id": "jYymcd7J-ZqD"
      },
      "source": [
        "ordered_bands.insert(loc=ordered_bands.shape[1], column='steps', value=np.arange(186)+1)\n",
        "ordered_bands.insert(loc=ordered_bands.shape[1], column='band_list', value=columns)\n",
        "ordered_bands.insert(loc=ordered_bands.shape[1], column='importance', value=clf.feature_importances_)"
      ],
      "execution_count": null,
      "outputs": []
    },
    {
      "cell_type": "code",
      "metadata": {
        "id": "RJcGfyw5_jtI"
      },
      "source": [
        "ordered_bands.sort_values(by=['importance'], inplace=True, ascending=False)"
      ],
      "execution_count": null,
      "outputs": []
    },
    {
      "cell_type": "code",
      "metadata": {
        "colab": {
          "base_uri": "https://localhost:8080/",
          "height": 355
        },
        "id": "9En-xnj8-ZnK",
        "outputId": "f4a63c7e-ebd1-460e-e315-c9c8b99ab8aa"
      },
      "source": [
        "ordered_bands.head(10)"
      ],
      "execution_count": null,
      "outputs": [
        {
          "output_type": "execute_result",
          "data": {
            "text/html": [
              "<div>\n",
              "<style scoped>\n",
              "    .dataframe tbody tr th:only-of-type {\n",
              "        vertical-align: middle;\n",
              "    }\n",
              "\n",
              "    .dataframe tbody tr th {\n",
              "        vertical-align: top;\n",
              "    }\n",
              "\n",
              "    .dataframe thead th {\n",
              "        text-align: right;\n",
              "    }\n",
              "</style>\n",
              "<table border=\"1\" class=\"dataframe\">\n",
              "  <thead>\n",
              "    <tr style=\"text-align: right;\">\n",
              "      <th></th>\n",
              "      <th>steps</th>\n",
              "      <th>band_list</th>\n",
              "      <th>importance</th>\n",
              "    </tr>\n",
              "  </thead>\n",
              "  <tbody>\n",
              "    <tr>\n",
              "      <th>12</th>\n",
              "      <td>13</td>\n",
              "      <td>Band_013</td>\n",
              "      <td>0.149727</td>\n",
              "    </tr>\n",
              "    <tr>\n",
              "      <th>52</th>\n",
              "      <td>53</td>\n",
              "      <td>Band_053</td>\n",
              "      <td>0.118647</td>\n",
              "    </tr>\n",
              "    <tr>\n",
              "      <th>94</th>\n",
              "      <td>95</td>\n",
              "      <td>Band_095</td>\n",
              "      <td>0.086788</td>\n",
              "    </tr>\n",
              "    <tr>\n",
              "      <th>92</th>\n",
              "      <td>93</td>\n",
              "      <td>Band_093</td>\n",
              "      <td>0.077677</td>\n",
              "    </tr>\n",
              "    <tr>\n",
              "      <th>91</th>\n",
              "      <td>92</td>\n",
              "      <td>Band_092</td>\n",
              "      <td>0.053570</td>\n",
              "    </tr>\n",
              "    <tr>\n",
              "      <th>93</th>\n",
              "      <td>94</td>\n",
              "      <td>Band_094</td>\n",
              "      <td>0.050978</td>\n",
              "    </tr>\n",
              "    <tr>\n",
              "      <th>78</th>\n",
              "      <td>79</td>\n",
              "      <td>Band_079</td>\n",
              "      <td>0.048192</td>\n",
              "    </tr>\n",
              "    <tr>\n",
              "      <th>43</th>\n",
              "      <td>44</td>\n",
              "      <td>Band_044</td>\n",
              "      <td>0.035446</td>\n",
              "    </tr>\n",
              "    <tr>\n",
              "      <th>31</th>\n",
              "      <td>32</td>\n",
              "      <td>Band_032</td>\n",
              "      <td>0.030290</td>\n",
              "    </tr>\n",
              "    <tr>\n",
              "      <th>27</th>\n",
              "      <td>28</td>\n",
              "      <td>Band_028</td>\n",
              "      <td>0.020351</td>\n",
              "    </tr>\n",
              "  </tbody>\n",
              "</table>\n",
              "</div>"
            ],
            "text/plain": [
              "    steps band_list  importance\n",
              "12     13  Band_013    0.149727\n",
              "52     53  Band_053    0.118647\n",
              "94     95  Band_095    0.086788\n",
              "92     93  Band_093    0.077677\n",
              "91     92  Band_092    0.053570\n",
              "93     94  Band_094    0.050978\n",
              "78     79  Band_079    0.048192\n",
              "43     44  Band_044    0.035446\n",
              "31     32  Band_032    0.030290\n",
              "27     28  Band_028    0.020351"
            ]
          },
          "metadata": {
            "tags": []
          },
          "execution_count": 11
        }
      ]
    },
    {
      "cell_type": "code",
      "metadata": {
        "id": "Ip0XmrIXCaoG"
      },
      "source": [
        "bands_list = ordered_bands.band_list.values"
      ],
      "execution_count": null,
      "outputs": []
    },
    {
      "cell_type": "markdown",
      "metadata": {
        "id": "kVZgIvzyMKPH"
      },
      "source": [
        "## learning curves for filter methods"
      ]
    },
    {
      "cell_type": "markdown",
      "metadata": {
        "id": "rIceMKGlMabT"
      },
      "source": [
        "### load dataset and keep 1% for training purpose"
      ]
    },
    {
      "cell_type": "code",
      "metadata": {
        "id": "p94IftsPMSHZ",
        "colab": {
          "base_uri": "https://localhost:8080/"
        },
        "outputId": "ee67aba3-ad8d-485b-f35b-8da1024dca5a"
      },
      "source": [
        "X = np.load('/content/drive/MyDrive/Thesis/dataset/segmented_normalized_one_tenth/X.npy')\n",
        "y = np.load('/content/drive/MyDrive/Thesis/dataset/segmented_normalized_one_tenth/y.npy')\n",
        "X.shape"
      ],
      "execution_count": null,
      "outputs": [
        {
          "output_type": "execute_result",
          "data": {
            "text/plain": [
              "(841005, 186)"
            ]
          },
          "metadata": {},
          "execution_count": 3
        }
      ]
    },
    {
      "cell_type": "code",
      "metadata": {
        "id": "djfMVIWFLNMA",
        "colab": {
          "base_uri": "https://localhost:8080/"
        },
        "outputId": "f76d8f5e-07ac-4461-d097-873f52972d0a"
      },
      "source": [
        "X = X[::10, :]\n",
        "y = y[::10]\n",
        "X.shape"
      ],
      "execution_count": null,
      "outputs": [
        {
          "output_type": "execute_result",
          "data": {
            "text/plain": [
              "(84101, 186)"
            ]
          },
          "metadata": {},
          "execution_count": 4
        }
      ]
    },
    {
      "cell_type": "code",
      "metadata": {
        "id": "hQglcCNArIre"
      },
      "source": [
        "dataset = pd.read_csv('/content/drive/MyDrive/Thesis/mean_dataset/normalized/dataset_mean_normalized.csv', encoding='latin-1')\n",
        "# dataset.head(3)\n",
        "columns = dataset.iloc[:, 2:].columns.values"
      ],
      "execution_count": null,
      "outputs": []
    },
    {
      "cell_type": "code",
      "metadata": {
        "id": "Mch-ep6vMkHP",
        "colab": {
          "base_uri": "https://localhost:8080/",
          "height": 193
        },
        "outputId": "a2ace1a8-cd6c-447f-ae62-13b6af191444"
      },
      "source": [
        "df = pd.DataFrame(data=X, columns=columns)\n",
        "df.head(3)"
      ],
      "execution_count": null,
      "outputs": [
        {
          "output_type": "execute_result",
          "data": {
            "text/html": [
              "<div>\n",
              "<style scoped>\n",
              "    .dataframe tbody tr th:only-of-type {\n",
              "        vertical-align: middle;\n",
              "    }\n",
              "\n",
              "    .dataframe tbody tr th {\n",
              "        vertical-align: top;\n",
              "    }\n",
              "\n",
              "    .dataframe thead th {\n",
              "        text-align: right;\n",
              "    }\n",
              "</style>\n",
              "<table border=\"1\" class=\"dataframe\">\n",
              "  <thead>\n",
              "    <tr style=\"text-align: right;\">\n",
              "      <th></th>\n",
              "      <th>Band_001</th>\n",
              "      <th>Band_002</th>\n",
              "      <th>Band_003</th>\n",
              "      <th>Band_004</th>\n",
              "      <th>Band_005</th>\n",
              "      <th>Band_006</th>\n",
              "      <th>Band_007</th>\n",
              "      <th>Band_008</th>\n",
              "      <th>Band_009</th>\n",
              "      <th>Band_010</th>\n",
              "      <th>Band_011</th>\n",
              "      <th>Band_012</th>\n",
              "      <th>Band_013</th>\n",
              "      <th>Band_014</th>\n",
              "      <th>Band_015</th>\n",
              "      <th>Band_016</th>\n",
              "      <th>Band_017</th>\n",
              "      <th>Band_018</th>\n",
              "      <th>Band_019</th>\n",
              "      <th>Band_020</th>\n",
              "      <th>Band_021</th>\n",
              "      <th>Band_022</th>\n",
              "      <th>Band_023</th>\n",
              "      <th>Band_024</th>\n",
              "      <th>Band_025</th>\n",
              "      <th>Band_026</th>\n",
              "      <th>Band_027</th>\n",
              "      <th>Band_028</th>\n",
              "      <th>Band_029</th>\n",
              "      <th>Band_030</th>\n",
              "      <th>Band_031</th>\n",
              "      <th>Band_032</th>\n",
              "      <th>Band_033</th>\n",
              "      <th>Band_034</th>\n",
              "      <th>Band_035</th>\n",
              "      <th>Band_036</th>\n",
              "      <th>Band_037</th>\n",
              "      <th>Band_038</th>\n",
              "      <th>Band_039</th>\n",
              "      <th>Band_040</th>\n",
              "      <th>...</th>\n",
              "      <th>Band_147</th>\n",
              "      <th>Band_148</th>\n",
              "      <th>Band_149</th>\n",
              "      <th>Band_150</th>\n",
              "      <th>Band_151</th>\n",
              "      <th>Band_152</th>\n",
              "      <th>Band_153</th>\n",
              "      <th>Band_154</th>\n",
              "      <th>Band_155</th>\n",
              "      <th>Band_156</th>\n",
              "      <th>Band_157</th>\n",
              "      <th>Band_158</th>\n",
              "      <th>Band_159</th>\n",
              "      <th>Band_160</th>\n",
              "      <th>Band_161</th>\n",
              "      <th>Band_162</th>\n",
              "      <th>Band_163</th>\n",
              "      <th>Band_164</th>\n",
              "      <th>Band_165</th>\n",
              "      <th>Band_166</th>\n",
              "      <th>Band_167</th>\n",
              "      <th>Band_168</th>\n",
              "      <th>Band_169</th>\n",
              "      <th>Band_170</th>\n",
              "      <th>Band_171</th>\n",
              "      <th>Band_172</th>\n",
              "      <th>Band_173</th>\n",
              "      <th>Band_174</th>\n",
              "      <th>Band_175</th>\n",
              "      <th>Band_176</th>\n",
              "      <th>Band_177</th>\n",
              "      <th>Band_178</th>\n",
              "      <th>Band_179</th>\n",
              "      <th>Band_180</th>\n",
              "      <th>Band_181</th>\n",
              "      <th>Band_182</th>\n",
              "      <th>Band_183</th>\n",
              "      <th>Band_184</th>\n",
              "      <th>Band_185</th>\n",
              "      <th>Band_186</th>\n",
              "    </tr>\n",
              "  </thead>\n",
              "  <tbody>\n",
              "    <tr>\n",
              "      <th>0</th>\n",
              "      <td>0.055364</td>\n",
              "      <td>0.071277</td>\n",
              "      <td>0.062560</td>\n",
              "      <td>0.062931</td>\n",
              "      <td>0.073905</td>\n",
              "      <td>0.055737</td>\n",
              "      <td>0.062921</td>\n",
              "      <td>0.060123</td>\n",
              "      <td>0.056552</td>\n",
              "      <td>0.062749</td>\n",
              "      <td>0.059414</td>\n",
              "      <td>0.059066</td>\n",
              "      <td>0.066134</td>\n",
              "      <td>0.064663</td>\n",
              "      <td>0.062497</td>\n",
              "      <td>0.063313</td>\n",
              "      <td>0.062573</td>\n",
              "      <td>0.063923</td>\n",
              "      <td>0.072067</td>\n",
              "      <td>0.061628</td>\n",
              "      <td>0.068952</td>\n",
              "      <td>0.069534</td>\n",
              "      <td>0.063854</td>\n",
              "      <td>0.063532</td>\n",
              "      <td>0.063523</td>\n",
              "      <td>0.063333</td>\n",
              "      <td>0.066438</td>\n",
              "      <td>0.065995</td>\n",
              "      <td>0.068486</td>\n",
              "      <td>0.067091</td>\n",
              "      <td>0.065591</td>\n",
              "      <td>0.069869</td>\n",
              "      <td>0.071611</td>\n",
              "      <td>0.071547</td>\n",
              "      <td>0.075075</td>\n",
              "      <td>0.079294</td>\n",
              "      <td>0.077710</td>\n",
              "      <td>0.074765</td>\n",
              "      <td>0.081016</td>\n",
              "      <td>0.080989</td>\n",
              "      <td>...</td>\n",
              "      <td>0.256003</td>\n",
              "      <td>0.244539</td>\n",
              "      <td>0.252226</td>\n",
              "      <td>0.255288</td>\n",
              "      <td>0.258960</td>\n",
              "      <td>0.255068</td>\n",
              "      <td>0.257223</td>\n",
              "      <td>0.266414</td>\n",
              "      <td>0.260323</td>\n",
              "      <td>0.269098</td>\n",
              "      <td>0.268707</td>\n",
              "      <td>0.262175</td>\n",
              "      <td>0.269845</td>\n",
              "      <td>0.263428</td>\n",
              "      <td>0.276127</td>\n",
              "      <td>0.277523</td>\n",
              "      <td>0.279097</td>\n",
              "      <td>0.271806</td>\n",
              "      <td>0.286093</td>\n",
              "      <td>0.284609</td>\n",
              "      <td>0.276917</td>\n",
              "      <td>0.290901</td>\n",
              "      <td>0.271737</td>\n",
              "      <td>0.296084</td>\n",
              "      <td>0.287388</td>\n",
              "      <td>0.288105</td>\n",
              "      <td>0.297305</td>\n",
              "      <td>0.287817</td>\n",
              "      <td>0.293130</td>\n",
              "      <td>0.280577</td>\n",
              "      <td>0.294222</td>\n",
              "      <td>0.307158</td>\n",
              "      <td>0.299976</td>\n",
              "      <td>0.291312</td>\n",
              "      <td>0.304959</td>\n",
              "      <td>0.295205</td>\n",
              "      <td>0.289494</td>\n",
              "      <td>0.300307</td>\n",
              "      <td>0.298140</td>\n",
              "      <td>0.306262</td>\n",
              "    </tr>\n",
              "    <tr>\n",
              "      <th>1</th>\n",
              "      <td>0.074993</td>\n",
              "      <td>0.072435</td>\n",
              "      <td>0.064133</td>\n",
              "      <td>0.080734</td>\n",
              "      <td>0.088216</td>\n",
              "      <td>0.070953</td>\n",
              "      <td>0.067431</td>\n",
              "      <td>0.068336</td>\n",
              "      <td>0.079696</td>\n",
              "      <td>0.081326</td>\n",
              "      <td>0.072144</td>\n",
              "      <td>0.064534</td>\n",
              "      <td>0.071140</td>\n",
              "      <td>0.076132</td>\n",
              "      <td>0.076926</td>\n",
              "      <td>0.073100</td>\n",
              "      <td>0.068827</td>\n",
              "      <td>0.075382</td>\n",
              "      <td>0.074642</td>\n",
              "      <td>0.074307</td>\n",
              "      <td>0.076571</td>\n",
              "      <td>0.078271</td>\n",
              "      <td>0.073199</td>\n",
              "      <td>0.074093</td>\n",
              "      <td>0.081167</td>\n",
              "      <td>0.073853</td>\n",
              "      <td>0.073868</td>\n",
              "      <td>0.075267</td>\n",
              "      <td>0.083201</td>\n",
              "      <td>0.082551</td>\n",
              "      <td>0.086952</td>\n",
              "      <td>0.093180</td>\n",
              "      <td>0.105580</td>\n",
              "      <td>0.112416</td>\n",
              "      <td>0.123468</td>\n",
              "      <td>0.129664</td>\n",
              "      <td>0.151454</td>\n",
              "      <td>0.161905</td>\n",
              "      <td>0.169379</td>\n",
              "      <td>0.175393</td>\n",
              "      <td>...</td>\n",
              "      <td>0.505026</td>\n",
              "      <td>0.494720</td>\n",
              "      <td>0.483715</td>\n",
              "      <td>0.488838</td>\n",
              "      <td>0.488722</td>\n",
              "      <td>0.487259</td>\n",
              "      <td>0.482478</td>\n",
              "      <td>0.480058</td>\n",
              "      <td>0.500768</td>\n",
              "      <td>0.489220</td>\n",
              "      <td>0.471241</td>\n",
              "      <td>0.482861</td>\n",
              "      <td>0.477204</td>\n",
              "      <td>0.484921</td>\n",
              "      <td>0.481572</td>\n",
              "      <td>0.477932</td>\n",
              "      <td>0.482379</td>\n",
              "      <td>0.469481</td>\n",
              "      <td>0.480970</td>\n",
              "      <td>0.455296</td>\n",
              "      <td>0.474330</td>\n",
              "      <td>0.453260</td>\n",
              "      <td>0.479589</td>\n",
              "      <td>0.466238</td>\n",
              "      <td>0.457954</td>\n",
              "      <td>0.463635</td>\n",
              "      <td>0.447302</td>\n",
              "      <td>0.468616</td>\n",
              "      <td>0.465824</td>\n",
              "      <td>0.460319</td>\n",
              "      <td>0.453349</td>\n",
              "      <td>0.457308</td>\n",
              "      <td>0.448119</td>\n",
              "      <td>0.459175</td>\n",
              "      <td>0.454227</td>\n",
              "      <td>0.460216</td>\n",
              "      <td>0.452923</td>\n",
              "      <td>0.471841</td>\n",
              "      <td>0.476259</td>\n",
              "      <td>0.469941</td>\n",
              "    </tr>\n",
              "    <tr>\n",
              "      <th>2</th>\n",
              "      <td>0.045479</td>\n",
              "      <td>0.042046</td>\n",
              "      <td>0.037275</td>\n",
              "      <td>0.043536</td>\n",
              "      <td>0.034465</td>\n",
              "      <td>0.042052</td>\n",
              "      <td>0.041346</td>\n",
              "      <td>0.036096</td>\n",
              "      <td>0.037316</td>\n",
              "      <td>0.034090</td>\n",
              "      <td>0.038630</td>\n",
              "      <td>0.037338</td>\n",
              "      <td>0.038530</td>\n",
              "      <td>0.039467</td>\n",
              "      <td>0.037237</td>\n",
              "      <td>0.036758</td>\n",
              "      <td>0.041296</td>\n",
              "      <td>0.038946</td>\n",
              "      <td>0.038131</td>\n",
              "      <td>0.033877</td>\n",
              "      <td>0.036581</td>\n",
              "      <td>0.036654</td>\n",
              "      <td>0.043430</td>\n",
              "      <td>0.040508</td>\n",
              "      <td>0.038260</td>\n",
              "      <td>0.039300</td>\n",
              "      <td>0.039091</td>\n",
              "      <td>0.035584</td>\n",
              "      <td>0.043376</td>\n",
              "      <td>0.038516</td>\n",
              "      <td>0.041190</td>\n",
              "      <td>0.044052</td>\n",
              "      <td>0.045166</td>\n",
              "      <td>0.049253</td>\n",
              "      <td>0.055280</td>\n",
              "      <td>0.056265</td>\n",
              "      <td>0.060899</td>\n",
              "      <td>0.063739</td>\n",
              "      <td>0.068785</td>\n",
              "      <td>0.068890</td>\n",
              "      <td>...</td>\n",
              "      <td>0.180802</td>\n",
              "      <td>0.178378</td>\n",
              "      <td>0.176781</td>\n",
              "      <td>0.181192</td>\n",
              "      <td>0.180998</td>\n",
              "      <td>0.177616</td>\n",
              "      <td>0.173728</td>\n",
              "      <td>0.184667</td>\n",
              "      <td>0.180696</td>\n",
              "      <td>0.179134</td>\n",
              "      <td>0.180556</td>\n",
              "      <td>0.175598</td>\n",
              "      <td>0.176941</td>\n",
              "      <td>0.179723</td>\n",
              "      <td>0.179929</td>\n",
              "      <td>0.182357</td>\n",
              "      <td>0.179584</td>\n",
              "      <td>0.178325</td>\n",
              "      <td>0.181278</td>\n",
              "      <td>0.178470</td>\n",
              "      <td>0.181702</td>\n",
              "      <td>0.175787</td>\n",
              "      <td>0.171325</td>\n",
              "      <td>0.178576</td>\n",
              "      <td>0.181164</td>\n",
              "      <td>0.177727</td>\n",
              "      <td>0.170604</td>\n",
              "      <td>0.175006</td>\n",
              "      <td>0.180909</td>\n",
              "      <td>0.169396</td>\n",
              "      <td>0.169240</td>\n",
              "      <td>0.168891</td>\n",
              "      <td>0.165199</td>\n",
              "      <td>0.170660</td>\n",
              "      <td>0.173753</td>\n",
              "      <td>0.182452</td>\n",
              "      <td>0.168766</td>\n",
              "      <td>0.164232</td>\n",
              "      <td>0.174707</td>\n",
              "      <td>0.171867</td>\n",
              "    </tr>\n",
              "  </tbody>\n",
              "</table>\n",
              "<p>3 rows × 186 columns</p>\n",
              "</div>"
            ],
            "text/plain": [
              "   Band_001  Band_002  Band_003  ...  Band_184  Band_185  Band_186\n",
              "0  0.055364  0.071277  0.062560  ...  0.300307  0.298140  0.306262\n",
              "1  0.074993  0.072435  0.064133  ...  0.471841  0.476259  0.469941\n",
              "2  0.045479  0.042046  0.037275  ...  0.164232  0.174707  0.171867\n",
              "\n",
              "[3 rows x 186 columns]"
            ]
          },
          "metadata": {},
          "execution_count": 6
        }
      ]
    },
    {
      "cell_type": "markdown",
      "metadata": {
        "id": "TGHfhnW1M82P"
      },
      "source": [
        "#### order dataset based on t-test"
      ]
    },
    {
      "cell_type": "code",
      "metadata": {
        "id": "wrSKc3aNwxUi"
      },
      "source": [
        "t_statistic_array = np.abs(np.genfromtxt(\"/content/drive/MyDrive/Thesis/files/no_background/t_statistic_array.csv\", delimiter=','))\n",
        "ttest_df = pd.DataFrame(data=t_statistic_array, columns=['ttest_val'])\n",
        "ttest_df.ttest_val = np.abs(ttest_df.ttest_val.values)\n",
        "ttest_df.insert(loc=0, column='bands', value=df.columns.values)"
      ],
      "execution_count": null,
      "outputs": []
    },
    {
      "cell_type": "code",
      "metadata": {
        "colab": {
          "base_uri": "https://localhost:8080/",
          "height": 143
        },
        "id": "6YyfDbTOxtiO",
        "outputId": "18163802-511f-484f-e382-49f69bd912ca"
      },
      "source": [
        "ttest_df.head(3)"
      ],
      "execution_count": null,
      "outputs": [
        {
          "output_type": "execute_result",
          "data": {
            "text/html": [
              "<div>\n",
              "<style scoped>\n",
              "    .dataframe tbody tr th:only-of-type {\n",
              "        vertical-align: middle;\n",
              "    }\n",
              "\n",
              "    .dataframe tbody tr th {\n",
              "        vertical-align: top;\n",
              "    }\n",
              "\n",
              "    .dataframe thead th {\n",
              "        text-align: right;\n",
              "    }\n",
              "</style>\n",
              "<table border=\"1\" class=\"dataframe\">\n",
              "  <thead>\n",
              "    <tr style=\"text-align: right;\">\n",
              "      <th></th>\n",
              "      <th>bands</th>\n",
              "      <th>ttest_val</th>\n",
              "    </tr>\n",
              "  </thead>\n",
              "  <tbody>\n",
              "    <tr>\n",
              "      <th>0</th>\n",
              "      <td>Band_001</td>\n",
              "      <td>1095.346014</td>\n",
              "    </tr>\n",
              "    <tr>\n",
              "      <th>1</th>\n",
              "      <td>Band_002</td>\n",
              "      <td>1116.191784</td>\n",
              "    </tr>\n",
              "    <tr>\n",
              "      <th>2</th>\n",
              "      <td>Band_003</td>\n",
              "      <td>1147.206069</td>\n",
              "    </tr>\n",
              "  </tbody>\n",
              "</table>\n",
              "</div>"
            ],
            "text/plain": [
              "      bands    ttest_val\n",
              "0  Band_001  1095.346014\n",
              "1  Band_002  1116.191784\n",
              "2  Band_003  1147.206069"
            ]
          },
          "metadata": {},
          "execution_count": 9
        }
      ]
    },
    {
      "cell_type": "code",
      "metadata": {
        "colab": {
          "base_uri": "https://localhost:8080/",
          "height": 325
        },
        "id": "ge3JJdw7wxBn",
        "outputId": "86c4afb8-603f-4f9a-f7bf-c96d74860fa9"
      },
      "source": [
        "plt.figure(figsize=(17, 5))\n",
        "plt.bar(np.arange(186)+1, ttest_df.ttest_val.values)\n",
        "plt.xlabel('Bands')\n",
        "plt.ylabel('t-score values')\n",
        "plt.title('t-score values calculated for positive and negative classes throughout the features/bands')\n",
        "plt.xticks(ticks=np.arange(1, 187, 5), rotation=90)\n",
        "# plt.savefig('/content/drive/MyDrive/Thesis/images/normalized/no_background/LR/' + 'ttest_normalized' + '.png')\n",
        "# plt.grid(b=True, which='major', color='silver', linestyle='--')\n",
        "plt.legend(loc=\"best\")\n",
        "plt.show() "
      ],
      "execution_count": null,
      "outputs": [
        {
          "output_type": "stream",
          "name": "stderr",
          "text": [
            "No handles with labels found to put in legend.\n"
          ]
        },
        {
          "output_type": "display_data",
          "data": {
            "image/png": "[encoded data removed]",
            "text/plain": [
              "<Figure size 1224x360 with 1 Axes>"
            ]
          },
          "metadata": {
            "needs_background": "light"
          }
        }
      ]
    },
    {
      "cell_type": "code",
      "metadata": {
        "id": "fNZdTOrDwwyl"
      },
      "source": [
        "sorted_ttest_df = ttest_df.sort_values(ascending=False, by='ttest_val')"
      ],
      "execution_count": null,
      "outputs": []
    },
    {
      "cell_type": "code",
      "metadata": {
        "id": "m6POejXmriD1"
      },
      "source": [
        "bands_list = sorted_ttest_df.bands.values"
      ],
      "execution_count": null,
      "outputs": []
    },
    {
      "cell_type": "code",
      "metadata": {
        "id": "Qd_gG9KNX2wF"
      },
      "source": [
        "X = np.zeros((df.shape), dtype='float32')"
      ],
      "execution_count": null,
      "outputs": []
    },
    {
      "cell_type": "code",
      "metadata": {
        "id": "Jp1trCn41HSm"
      },
      "source": [
        "for i in range(186):\n",
        "  X[:, i:i+1] = np.array(df[bands_list[i]].values.reshape(-1, 1), dtype='float32')"
      ],
      "execution_count": null,
      "outputs": []
    },
    {
      "cell_type": "markdown",
      "metadata": {
        "id": "HnMpgtMiMowX"
      },
      "source": [
        "### logistic regression on filter method (ttest)"
      ]
    },
    {
      "cell_type": "code",
      "metadata": {
        "colab": {
          "base_uri": "https://localhost:8080/"
        },
        "id": "kzgwNoDACai6",
        "outputId": "f816251a-ffe2-4884-858f-d6dd3b640d15"
      },
      "source": [
        "%%time\n",
        "\n",
        "num_of_folds = 5\n",
        "# kf = KFold(n_splits=num_of_folds, shuffle=True, random_state=42)\n",
        "\n",
        "# X = np.array(df[bands_list[0]].values.reshape(-1, 1), dtype='float32')\n",
        "# y = np.array(y, dtype='int')\n",
        "\n",
        "train_scores_mean_arr = np.array([])\n",
        "train_scores_std_arr = np.array([])\n",
        "val_scores_mean_arr = np.array([])\n",
        "val_scores_std_arr = np.array([])\n",
        "\n",
        "train_scores = np.array([])\n",
        "val_scores = np.array([])\n",
        "\n",
        "\n",
        "for i in range(0, 186):\n",
        "\n",
        "  # instantiate cross_validation instance\n",
        "  kf = KFold(n_splits=num_of_folds, shuffle=True, random_state=42)\n",
        "\n",
        "  train_scores = np.array([])\n",
        "  val_scores = np.array([])\n",
        "\n",
        "  for train_index, val_index in kf.split(X):\n",
        "    # print(\"TRAIN:\", train_index, \"TEST:\", val_index)\n",
        "    X_train, X_val = X[:, 0:i+1][train_index], X[:, 0:i+1][val_index]\n",
        "    y_train, y_val = y[train_index], y[val_index]\n",
        "\n",
        "    # clf = LogisticRegression(penalty='none', max_iter=500).fit(X_train, y_train)\n",
        "    clf = make_pipeline(StandardScaler(), LogisticRegression(penalty='none', max_iter=1000))\n",
        "    clf.fit(X_train, y_train)\n",
        "\n",
        "    train_score = clf.score(X_train, y_train)\n",
        "    val_score = clf.score(X_val, y_val)\n",
        "\n",
        "    train_scores = np.append(train_scores, train_score)\n",
        "    val_scores = np.append(val_scores, val_score)\n",
        "\n",
        "  train_scores_mean = np.mean(train_scores)\n",
        "  train_scores_std = np.std(train_scores)\n",
        "  val_scores_mean = np.mean(val_scores)\n",
        "  val_scores_std = np.std(val_scores)\n",
        "\n",
        "  train_scores_mean_arr = np.append(train_scores_mean_arr, train_scores_mean)\n",
        "  train_scores_std_arr = np.append(train_scores_std_arr, train_scores_std)\n",
        "  val_scores_mean_arr = np.append(val_scores_mean_arr, val_scores_mean)\n",
        "  val_scores_std_arr = np.append(val_scores_std_arr, val_scores_std)\n",
        "\n",
        "  print(i)"
      ],
      "execution_count": null,
      "outputs": [
        {
          "output_type": "stream",
          "text": [
            "0\n",
            "1\n",
            "2\n",
            "3\n",
            "4\n",
            "5\n",
            "6\n",
            "7\n",
            "8\n",
            "9\n",
            "10\n",
            "11\n",
            "12\n",
            "13\n",
            "14\n",
            "15\n",
            "16\n",
            "17\n",
            "18\n",
            "19\n",
            "20\n",
            "21\n",
            "22\n",
            "23\n",
            "24\n",
            "25\n",
            "26\n",
            "27\n",
            "28\n",
            "29\n",
            "30\n",
            "31\n",
            "32\n",
            "33\n",
            "34\n",
            "35\n",
            "36\n",
            "37\n",
            "38\n",
            "39\n",
            "40\n",
            "41\n",
            "42\n",
            "43\n",
            "44\n",
            "45\n",
            "46\n",
            "47\n",
            "48\n",
            "49\n",
            "50\n",
            "51\n",
            "52\n",
            "53\n",
            "54\n",
            "55\n",
            "56\n",
            "57\n",
            "58\n",
            "59\n",
            "60\n",
            "61\n",
            "62\n",
            "63\n",
            "64\n",
            "65\n",
            "66\n",
            "67\n",
            "68\n",
            "69\n",
            "70\n",
            "71\n",
            "72\n",
            "73\n",
            "74\n",
            "75\n",
            "76\n",
            "77\n",
            "78\n",
            "79\n",
            "80\n",
            "81\n",
            "82\n",
            "83\n",
            "84\n",
            "85\n",
            "86\n",
            "87\n",
            "88\n",
            "89\n",
            "90\n",
            "91\n",
            "92\n",
            "93\n",
            "94\n",
            "95\n",
            "96\n",
            "97\n",
            "98\n",
            "99\n",
            "100\n",
            "101\n",
            "102\n",
            "103\n",
            "104\n",
            "105\n",
            "106\n",
            "107\n",
            "108\n",
            "109\n",
            "110\n",
            "111\n",
            "112\n",
            "113\n",
            "114\n",
            "115\n",
            "116\n",
            "117\n",
            "118\n",
            "119\n",
            "120\n",
            "121\n",
            "122\n",
            "123\n",
            "124\n",
            "125\n",
            "126\n",
            "127\n",
            "128\n",
            "129\n",
            "130\n",
            "131\n",
            "132\n",
            "133\n",
            "134\n",
            "135\n",
            "136\n",
            "137\n",
            "138\n",
            "139\n",
            "140\n",
            "141\n",
            "142\n",
            "143\n",
            "144\n",
            "145\n",
            "146\n",
            "147\n",
            "148\n",
            "149\n",
            "150\n",
            "151\n",
            "152\n",
            "153\n",
            "154\n",
            "155\n",
            "156\n",
            "157\n",
            "158\n",
            "159\n",
            "160\n",
            "161\n",
            "162\n",
            "163\n",
            "164\n",
            "165\n",
            "166\n",
            "167\n",
            "168\n",
            "169\n",
            "170\n",
            "171\n",
            "172\n",
            "173\n",
            "174\n",
            "175\n",
            "176\n",
            "177\n",
            "178\n",
            "179\n",
            "180\n",
            "181\n",
            "182\n",
            "183\n",
            "184\n",
            "185\n",
            "CPU times: user 3h 55min 20s, sys: 55min 26s, total: 4h 50min 46s\n",
            "Wall time: 2h 28min 15s\n"
          ],
          "name": "stdout"
        }
      ]
    },
    {
      "cell_type": "code",
      "metadata": {
        "colab": {
          "base_uri": "https://localhost:8080/",
          "height": 286
        },
        "id": "vcI-rmxGPZVa",
        "outputId": "807ae21b-4dc1-4a73-8ff7-a0e66a729b25"
      },
      "source": [
        "steps = np.arange(186) + 1\n",
        "plt.figure(figsize=(18, 5))\n",
        "plt.fill_between(steps, train_scores_mean_arr - train_scores_std_arr,\n",
        "                 train_scores_mean_arr + train_scores_std_arr, alpha=0.1, color=\"r\")\n",
        "plt.fill_between(steps, val_scores_mean_arr - val_scores_std_arr,\n",
        "                 val_scores_mean_arr + val_scores_std_arr, alpha=0.1, color=\"g\")\n",
        "plt.plot(steps, train_scores_mean_arr, 'o-', color=\"r\", label=\"Training score\")\n",
        "plt.plot(steps, val_scores_mean_arr, 'o-', color=\"g\", label=\"Cross-validation score\")\n",
        "plt.axvline(x=val_scores_mean_arr.argmax() + 1, ls='--', label='n_features = {}, Score = {}'.format(val_scores_mean_arr.argmax()+1, round(val_scores_mean_arr.max(), 2)))\n",
        "plt.xlabel(\"Bands\")\n",
        "plt.ylabel(\"Accuracy\")\n",
        "plt.title(\"Learning Curve (Logistic Regression using order of features based on ttest)\")\n",
        "plt.grid(b=True, which='major', color='silver', linestyle='--')\n",
        "plt.legend(loc=\"best\")\n",
        "plt.show()"
      ],
      "execution_count": null,
      "outputs": [
        {
          "output_type": "display_data",
          "data": {
            "image/png": "[encoded data removed]",
            "text/plain": [
              "<Figure size 1296x360 with 1 Axes>"
            ]
          },
          "metadata": {
            "tags": []
          }
        }
      ]
    },
    {
      "cell_type": "code",
      "metadata": {
        "id": "bxLBWQVOaZsI"
      },
      "source": [
        "steps = np.arange(186) + 1\n",
        "df = pd.DataFrame(data=steps, columns=['steps'])\n",
        "df.insert(loc=1, column='ordered_bands', value=bands_list[0:186], allow_duplicates=True)\n",
        "df.insert(loc=2, column='train_scores_mean', value=train_scores_mean_arr, allow_duplicates=True)\n",
        "df.insert(loc=3, column='train_scores_std', value=train_scores_std_arr, allow_duplicates=True)\n",
        "df.insert(loc=4, column='val_scores_mean', value=val_scores_mean_arr, allow_duplicates=True)\n",
        "df.insert(loc=5, column='val_scores_std', value=val_scores_std_arr, allow_duplicates=True)"
      ],
      "execution_count": null,
      "outputs": []
    },
    {
      "cell_type": "code",
      "metadata": {
        "id": "p-hTn12lR5Ue"
      },
      "source": [
        "# save learning curve into a csv file\n",
        "df.to_csv('/content/drive/MyDrive/Thesis/results/filters/leanrning_curve_ttest_LR.csv')"
      ],
      "execution_count": null,
      "outputs": []
    },
    {
      "cell_type": "code",
      "metadata": {
        "colab": {
          "base_uri": "https://localhost:8080/",
          "height": 202
        },
        "id": "tPzsd8x9Cafm",
        "outputId": "feac353d-f2bb-4ddf-d241-a1cfd974a2bd"
      },
      "source": [
        "# read learning curve tabel from the csv file\n",
        "df = pd.read_csv('/content/drive/MyDrive/Thesis/results/filters/leanrning_curve_ttest_LR.csv')\n",
        "df = df.iloc[:, 1:]\n",
        "df.tail()"
      ],
      "execution_count": null,
      "outputs": [
        {
          "output_type": "execute_result",
          "data": {
            "text/html": [
              "<div>\n",
              "<style scoped>\n",
              "    .dataframe tbody tr th:only-of-type {\n",
              "        vertical-align: middle;\n",
              "    }\n",
              "\n",
              "    .dataframe tbody tr th {\n",
              "        vertical-align: top;\n",
              "    }\n",
              "\n",
              "    .dataframe thead th {\n",
              "        text-align: right;\n",
              "    }\n",
              "</style>\n",
              "<table border=\"1\" class=\"dataframe\">\n",
              "  <thead>\n",
              "    <tr style=\"text-align: right;\">\n",
              "      <th></th>\n",
              "      <th>steps</th>\n",
              "      <th>ordered_bands</th>\n",
              "      <th>train_scores_mean</th>\n",
              "      <th>train_scores_std</th>\n",
              "      <th>val_scores_mean</th>\n",
              "      <th>val_scores_std</th>\n",
              "    </tr>\n",
              "  </thead>\n",
              "  <tbody>\n",
              "    <tr>\n",
              "      <th>181</th>\n",
              "      <td>182</td>\n",
              "      <td>Band_092</td>\n",
              "      <td>0.983894</td>\n",
              "      <td>0.000154</td>\n",
              "      <td>0.982735</td>\n",
              "      <td>0.000560</td>\n",
              "    </tr>\n",
              "    <tr>\n",
              "      <th>182</th>\n",
              "      <td>183</td>\n",
              "      <td>Band_096</td>\n",
              "      <td>0.984013</td>\n",
              "      <td>0.000170</td>\n",
              "      <td>0.982592</td>\n",
              "      <td>0.000829</td>\n",
              "    </tr>\n",
              "    <tr>\n",
              "      <th>183</th>\n",
              "      <td>184</td>\n",
              "      <td>Band_098</td>\n",
              "      <td>0.984004</td>\n",
              "      <td>0.000133</td>\n",
              "      <td>0.982616</td>\n",
              "      <td>0.000849</td>\n",
              "    </tr>\n",
              "    <tr>\n",
              "      <th>184</th>\n",
              "      <td>185</td>\n",
              "      <td>Band_097</td>\n",
              "      <td>0.983978</td>\n",
              "      <td>0.000114</td>\n",
              "      <td>0.982723</td>\n",
              "      <td>0.000718</td>\n",
              "    </tr>\n",
              "    <tr>\n",
              "      <th>185</th>\n",
              "      <td>186</td>\n",
              "      <td>Band_091</td>\n",
              "      <td>0.983998</td>\n",
              "      <td>0.000136</td>\n",
              "      <td>0.982676</td>\n",
              "      <td>0.000689</td>\n",
              "    </tr>\n",
              "  </tbody>\n",
              "</table>\n",
              "</div>"
            ],
            "text/plain": [
              "     steps ordered_bands  ...  val_scores_mean  val_scores_std\n",
              "181    182      Band_092  ...         0.982735        0.000560\n",
              "182    183      Band_096  ...         0.982592        0.000829\n",
              "183    184      Band_098  ...         0.982616        0.000849\n",
              "184    185      Band_097  ...         0.982723        0.000718\n",
              "185    186      Band_091  ...         0.982676        0.000689\n",
              "\n",
              "[5 rows x 6 columns]"
            ]
          },
          "metadata": {
            "tags": []
          },
          "execution_count": 21
        }
      ]
    },
    {
      "cell_type": "markdown",
      "metadata": {
        "id": "DzVM238dNhaV"
      },
      "source": [
        "### RF on filter method (ttest)"
      ]
    },
    {
      "cell_type": "markdown",
      "metadata": {
        "id": "lUIbdjIu5qvW"
      },
      "source": [
        "##### best hyperparameters"
      ]
    },
    {
      "cell_type": "code",
      "metadata": {
        "id": "RG9SLK9F1ej3"
      },
      "source": [
        "clf = RandomForestClassifier(n_jobs=-1)"
      ],
      "execution_count": null,
      "outputs": []
    },
    {
      "cell_type": "code",
      "metadata": {
        "id": "pc4gQryUeOO2"
      },
      "source": [
        "param_grid = [{'n_estimators': [50, 100, 200],\n",
        "               'criterion':['gini', 'entropy'] ,\n",
        "               'max_depth': [2, 5, 20, 80, 'None'],}]"
      ],
      "execution_count": null,
      "outputs": []
    },
    {
      "cell_type": "code",
      "metadata": {
        "colab": {
          "base_uri": "https://localhost:8080/"
        },
        "id": "-v72dIQj1eb2",
        "outputId": "625d28f7-69ca-4f43-8373-5350772414ce"
      },
      "source": [
        "grid_search = GridSearchCV(estimator = clf,\n",
        "                           param_grid = param_grid,\n",
        "                           scoring = 'accuracy',\n",
        "                           cv = 5,\n",
        "                           verbose=2,\n",
        "                           n_jobs = -1)\n",
        "grid_search = grid_search.fit(X, y)"
      ],
      "execution_count": null,
      "outputs": [
        {
          "output_type": "stream",
          "text": [
            "Fitting 5 folds for each of 30 candidates, totalling 150 fits\n"
          ],
          "name": "stdout"
        },
        {
          "output_type": "stream",
          "text": [
            "[Parallel(n_jobs=-1)]: Using backend LokyBackend with 2 concurrent workers.\n",
            "[Parallel(n_jobs=-1)]: Done  37 tasks      | elapsed: 46.2min\n",
            "/usr/local/lib/python3.7/dist-packages/joblib/externals/loky/process_executor.py:691: UserWarning: A worker stopped while some jobs were given to the executor. This can be caused by a too short worker timeout or by a memory leak.\n",
            "  \"timeout or by a memory leak.\", UserWarning\n",
            "[Parallel(n_jobs=-1)]: Done 150 out of 150 | elapsed: 335.7min finished\n"
          ],
          "name": "stderr"
        }
      ]
    },
    {
      "cell_type": "code",
      "metadata": {
        "colab": {
          "base_uri": "https://localhost:8080/"
        },
        "id": "Sr8hGen61eYD",
        "outputId": "e5a93705-90a0-48c7-976c-86e671610ded"
      },
      "source": [
        "grid_search.best_params_"
      ],
      "execution_count": null,
      "outputs": [
        {
          "output_type": "execute_result",
          "data": {
            "text/plain": [
              "{'criterion': 'entropy', 'max_depth': 80, 'n_estimators': 200}"
            ]
          },
          "metadata": {
            "tags": []
          },
          "execution_count": 8
        }
      ]
    },
    {
      "cell_type": "code",
      "metadata": {
        "colab": {
          "base_uri": "https://localhost:8080/"
        },
        "id": "-UQsbB3a4V4a",
        "outputId": "9859426b-b568-40bd-a2de-0d7d2aeae177"
      },
      "source": [
        "grid_search.best_score_"
      ],
      "execution_count": null,
      "outputs": [
        {
          "output_type": "execute_result",
          "data": {
            "text/plain": [
              "0.9274142112416545"
            ]
          },
          "metadata": {
            "tags": []
          },
          "execution_count": 9
        }
      ]
    },
    {
      "cell_type": "markdown",
      "metadata": {
        "id": "HoZ_UuoXkU4z"
      },
      "source": [
        "#### fit"
      ]
    },
    {
      "cell_type": "code",
      "metadata": {
        "colab": {
          "base_uri": "https://localhost:8080/"
        },
        "id": "B6Gz-Xi8I-2F",
        "outputId": "d9d344dd-50dc-4118-f832-38e8eb6b3470"
      },
      "source": [
        "%%time\n",
        "\n",
        "num_of_folds = 5\n",
        "# kf = KFold(n_splits=num_of_folds, shuffle=True, random_state=42)\n",
        "\n",
        "# X = np.array(df[bands_list[0]].values.reshape(-1, 1), dtype='float32')\n",
        "# y = np.array(y, dtype='int')\n",
        "\n",
        "train_scores_mean_arr = np.array([])\n",
        "train_scores_std_arr = np.array([])\n",
        "val_scores_mean_arr = np.array([])\n",
        "val_scores_std_arr = np.array([])\n",
        "\n",
        "train_scores = np.array([])\n",
        "val_scores = np.array([])\n",
        "\n",
        "\n",
        "for i in range(0, 186):\n",
        "\n",
        "  # instantiate cross_validation instance\n",
        "  kf = KFold(n_splits=num_of_folds, shuffle=True, random_state=42)\n",
        "\n",
        "  train_scores = np.array([])\n",
        "  val_scores = np.array([])\n",
        "\n",
        "  for train_index, val_index in kf.split(X):\n",
        "    # print(\"TRAIN:\", train_index, \"TEST:\", val_index)\n",
        "    X_train, X_val = X[:, 0:i+1][train_index], X[:, 0:i+1][val_index]\n",
        "    y_train, y_val = y[train_index], y[val_index]\n",
        "\n",
        "    # clf = random forest\n",
        "    clf = RandomForestClassifier(n_jobs=-1)\n",
        "    clf.fit(X_train, y_train)\n",
        "\n",
        "    train_score = clf.score(X_train, y_train)\n",
        "    val_score = clf.score(X_val, y_val)\n",
        "\n",
        "    train_scores = np.append(train_scores, train_score)\n",
        "    val_scores = np.append(val_scores, val_score)\n",
        "\n",
        "  train_scores_mean = np.mean(train_scores)\n",
        "  train_scores_std = np.std(train_scores)\n",
        "  val_scores_mean = np.mean(val_scores)\n",
        "  val_scores_std = np.std(val_scores)\n",
        "\n",
        "  train_scores_mean_arr = np.append(train_scores_mean_arr, train_scores_mean)\n",
        "  train_scores_std_arr = np.append(train_scores_std_arr, train_scores_std)\n",
        "  val_scores_mean_arr = np.append(val_scores_mean_arr, val_scores_mean)\n",
        "  val_scores_std_arr = np.append(val_scores_std_arr, val_scores_std)\n",
        "\n",
        "  print(i)"
      ],
      "execution_count": null,
      "outputs": [
        {
          "output_type": "stream",
          "text": [
            "0\n",
            "1\n",
            "2\n",
            "3\n",
            "4\n",
            "5\n",
            "6\n",
            "7\n",
            "8\n",
            "9\n",
            "10\n",
            "11\n",
            "12\n",
            "13\n",
            "14\n",
            "15\n",
            "16\n",
            "17\n",
            "18\n",
            "19\n",
            "20\n",
            "21\n",
            "22\n",
            "23\n",
            "24\n",
            "25\n",
            "26\n",
            "27\n",
            "28\n",
            "29\n",
            "30\n",
            "31\n",
            "32\n",
            "33\n",
            "34\n",
            "35\n",
            "36\n",
            "37\n",
            "38\n",
            "39\n",
            "40\n",
            "41\n",
            "42\n",
            "43\n",
            "44\n",
            "45\n",
            "46\n",
            "47\n",
            "48\n",
            "49\n",
            "50\n",
            "51\n",
            "52\n",
            "53\n",
            "54\n",
            "55\n",
            "56\n",
            "57\n",
            "58\n",
            "59\n",
            "60\n",
            "61\n",
            "62\n",
            "63\n",
            "64\n",
            "65\n",
            "66\n",
            "67\n",
            "68\n",
            "69\n",
            "70\n",
            "71\n",
            "72\n",
            "73\n",
            "74\n",
            "75\n",
            "76\n",
            "77\n",
            "78\n",
            "79\n",
            "80\n",
            "81\n",
            "82\n",
            "83\n",
            "84\n",
            "85\n",
            "86\n",
            "87\n",
            "88\n",
            "89\n",
            "90\n",
            "91\n",
            "92\n",
            "93\n",
            "94\n",
            "95\n",
            "96\n",
            "97\n",
            "98\n",
            "99\n",
            "100\n",
            "101\n",
            "102\n",
            "103\n",
            "104\n",
            "105\n",
            "106\n",
            "107\n",
            "108\n",
            "109\n",
            "110\n",
            "111\n",
            "112\n",
            "113\n",
            "114\n",
            "115\n",
            "116\n",
            "117\n",
            "118\n",
            "119\n",
            "120\n",
            "121\n",
            "122\n",
            "123\n",
            "124\n",
            "125\n",
            "126\n",
            "127\n",
            "128\n",
            "129\n",
            "130\n",
            "131\n",
            "132\n",
            "133\n",
            "134\n",
            "135\n",
            "136\n",
            "137\n",
            "138\n",
            "139\n",
            "140\n",
            "141\n",
            "142\n",
            "143\n",
            "144\n",
            "145\n",
            "146\n",
            "147\n",
            "148\n",
            "149\n",
            "150\n",
            "151\n",
            "152\n",
            "153\n",
            "154\n",
            "155\n",
            "156\n",
            "157\n",
            "158\n",
            "159\n",
            "160\n",
            "161\n",
            "162\n",
            "163\n",
            "164\n",
            "165\n",
            "166\n",
            "167\n",
            "168\n",
            "169\n",
            "170\n",
            "171\n",
            "172\n",
            "173\n",
            "174\n",
            "175\n",
            "176\n",
            "177\n",
            "178\n",
            "179\n",
            "180\n",
            "181\n",
            "182\n",
            "183\n",
            "184\n",
            "185\n",
            "CPU times: user 1d 7h 14min, sys: 2min 14s, total: 1d 7h 16min 14s\n",
            "Wall time: 15h 55min 55s\n"
          ],
          "name": "stdout"
        }
      ]
    },
    {
      "cell_type": "code",
      "metadata": {
        "colab": {
          "base_uri": "https://localhost:8080/",
          "height": 286
        },
        "id": "9t6I3HypI-yZ",
        "outputId": "5268298e-cdb2-40d2-e58e-f8b97b00e9f7"
      },
      "source": [
        "steps = np.arange(186) + 1\n",
        "plt.figure(figsize=(18, 5))\n",
        "plt.fill_between(steps, train_scores_mean_arr - train_scores_std_arr,\n",
        "                 train_scores_mean_arr + train_scores_std_arr, alpha=0.1, color=\"r\")\n",
        "plt.fill_between(steps, val_scores_mean_arr - val_scores_std_arr,\n",
        "                 val_scores_mean_arr + val_scores_std_arr, alpha=0.1, color=\"g\")\n",
        "plt.plot(steps, train_scores_mean_arr, 'o-', color=\"r\", label=\"Training score\")\n",
        "plt.plot(steps, val_scores_mean_arr, 'o-', color=\"g\", label=\"Cross-validation score\")\n",
        "plt.axvline(x=val_scores_mean_arr.argmax() + 1, ls='--', label='n_features = {}, Score = {}'.format(val_scores_mean_arr.argmax()+1, round(val_scores_mean_arr.max(), 2)))\n",
        "plt.xlabel(\"Bands\")\n",
        "plt.ylabel(\"Accuracy\")\n",
        "plt.title(\"Learning Curve (Random Forest using order of features based on t-test)\")\n",
        "plt.grid(b=True, which='major', color='silver', linestyle='--')\n",
        "plt.legend(loc=\"best\")\n",
        "plt.show()"
      ],
      "execution_count": null,
      "outputs": [
        {
          "output_type": "display_data",
          "data": {
            "image/png": "[encoded data removed]",
            "text/plain": [
              "<Figure size 1296x360 with 1 Axes>"
            ]
          },
          "metadata": {
            "tags": []
          }
        }
      ]
    },
    {
      "cell_type": "code",
      "metadata": {
        "id": "H6-A-Kd0I-vZ"
      },
      "source": [
        "steps = np.arange(186) + 1\n",
        "df = pd.DataFrame(data=steps, columns=['steps'])\n",
        "df.insert(loc=1, column='ordered_bands', value=bands_list[0:186], allow_duplicates=True)\n",
        "df.insert(loc=2, column='train_scores_mean', value=train_scores_mean_arr, allow_duplicates=True)\n",
        "df.insert(loc=3, column='train_scores_std', value=train_scores_std_arr, allow_duplicates=True)\n",
        "df.insert(loc=4, column='val_scores_mean', value=val_scores_mean_arr, allow_duplicates=True)\n",
        "df.insert(loc=5, column='val_scores_std', value=val_scores_std_arr, allow_duplicates=True)"
      ],
      "execution_count": null,
      "outputs": []
    },
    {
      "cell_type": "code",
      "metadata": {
        "id": "5O4JtI1PI-r-"
      },
      "source": [
        "# save learning curve into a csv file\n",
        "df.to_csv('/content/drive/MyDrive/Thesis/results/filters/leanrning_curve_ttest_RF.csv')"
      ],
      "execution_count": null,
      "outputs": []
    },
    {
      "cell_type": "code",
      "metadata": {
        "colab": {
          "base_uri": "https://localhost:8080/",
          "height": 202
        },
        "id": "rv4SylMLI-pc",
        "outputId": "8683424d-3f07-485e-ca7f-f99032e0f917"
      },
      "source": [
        "# read learning curve tabel from the csv file\n",
        "df = pd.read_csv('/content/drive/MyDrive/Thesis/results/filters/leanrning_curve_ttest_RF.csv')\n",
        "df = df.iloc[:, 1:]\n",
        "df.tail()"
      ],
      "execution_count": null,
      "outputs": [
        {
          "output_type": "execute_result",
          "data": {
            "text/html": [
              "<div>\n",
              "<style scoped>\n",
              "    .dataframe tbody tr th:only-of-type {\n",
              "        vertical-align: middle;\n",
              "    }\n",
              "\n",
              "    .dataframe tbody tr th {\n",
              "        vertical-align: top;\n",
              "    }\n",
              "\n",
              "    .dataframe thead th {\n",
              "        text-align: right;\n",
              "    }\n",
              "</style>\n",
              "<table border=\"1\" class=\"dataframe\">\n",
              "  <thead>\n",
              "    <tr style=\"text-align: right;\">\n",
              "      <th></th>\n",
              "      <th>steps</th>\n",
              "      <th>ordered_bands</th>\n",
              "      <th>train_scores_mean</th>\n",
              "      <th>train_scores_std</th>\n",
              "      <th>val_scores_mean</th>\n",
              "      <th>val_scores_std</th>\n",
              "    </tr>\n",
              "  </thead>\n",
              "  <tbody>\n",
              "    <tr>\n",
              "      <th>181</th>\n",
              "      <td>182</td>\n",
              "      <td>Band_092</td>\n",
              "      <td>1.000000</td>\n",
              "      <td>0.000000</td>\n",
              "      <td>0.968466</td>\n",
              "      <td>0.002141</td>\n",
              "    </tr>\n",
              "    <tr>\n",
              "      <th>182</th>\n",
              "      <td>183</td>\n",
              "      <td>Band_096</td>\n",
              "      <td>1.000000</td>\n",
              "      <td>0.000000</td>\n",
              "      <td>0.968752</td>\n",
              "      <td>0.002092</td>\n",
              "    </tr>\n",
              "    <tr>\n",
              "      <th>183</th>\n",
              "      <td>184</td>\n",
              "      <td>Band_098</td>\n",
              "      <td>1.000000</td>\n",
              "      <td>0.000000</td>\n",
              "      <td>0.968990</td>\n",
              "      <td>0.002185</td>\n",
              "    </tr>\n",
              "    <tr>\n",
              "      <th>184</th>\n",
              "      <td>185</td>\n",
              "      <td>Band_097</td>\n",
              "      <td>0.999997</td>\n",
              "      <td>0.000006</td>\n",
              "      <td>0.968681</td>\n",
              "      <td>0.001786</td>\n",
              "    </tr>\n",
              "    <tr>\n",
              "      <th>185</th>\n",
              "      <td>186</td>\n",
              "      <td>Band_091</td>\n",
              "      <td>0.999997</td>\n",
              "      <td>0.000006</td>\n",
              "      <td>0.969192</td>\n",
              "      <td>0.001767</td>\n",
              "    </tr>\n",
              "  </tbody>\n",
              "</table>\n",
              "</div>"
            ],
            "text/plain": [
              "     steps ordered_bands  ...  val_scores_mean  val_scores_std\n",
              "181    182      Band_092  ...         0.968466        0.002141\n",
              "182    183      Band_096  ...         0.968752        0.002092\n",
              "183    184      Band_098  ...         0.968990        0.002185\n",
              "184    185      Band_097  ...         0.968681        0.001786\n",
              "185    186      Band_091  ...         0.969192        0.001767\n",
              "\n",
              "[5 rows x 6 columns]"
            ]
          },
          "metadata": {
            "tags": []
          },
          "execution_count": 26
        }
      ]
    },
    {
      "cell_type": "markdown",
      "metadata": {
        "id": "qjQcyGBiRoJ0"
      },
      "source": [
        "### SVM on filter method (t-test)"
      ]
    },
    {
      "cell_type": "markdown",
      "metadata": {
        "id": "5-aiiA7FgPtA"
      },
      "source": [
        "#### stochastic gradient dencent"
      ]
    },
    {
      "cell_type": "code",
      "metadata": {
        "id": "8YDsjRzPUf0L"
      },
      "source": [
        "%%time\n",
        "\n",
        "num_of_folds = 30\n",
        "# kf = KFold(n_splits=num_of_folds, shuffle=True, random_state=42)\n",
        "\n",
        "# X = np.array(df[bands_list[0]].values.reshape(-1, 1), dtype='float32')\n",
        "# y = np.array(y, dtype='int')\n",
        "\n",
        "train_scores_mean_arr = np.array([])\n",
        "train_scores_std_arr = np.array([])\n",
        "val_scores_mean_arr = np.array([])\n",
        "val_scores_std_arr = np.array([])\n",
        "\n",
        "train_scores = np.array([])\n",
        "val_scores = np.array([])\n",
        "\n",
        "\n",
        "for i in range(0, 186):\n",
        "\n",
        "  # instantiate cross_validation instance\n",
        "  kf = KFold(n_splits=num_of_folds, shuffle=True, random_state=42)\n",
        "\n",
        "  train_scores = np.array([])\n",
        "  val_scores = np.array([])\n",
        "\n",
        "  for train_index, val_index in kf.split(X):\n",
        "    # print(\"TRAIN:\", train_index, \"TEST:\", val_index)\n",
        "    X_train, X_val = X[:, 0:i+1][train_index], X[:, 0:i+1][val_index]\n",
        "    y_train, y_val = y[train_index], y[val_index]\n",
        "\n",
        "    # clf = support vector machines\n",
        "    clf = make_pipeline(StandardScaler(), SGDClassifier(max_iter=1000, tol=1e-3, n_jobs=-1))\n",
        "    clf.fit(X_train, y_train)\n",
        "\n",
        "    train_score = clf.score(X_train, y_train)\n",
        "    val_score = clf.score(X_val, y_val)\n",
        "\n",
        "    train_scores = np.append(train_scores, train_score)\n",
        "    val_scores = np.append(val_scores, val_score)\n",
        "\n",
        "  train_scores_mean = np.mean(train_scores)\n",
        "  train_scores_std = np.std(train_scores)\n",
        "  val_scores_mean = np.mean(val_scores)\n",
        "  val_scores_std = np.std(val_scores)\n",
        "\n",
        "  train_scores_mean_arr = np.append(train_scores_mean_arr, train_scores_mean)\n",
        "  train_scores_std_arr = np.append(train_scores_std_arr, train_scores_std)\n",
        "  val_scores_mean_arr = np.append(val_scores_mean_arr, val_scores_mean)\n",
        "  val_scores_std_arr = np.append(val_scores_std_arr, val_scores_std)\n",
        "\n",
        "  print(i)\n",
        "\n",
        "\n",
        "steps = np.arange(186) + 1\n",
        "df = pd.DataFrame(data=steps, columns=['steps'])\n",
        "df.insert(loc=1, column='ordered_bands', value=bands_list, allow_duplicates=True)\n",
        "df.insert(loc=2, column='train_scores_mean', value=train_scores_mean_arr, allow_duplicates=True)\n",
        "df.insert(loc=3, column='train_scores_std', value=train_scores_std_arr, allow_duplicates=True)\n",
        "df.insert(loc=4, column='val_scores_mean', value=val_scores_mean_arr, allow_duplicates=True)\n",
        "df.insert(loc=5, column='val_scores_std', value=val_scores_std_arr, allow_duplicates=True)\n",
        "\n",
        "# save learning curve into a csv file\n",
        "df.to_csv('/content/drive/MyDrive/Thesis/results/filters/leanrning_curve_ttest_SVM_stochastic.csv')"
      ],
      "execution_count": null,
      "outputs": []
    },
    {
      "cell_type": "code",
      "metadata": {
        "id": "0wcN3pPVf8Nf"
      },
      "source": [
        "steps = np.arange(186) + 1\n",
        "df = pd.DataFrame(data=steps, columns=['steps'])\n",
        "df.insert(loc=1, column='ordered_bands', value=bands_list, allow_duplicates=True)\n",
        "df.insert(loc=2, column='train_scores_mean', value=train_scores_mean_arr, allow_duplicates=True)\n",
        "df.insert(loc=3, column='train_scores_std', value=train_scores_std_arr, allow_duplicates=True)\n",
        "df.insert(loc=4, column='val_scores_mean', value=val_scores_mean_arr, allow_duplicates=True)\n",
        "df.insert(loc=5, column='val_scores_std', value=val_scores_std_arr, allow_duplicates=True)\n",
        "\n",
        "# # save learning curve into a csv file\n",
        "# df.to_csv('/content/drive/MyDrive/Thesis/results/filters/leanrning_curve_ttest_SVM_stochastic.csv')"
      ],
      "execution_count": null,
      "outputs": []
    },
    {
      "cell_type": "code",
      "metadata": {
        "colab": {
          "base_uri": "https://localhost:8080/",
          "height": 286
        },
        "id": "kcD8ixIcXzes",
        "outputId": "51cb4ab5-b1b6-463c-c3a3-da5bc75fc3db"
      },
      "source": [
        "steps = np.arange(186) + 1\n",
        "plt.figure(figsize=(18, 5))\n",
        "plt.fill_between(steps, train_scores_mean_arr - train_scores_std_arr,\n",
        "                 train_scores_mean_arr + train_scores_std_arr, alpha=0.1, color=\"r\")\n",
        "plt.fill_between(steps, val_scores_mean_arr - val_scores_std_arr,\n",
        "                 val_scores_mean_arr + val_scores_std_arr, alpha=0.1, color=\"g\")\n",
        "plt.plot(steps, train_scores_mean_arr, 'o-', color=\"r\", label=\"Training score\")\n",
        "plt.plot(steps, val_scores_mean_arr, 'o-', color=\"g\", label=\"Cross-validation score\")\n",
        "plt.axvline(x=val_scores_mean_arr.argmax() + 1, ls='--', label='n_features = {}, Score = {}'.format(val_scores_mean_arr.argmax()+1, round(val_scores_mean_arr.max(), 2)))\n",
        "plt.xlabel(\"Bands\")\n",
        "plt.ylabel(\"Accuracy\")\n",
        "plt.title(\"Learning Curve (SVM using order of features based on t_test)\")\n",
        "plt.grid(b=True, which='major', color='silver', linestyle='--')\n",
        "plt.legend(loc=\"best\")\n",
        "plt.show()"
      ],
      "execution_count": null,
      "outputs": [
        {
          "output_type": "display_data",
          "data": {
            "image/png": "[encoded data removed]",
            "text/plain": [
              "<Figure size 1296x360 with 1 Axes>"
            ]
          },
          "metadata": {
            "tags": [],
            "needs_background": "light"
          }
        }
      ]
    },
    {
      "cell_type": "markdown",
      "metadata": {
        "id": "oQcZXUsOgXY9"
      },
      "source": [
        "#### linear SVC"
      ]
    },
    {
      "cell_type": "code",
      "metadata": {
        "id": "UIIFw1A2I-W3"
      },
      "source": [
        "%%time\n",
        "\n",
        "num_of_folds = 5\n",
        "# kf = KFold(n_splits=num_of_folds, shuffle=True, random_state=42)\n",
        "\n",
        "# X = np.array(df[bands_list[0]].values.reshape(-1, 1), dtype='float32')\n",
        "# y = np.array(y, dtype='int')\n",
        "\n",
        "train_scores_mean_arr = np.array([])\n",
        "train_scores_std_arr = np.array([])\n",
        "val_scores_mean_arr = np.array([])\n",
        "val_scores_std_arr = np.array([])\n",
        "\n",
        "train_scores = np.array([])\n",
        "val_scores = np.array([])\n",
        "\n",
        "\n",
        "for i in range(0, 62):\n",
        "\n",
        "  # instantiate cross_validation instance\n",
        "  kf = KFold(n_splits=num_of_folds, shuffle=True, random_state=42)\n",
        "\n",
        "  train_scores = np.array([])\n",
        "  val_scores = np.array([])\n",
        "\n",
        "  for train_index, val_index in kf.split(X):\n",
        "    # print(\"TRAIN:\", train_index, \"TEST:\", val_index)\n",
        "    X_train, X_val = X[:, 0:i+1][train_index], X[:, 0:i+1][val_index]\n",
        "    y_train, y_val = y[train_index], y[val_index]\n",
        "\n",
        "    # clf = support vector machines\n",
        "    # clf = make_pipeline(StandardScaler(), SVC(kernel='linear'))\n",
        "    clf = SVC(kernel='linear')\n",
        "    clf.fit(X_train, y_train)\n",
        "\n",
        "    train_score = clf.score(X_train, y_train)\n",
        "    val_score = clf.score(X_val, y_val)\n",
        "\n",
        "    train_scores = np.append(train_scores, train_score)\n",
        "    val_scores = np.append(val_scores, val_score)\n",
        "\n",
        "  train_scores_mean = np.mean(train_scores)\n",
        "  train_scores_std = np.std(train_scores)\n",
        "  val_scores_mean = np.mean(val_scores)\n",
        "  val_scores_std = np.std(val_scores)\n",
        "\n",
        "  train_scores_mean_arr = np.append(train_scores_mean_arr, train_scores_mean)\n",
        "  train_scores_std_arr = np.append(train_scores_std_arr, train_scores_std)\n",
        "  val_scores_mean_arr = np.append(val_scores_mean_arr, val_scores_mean)\n",
        "  val_scores_std_arr = np.append(val_scores_std_arr, val_scores_std)\n",
        "\n",
        "  print(i)\n",
        "\n",
        "steps = np.arange(62) + 1\n",
        "df = pd.DataFrame(data=steps, columns=['steps'])\n",
        "df.insert(loc=1, column='ordered_bands', value=bands_list[:62], allow_duplicates=True)\n",
        "df.insert(loc=2, column='train_scores_mean', value=train_scores_mean_arr, allow_duplicates=True)\n",
        "df.insert(loc=3, column='train_scores_std', value=train_scores_std_arr, allow_duplicates=True)\n",
        "df.insert(loc=4, column='val_scores_mean', value=val_scores_mean_arr, allow_duplicates=True)\n",
        "df.insert(loc=5, column='val_scores_std', value=val_scores_std_arr, allow_duplicates=True)\n",
        "\n",
        "# save learning curve into a csv file\n",
        "df.to_csv('/content/drive/MyDrive/Thesis/results/filters/leanrning_curve_ttest_SVM.csv')"
      ],
      "execution_count": null,
      "outputs": []
    },
    {
      "cell_type": "code",
      "metadata": {
        "colab": {
          "base_uri": "https://localhost:8080/",
          "height": 286
        },
        "id": "l7e5E11FRujl",
        "outputId": "1e4790b5-d57d-4003-eea8-a541ffa4b14b"
      },
      "source": [
        "steps = np.arange(51) + 1\n",
        "plt.figure(figsize=(18, 5))\n",
        "plt.fill_between(steps, train_scores_mean_arr - train_scores_std_arr,\n",
        "                 train_scores_mean_arr + train_scores_std_arr, alpha=0.1, color=\"r\")\n",
        "plt.fill_between(steps, val_scores_mean_arr - val_scores_std_arr,\n",
        "                 val_scores_mean_arr + val_scores_std_arr, alpha=0.1, color=\"g\")\n",
        "plt.plot(steps, train_scores_mean_arr, 'o-', color=\"r\", label=\"Training score\")\n",
        "plt.plot(steps, val_scores_mean_arr, 'o-', color=\"g\", label=\"Cross-validation score\")\n",
        "plt.axvline(x=val_scores_mean_arr.argmax() + 1, ls='--', label='n_features = {}, Score = {}'.format(val_scores_mean_arr.argmax()+1, round(val_scores_mean_arr.max(), 2)))\n",
        "plt.xlabel(\"Bands\")\n",
        "plt.ylabel(\"Accuracy\")\n",
        "plt.title(\"Learning Curve (SVM using order of features based on t_test)\")\n",
        "plt.grid(b=True, which='major', color='silver', linestyle='--')\n",
        "plt.legend(loc=\"best\")\n",
        "plt.show()"
      ],
      "execution_count": null,
      "outputs": [
        {
          "output_type": "display_data",
          "data": {
            "image/png": "[encoded data removed]",
            "text/plain": [
              "<Figure size 1296x360 with 1 Axes>"
            ]
          },
          "metadata": {
            "tags": []
          }
        }
      ]
    },
    {
      "cell_type": "code",
      "metadata": {
        "id": "_Qg-O9_3Ruga"
      },
      "source": [
        "steps = np.arange(51) + 1\n",
        "df = pd.DataFrame(data=steps, columns=['steps'])\n",
        "df.insert(loc=1, column='ordered_bands', value=bands_list[0:51], allow_duplicates=True)\n",
        "df.insert(loc=2, column='train_scores_mean', value=train_scores_mean_arr, allow_duplicates=True)\n",
        "df.insert(loc=3, column='train_scores_std', value=train_scores_std_arr, allow_duplicates=True)\n",
        "df.insert(loc=4, column='val_scores_mean', value=val_scores_mean_arr, allow_duplicates=True)\n",
        "df.insert(loc=5, column='val_scores_std', value=val_scores_std_arr, allow_duplicates=True)"
      ],
      "execution_count": null,
      "outputs": []
    },
    {
      "cell_type": "code",
      "metadata": {
        "id": "GqpwZXUBRudr"
      },
      "source": [
        "# save learning curve into a csv file\n",
        "df.to_csv('/content/drive/MyDrive/Thesis/results/filters/leanrning_curve_ttest_SVM.csv')"
      ],
      "execution_count": null,
      "outputs": []
    },
    {
      "cell_type": "code",
      "metadata": {
        "colab": {
          "base_uri": "https://localhost:8080/",
          "height": 202
        },
        "id": "m9DDI68mI-Tk",
        "outputId": "c114c96f-4519-474c-efe2-1b698db2131c"
      },
      "source": [
        "# read learning curve tabel from the csv file\n",
        "df = pd.read_csv('/content/drive/MyDrive/Thesis/results/filters/leanrning_curve_ttest_SVM.csv')\n",
        "df = df.iloc[:, 1:]\n",
        "df.head()"
      ],
      "execution_count": null,
      "outputs": [
        {
          "output_type": "execute_result",
          "data": {
            "text/html": [
              "<div>\n",
              "<style scoped>\n",
              "    .dataframe tbody tr th:only-of-type {\n",
              "        vertical-align: middle;\n",
              "    }\n",
              "\n",
              "    .dataframe tbody tr th {\n",
              "        vertical-align: top;\n",
              "    }\n",
              "\n",
              "    .dataframe thead th {\n",
              "        text-align: right;\n",
              "    }\n",
              "</style>\n",
              "<table border=\"1\" class=\"dataframe\">\n",
              "  <thead>\n",
              "    <tr style=\"text-align: right;\">\n",
              "      <th></th>\n",
              "      <th>steps</th>\n",
              "      <th>ordered_bands</th>\n",
              "      <th>train_scores_mean</th>\n",
              "      <th>train_scores_std</th>\n",
              "      <th>val_scores_mean</th>\n",
              "      <th>val_scores_std</th>\n",
              "    </tr>\n",
              "  </thead>\n",
              "  <tbody>\n",
              "    <tr>\n",
              "      <th>0</th>\n",
              "      <td>1</td>\n",
              "      <td>Band_044</td>\n",
              "      <td>0.691612</td>\n",
              "      <td>0.001043</td>\n",
              "      <td>0.691656</td>\n",
              "      <td>0.004308</td>\n",
              "    </tr>\n",
              "    <tr>\n",
              "      <th>1</th>\n",
              "      <td>2</td>\n",
              "      <td>Band_045</td>\n",
              "      <td>0.691766</td>\n",
              "      <td>0.001032</td>\n",
              "      <td>0.691656</td>\n",
              "      <td>0.003818</td>\n",
              "    </tr>\n",
              "    <tr>\n",
              "      <th>2</th>\n",
              "      <td>3</td>\n",
              "      <td>Band_046</td>\n",
              "      <td>0.691888</td>\n",
              "      <td>0.001087</td>\n",
              "      <td>0.691692</td>\n",
              "      <td>0.003999</td>\n",
              "    </tr>\n",
              "    <tr>\n",
              "      <th>3</th>\n",
              "      <td>4</td>\n",
              "      <td>Band_047</td>\n",
              "      <td>0.693244</td>\n",
              "      <td>0.001052</td>\n",
              "      <td>0.693178</td>\n",
              "      <td>0.004146</td>\n",
              "    </tr>\n",
              "    <tr>\n",
              "      <th>4</th>\n",
              "      <td>5</td>\n",
              "      <td>Band_042</td>\n",
              "      <td>0.692908</td>\n",
              "      <td>0.001067</td>\n",
              "      <td>0.692845</td>\n",
              "      <td>0.004321</td>\n",
              "    </tr>\n",
              "  </tbody>\n",
              "</table>\n",
              "</div>"
            ],
            "text/plain": [
              "   steps ordered_bands  ...  val_scores_mean  val_scores_std\n",
              "0      1      Band_044  ...         0.691656        0.004308\n",
              "1      2      Band_045  ...         0.691656        0.003818\n",
              "2      3      Band_046  ...         0.691692        0.003999\n",
              "3      4      Band_047  ...         0.693178        0.004146\n",
              "4      5      Band_042  ...         0.692845        0.004321\n",
              "\n",
              "[5 rows x 6 columns]"
            ]
          },
          "metadata": {
            "tags": []
          },
          "execution_count": 23
        }
      ]
    },
    {
      "cell_type": "code",
      "metadata": {
        "id": "-5vONYI7W2rH"
      },
      "source": [
        "# train_scores_mean_arr = df.train_scores_mean.values\n",
        "# train_scores_std_arr = df.train_scores_std.values\n",
        "# val_scores_mean_arr = df.val_scores_mean.values\n",
        "# val_scores_std_arr = df.val_scores_std.values"
      ],
      "execution_count": null,
      "outputs": []
    },
    {
      "cell_type": "markdown",
      "metadata": {
        "id": "DKmjdSBr8BIS"
      },
      "source": [
        "#### Grid Search CV for tuning hyper parameters of SVM"
      ]
    },
    {
      "cell_type": "code",
      "metadata": {
        "colab": {
          "base_uri": "https://localhost:8080/"
        },
        "id": "AuyIE-obB5ZE",
        "outputId": "3591aa1a-0135-49d2-899e-4ea12130534a"
      },
      "source": [
        "X.shape"
      ],
      "execution_count": null,
      "outputs": [
        {
          "output_type": "execute_result",
          "data": {
            "text/plain": [
              "(84101, 186)"
            ]
          },
          "metadata": {
            "tags": []
          },
          "execution_count": 45
        }
      ]
    },
    {
      "cell_type": "code",
      "metadata": {
        "id": "3cLAjMobLCLx"
      },
      "source": [
        "clf = SVC()"
      ],
      "execution_count": null,
      "outputs": []
    },
    {
      "cell_type": "code",
      "metadata": {
        "id": "-f6J3iFBLxs0"
      },
      "source": [
        "param_grid = [{'kernel':['linear'], 'C': [0.1, 0.5, 1, 10, 50]},\n",
        "              {'kernel':['rbf'], 'C': [0.1, 0.5, 1, 10, 50], 'gamma': ['scale', 'auto']}]"
      ],
      "execution_count": null,
      "outputs": []
    },
    {
      "cell_type": "code",
      "metadata": {
        "colab": {
          "base_uri": "https://localhost:8080/"
        },
        "id": "Y4AA6u_0G2xQ",
        "outputId": "f6e6693f-29a0-4384-d7ee-2ceec38f1b8c"
      },
      "source": [
        "grid_search = GridSearchCV(estimator = clf,\n",
        "                           param_grid = param_grid,\n",
        "                           scoring = 'accuracy',\n",
        "                           cv = 5,\n",
        "                           verbose = 2,\n",
        "                           n_jobs = -1)\n",
        "grid_search = grid_search.fit(X[:, 0:20], y) # just 20 channels"
      ],
      "execution_count": null,
      "outputs": [
        {
          "output_type": "stream",
          "text": [
            "Fitting 5 folds for each of 15 candidates, totalling 75 fits\n"
          ],
          "name": "stdout"
        },
        {
          "output_type": "stream",
          "text": [
            "[Parallel(n_jobs=-1)]: Using backend LokyBackend with 2 concurrent workers.\n",
            "[Parallel(n_jobs=-1)]: Done  37 tasks      | elapsed: 56.8min\n",
            "[Parallel(n_jobs=-1)]: Done  75 out of  75 | elapsed: 109.3min finished\n"
          ],
          "name": "stderr"
        }
      ]
    },
    {
      "cell_type": "code",
      "metadata": {
        "id": "kl8FPYTbG2mm"
      },
      "source": [
        "best_estimator = grid_search.best_estimator_"
      ],
      "execution_count": null,
      "outputs": []
    },
    {
      "cell_type": "code",
      "metadata": {
        "colab": {
          "base_uri": "https://localhost:8080/"
        },
        "id": "Pj2n1x7aGOhv",
        "outputId": "ced55822-0d0f-4cd8-8e73-820787513485"
      },
      "source": [
        "grid_search.best_score_"
      ],
      "execution_count": null,
      "outputs": [
        {
          "output_type": "execute_result",
          "data": {
            "text/plain": [
              "0.9317490699617382"
            ]
          },
          "metadata": {
            "tags": []
          },
          "execution_count": 50
        }
      ]
    },
    {
      "cell_type": "code",
      "metadata": {
        "colab": {
          "base_uri": "https://localhost:8080/"
        },
        "id": "FiLAcCzXGOXj",
        "outputId": "e2987cf0-bf1d-4719-c8b7-b2ccf5877c23"
      },
      "source": [
        "grid_search.best_params_"
      ],
      "execution_count": null,
      "outputs": [
        {
          "output_type": "execute_result",
          "data": {
            "text/plain": [
              "{'C': 50, 'gamma': 'scale', 'kernel': 'rbf'}"
            ]
          },
          "metadata": {
            "tags": []
          },
          "execution_count": 51
        }
      ]
    },
    {
      "cell_type": "code",
      "metadata": {
        "colab": {
          "base_uri": "https://localhost:8080/"
        },
        "id": "ebyNPGGuA6Sk",
        "outputId": "687ba6be-e367-4aea-d7dd-0bb501ec3a34"
      },
      "source": [
        "grid_search.cv_results_['mean_test_score']"
      ],
      "execution_count": null,
      "outputs": [
        {
          "output_type": "execute_result",
          "data": {
            "text/plain": [
              "array([0.89236683, 0.91531563, 0.91991731, 0.92430497, 0.92418606,\n",
              "       0.92454275, 0.82260559, 0.93115405, 0.87620765, 0.93101144,\n",
              "       0.89319916, 0.9316657 , 0.92190299, 0.93174907, 0.92576747])"
            ]
          },
          "metadata": {
            "tags": []
          },
          "execution_count": 52
        }
      ]
    },
    {
      "cell_type": "code",
      "metadata": {
        "colab": {
          "base_uri": "https://localhost:8080/"
        },
        "id": "hzfUd_N7A7Im",
        "outputId": "25066bb1-6f29-4fe0-bdca-322e2c706ec2"
      },
      "source": [
        "grid_search"
      ],
      "execution_count": null,
      "outputs": [
        {
          "output_type": "execute_result",
          "data": {
            "text/plain": [
              "GridSearchCV(cv=5, error_score=nan,\n",
              "             estimator=SVC(C=1.0, break_ties=False, cache_size=200,\n",
              "                           class_weight=None, coef0=0.0,\n",
              "                           decision_function_shape='ovr', degree=3,\n",
              "                           gamma='scale', kernel='rbf', max_iter=-1,\n",
              "                           probability=False, random_state=None, shrinking=True,\n",
              "                           tol=0.001, verbose=False),\n",
              "             iid='deprecated', n_jobs=-1,\n",
              "             param_grid=[{'C': [0.1, 0.5, 1, 10, 50], 'kernel': ['linear']},\n",
              "                         {'C': [0.1, 0.5, 1, 10, 50],\n",
              "                          'gamma': ['scale', 'auto'], 'kernel': ['rbf']}],\n",
              "             pre_dispatch='2*n_jobs', refit=True, return_train_score=False,\n",
              "             scoring='accuracy', verbose=2)"
            ]
          },
          "metadata": {
            "tags": []
          },
          "execution_count": 53
        }
      ]
    },
    {
      "cell_type": "code",
      "metadata": {
        "colab": {
          "base_uri": "https://localhost:8080/"
        },
        "id": "roKCGQSuA_EI",
        "outputId": "b9e120f3-e06a-49e2-fcff-c142ca3a5c5e"
      },
      "source": [
        "grid_search.cv_results_"
      ],
      "execution_count": null,
      "outputs": [
        {
          "output_type": "execute_result",
          "data": {
            "text/plain": [
              "{'mean_fit_time': array([231.3346477 , 115.94754376, 103.63188624,  61.5370862 ,\n",
              "         54.47283807, 122.46241813, 494.84482455,  83.06801133,\n",
              "        390.42087212,  68.95664067, 323.11219459,  46.50941362,\n",
              "        120.79642801,  40.80959048,  84.44567966]),\n",
              " 'mean_score_time': array([16.71002293, 10.80796928,  9.08328838,  5.77403274,  4.74181991,\n",
              "        19.70392699, 59.50867429, 12.74300957, 41.70206175, 10.87281599,\n",
              "        34.75811386,  7.19957356, 18.58348179,  5.87802773, 12.04826736]),\n",
              " 'mean_test_score': array([0.89236683, 0.91531563, 0.91991731, 0.92430497, 0.92418606,\n",
              "        0.92454275, 0.82260559, 0.93115405, 0.87620765, 0.93101144,\n",
              "        0.89319916, 0.9316657 , 0.92190299, 0.93174907, 0.92576747]),\n",
              " 'param_C': masked_array(data=[0.1, 0.5, 1, 10, 50, 0.1, 0.1, 0.5, 0.5, 1, 1, 10, 10,\n",
              "                    50, 50],\n",
              "              mask=[False, False, False, False, False, False, False, False,\n",
              "                    False, False, False, False, False, False, False],\n",
              "        fill_value='?',\n",
              "             dtype=object),\n",
              " 'param_gamma': masked_array(data=[--, --, --, --, --, 'scale', 'auto', 'scale', 'auto',\n",
              "                    'scale', 'auto', 'scale', 'auto', 'scale', 'auto'],\n",
              "              mask=[ True,  True,  True,  True,  True, False, False, False,\n",
              "                    False, False, False, False, False, False, False],\n",
              "        fill_value='?',\n",
              "             dtype=object),\n",
              " 'param_kernel': masked_array(data=['linear', 'linear', 'linear', 'linear', 'linear',\n",
              "                    'rbf', 'rbf', 'rbf', 'rbf', 'rbf', 'rbf', 'rbf', 'rbf',\n",
              "                    'rbf', 'rbf'],\n",
              "              mask=[False, False, False, False, False, False, False, False,\n",
              "                    False, False, False, False, False, False, False],\n",
              "        fill_value='?',\n",
              "             dtype=object),\n",
              " 'params': [{'C': 0.1, 'kernel': 'linear'},\n",
              "  {'C': 0.5, 'kernel': 'linear'},\n",
              "  {'C': 1, 'kernel': 'linear'},\n",
              "  {'C': 10, 'kernel': 'linear'},\n",
              "  {'C': 50, 'kernel': 'linear'},\n",
              "  {'C': 0.1, 'gamma': 'scale', 'kernel': 'rbf'},\n",
              "  {'C': 0.1, 'gamma': 'auto', 'kernel': 'rbf'},\n",
              "  {'C': 0.5, 'gamma': 'scale', 'kernel': 'rbf'},\n",
              "  {'C': 0.5, 'gamma': 'auto', 'kernel': 'rbf'},\n",
              "  {'C': 1, 'gamma': 'scale', 'kernel': 'rbf'},\n",
              "  {'C': 1, 'gamma': 'auto', 'kernel': 'rbf'},\n",
              "  {'C': 10, 'gamma': 'scale', 'kernel': 'rbf'},\n",
              "  {'C': 10, 'gamma': 'auto', 'kernel': 'rbf'},\n",
              "  {'C': 50, 'gamma': 'scale', 'kernel': 'rbf'},\n",
              "  {'C': 50, 'gamma': 'auto', 'kernel': 'rbf'}],\n",
              " 'rank_test_score': array([13, 11, 10,  7,  8,  6, 15,  3, 14,  4, 12,  2,  9,  1,  5],\n",
              "       dtype=int32),\n",
              " 'split0_test_score': array([0.94923013, 0.95559123, 0.95434279, 0.9524404 , 0.9522026 ,\n",
              "        0.95499673, 0.86962725, 0.94423637, 0.93686463, 0.93811307,\n",
              "        0.95059747, 0.91433327, 0.95850425, 0.90321622, 0.95606682]),\n",
              " 'split1_test_score': array([0.81242568, 0.83555291, 0.8480975 , 0.8716409 , 0.88055886,\n",
              "        0.85071344, 0.84357907, 0.86409037, 0.81498216, 0.86813317,\n",
              "        0.8108799 , 0.88662307, 0.84643282, 0.89791914, 0.86206897]),\n",
              " 'split2_test_score': array([0.87502973, 0.92984542, 0.93828775, 0.94221165, 0.93906064,\n",
              "        0.94589774, 0.73941736, 0.95439952, 0.83876338, 0.95368609,\n",
              "        0.87966706, 0.95196195, 0.94203329, 0.9510107 , 0.94684899]),\n",
              " 'split3_test_score': array([0.91664685, 0.94750297, 0.95469679, 0.9648038 , 0.9646849 ,\n",
              "        0.95410226, 0.81843044, 0.97068966, 0.89173603, 0.97425684,\n",
              "        0.91640904, 0.98032105, 0.95338882, 0.98151011, 0.96450654]),\n",
              " 'split4_test_score': array([0.90850178, 0.90808561, 0.90416171, 0.89042806, 0.88442331,\n",
              "        0.91700357, 0.84197384, 0.92235434, 0.89869203, 0.92086801,\n",
              "        0.90844233, 0.92508918, 0.90915577, 0.92508918, 0.89934602]),\n",
              " 'std_fit_time': array([ 33.13433163,  34.98588285,  33.2474546 ,   5.46473325,\n",
              "          6.11853171,   8.93831862, 135.59215043,   6.72725535,\n",
              "        108.36784653,   6.0964022 ,  43.0306689 ,   4.63633417,\n",
              "          8.6698573 ,   4.62479708,  10.28209675]),\n",
              " 'std_score_time': array([1.10634289, 0.5790339 , 0.51618069, 0.40855665, 0.41948175,\n",
              "        1.3756255 , 1.17960049, 1.04640722, 1.83103805, 0.9689022 ,\n",
              "        1.73387708, 0.7770536 , 1.35020582, 0.65079464, 1.97980858]),\n",
              " 'std_test_score': array([0.0464208 , 0.04308974, 0.04034482, 0.0365337 , 0.03501641,\n",
              "        0.03940775, 0.04464026, 0.03701226, 0.04376433, 0.03603138,\n",
              "        0.04695784, 0.03209917, 0.04145956, 0.03114519, 0.03903534])}"
            ]
          },
          "metadata": {
            "tags": []
          },
          "execution_count": 54
        }
      ]
    },
    {
      "cell_type": "code",
      "metadata": {
        "id": "DEBcmvJbDiWz"
      },
      "source": [
        ""
      ],
      "execution_count": null,
      "outputs": []
    },
    {
      "cell_type": "code",
      "metadata": {
        "colab": {
          "base_uri": "https://localhost:8080/",
          "height": 558
        },
        "id": "Jo01SNp-aeTd",
        "outputId": "f0f49704-149d-4dfb-c763-050f11b92973"
      },
      "source": [
        "plt.scatter(np.arange(5)+1,grid_search.cv_results_['mean_test_score'][:5], label='Linear kernel')\n",
        "plt.scatter(np.arange(10)+5,grid_search.cv_results_['mean_test_score'][5:], label='rbf kernel')\n",
        "plt.title('combination of GridsearchCV')\n",
        "plt.xlabel('each combination of grid parameters')\n",
        "plt.ylabel('accuracy')\n",
        "plt.legend(loc='auto')\n",
        "plt.show()"
      ],
      "execution_count": null,
      "outputs": [
        {
          "output_type": "stream",
          "text": [
            "/usr/local/lib/python3.7/dist-packages/ipykernel_launcher.py:6: MatplotlibDeprecationWarning: Unrecognized location 'auto'. Falling back on 'best'; valid locations are\n",
            "\tbest\n",
            "\tupper right\n",
            "\tupper left\n",
            "\tlower left\n",
            "\tlower right\n",
            "\tright\n",
            "\tcenter left\n",
            "\tcenter right\n",
            "\tlower center\n",
            "\tupper center\n",
            "\tcenter\n",
            "This will raise an exception in 3.3.\n",
            "  \n"
          ],
          "name": "stderr"
        },
        {
          "output_type": "display_data",
          "data": {
            "image/png": "[encoded data removed]",
            "text/plain": [
              "<Figure size 432x288 with 1 Axes>"
            ]
          },
          "metadata": {
            "tags": []
          }
        }
      ]
    },
    {
      "cell_type": "markdown",
      "metadata": {
        "id": "na95jyYFU8JD"
      },
      "source": [
        "### all in one"
      ]
    },
    {
      "cell_type": "code",
      "metadata": {
        "id": "WN4qbYgTuWoH"
      },
      "source": [
        "df_lr = pd.read_csv('/content/drive/MyDrive/Thesis/results/filters/leanrning_curve_ttest_LR.csv')\n",
        "df_rf = pd.read_csv('/content/drive/MyDrive/Thesis/results/filters/leanrning_curve_ttest_RF.csv')\n",
        "df_svm = pd.read_csv('/content/drive/MyDrive/Thesis/results/filters/leanrning_curve_ttest_SVM_stochastic.csv')\n",
        "# df_svm2 = pd.read_csv('/content/drive/MyDrive/Thesis/results/filters/leanrning_curve_ttest_SVM.csv')"
      ],
      "execution_count": null,
      "outputs": []
    },
    {
      "cell_type": "code",
      "metadata": {
        "id": "HK8t7k6aU7fa"
      },
      "source": [
        "lr_train_scores_mean_arr = df_lr.train_scores_mean.values\n",
        "lr_train_scores_std_arr = df_lr.train_scores_std.values\n",
        "lr_val_scores_mean_arr = df_lr.val_scores_mean.values\n",
        "lr_val_scores_std_arr = df_lr.val_scores_std.values\n",
        "\n",
        "rf_train_scores_mean_arr = df_rf.train_scores_mean.values\n",
        "rf_train_scores_std_arr = df_rf.train_scores_std.values\n",
        "rf_val_scores_mean_arr = df_rf.val_scores_mean.values\n",
        "rf_val_scores_std_arr = df_rf.val_scores_std.values\n",
        "\n",
        "svm_train_scores_mean_arr = df_svm.train_scores_mean.values\n",
        "svm_train_scores_std_arr = df_svm.train_scores_std.values\n",
        "svm_val_scores_mean_arr = df_svm.val_scores_mean.values\n",
        "svm_val_scores_std_arr = df_svm.val_scores_std.values\n",
        "\n",
        "# svm_train_scores_mean_arr2 = df_svm2.train_scores_mean.values\n",
        "# svm_train_scores_std_arr2 = df_svm2.train_scores_std.values\n",
        "# svm_val_scores_mean_arr2 = df_svm2.val_scores_mean.values\n",
        "# svm_val_scores_std_arr2 = df_svm2.val_scores_std.values"
      ],
      "execution_count": null,
      "outputs": []
    },
    {
      "cell_type": "code",
      "metadata": {
        "colab": {
          "base_uri": "https://localhost:8080/",
          "height": 293
        },
        "id": "LJVbwQL9U7au",
        "outputId": "6cf5d889-f6ab-4a8e-a4be-2e2158420eaa"
      },
      "source": [
        "steps_lr = np.arange(len(lr_train_scores_mean_arr)) + 1\n",
        "steps_rf = np.arange(len(rf_train_scores_mean_arr)) + 1\n",
        "steps_svm = np.arange(len(svm_train_scores_mean_arr)) + 1\n",
        "\n",
        "plt.figure(figsize=(18, 5))\n",
        "\n",
        "# logistic regression\n",
        "# plt.fill_between(steps_lr, lr_train_scores_mean_arr - lr_train_scores_std_arr,\n",
        "#                  lr_train_scores_mean_arr + lr_train_scores_std_arr, alpha=0.1, color=\"green\")\n",
        "plt.fill_between(steps_lr, lr_val_scores_mean_arr - lr_val_scores_std_arr,\n",
        "                 lr_val_scores_mean_arr + lr_val_scores_std_arr, alpha=0.1, color=\"red\")\n",
        "# plt.plot(steps_lr, lr_train_scores_mean_arr, '--', color=\"green\", label=\"LR Training score\")\n",
        "plt.plot(steps_lr, lr_val_scores_mean_arr, '-', color=\"red\", label=\"LR Cross-validation score\")\n",
        "plt.axvline(x=lr_val_scores_mean_arr.argmax() + 1, color=\"red\", ls='--', label='n_features = {}, Score = {}'.format(lr_val_scores_mean_arr.argmax()+1, round(lr_val_scores_mean_arr.max(), 2)))\n",
        "\n",
        "# random forest\n",
        "# plt.fill_between(steps_rf, rf_train_scores_mean_arr - rf_train_scores_std_arr,\n",
        "#                  rf_train_scores_mean_arr + rf_train_scores_std_arr, alpha=0.1, color=\"blue\")\n",
        "plt.fill_between(steps_rf, rf_val_scores_mean_arr - rf_val_scores_std_arr,\n",
        "                 rf_val_scores_mean_arr + rf_val_scores_std_arr, alpha=0.1, color=\"blue\")\n",
        "# plt.plot(steps_rf, rf_train_scores_mean_arr, '--', color=\"blue\", label=\"RF Training score\")\n",
        "plt.plot(steps_rf, rf_val_scores_mean_arr, '-', color=\"blue\", label=\"RF Cross-validation score\")\n",
        "plt.axvline(x=rf_val_scores_mean_arr.argmax() + 1, color=\"blue\", ls='--', label='n_features = {}, Score = {}'.format(rf_val_scores_mean_arr.argmax()+1, round(rf_val_scores_mean_arr.max(), 2)))\n",
        "\n",
        "# svm\n",
        "# plt.fill_between(steps_svm, svm_train_scores_mean_arr - svm_train_scores_std_arr,\n",
        "#                  svm_train_scores_mean_arr + svm_train_scores_std_arr, alpha=0.1, color=\"orange\")\n",
        "plt.fill_between(steps_svm, svm_val_scores_mean_arr - svm_val_scores_std_arr,\n",
        "                 svm_val_scores_mean_arr + svm_val_scores_std_arr, alpha=0.1, color=\"black\")\n",
        "# plt.plot(steps_svm, svm_train_scores_mean_arr, '--', color=\"orange\", label=\"SVM Training score\")\n",
        "plt.plot(steps_svm, svm_val_scores_mean_arr, '-', color=\"black\", label=\"SVM Cross-validation score\")\n",
        "plt.axvline(x=svm_val_scores_mean_arr.argmax() + 1, color=\"black\", ls='--', label='n_features = {}, Score = {}'.format(svm_val_scores_mean_arr.argmax()+1, round(svm_val_scores_mean_arr.max(), 2)))\n",
        "\n",
        "plt.xticks(ticks=np.arange(1, 187, 5), rotation=90)\n",
        "\n",
        "plt.xlabel(\"Bands\")\n",
        "plt.ylabel(\"Accuracy\")\n",
        "plt.title(\"Filter Method (order of features based on t_test)\")\n",
        "plt.grid(b=True, which='major', color='silver', linestyle='--')\n",
        "plt.legend(loc=\"best\")\n",
        "plt.show()"
      ],
      "execution_count": null,
      "outputs": [
        {
          "output_type": "display_data",
          "data": {
            "image/png": "[encoded data removed]",
            "text/plain": [
              "<Figure size 1296x360 with 1 Axes>"
            ]
          },
          "metadata": {
            "needs_background": "light"
          }
        }
      ]
    },
    {
      "cell_type": "code",
      "metadata": {
        "id": "exb-yJOjaQPH"
      },
      "source": [
        ""
      ],
      "execution_count": null,
      "outputs": []
    },
    {
      "cell_type": "code",
      "metadata": {
        "id": "6BxdzBfnaQMO"
      },
      "source": [
        ""
      ],
      "execution_count": null,
      "outputs": []
    },
    {
      "cell_type": "code",
      "metadata": {
        "id": "BsE8q8acuWd0"
      },
      "source": [
        "# restart runtime and clear ram\n",
        "import os, signal\n",
        "os.kill(os.getpid(), signal.SIGKILL)"
      ],
      "execution_count": null,
      "outputs": []
    },
    {
      "cell_type": "code",
      "metadata": {
        "id": "8Yo7xRc-48V6"
      },
      "source": [
        ""
      ],
      "execution_count": null,
      "outputs": []
    }
  ]
}