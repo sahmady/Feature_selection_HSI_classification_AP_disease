{
  "nbformat": 4,
  "nbformat_minor": 0,
  "metadata": {
    "colab": {
      "name": "Forward_Feature_Selection_LR.ipynb",
      "provenance": [],
      "collapsed_sections": [],
      "toc_visible": true
    },
    "kernelspec": {
      "name": "python3",
      "display_name": "Python 3"
    },
    "accelerator": "TPU"
  },
  "cells": [
    {
      "cell_type": "markdown",
      "metadata": {
        "id": "wsNtR-uoQXic"
      },
      "source": [
        "## Imports"
      ]
    },
    {
      "cell_type": "code",
      "metadata": {
        "colab": {
          "base_uri": "https://localhost:8080/"
        },
        "id": "xkNsbvGxkGhc",
        "outputId": "5ee67ae5-ca10-45f8-fd07-82df47e5f10d"
      },
      "source": [
        "import pickle\n",
        "import cv2\n",
        "import numpy as np\n",
        "import matplotlib.pyplot as plt\n",
        "import seaborn as sns\n",
        "# import spectral.io.envi as envi\n",
        "import pandas as pd\n",
        "from sklearn.metrics import confusion_matrix, accuracy_score, recall_score, precision_score\n",
        "from sklearn.metrics import precision_recall_curve, classification_report\n",
        "from sklearn.model_selection import train_test_split\n",
        "from sklearn.linear_model import LogisticRegressionCV\n",
        "from sklearn.linear_model import LogisticRegression\n",
        "from sklearn.linear_model import SGDClassifier\n",
        "from sklearn.preprocessing import StandardScaler\n",
        "from sklearn.pipeline import make_pipeline, Pipeline\n",
        "from sklearn.naive_bayes import GaussianNB\n",
        "from sklearn.svm import SVC\n",
        "# from sklearn.datasets import load_digits\n",
        "from sklearn.model_selection import KFold, learning_curve, ShuffleSplit, GridSearchCV\n",
        "# from yellowbrick.model_selection import RFECV\n",
        "from time import time\n",
        "# from sklearn.feature_selection import SequentialFeatureSelector\n",
        "from mlxtend.feature_selection import SequentialFeatureSelector as sfs\n",
        "from mlxtend.plotting import plot_sequential_feature_selection as plot_sfs\n",
        "\n",
        "# import tensorflow as tf\n",
        "# from tensorflow import keras\n",
        "# from tensorflow.keras import layers\n",
        "# from tensorflow.keras.layers.experimental import preprocessing\n",
        "# from tensorflow.keras.callbacks import EarlyStopping\n",
        "# from keras.models import Sequential\n",
        "# from keras.layers import Dense\n",
        "\n",
        "# print(tf.__version__)"
      ],
      "execution_count": null,
      "outputs": [
        {
          "output_type": "stream",
          "text": [
            "/usr/local/lib/python3.7/dist-packages/sklearn/externals/joblib/__init__.py:15: FutureWarning: sklearn.externals.joblib is deprecated in 0.21 and will be removed in 0.23. Please import this functionality directly from joblib, which can be installed with: pip install joblib. If this warning is raised when loading pickled models, you may need to re-serialize those models with scikit-learn 0.21+.\n",
            "  warnings.warn(msg, category=FutureWarning)\n"
          ],
          "name": "stderr"
        }
      ]
    },
    {
      "cell_type": "markdown",
      "metadata": {
        "id": "0DhfT_P5QPbP"
      },
      "source": [
        "## Connect to Drive"
      ]
    },
    {
      "cell_type": "code",
      "metadata": {
        "id": "s7lPNvCBlz7I",
        "colab": {
          "base_uri": "https://localhost:8080/"
        },
        "outputId": "a3bdcedf-59c1-43f9-8888-80da92c6dbfe"
      },
      "source": [
        "from google.colab import drive\n",
        "drive.mount('/content/drive')"
      ],
      "execution_count": null,
      "outputs": [
        {
          "output_type": "stream",
          "text": [
            "Mounted at /content/drive\n"
          ],
          "name": "stdout"
        }
      ]
    },
    {
      "cell_type": "markdown",
      "metadata": {
        "id": "5jfPdBsuQcAJ"
      },
      "source": [
        "## Load Dataset"
      ]
    },
    {
      "cell_type": "code",
      "metadata": {
        "id": "urlFFZ11mP5d"
      },
      "source": [
        "dataset = pd.read_csv('/content/drive/MyDrive/Thesis/mean_dataset/normalized/dataset_mean_normalized.csv', encoding='latin-1')\n",
        "# dataset.head(3)\n",
        "columns = dataset.iloc[:, 2:].columns.values"
      ],
      "execution_count": null,
      "outputs": []
    },
    {
      "cell_type": "code",
      "metadata": {
        "id": "BREwXWjkmw1W"
      },
      "source": [
        "X = np.load('/content/drive/MyDrive/Thesis/dataset/segmented_normalized_one_tenth/X.npy')"
      ],
      "execution_count": null,
      "outputs": []
    },
    {
      "cell_type": "code",
      "metadata": {
        "id": "0JTrabxYnaFy"
      },
      "source": [
        "y = np.load('/content/drive/MyDrive/Thesis/dataset/segmented_normalized_one_tenth/y.npy')"
      ],
      "execution_count": null,
      "outputs": []
    },
    {
      "cell_type": "code",
      "metadata": {
        "colab": {
          "base_uri": "https://localhost:8080/"
        },
        "id": "lx86P-44SM1h",
        "outputId": "16abea87-7164-4bd7-9f45-2d59a2e07848"
      },
      "source": [
        "X.shape"
      ],
      "execution_count": null,
      "outputs": [
        {
          "output_type": "execute_result",
          "data": {
            "text/plain": [
              "(841005, 186)"
            ]
          },
          "metadata": {
            "tags": []
          },
          "execution_count": 6
        }
      ]
    },
    {
      "cell_type": "markdown",
      "metadata": {
        "id": "cyMjSvLhZ-7q"
      },
      "source": [
        "## learning curve based on number of samples"
      ]
    },
    {
      "cell_type": "code",
      "metadata": {
        "id": "jZjGOGdjZ4uW"
      },
      "source": [
        "def plot_learning_curve(estimator, title, X, y, axes=None, ylim=None, cv=None,\n",
        "                        n_jobs=None, train_sizes=np.linspace(.1, 1.0, 5)):\n",
        "    \"\"\"\n",
        "    Generate 3 plots: the test and training learning curve, the training\n",
        "    samples vs fit times curve, the fit times vs score curve.\n",
        "\n",
        "    Parameters\n",
        "    ----------\n",
        "    estimator : estimator instance\n",
        "        An estimator instance implementing `fit` and `predict` methods which\n",
        "        will be cloned for each validation.\n",
        "\n",
        "    title : str\n",
        "        Title for the chart.\n",
        "\n",
        "    X : array-like of shape (n_samples, n_features)\n",
        "        Training vector, where ``n_samples`` is the number of samples and\n",
        "        ``n_features`` is the number of features.\n",
        "\n",
        "    y : array-like of shape (n_samples) or (n_samples, n_features)\n",
        "        Target relative to ``X`` for classification or regression;\n",
        "        None for unsupervised learning.\n",
        "\n",
        "    axes : array-like of shape (3,), default=None\n",
        "        Axes to use for plotting the curves.\n",
        "\n",
        "    ylim : tuple of shape (2,), default=None\n",
        "        Defines minimum and maximum y-values plotted, e.g. (ymin, ymax).\n",
        "\n",
        "    cv : int, cross-validation generator or an iterable, default=None\n",
        "        Determines the cross-validation splitting strategy.\n",
        "        Possible inputs for cv are:\n",
        "\n",
        "          - None, to use the default 5-fold cross-validation,\n",
        "          - integer, to specify the number of folds.\n",
        "          - :term:`CV splitter`,\n",
        "          - An iterable yielding (train, test) splits as arrays of indices.\n",
        "\n",
        "        For integer/None inputs, if ``y`` is binary or multiclass,\n",
        "        :class:`StratifiedKFold` used. If the estimator is not a classifier\n",
        "        or if ``y`` is neither binary nor multiclass, :class:`KFold` is used.\n",
        "\n",
        "        Refer :ref:`User Guide <cross_validation>` for the various\n",
        "        cross-validators that can be used here.\n",
        "\n",
        "    n_jobs : int or None, default=None\n",
        "        Number of jobs to run in parallel.\n",
        "        ``None`` means 1 unless in a :obj:`joblib.parallel_backend` context.\n",
        "        ``-1`` means using all processors. See :term:`Glossary <n_jobs>`\n",
        "        for more details.\n",
        "\n",
        "    train_sizes : array-like of shape (n_ticks,)\n",
        "        Relative or absolute numbers of training examples that will be used to\n",
        "        generate the learning curve. If the ``dtype`` is float, it is regarded\n",
        "        as a fraction of the maximum size of the training set (that is\n",
        "        determined by the selected validation method), i.e. it has to be within\n",
        "        (0, 1]. Otherwise it is interpreted as absolute sizes of the training\n",
        "        sets. Note that for classification the number of samples usually have\n",
        "        to be big enough to contain at least one sample from each class.\n",
        "        (default: np.linspace(0.1, 1.0, 5))\n",
        "    \"\"\"\n",
        "    if axes is None:\n",
        "        _, axes = plt.subplots(1, 3, figsize=(20, 5))\n",
        "\n",
        "    axes[0].set_title(title)\n",
        "    if ylim is not None:\n",
        "        axes[0].set_ylim(*ylim)\n",
        "    axes[0].set_xlabel(\"Training examples\")\n",
        "    axes[0].set_ylabel(\"Score\")\n",
        "\n",
        "    train_sizes, train_scores, test_scores, fit_times, _ = \\\n",
        "        learning_curve(estimator, X, y, cv=cv, n_jobs=n_jobs,\n",
        "                       train_sizes=train_sizes,\n",
        "                       return_times=True)\n",
        "    train_scores_mean = np.mean(train_scores, axis=1)\n",
        "    train_scores_std = np.std(train_scores, axis=1)\n",
        "    test_scores_mean = np.mean(test_scores, axis=1)\n",
        "    test_scores_std = np.std(test_scores, axis=1)\n",
        "    fit_times_mean = np.mean(fit_times, axis=1)\n",
        "    fit_times_std = np.std(fit_times, axis=1)\n",
        "\n",
        "    # Plot learning curve\n",
        "    axes[0].grid()\n",
        "    axes[0].fill_between(train_sizes, train_scores_mean - train_scores_std,\n",
        "                         train_scores_mean + train_scores_std, alpha=0.1,\n",
        "                         color=\"r\")\n",
        "    axes[0].fill_between(train_sizes, test_scores_mean - test_scores_std,\n",
        "                         test_scores_mean + test_scores_std, alpha=0.1,\n",
        "                         color=\"g\")\n",
        "    axes[0].plot(train_sizes, train_scores_mean, 'o-', color=\"r\",\n",
        "                 label=\"Training score\")\n",
        "    axes[0].plot(train_sizes, test_scores_mean, 'o-', color=\"g\",\n",
        "                 label=\"Cross-validation score\")\n",
        "    axes[0].legend(loc=\"best\")\n",
        "\n",
        "    # Plot n_samples vs fit_times\n",
        "    axes[1].grid()\n",
        "    axes[1].plot(train_sizes, fit_times_mean, 'o-')\n",
        "    axes[1].fill_between(train_sizes, fit_times_mean - fit_times_std,\n",
        "                         fit_times_mean + fit_times_std, alpha=0.1)\n",
        "    axes[1].set_xlabel(\"Training examples\")\n",
        "    axes[1].set_ylabel(\"fit_times\")\n",
        "    axes[1].set_title(\"Scalability of the model\")\n",
        "\n",
        "    # Plot fit_time vs score\n",
        "    axes[2].grid()\n",
        "    axes[2].plot(fit_times_mean, test_scores_mean, 'o-')\n",
        "    axes[2].fill_between(fit_times_mean, test_scores_mean - test_scores_std,\n",
        "                         test_scores_mean + test_scores_std, alpha=0.1)\n",
        "    axes[2].set_xlabel(\"fit_times\")\n",
        "    axes[2].set_ylabel(\"Score\")\n",
        "    axes[2].set_title(\"Performance of the model\")\n",
        "\n",
        "    return plt"
      ],
      "execution_count": null,
      "outputs": []
    },
    {
      "cell_type": "code",
      "metadata": {
        "id": "fqBBxnDdZ4qm",
        "colab": {
          "base_uri": "https://localhost:8080/",
          "height": 401
        },
        "outputId": "4208f86a-fb44-4abc-dd17-adfb194a3f47"
      },
      "source": [
        "title = r\"Learning Curves (Logistic Regression, 10% of data)\"\n",
        "\n",
        "cv = ShuffleSplit(n_splits=5, test_size=0.2, random_state=42)\n",
        "estimator = LogisticRegression(penalty='none', random_state=42, max_iter=1000)\n",
        "plot_learning_curve(estimator, title, X, y, ylim=(0.7, 1.01), cv=cv, n_jobs=-1)\n",
        "\n",
        "plt.show()"
      ],
      "execution_count": null,
      "outputs": [
        {
          "output_type": "stream",
          "text": [
            "/usr/local/lib/python3.7/dist-packages/joblib/externals/loky/process_executor.py:691: UserWarning: A worker stopped while some jobs were given to the executor. This can be caused by a too short worker timeout or by a memory leak.\n",
            "  \"timeout or by a memory leak.\", UserWarning\n"
          ],
          "name": "stderr"
        },
        {
          "output_type": "display_data",
          "data": {
            "image/png": "[encoded data removed]",
            "text/plain": [
              "<Figure size 1440x360 with 3 Axes>"
            ]
          },
          "metadata": {
            "tags": [],
            "needs_background": "light"
          }
        }
      ]
    },
    {
      "cell_type": "markdown",
      "metadata": {
        "id": "299NOpOdQkcE"
      },
      "source": [
        "#### only 1% of dataset"
      ]
    },
    {
      "cell_type": "code",
      "metadata": {
        "id": "W3WKHpIFneZc",
        "colab": {
          "base_uri": "https://localhost:8080/"
        },
        "outputId": "928380f2-e49b-44af-eeeb-34ac92040f6f"
      },
      "source": [
        "X = X[::10, :]\n",
        "y = y[::10]\n",
        "X.shape"
      ],
      "execution_count": null,
      "outputs": [
        {
          "output_type": "execute_result",
          "data": {
            "text/plain": [
              "(84101, 186)"
            ]
          },
          "metadata": {
            "tags": []
          },
          "execution_count": 9
        }
      ]
    },
    {
      "cell_type": "code",
      "metadata": {
        "colab": {
          "base_uri": "https://localhost:8080/",
          "height": 347
        },
        "id": "rgpJdE7TrsUM",
        "outputId": "1abfed58-5272-4fad-94d6-07fb75a1c87d"
      },
      "source": [
        "title = r\"Learning Curves (Logistic Regression 1% of data)\"\n",
        "\n",
        "cv = ShuffleSplit(n_splits=5, test_size=0.2, random_state=42)\n",
        "estimator = make_pipeline(StandardScaler(), LogisticRegression(penalty='none', random_state=42, max_iter=100000))\n",
        "plot_learning_curve(estimator, title, X, y, ylim=(0.7, 1.01), cv=cv, n_jobs=-1)\n",
        "\n",
        "plt.show()"
      ],
      "execution_count": null,
      "outputs": [
        {
          "output_type": "display_data",
          "data": {
            "image/png": "[encoded data removed]",
            "text/plain": [
              "<Figure size 1440x360 with 3 Axes>"
            ]
          },
          "metadata": {
            "tags": [],
            "needs_background": "light"
          }
        }
      ]
    },
    {
      "cell_type": "markdown",
      "metadata": {
        "id": "wGgCLcsqr1zb"
      },
      "source": [
        "#### only 0.1% of dataset"
      ]
    },
    {
      "cell_type": "code",
      "metadata": {
        "id": "CCbc2rCbZ4Z0",
        "colab": {
          "base_uri": "https://localhost:8080/"
        },
        "outputId": "b786fdb1-fc2b-4aa2-c8cb-305d4d18651c"
      },
      "source": [
        "X = X[::10, :]\n",
        "y = y[::10]\n",
        "X.shape"
      ],
      "execution_count": null,
      "outputs": [
        {
          "output_type": "execute_result",
          "data": {
            "text/plain": [
              "(8411, 186)"
            ]
          },
          "metadata": {
            "tags": []
          },
          "execution_count": 11
        }
      ]
    },
    {
      "cell_type": "code",
      "metadata": {
        "id": "cuQMRJ7eaJji",
        "colab": {
          "base_uri": "https://localhost:8080/",
          "height": 347
        },
        "outputId": "e5c801e2-879b-49f1-e605-046001e9d174"
      },
      "source": [
        "title = r\"Learning Curves (Logistic Regression 0.1% of data)\"\n",
        "# SVC is more expensive so we do a lower number of CV iterations:\n",
        "cv = ShuffleSplit(n_splits=5, test_size=0.2, random_state=42)\n",
        "estimator = make_pipeline(StandardScaler(), LogisticRegression(penalty='none', random_state=42, max_iter=100000))\n",
        "plot_learning_curve(estimator, title, X, y, ylim=(0.7, 1.01), cv=cv, n_jobs=-1)\n",
        "\n",
        "plt.show()"
      ],
      "execution_count": null,
      "outputs": [
        {
          "output_type": "display_data",
          "data": {
            "image/png": "[encoded data removed]",
            "text/plain": [
              "<Figure size 1440x360 with 3 Axes>"
            ]
          },
          "metadata": {
            "tags": [],
            "needs_background": "light"
          }
        }
      ]
    },
    {
      "cell_type": "markdown",
      "metadata": {
        "id": "sMBrQb08Q0A3"
      },
      "source": [
        "## initiate instances of LR and FFS and run training"
      ]
    },
    {
      "cell_type": "code",
      "metadata": {
        "colab": {
          "base_uri": "https://localhost:8080/"
        },
        "id": "6FyLmpRxCjiM",
        "outputId": "abca7f2f-c3fd-41d0-de7f-8d2993659f03"
      },
      "source": [
        "X = X[::10, :]\n",
        "y = y[::10]\n",
        "X.shape"
      ],
      "execution_count": null,
      "outputs": [
        {
          "output_type": "execute_result",
          "data": {
            "text/plain": [
              "(84101, 186)"
            ]
          },
          "metadata": {
            "tags": []
          },
          "execution_count": 7
        }
      ]
    },
    {
      "cell_type": "code",
      "metadata": {
        "id": "QwEqZMDDnkac"
      },
      "source": [
        "clf = make_pipeline(StandardScaler(), LogisticRegression(penalty='none', max_iter=1000))"
      ],
      "execution_count": null,
      "outputs": []
    },
    {
      "cell_type": "code",
      "metadata": {
        "id": "Aomczkc9nvxF"
      },
      "source": [
        "%%time\n",
        "sfs1 = sfs(clf, \n",
        "           k_features=100, \n",
        "           forward=True, \n",
        "           floating=False, \n",
        "           verbose=2,\n",
        "           scoring='accuracy',\n",
        "           cv=5,\n",
        "           n_jobs=-1)\n",
        "\n",
        "sfs1 = sfs1.fit(X, y, custom_feature_names=columns)\n",
        "\n",
        "filename = '/content/drive/MyDrive/Thesis/results/wrappers/LR_wrapper.sav'\n",
        "pickle.dump(sfs1, open(filename, 'wb'))"
      ],
      "execution_count": null,
      "outputs": []
    },
    {
      "cell_type": "markdown",
      "metadata": {
        "id": "m90WFINuROlV"
      },
      "source": [
        "### pickle instance of FFS for later use due to colab time limits"
      ]
    },
    {
      "cell_type": "code",
      "metadata": {
        "id": "ZW0zOKW2tsYp"
      },
      "source": [
        "# save the wrapper file to drive\n",
        "filename = '/content/drive/MyDrive/Thesis/results/wrappers/LR_wrapper.sav'\n",
        "pickle.dump(sfs1, open(filename, 'wb'))"
      ],
      "execution_count": null,
      "outputs": []
    },
    {
      "cell_type": "code",
      "metadata": {
        "id": "UpkCGKLttsUy"
      },
      "source": [
        "# read the wrapper file from drive\n",
        "filename = '/content/drive/MyDrive/Thesis/results/wrappers/SFS_LR.sav'\n",
        "sfs1 = pickle.load(open(filename, 'rb'))"
      ],
      "execution_count": null,
      "outputs": []
    },
    {
      "cell_type": "code",
      "metadata": {
        "id": "JZ-s9ogUtsP5",
        "colab": {
          "base_uri": "https://localhost:8080/"
        },
        "outputId": "dca30d5c-2527-469d-8029-095366277dc1"
      },
      "source": [
        "sfs1.k_feature_idx_"
      ],
      "execution_count": null,
      "outputs": [
        {
          "output_type": "execute_result",
          "data": {
            "text/plain": [
              "(0,\n",
              " 1,\n",
              " 9,\n",
              " 10,\n",
              " 11,\n",
              " 12,\n",
              " 13,\n",
              " 14,\n",
              " 17,\n",
              " 20,\n",
              " 23,\n",
              " 24,\n",
              " 29,\n",
              " 30,\n",
              " 31,\n",
              " 32,\n",
              " 41,\n",
              " 43,\n",
              " 46,\n",
              " 48,\n",
              " 50,\n",
              " 51,\n",
              " 59,\n",
              " 60,\n",
              " 64,\n",
              " 66,\n",
              " 93,\n",
              " 94,\n",
              " 96,\n",
              " 104,\n",
              " 105,\n",
              " 109,\n",
              " 111,\n",
              " 120,\n",
              " 121,\n",
              " 126,\n",
              " 128,\n",
              " 132,\n",
              " 141,\n",
              " 148,\n",
              " 149,\n",
              " 150,\n",
              " 151,\n",
              " 153,\n",
              " 155,\n",
              " 158,\n",
              " 159,\n",
              " 161,\n",
              " 166,\n",
              " 167,\n",
              " 168,\n",
              " 169,\n",
              " 174,\n",
              " 175,\n",
              " 181,\n",
              " 184)"
            ]
          },
          "metadata": {
            "tags": []
          },
          "execution_count": 6
        }
      ]
    },
    {
      "cell_type": "code",
      "metadata": {
        "id": "fhVEU3IUtsLc",
        "colab": {
          "base_uri": "https://localhost:8080/"
        },
        "outputId": "831c06fa-ba5a-4377-cd9e-b9d557fdeb7e"
      },
      "source": [
        "sfs1.k_feature_names_"
      ],
      "execution_count": null,
      "outputs": [
        {
          "output_type": "execute_result",
          "data": {
            "text/plain": [
              "('Band_001',\n",
              " 'Band_002',\n",
              " 'Band_010',\n",
              " 'Band_011',\n",
              " 'Band_012',\n",
              " 'Band_013',\n",
              " 'Band_014',\n",
              " 'Band_015',\n",
              " 'Band_018',\n",
              " 'Band_021',\n",
              " 'Band_024',\n",
              " 'Band_025',\n",
              " 'Band_030',\n",
              " 'Band_031',\n",
              " 'Band_032',\n",
              " 'Band_033',\n",
              " 'Band_042',\n",
              " 'Band_044',\n",
              " 'Band_047',\n",
              " 'Band_049',\n",
              " 'Band_051',\n",
              " 'Band_052',\n",
              " 'Band_060',\n",
              " 'Band_061',\n",
              " 'Band_065',\n",
              " 'Band_067',\n",
              " 'Band_094',\n",
              " 'Band_095',\n",
              " 'Band_097',\n",
              " 'Band_105',\n",
              " 'Band_106',\n",
              " 'Band_110',\n",
              " 'Band_112',\n",
              " 'Band_121',\n",
              " 'Band_122',\n",
              " 'Band_127',\n",
              " 'Band_129',\n",
              " 'Band_133',\n",
              " 'Band_142',\n",
              " 'Band_149',\n",
              " 'Band_150',\n",
              " 'Band_151',\n",
              " 'Band_152',\n",
              " 'Band_154',\n",
              " 'Band_156',\n",
              " 'Band_159',\n",
              " 'Band_160',\n",
              " 'Band_162',\n",
              " 'Band_167',\n",
              " 'Band_168',\n",
              " 'Band_169',\n",
              " 'Band_170',\n",
              " 'Band_175',\n",
              " 'Band_176',\n",
              " 'Band_182',\n",
              " 'Band_185')"
            ]
          },
          "metadata": {
            "tags": []
          },
          "execution_count": 7
        }
      ]
    },
    {
      "cell_type": "code",
      "metadata": {
        "colab": {
          "base_uri": "https://localhost:8080/"
        },
        "id": "hgTByy_tpzxC",
        "outputId": "6cca98cb-dc2a-4b13-d272-539e537b830e"
      },
      "source": [
        "sfs1.k_score_"
      ],
      "execution_count": null,
      "outputs": [
        {
          "output_type": "execute_result",
          "data": {
            "text/plain": [
              "0.9589064063443148"
            ]
          },
          "metadata": {
            "tags": []
          },
          "execution_count": 8
        }
      ]
    },
    {
      "cell_type": "code",
      "metadata": {
        "colab": {
          "base_uri": "https://localhost:8080/",
          "height": 1000
        },
        "id": "qiSGonytNbFL",
        "outputId": "914aba64-10ee-4988-d189-d7174524f18e"
      },
      "source": [
        "df_result = pd.DataFrame.from_dict(sfs1.get_metric_dict()).T\n",
        "# df_result.to_csv('/content/drive/MyDrive/Thesis/models/LR_wrapper_one_percent.csv')\n",
        "df_result"
      ],
      "execution_count": null,
      "outputs": [
        {
          "output_type": "execute_result",
          "data": {
            "text/html": [
              "<div>\n",
              "<style scoped>\n",
              "    .dataframe tbody tr th:only-of-type {\n",
              "        vertical-align: middle;\n",
              "    }\n",
              "\n",
              "    .dataframe tbody tr th {\n",
              "        vertical-align: top;\n",
              "    }\n",
              "\n",
              "    .dataframe thead th {\n",
              "        text-align: right;\n",
              "    }\n",
              "</style>\n",
              "<table border=\"1\" class=\"dataframe\">\n",
              "  <thead>\n",
              "    <tr style=\"text-align: right;\">\n",
              "      <th></th>\n",
              "      <th>feature_idx</th>\n",
              "      <th>cv_scores</th>\n",
              "      <th>avg_score</th>\n",
              "      <th>feature_names</th>\n",
              "      <th>ci_bound</th>\n",
              "      <th>std_dev</th>\n",
              "      <th>std_err</th>\n",
              "    </tr>\n",
              "  </thead>\n",
              "  <tbody>\n",
              "    <tr>\n",
              "      <th>1</th>\n",
              "      <td>(12,)</td>\n",
              "      <td>[0.7278996492479639, 0.6664684898929846, 0.695...</td>\n",
              "      <td>0.711977</td>\n",
              "      <td>(Band_013,)</td>\n",
              "      <td>0.0435374</td>\n",
              "      <td>0.0338736</td>\n",
              "      <td>0.0169368</td>\n",
              "    </tr>\n",
              "    <tr>\n",
              "      <th>2</th>\n",
              "      <td>(12, 93)</td>\n",
              "      <td>[0.8373461744248261, 0.6077883472057075, 0.674...</td>\n",
              "      <td>0.75062</td>\n",
              "      <td>(Band_013, Band_094)</td>\n",
              "      <td>0.12791</td>\n",
              "      <td>0.0995184</td>\n",
              "      <td>0.0497592</td>\n",
              "    </tr>\n",
              "    <tr>\n",
              "      <th>3</th>\n",
              "      <td>(12, 59, 93)</td>\n",
              "      <td>[0.9058319957196361, 0.8160523186682521, 0.870...</td>\n",
              "      <td>0.870405</td>\n",
              "      <td>(Band_013, Band_060, Band_094)</td>\n",
              "      <td>0.0428124</td>\n",
              "      <td>0.0333095</td>\n",
              "      <td>0.0166548</td>\n",
              "    </tr>\n",
              "    <tr>\n",
              "      <th>4</th>\n",
              "      <td>(12, 59, 93, 168)</td>\n",
              "      <td>[0.9245585874799358, 0.8532104637336504, 0.902...</td>\n",
              "      <td>0.905899</td>\n",
              "      <td>(Band_013, Band_060, Band_094, Band_169)</td>\n",
              "      <td>0.037137</td>\n",
              "      <td>0.0288939</td>\n",
              "      <td>0.0144469</td>\n",
              "    </tr>\n",
              "    <tr>\n",
              "      <th>5</th>\n",
              "      <td>(12, 32, 59, 93, 168)</td>\n",
              "      <td>[0.9332976636347423, 0.8819262782401902, 0.909...</td>\n",
              "      <td>0.918039</td>\n",
              "      <td>(Band_013, Band_033, Band_060, Band_094, Band_...</td>\n",
              "      <td>0.02615</td>\n",
              "      <td>0.0203456</td>\n",
              "      <td>0.0101728</td>\n",
              "    </tr>\n",
              "    <tr>\n",
              "      <th>6</th>\n",
              "      <td>(12, 32, 59, 93, 94, 168)</td>\n",
              "      <td>[0.9393615123952203, 0.8925089179548157, 0.904...</td>\n",
              "      <td>0.923722</td>\n",
              "      <td>(Band_013, Band_033, Band_060, Band_094, Band_...</td>\n",
              "      <td>0.0273152</td>\n",
              "      <td>0.0212521</td>\n",
              "      <td>0.0106261</td>\n",
              "    </tr>\n",
              "    <tr>\n",
              "      <th>7</th>\n",
              "      <td>(12, 32, 59, 64, 93, 94, 168)</td>\n",
              "      <td>[0.9397776588787825, 0.894114149821641, 0.9095...</td>\n",
              "      <td>0.927278</td>\n",
              "      <td>(Band_013, Band_033, Band_060, Band_065, Band_...</td>\n",
              "      <td>0.0280415</td>\n",
              "      <td>0.0218172</td>\n",
              "      <td>0.0109086</td>\n",
              "    </tr>\n",
              "    <tr>\n",
              "      <th>8</th>\n",
              "      <td>(12, 32, 43, 59, 64, 93, 94, 168)</td>\n",
              "      <td>[0.948992331014803, 0.889833531510107, 0.91718...</td>\n",
              "      <td>0.931891</td>\n",
              "      <td>(Band_013, Band_033, Band_044, Band_060, Band_...</td>\n",
              "      <td>0.0318193</td>\n",
              "      <td>0.0247565</td>\n",
              "      <td>0.0123782</td>\n",
              "    </tr>\n",
              "    <tr>\n",
              "      <th>9</th>\n",
              "      <td>(12, 32, 43, 59, 64, 66, 93, 94, 168)</td>\n",
              "      <td>[0.9530348968551215, 0.8929250891795482, 0.924...</td>\n",
              "      <td>0.933651</td>\n",
              "      <td>(Band_013, Band_033, Band_044, Band_060, Band_...</td>\n",
              "      <td>0.0298774</td>\n",
              "      <td>0.0232456</td>\n",
              "      <td>0.0116228</td>\n",
              "    </tr>\n",
              "    <tr>\n",
              "      <th>10</th>\n",
              "      <td>(12, 30, 32, 43, 59, 64, 66, 93, 94, 168)</td>\n",
              "      <td>[0.9539266393198977, 0.8976813317479192, 0.928...</td>\n",
              "      <td>0.936196</td>\n",
              "      <td>(Band_013, Band_031, Band_033, Band_044, Band_...</td>\n",
              "      <td>0.0278856</td>\n",
              "      <td>0.021696</td>\n",
              "      <td>0.010848</td>\n",
              "    </tr>\n",
              "    <tr>\n",
              "      <th>11</th>\n",
              "      <td>(12, 13, 30, 32, 43, 59, 64, 66, 93, 94, 168)</td>\n",
              "      <td>[0.9555912252541466, 0.8997621878715815, 0.932...</td>\n",
              "      <td>0.938918</td>\n",
              "      <td>(Band_013, Band_014, Band_031, Band_033, Band_...</td>\n",
              "      <td>0.0284139</td>\n",
              "      <td>0.022107</td>\n",
              "      <td>0.0110535</td>\n",
              "    </tr>\n",
              "    <tr>\n",
              "      <th>12</th>\n",
              "      <td>(12, 13, 30, 32, 43, 59, 64, 66, 93, 94, 109, ...</td>\n",
              "      <td>[0.9489328815171512, 0.897384066587396, 0.9378...</td>\n",
              "      <td>0.940131</td>\n",
              "      <td>(Band_013, Band_014, Band_031, Band_033, Band_...</td>\n",
              "      <td>0.0298511</td>\n",
              "      <td>0.0232252</td>\n",
              "      <td>0.0116126</td>\n",
              "    </tr>\n",
              "    <tr>\n",
              "      <th>13</th>\n",
              "      <td>(12, 13, 30, 32, 43, 59, 64, 66, 93, 94, 104, ...</td>\n",
              "      <td>[0.9529754473574699, 0.9023186682520808, 0.940...</td>\n",
              "      <td>0.944412</td>\n",
              "      <td>(Band_013, Band_014, Band_031, Band_033, Band_...</td>\n",
              "      <td>0.0292577</td>\n",
              "      <td>0.0227635</td>\n",
              "      <td>0.0113817</td>\n",
              "    </tr>\n",
              "    <tr>\n",
              "      <th>14</th>\n",
              "      <td>(12, 13, 30, 32, 43, 59, 64, 66, 93, 94, 104, ...</td>\n",
              "      <td>[0.948041139052375, 0.9080856123662306, 0.9412...</td>\n",
              "      <td>0.94641</td>\n",
              "      <td>(Band_013, Band_014, Band_031, Band_033, Band_...</td>\n",
              "      <td>0.0280508</td>\n",
              "      <td>0.0218245</td>\n",
              "      <td>0.0109122</td>\n",
              "    </tr>\n",
              "    <tr>\n",
              "      <th>15</th>\n",
              "      <td>(12, 13, 30, 32, 43, 59, 64, 66, 93, 94, 104, ...</td>\n",
              "      <td>[0.9491112300101064, 0.9097502972651605, 0.944...</td>\n",
              "      <td>0.947492</td>\n",
              "      <td>(Band_013, Band_014, Band_031, Band_033, Band_...</td>\n",
              "      <td>0.0269104</td>\n",
              "      <td>0.0209372</td>\n",
              "      <td>0.0104686</td>\n",
              "    </tr>\n",
              "    <tr>\n",
              "      <th>16</th>\n",
              "      <td>(12, 13, 30, 32, 43, 59, 64, 66, 93, 94, 96, 1...</td>\n",
              "      <td>[0.9527376493668629, 0.9120689655172414, 0.947...</td>\n",
              "      <td>0.94893</td>\n",
              "      <td>(Band_013, Band_014, Band_031, Band_033, Band_...</td>\n",
              "      <td>0.0258733</td>\n",
              "      <td>0.0201303</td>\n",
              "      <td>0.0100652</td>\n",
              "    </tr>\n",
              "    <tr>\n",
              "      <th>17</th>\n",
              "      <td>(12, 13, 30, 32, 43, 59, 64, 66, 93, 94, 96, 1...</td>\n",
              "      <td>[0.9551750787705844, 0.9137336504161713, 0.948...</td>\n",
              "      <td>0.949929</td>\n",
              "      <td>(Band_013, Band_014, Band_031, Band_033, Band_...</td>\n",
              "      <td>0.0250283</td>\n",
              "      <td>0.0194729</td>\n",
              "      <td>0.00973643</td>\n",
              "    </tr>\n",
              "    <tr>\n",
              "      <th>18</th>\n",
              "      <td>(12, 13, 30, 32, 43, 59, 64, 66, 93, 94, 96, 1...</td>\n",
              "      <td>[0.9541644373105047, 0.9164090368608799, 0.949...</td>\n",
              "      <td>0.95113</td>\n",
              "      <td>(Band_013, Band_014, Band_031, Band_033, Band_...</td>\n",
              "      <td>0.0242796</td>\n",
              "      <td>0.0188903</td>\n",
              "      <td>0.00944516</td>\n",
              "    </tr>\n",
              "    <tr>\n",
              "      <th>19</th>\n",
              "      <td>(12, 13, 30, 32, 43, 59, 64, 66, 93, 94, 96, 1...</td>\n",
              "      <td>[0.9554128767611914, 0.9170035671819263, 0.950...</td>\n",
              "      <td>0.951618</td>\n",
              "      <td>(Band_013, Band_014, Band_031, Band_033, Band_...</td>\n",
              "      <td>0.0240302</td>\n",
              "      <td>0.0186963</td>\n",
              "      <td>0.00934815</td>\n",
              "    </tr>\n",
              "    <tr>\n",
              "      <th>20</th>\n",
              "      <td>(12, 13, 14, 30, 32, 43, 59, 64, 66, 93, 94, 9...</td>\n",
              "      <td>[0.9565424172165745, 0.9175980975029726, 0.95,...</td>\n",
              "      <td>0.952379</td>\n",
              "      <td>(Band_013, Band_014, Band_015, Band_031, Band_...</td>\n",
              "      <td>0.0244241</td>\n",
              "      <td>0.0190028</td>\n",
              "      <td>0.00950141</td>\n",
              "    </tr>\n",
              "    <tr>\n",
              "      <th>21</th>\n",
              "      <td>(12, 13, 14, 30, 32, 43, 59, 64, 66, 93, 94, 9...</td>\n",
              "      <td>[0.9581475536531716, 0.9172413793103448, 0.950...</td>\n",
              "      <td>0.952819</td>\n",
              "      <td>(Band_013, Band_014, Band_015, Band_031, Band_...</td>\n",
              "      <td>0.0248448</td>\n",
              "      <td>0.0193301</td>\n",
              "      <td>0.00966507</td>\n",
              "    </tr>\n",
              "    <tr>\n",
              "      <th>22</th>\n",
              "      <td>(12, 13, 14, 30, 32, 43, 59, 64, 66, 93, 94, 9...</td>\n",
              "      <td>[0.9610011295404554, 0.9217003567181926, 0.951...</td>\n",
              "      <td>0.953496</td>\n",
              "      <td>(Band_013, Band_014, Band_015, Band_031, Band_...</td>\n",
              "      <td>0.0220279</td>\n",
              "      <td>0.0171385</td>\n",
              "      <td>0.00856923</td>\n",
              "    </tr>\n",
              "    <tr>\n",
              "      <th>23</th>\n",
              "      <td>(12, 13, 14, 29, 30, 32, 43, 59, 64, 66, 93, 9...</td>\n",
              "      <td>[0.9604660840615897, 0.9221759809750297, 0.952...</td>\n",
              "      <td>0.953865</td>\n",
              "      <td>(Band_013, Band_014, Band_015, Band_030, Band_...</td>\n",
              "      <td>0.021978</td>\n",
              "      <td>0.0170996</td>\n",
              "      <td>0.0085498</td>\n",
              "    </tr>\n",
              "    <tr>\n",
              "      <th>24</th>\n",
              "      <td>(10, 12, 13, 14, 29, 30, 32, 43, 59, 64, 66, 9...</td>\n",
              "      <td>[0.9605849830568932, 0.9221165279429251, 0.952...</td>\n",
              "      <td>0.954162</td>\n",
              "      <td>(Band_011, Band_013, Band_014, Band_015, Band_...</td>\n",
              "      <td>0.0221621</td>\n",
              "      <td>0.0172429</td>\n",
              "      <td>0.00862143</td>\n",
              "    </tr>\n",
              "    <tr>\n",
              "      <th>25</th>\n",
              "      <td>(10, 12, 13, 14, 29, 30, 32, 43, 59, 64, 66, 9...</td>\n",
              "      <td>[0.9615956245169728, 0.9240190249702734, 0.952...</td>\n",
              "      <td>0.954519</td>\n",
              "      <td>(Band_011, Band_013, Band_014, Band_015, Band_...</td>\n",
              "      <td>0.0210138</td>\n",
              "      <td>0.0163494</td>\n",
              "      <td>0.00817471</td>\n",
              "    </tr>\n",
              "    <tr>\n",
              "      <th>26</th>\n",
              "      <td>(10, 12, 13, 14, 23, 29, 30, 32, 43, 59, 64, 6...</td>\n",
              "      <td>[0.9613578265263658, 0.9244946492271106, 0.952...</td>\n",
              "      <td>0.954626</td>\n",
              "      <td>(Band_011, Band_013, Band_014, Band_015, Band_...</td>\n",
              "      <td>0.0207948</td>\n",
              "      <td>0.016179</td>\n",
              "      <td>0.00808952</td>\n",
              "    </tr>\n",
              "    <tr>\n",
              "      <th>27</th>\n",
              "      <td>(10, 11, 12, 13, 14, 23, 29, 30, 32, 43, 59, 6...</td>\n",
              "      <td>[0.9615956245169728, 0.924256837098692, 0.9519...</td>\n",
              "      <td>0.954555</td>\n",
              "      <td>(Band_011, Band_012, Band_013, Band_014, Band_...</td>\n",
              "      <td>0.0209201</td>\n",
              "      <td>0.0162765</td>\n",
              "      <td>0.00813827</td>\n",
              "    </tr>\n",
              "    <tr>\n",
              "      <th>28</th>\n",
              "      <td>(10, 11, 12, 13, 14, 23, 29, 30, 31, 32, 43, 5...</td>\n",
              "      <td>[0.9625468164794008, 0.9251486325802616, 0.951...</td>\n",
              "      <td>0.954709</td>\n",
              "      <td>(Band_011, Band_012, Band_013, Band_014, Band_...</td>\n",
              "      <td>0.0206974</td>\n",
              "      <td>0.0161033</td>\n",
              "      <td>0.00805163</td>\n",
              "    </tr>\n",
              "    <tr>\n",
              "      <th>29</th>\n",
              "      <td>(10, 11, 12, 13, 14, 23, 24, 29, 30, 31, 32, 4...</td>\n",
              "      <td>[0.962011771000535, 0.9252675386444709, 0.9513...</td>\n",
              "      <td>0.954685</td>\n",
              "      <td>(Band_011, Band_012, Band_013, Band_014, Band_...</td>\n",
              "      <td>0.020595</td>\n",
              "      <td>0.0160236</td>\n",
              "      <td>0.00801179</td>\n",
              "    </tr>\n",
              "    <tr>\n",
              "      <th>30</th>\n",
              "      <td>(9, 10, 11, 12, 13, 14, 23, 24, 29, 30, 31, 32...</td>\n",
              "      <td>[0.9623090184887938, 0.9247324613555291, 0.950...</td>\n",
              "      <td>0.954685</td>\n",
              "      <td>(Band_010, Band_011, Band_012, Band_013, Band_...</td>\n",
              "      <td>0.0210507</td>\n",
              "      <td>0.0163781</td>\n",
              "      <td>0.00818906</td>\n",
              "    </tr>\n",
              "    <tr>\n",
              "      <th>31</th>\n",
              "      <td>(9, 10, 11, 12, 13, 14, 23, 24, 29, 30, 31, 32...</td>\n",
              "      <td>[0.9618334225075799, 0.9252675386444709, 0.951...</td>\n",
              "      <td>0.954721</td>\n",
              "      <td>(Band_010, Band_011, Band_012, Band_013, Band_...</td>\n",
              "      <td>0.0205372</td>\n",
              "      <td>0.0159787</td>\n",
              "      <td>0.00798933</td>\n",
              "    </tr>\n",
              "    <tr>\n",
              "      <th>32</th>\n",
              "      <td>(9, 10, 11, 12, 13, 14, 23, 24, 29, 30, 31, 32...</td>\n",
              "      <td>[0.9630224124606147, 0.9281212841854934, 0.952...</td>\n",
              "      <td>0.955149</td>\n",
              "      <td>(Band_010, Band_011, Band_012, Band_013, Band_...</td>\n",
              "      <td>0.0189129</td>\n",
              "      <td>0.0147149</td>\n",
              "      <td>0.00735743</td>\n",
              "    </tr>\n",
              "    <tr>\n",
              "      <th>33</th>\n",
              "      <td>(9, 10, 11, 12, 13, 14, 23, 24, 29, 30, 31, 32...</td>\n",
              "      <td>[0.963438558944177, 0.9286563614744352, 0.9513...</td>\n",
              "      <td>0.955494</td>\n",
              "      <td>(Band_010, Band_011, Band_012, Band_013, Band_...</td>\n",
              "      <td>0.0190346</td>\n",
              "      <td>0.0148096</td>\n",
              "      <td>0.00740479</td>\n",
              "    </tr>\n",
              "    <tr>\n",
              "      <th>34</th>\n",
              "      <td>(9, 10, 11, 12, 13, 14, 23, 24, 29, 30, 31, 32...</td>\n",
              "      <td>[0.9654598418643362, 0.9310939357907253, 0.953...</td>\n",
              "      <td>0.95591</td>\n",
              "      <td>(Band_010, Band_011, Band_012, Band_013, Band_...</td>\n",
              "      <td>0.0173978</td>\n",
              "      <td>0.0135361</td>\n",
              "      <td>0.00676805</td>\n",
              "    </tr>\n",
              "    <tr>\n",
              "      <th>35</th>\n",
              "      <td>(9, 10, 11, 12, 13, 14, 23, 24, 29, 30, 31, 32...</td>\n",
              "      <td>[0.9686701147375305, 0.9255648038049941, 0.953...</td>\n",
              "      <td>0.956457</td>\n",
              "      <td>(Band_010, Band_011, Band_012, Band_013, Band_...</td>\n",
              "      <td>0.0213195</td>\n",
              "      <td>0.0165873</td>\n",
              "      <td>0.00829367</td>\n",
              "    </tr>\n",
              "    <tr>\n",
              "      <th>36</th>\n",
              "      <td>(9, 10, 11, 12, 13, 14, 23, 24, 29, 30, 31, 32...</td>\n",
              "      <td>[0.9670055288032816, 0.927705112960761, 0.9553...</td>\n",
              "      <td>0.956719</td>\n",
              "      <td>(Band_010, Band_011, Band_012, Band_013, Band_...</td>\n",
              "      <td>0.0199025</td>\n",
              "      <td>0.0154848</td>\n",
              "      <td>0.00774241</td>\n",
              "    </tr>\n",
              "    <tr>\n",
              "      <th>37</th>\n",
              "      <td>(9, 10, 11, 12, 13, 14, 23, 24, 29, 30, 31, 32...</td>\n",
              "      <td>[0.9680161702633613, 0.927526753864447, 0.9548...</td>\n",
              "      <td>0.956802</td>\n",
              "      <td>(Band_010, Band_011, Band_012, Band_013, Band_...</td>\n",
              "      <td>0.0201737</td>\n",
              "      <td>0.0156958</td>\n",
              "      <td>0.0078479</td>\n",
              "    </tr>\n",
              "    <tr>\n",
              "      <th>38</th>\n",
              "      <td>(9, 10, 11, 12, 13, 14, 23, 24, 29, 30, 31, 32...</td>\n",
              "      <td>[0.9678972712680578, 0.9297859690844233, 0.956...</td>\n",
              "      <td>0.957159</td>\n",
              "      <td>(Band_010, Band_011, Band_012, Band_013, Band_...</td>\n",
              "      <td>0.0187615</td>\n",
              "      <td>0.0145971</td>\n",
              "      <td>0.00729856</td>\n",
              "    </tr>\n",
              "    <tr>\n",
              "      <th>39</th>\n",
              "      <td>(9, 10, 11, 12, 13, 14, 23, 24, 29, 30, 31, 32...</td>\n",
              "      <td>[0.9670055288032816, 0.9294292508917955, 0.956...</td>\n",
              "      <td>0.95742</td>\n",
              "      <td>(Band_010, Band_011, Band_012, Band_013, Band_...</td>\n",
              "      <td>0.0191254</td>\n",
              "      <td>0.0148802</td>\n",
              "      <td>0.00744011</td>\n",
              "    </tr>\n",
              "    <tr>\n",
              "      <th>40</th>\n",
              "      <td>(9, 10, 11, 12, 13, 14, 23, 24, 29, 30, 31, 32...</td>\n",
              "      <td>[0.9684917662445752, 0.9313317479191439, 0.955...</td>\n",
              "      <td>0.957789</td>\n",
              "      <td>(Band_010, Band_011, Band_012, Band_013, Band_...</td>\n",
              "      <td>0.018346</td>\n",
              "      <td>0.0142738</td>\n",
              "      <td>0.00713691</td>\n",
              "    </tr>\n",
              "    <tr>\n",
              "      <th>41</th>\n",
              "      <td>(9, 10, 11, 12, 13, 14, 23, 24, 29, 30, 31, 32...</td>\n",
              "      <td>[0.9689673622257892, 0.9312128418549346, 0.956...</td>\n",
              "      <td>0.958157</td>\n",
              "      <td>(Band_010, Band_011, Band_012, Band_013, Band_...</td>\n",
              "      <td>0.0185361</td>\n",
              "      <td>0.0144217</td>\n",
              "      <td>0.00721087</td>\n",
              "    </tr>\n",
              "    <tr>\n",
              "      <th>42</th>\n",
              "      <td>(9, 10, 11, 12, 13, 14, 23, 24, 29, 30, 31, 32...</td>\n",
              "      <td>[0.9699780036858688, 0.930321046373365, 0.9564...</td>\n",
              "      <td>0.958264</td>\n",
              "      <td>(Band_010, Band_011, Band_012, Band_013, Band_...</td>\n",
              "      <td>0.0190589</td>\n",
              "      <td>0.0148284</td>\n",
              "      <td>0.00741422</td>\n",
              "    </tr>\n",
              "    <tr>\n",
              "      <th>43</th>\n",
              "      <td>(9, 10, 11, 12, 13, 14, 23, 24, 29, 30, 31, 32...</td>\n",
              "      <td>[0.9698591046905654, 0.930975029726516, 0.9574...</td>\n",
              "      <td>0.958502</td>\n",
              "      <td>(Band_010, Band_011, Band_012, Band_013, Band_...</td>\n",
              "      <td>0.0186688</td>\n",
              "      <td>0.014525</td>\n",
              "      <td>0.00726249</td>\n",
              "    </tr>\n",
              "    <tr>\n",
              "      <th>44</th>\n",
              "      <td>(9, 10, 11, 12, 13, 14, 23, 24, 29, 30, 31, 32...</td>\n",
              "      <td>[0.9700374531835206, 0.9311533888228299, 0.958...</td>\n",
              "      <td>0.958657</td>\n",
              "      <td>(Band_010, Band_011, Band_012, Band_013, Band_...</td>\n",
              "      <td>0.0185477</td>\n",
              "      <td>0.0144308</td>\n",
              "      <td>0.00721539</td>\n",
              "    </tr>\n",
              "    <tr>\n",
              "      <th>45</th>\n",
              "      <td>(9, 10, 11, 12, 13, 14, 23, 24, 29, 30, 31, 32...</td>\n",
              "      <td>[0.9703347006717793, 0.9315695600475624, 0.957...</td>\n",
              "      <td>0.958692</td>\n",
              "      <td>(Band_010, Band_011, Band_012, Band_013, Band_...</td>\n",
              "      <td>0.0184095</td>\n",
              "      <td>0.0143232</td>\n",
              "      <td>0.00716162</td>\n",
              "    </tr>\n",
              "    <tr>\n",
              "      <th>46</th>\n",
              "      <td>(9, 10, 11, 12, 13, 14, 23, 24, 29, 30, 31, 32...</td>\n",
              "      <td>[0.9709886451459485, 0.9299048751486326, 0.958...</td>\n",
              "      <td>0.958823</td>\n",
              "      <td>(Band_010, Band_011, Band_012, Band_013, Band_...</td>\n",
              "      <td>0.0193607</td>\n",
              "      <td>0.0150633</td>\n",
              "      <td>0.00753166</td>\n",
              "    </tr>\n",
              "    <tr>\n",
              "      <th>47</th>\n",
              "      <td>(9, 10, 11, 12, 13, 14, 23, 24, 29, 30, 31, 32...</td>\n",
              "      <td>[0.9714642411271625, 0.9308561236623067, 0.959...</td>\n",
              "      <td>0.959216</td>\n",
              "      <td>(Band_010, Band_011, Band_012, Band_013, Band_...</td>\n",
              "      <td>0.0189811</td>\n",
              "      <td>0.014768</td>\n",
              "      <td>0.00738398</td>\n",
              "    </tr>\n",
              "    <tr>\n",
              "      <th>48</th>\n",
              "      <td>(1, 9, 10, 11, 12, 13, 14, 23, 24, 29, 30, 31,...</td>\n",
              "      <td>[0.9717614886154212, 0.9312722948870392, 0.958...</td>\n",
              "      <td>0.959311</td>\n",
              "      <td>(Band_002, Band_010, Band_011, Band_012, Band_...</td>\n",
              "      <td>0.0189482</td>\n",
              "      <td>0.0147424</td>\n",
              "      <td>0.00737118</td>\n",
              "    </tr>\n",
              "    <tr>\n",
              "      <th>49</th>\n",
              "      <td>(1, 9, 10, 11, 12, 13, 14, 23, 24, 29, 30, 31,...</td>\n",
              "      <td>[0.9715236906248143, 0.9315695600475624, 0.959...</td>\n",
              "      <td>0.959299</td>\n",
              "      <td>(Band_002, Band_010, Band_011, Band_012, Band_...</td>\n",
              "      <td>0.0187192</td>\n",
              "      <td>0.0145641</td>\n",
              "      <td>0.00728207</td>\n",
              "    </tr>\n",
              "    <tr>\n",
              "      <th>50</th>\n",
              "      <td>(1, 9, 10, 11, 12, 13, 14, 23, 24, 29, 30, 31,...</td>\n",
              "      <td>[0.9716425896201177, 0.9318668252080856, 0.959...</td>\n",
              "      <td>0.959299</td>\n",
              "      <td>(Band_002, Band_010, Band_011, Band_012, Band_...</td>\n",
              "      <td>0.0185536</td>\n",
              "      <td>0.0144353</td>\n",
              "      <td>0.00721767</td>\n",
              "    </tr>\n",
              "    <tr>\n",
              "      <th>51</th>\n",
              "      <td>(1, 9, 10, 11, 12, 13, 14, 23, 24, 29, 30, 31,...</td>\n",
              "      <td>[0.9716425896201177, 0.9319262782401903, 0.959...</td>\n",
              "      <td>0.959323</td>\n",
              "      <td>(Band_002, Band_010, Band_011, Band_012, Band_...</td>\n",
              "      <td>0.0185361</td>\n",
              "      <td>0.0144217</td>\n",
              "      <td>0.00721085</td>\n",
              "    </tr>\n",
              "    <tr>\n",
              "      <th>52</th>\n",
              "      <td>(1, 9, 10, 11, 12, 13, 14, 23, 24, 29, 30, 31,...</td>\n",
              "      <td>[0.9717020391177694, 0.9316884661117717, 0.959...</td>\n",
              "      <td>0.95918</td>\n",
              "      <td>(Band_002, Band_010, Band_011, Band_012, Band_...</td>\n",
              "      <td>0.0186183</td>\n",
              "      <td>0.0144857</td>\n",
              "      <td>0.00724285</td>\n",
              "    </tr>\n",
              "    <tr>\n",
              "      <th>53</th>\n",
              "      <td>(1, 9, 10, 11, 12, 13, 14, 23, 24, 29, 30, 31,...</td>\n",
              "      <td>[0.9715236906248143, 0.9315101070154578, 0.958...</td>\n",
              "      <td>0.959085</td>\n",
              "      <td>(Band_002, Band_010, Band_011, Band_012, Band_...</td>\n",
              "      <td>0.0186679</td>\n",
              "      <td>0.0145242</td>\n",
              "      <td>0.00726212</td>\n",
              "    </tr>\n",
              "    <tr>\n",
              "      <th>54</th>\n",
              "      <td>(0, 1, 9, 10, 11, 12, 13, 14, 23, 24, 29, 30, ...</td>\n",
              "      <td>[0.9711669936389038, 0.9313317479191439, 0.958...</td>\n",
              "      <td>0.958978</td>\n",
              "      <td>(Band_001, Band_002, Band_010, Band_011, Band_...</td>\n",
              "      <td>0.0186939</td>\n",
              "      <td>0.0145445</td>\n",
              "      <td>0.00727225</td>\n",
              "    </tr>\n",
              "    <tr>\n",
              "      <th>55</th>\n",
              "      <td>(0, 1, 9, 10, 11, 12, 13, 14, 20, 23, 24, 29, ...</td>\n",
              "      <td>[0.9712264431365555, 0.9311533888228299, 0.958...</td>\n",
              "      <td>0.95893</td>\n",
              "      <td>(Band_001, Band_002, Band_010, Band_011, Band_...</td>\n",
              "      <td>0.0187439</td>\n",
              "      <td>0.0145834</td>\n",
              "      <td>0.0072917</td>\n",
              "    </tr>\n",
              "    <tr>\n",
              "      <th>56</th>\n",
              "      <td>(0, 1, 9, 10, 11, 12, 13, 14, 17, 20, 23, 24, ...</td>\n",
              "      <td>[0.9712264431365555, 0.9307966706302021, 0.959...</td>\n",
              "      <td>0.958906</td>\n",
              "      <td>(Band_001, Band_002, Band_010, Band_011, Band_...</td>\n",
              "      <td>0.018916</td>\n",
              "      <td>0.0147173</td>\n",
              "      <td>0.00735863</td>\n",
              "    </tr>\n",
              "  </tbody>\n",
              "</table>\n",
              "</div>"
            ],
            "text/plain": [
              "                                          feature_idx  ...     std_err\n",
              "1                                               (12,)  ...   0.0169368\n",
              "2                                            (12, 93)  ...   0.0497592\n",
              "3                                        (12, 59, 93)  ...   0.0166548\n",
              "4                                   (12, 59, 93, 168)  ...   0.0144469\n",
              "5                               (12, 32, 59, 93, 168)  ...   0.0101728\n",
              "6                           (12, 32, 59, 93, 94, 168)  ...   0.0106261\n",
              "7                       (12, 32, 59, 64, 93, 94, 168)  ...   0.0109086\n",
              "8                   (12, 32, 43, 59, 64, 93, 94, 168)  ...   0.0123782\n",
              "9               (12, 32, 43, 59, 64, 66, 93, 94, 168)  ...   0.0116228\n",
              "10          (12, 30, 32, 43, 59, 64, 66, 93, 94, 168)  ...    0.010848\n",
              "11      (12, 13, 30, 32, 43, 59, 64, 66, 93, 94, 168)  ...   0.0110535\n",
              "12  (12, 13, 30, 32, 43, 59, 64, 66, 93, 94, 109, ...  ...   0.0116126\n",
              "13  (12, 13, 30, 32, 43, 59, 64, 66, 93, 94, 104, ...  ...   0.0113817\n",
              "14  (12, 13, 30, 32, 43, 59, 64, 66, 93, 94, 104, ...  ...   0.0109122\n",
              "15  (12, 13, 30, 32, 43, 59, 64, 66, 93, 94, 104, ...  ...   0.0104686\n",
              "16  (12, 13, 30, 32, 43, 59, 64, 66, 93, 94, 96, 1...  ...   0.0100652\n",
              "17  (12, 13, 30, 32, 43, 59, 64, 66, 93, 94, 96, 1...  ...  0.00973643\n",
              "18  (12, 13, 30, 32, 43, 59, 64, 66, 93, 94, 96, 1...  ...  0.00944516\n",
              "19  (12, 13, 30, 32, 43, 59, 64, 66, 93, 94, 96, 1...  ...  0.00934815\n",
              "20  (12, 13, 14, 30, 32, 43, 59, 64, 66, 93, 94, 9...  ...  0.00950141\n",
              "21  (12, 13, 14, 30, 32, 43, 59, 64, 66, 93, 94, 9...  ...  0.00966507\n",
              "22  (12, 13, 14, 30, 32, 43, 59, 64, 66, 93, 94, 9...  ...  0.00856923\n",
              "23  (12, 13, 14, 29, 30, 32, 43, 59, 64, 66, 93, 9...  ...   0.0085498\n",
              "24  (10, 12, 13, 14, 29, 30, 32, 43, 59, 64, 66, 9...  ...  0.00862143\n",
              "25  (10, 12, 13, 14, 29, 30, 32, 43, 59, 64, 66, 9...  ...  0.00817471\n",
              "26  (10, 12, 13, 14, 23, 29, 30, 32, 43, 59, 64, 6...  ...  0.00808952\n",
              "27  (10, 11, 12, 13, 14, 23, 29, 30, 32, 43, 59, 6...  ...  0.00813827\n",
              "28  (10, 11, 12, 13, 14, 23, 29, 30, 31, 32, 43, 5...  ...  0.00805163\n",
              "29  (10, 11, 12, 13, 14, 23, 24, 29, 30, 31, 32, 4...  ...  0.00801179\n",
              "30  (9, 10, 11, 12, 13, 14, 23, 24, 29, 30, 31, 32...  ...  0.00818906\n",
              "31  (9, 10, 11, 12, 13, 14, 23, 24, 29, 30, 31, 32...  ...  0.00798933\n",
              "32  (9, 10, 11, 12, 13, 14, 23, 24, 29, 30, 31, 32...  ...  0.00735743\n",
              "33  (9, 10, 11, 12, 13, 14, 23, 24, 29, 30, 31, 32...  ...  0.00740479\n",
              "34  (9, 10, 11, 12, 13, 14, 23, 24, 29, 30, 31, 32...  ...  0.00676805\n",
              "35  (9, 10, 11, 12, 13, 14, 23, 24, 29, 30, 31, 32...  ...  0.00829367\n",
              "36  (9, 10, 11, 12, 13, 14, 23, 24, 29, 30, 31, 32...  ...  0.00774241\n",
              "37  (9, 10, 11, 12, 13, 14, 23, 24, 29, 30, 31, 32...  ...   0.0078479\n",
              "38  (9, 10, 11, 12, 13, 14, 23, 24, 29, 30, 31, 32...  ...  0.00729856\n",
              "39  (9, 10, 11, 12, 13, 14, 23, 24, 29, 30, 31, 32...  ...  0.00744011\n",
              "40  (9, 10, 11, 12, 13, 14, 23, 24, 29, 30, 31, 32...  ...  0.00713691\n",
              "41  (9, 10, 11, 12, 13, 14, 23, 24, 29, 30, 31, 32...  ...  0.00721087\n",
              "42  (9, 10, 11, 12, 13, 14, 23, 24, 29, 30, 31, 32...  ...  0.00741422\n",
              "43  (9, 10, 11, 12, 13, 14, 23, 24, 29, 30, 31, 32...  ...  0.00726249\n",
              "44  (9, 10, 11, 12, 13, 14, 23, 24, 29, 30, 31, 32...  ...  0.00721539\n",
              "45  (9, 10, 11, 12, 13, 14, 23, 24, 29, 30, 31, 32...  ...  0.00716162\n",
              "46  (9, 10, 11, 12, 13, 14, 23, 24, 29, 30, 31, 32...  ...  0.00753166\n",
              "47  (9, 10, 11, 12, 13, 14, 23, 24, 29, 30, 31, 32...  ...  0.00738398\n",
              "48  (1, 9, 10, 11, 12, 13, 14, 23, 24, 29, 30, 31,...  ...  0.00737118\n",
              "49  (1, 9, 10, 11, 12, 13, 14, 23, 24, 29, 30, 31,...  ...  0.00728207\n",
              "50  (1, 9, 10, 11, 12, 13, 14, 23, 24, 29, 30, 31,...  ...  0.00721767\n",
              "51  (1, 9, 10, 11, 12, 13, 14, 23, 24, 29, 30, 31,...  ...  0.00721085\n",
              "52  (1, 9, 10, 11, 12, 13, 14, 23, 24, 29, 30, 31,...  ...  0.00724285\n",
              "53  (1, 9, 10, 11, 12, 13, 14, 23, 24, 29, 30, 31,...  ...  0.00726212\n",
              "54  (0, 1, 9, 10, 11, 12, 13, 14, 23, 24, 29, 30, ...  ...  0.00727225\n",
              "55  (0, 1, 9, 10, 11, 12, 13, 14, 20, 23, 24, 29, ...  ...   0.0072917\n",
              "56  (0, 1, 9, 10, 11, 12, 13, 14, 17, 20, 23, 24, ...  ...  0.00735863\n",
              "\n",
              "[56 rows x 7 columns]"
            ]
          },
          "metadata": {
            "tags": []
          },
          "execution_count": 9
        }
      ]
    },
    {
      "cell_type": "code",
      "metadata": {
        "colab": {
          "base_uri": "https://localhost:8080/",
          "height": 295
        },
        "id": "8Zh3FlhYNan3",
        "outputId": "13e22476-c8d9-486a-be25-bfadaeb078fa"
      },
      "source": [
        "fig1 = plot_sfs(sfs1.get_metric_dict(), kind='std_dev')\n",
        "\n",
        "# plt.ylim([0, 1])\n",
        "plt.title('Sequential Forward Selection (w. StdDev)')\n",
        "plt.grid()\n",
        "plt.show()"
      ],
      "execution_count": null,
      "outputs": [
        {
          "output_type": "display_data",
          "data": {
            "image/png": "[encoded data removed]",
            "text/plain": [
              "<Figure size 432x288 with 1 Axes>"
            ]
          },
          "metadata": {
            "tags": [],
            "needs_background": "light"
          }
        }
      ]
    },
    {
      "cell_type": "code",
      "metadata": {
        "colab": {
          "base_uri": "https://localhost:8080/",
          "height": 350
        },
        "id": "d_sPCy3QNaiE",
        "outputId": "99a096b3-789d-4d86-ec7c-3d32115a78cf"
      },
      "source": [
        "plt.figure(figsize=(10, 5))\n",
        "steps = np.arange(56) + 1\n",
        "\n",
        "upper_bound = np.array(df_result.avg_score.values + df_result.std_dev.values, dtype='float32')\n",
        "lower_bound = np.array(df_result.avg_score.values - df_result.std_dev.values, dtype='float32')\n",
        "plt.fill_between(steps, upper_bound, lower_bound, alpha=0.1, color=\"g\")\n",
        "\n",
        "plt.plot(steps, df_result.avg_score, 'o-', color=\"g\", label=\"Cross-validation score\")\n",
        "\n",
        "# plt.axvline(x=df_result.avg_score.values.argmax() + 1, ls='--', label='n_features = {}, Score = {}'.format(df_result.avg_score.values.argmax()+1, round(df_result.avg_score.values.max(), 2)))\n",
        "plt.axvline(x=20, ls='--', label='top 20 channels selected for buiilding model')\n",
        "\n",
        "\n",
        "plt.xlabel(\"Bands\")\n",
        "plt.ylabel(\"Accuracy\")\n",
        "plt.title(\"Forward Feature Selection (Logistic Regression)\")\n",
        "plt.grid(b=True, which='major', color='silver', linestyle='--')\n",
        "plt.legend(loc=\"best\")\n",
        "plt.show()"
      ],
      "execution_count": null,
      "outputs": [
        {
          "output_type": "display_data",
          "data": {
            "image/png": "[encoded data removed]",
            "text/plain": [
              "<Figure size 720x360 with 1 Axes>"
            ]
          },
          "metadata": {
            "tags": [],
            "needs_background": "light"
          }
        }
      ]
    },
    {
      "cell_type": "code",
      "metadata": {
        "colab": {
          "base_uri": "https://localhost:8080/"
        },
        "id": "R-YwHTQTXrDw",
        "outputId": "bdcc7129-c25d-40bc-b0e3-81e2b9ce2947"
      },
      "source": [
        "# ordered list of selected bands\n",
        "ordered_list = list(set(df_result.feature_names.values[0]))\n",
        "for i in range(20):\n",
        "  band = list(set(df_result.feature_names.values[i+1]) - set(df_result.feature_names.values[i]))\n",
        "  ordered_list.append(band[0])\n",
        "\n",
        "ordered_list"
      ],
      "execution_count": null,
      "outputs": [
        {
          "output_type": "execute_result",
          "data": {
            "text/plain": [
              "['Band_013',\n",
              " 'Band_094',\n",
              " 'Band_060',\n",
              " 'Band_169',\n",
              " 'Band_033',\n",
              " 'Band_095',\n",
              " 'Band_065',\n",
              " 'Band_044',\n",
              " 'Band_067',\n",
              " 'Band_031',\n",
              " 'Band_014',\n",
              " 'Band_110',\n",
              " 'Band_105',\n",
              " 'Band_129',\n",
              " 'Band_106',\n",
              " 'Band_097',\n",
              " 'Band_175',\n",
              " 'Band_122',\n",
              " 'Band_176',\n",
              " 'Band_015',\n",
              " 'Band_121']"
            ]
          },
          "metadata": {
            "tags": []
          },
          "execution_count": 12
        }
      ]
    },
    {
      "cell_type": "code",
      "metadata": {
        "colab": {
          "base_uri": "https://localhost:8080/"
        },
        "id": "GllZ9EB7Xq1g",
        "outputId": "330468cb-e80a-4364-ee33-e7974d0f08b8"
      },
      "source": [
        "# sorted list of selected bands\n",
        "sorted_list = list(df_result.feature_names[len(df_result.feature_names)])\n",
        "sorted_list"
      ],
      "execution_count": null,
      "outputs": [
        {
          "output_type": "execute_result",
          "data": {
            "text/plain": [
              "['Band_001',\n",
              " 'Band_002',\n",
              " 'Band_010',\n",
              " 'Band_011',\n",
              " 'Band_012',\n",
              " 'Band_013',\n",
              " 'Band_014',\n",
              " 'Band_015',\n",
              " 'Band_018',\n",
              " 'Band_021',\n",
              " 'Band_024',\n",
              " 'Band_025',\n",
              " 'Band_030',\n",
              " 'Band_031',\n",
              " 'Band_032',\n",
              " 'Band_033',\n",
              " 'Band_042',\n",
              " 'Band_044',\n",
              " 'Band_047',\n",
              " 'Band_049',\n",
              " 'Band_051',\n",
              " 'Band_052',\n",
              " 'Band_060',\n",
              " 'Band_061',\n",
              " 'Band_065',\n",
              " 'Band_067',\n",
              " 'Band_094',\n",
              " 'Band_095',\n",
              " 'Band_097',\n",
              " 'Band_105',\n",
              " 'Band_106',\n",
              " 'Band_110',\n",
              " 'Band_112',\n",
              " 'Band_121',\n",
              " 'Band_122',\n",
              " 'Band_127',\n",
              " 'Band_129',\n",
              " 'Band_133',\n",
              " 'Band_142',\n",
              " 'Band_149',\n",
              " 'Band_150',\n",
              " 'Band_151',\n",
              " 'Band_152',\n",
              " 'Band_154',\n",
              " 'Band_156',\n",
              " 'Band_159',\n",
              " 'Band_160',\n",
              " 'Band_162',\n",
              " 'Band_167',\n",
              " 'Band_168',\n",
              " 'Band_169',\n",
              " 'Band_170',\n",
              " 'Band_175',\n",
              " 'Band_176',\n",
              " 'Band_182',\n",
              " 'Band_185']"
            ]
          },
          "metadata": {
            "tags": []
          },
          "execution_count": 13
        }
      ]
    },
    {
      "cell_type": "markdown",
      "metadata": {
        "id": "d5yL818TX2aS"
      },
      "source": [
        "### all in one"
      ]
    },
    {
      "cell_type": "code",
      "metadata": {
        "id": "AOY-l5_b6A9w"
      },
      "source": [
        "# read the wrapper file from drive\n",
        "filename = '/content/drive/MyDrive/Thesis/results/wrappers/'\n",
        "sfs_lr = pickle.load(open(filename + 'SFS_LR.sav', 'rb'))\n",
        "sfs_rf = pickle.load(open(filename + 'SFS_RF.sav', 'rb'))\n",
        "sfs_svm = pickle.load(open(filename + 'SFS_SVM.sav', 'rb'))"
      ],
      "execution_count": null,
      "outputs": []
    },
    {
      "cell_type": "code",
      "metadata": {
        "id": "I-rsRwYI6A6w"
      },
      "source": [
        "df_lr = pd.DataFrame.from_dict(sfs_lr.get_metric_dict()).T\n",
        "df_rf = pd.DataFrame.from_dict(sfs_rf.get_metric_dict()).T\n",
        "df_svm = pd.DataFrame.from_dict(sfs_svm.get_metric_dict()).T"
      ],
      "execution_count": null,
      "outputs": []
    },
    {
      "cell_type": "code",
      "metadata": {
        "id": "u0dFrDuQ6A2d"
      },
      "source": [
        "# lr_train_scores_mean_arr = df_lr.avg_score.values\n",
        "# lr_train_scores_std_arr = df_lr.std_dev.values\n",
        "lr_val_scores_mean_arr = df_lr.avg_score.values\n",
        "lr_val_scores_std_arr = df_lr.std_dev.values\n",
        "\n",
        "# rf_train_scores_mean_arr = df_rf.train_scores_mean.values\n",
        "# rf_train_scores_std_arr = df_rf.train_scores_std.values\n",
        "rf_val_scores_mean_arr = df_rf.avg_score.values\n",
        "rf_val_scores_std_arr = df_rf.std_dev.values\n",
        "\n",
        "# svm_train_scores_mean_arr = df_svm.train_scores_mean.values\n",
        "# svm_train_scores_std_arr = df_svm.train_scores_std.values\n",
        "svm_val_scores_mean_arr = df_svm.avg_score.values\n",
        "svm_val_scores_std_arr = df_svm.std_dev.values"
      ],
      "execution_count": null,
      "outputs": []
    },
    {
      "cell_type": "code",
      "metadata": {
        "colab": {
          "base_uri": "https://localhost:8080/",
          "height": 286
        },
        "id": "99i6HLAq6Azo",
        "outputId": "b80286fe-c5a3-484c-c254-d6f1373ca20e"
      },
      "source": [
        "steps_lr = np.arange(len(lr_val_scores_mean_arr)) + 1\n",
        "steps_rf = np.arange(len(rf_val_scores_mean_arr)) + 1\n",
        "steps_svm = np.arange(len(svm_val_scores_mean_arr)) + 1\n",
        "\n",
        "plt.figure(figsize=(18, 5))\n",
        "\n",
        "# logistic regression\n",
        "# plt.fill_between(steps_lr, lr_train_scores_mean_arr - lr_train_scores_std_arr,\n",
        "#                  lr_train_scores_mean_arr + lr_train_scores_std_arr, alpha=0.1, color=\"green\")\n",
        "# plt.fill_between(steps_lr, lr_val_scores_mean_arr - lr_val_scores_std_arr,\n",
        "#                  lr_val_scores_mean_arr + lr_val_scores_std_arr, alpha=0.1, color=\"red\")\n",
        "# plt.plot(steps_lr, lr_train_scores_mean_arr, '--', color=\"green\", label=\"LR Training score\")\n",
        "plt.plot(steps_lr, lr_val_scores_mean_arr, '-', color=\"red\", label=\"LR Cross-validation score\")\n",
        "plt.axvline(x=lr_val_scores_mean_arr.argmax() + 1, ls='--', label='n_features = {}, Score = {}'.format(lr_val_scores_mean_arr.argmax()+1, round(lr_val_scores_mean_arr.max(), 2)))\n",
        "\n",
        "# random forest\n",
        "# plt.fill_between(steps_rf, rf_train_scores_mean_arr - rf_train_scores_std_arr,\n",
        "#                  rf_train_scores_mean_arr + rf_train_scores_std_arr, alpha=0.1, color=\"blue\")\n",
        "# plt.fill_between(steps_rf, rf_val_scores_mean_arr - rf_val_scores_std_arr,\n",
        "#                  rf_val_scores_mean_arr + rf_val_scores_std_arr, alpha=0.1, color=\"black\")\n",
        "# plt.plot(steps_rf, rf_train_scores_mean_arr, '--', color=\"blue\", label=\"RF Training score\")\n",
        "plt.plot(steps_rf, rf_val_scores_mean_arr, '-', color=\"black\", label=\"RF Cross-validation score\")\n",
        "plt.axvline(x=rf_val_scores_mean_arr.argmax() + 1, ls='--', label='n_features = {}, Score = {}'.format(rf_val_scores_mean_arr.argmax()+1, round(rf_val_scores_mean_arr.max(), 2)))\n",
        "\n",
        "# svm\n",
        "# plt.fill_between(steps_svm, svm_train_scores_mean_arr - svm_train_scores_std_arr,\n",
        "#                  svm_train_scores_mean_arr + svm_train_scores_std_arr, alpha=0.1, color=\"orange\")\n",
        "# plt.fill_between(steps_svm, svm_val_scores_mean_arr - svm_val_scores_std_arr,\n",
        "#                  svm_val_scores_mean_arr + svm_val_scores_std_arr, alpha=0.1, color=\"gray\")\n",
        "# plt.plot(steps_svm, svm_train_scores_mean_arr, '--', color=\"orange\", label=\"SVM Training score\")\n",
        "plt.plot(steps_svm, svm_val_scores_mean_arr, '-', color=\"gray\", label=\"SVM Cross-validation score\")\n",
        "plt.axvline(x=svm_val_scores_mean_arr.argmax() + 1, ls='--', label='n_features = {}, Score = {}'.format(svm_val_scores_mean_arr.argmax()+1, round(svm_val_scores_mean_arr.max(), 2)))\n",
        "\n",
        "\n",
        "plt.xlabel(\"Bands\")\n",
        "plt.ylabel(\"Accuracy\")\n",
        "plt.title(\"Learning Curve (Forward feature selection)\")\n",
        "plt.grid(b=True, which='major', color='silver', linestyle='--')\n",
        "plt.legend(loc=\"best\")\n",
        "plt.show()"
      ],
      "execution_count": null,
      "outputs": [
        {
          "output_type": "display_data",
          "data": {
            "image/png": "[encoded data removed]",
            "text/plain": [
              "<Figure size 1296x360 with 1 Axes>"
            ]
          },
          "metadata": {
            "tags": [],
            "needs_background": "light"
          }
        }
      ]
    },
    {
      "cell_type": "code",
      "metadata": {
        "id": "DLlDT-mF6Av5"
      },
      "source": [
        ""
      ],
      "execution_count": null,
      "outputs": []
    },
    {
      "cell_type": "code",
      "metadata": {
        "id": "hvCT9x_R6Ars"
      },
      "source": [
        ""
      ],
      "execution_count": null,
      "outputs": []
    },
    {
      "cell_type": "markdown",
      "metadata": {
        "id": "DKmjdSBr8BIS"
      },
      "source": [
        "## Grid Search CV for tuning hyper parameters of LR"
      ]
    },
    {
      "cell_type": "code",
      "metadata": {
        "colab": {
          "base_uri": "https://localhost:8080/"
        },
        "id": "guPK_wjvTKlP",
        "outputId": "373ff0a0-3c92-459f-9a58-f26c68eefffc"
      },
      "source": [
        "top_list = 13\n",
        "selected_fatures = []\n",
        "selected_fatures_idx = []\n",
        "\n",
        "# df_result.feature_names[top_list][10]\n",
        "for i in range(top_list):\n",
        "  selected_fatures.append(df_result.feature_names[top_list][i])\n",
        "  selected_fatures_idx.append(df_result.feature_idx[top_list][i])\n",
        "\n",
        "selected_fatures"
      ],
      "execution_count": null,
      "outputs": [
        {
          "output_type": "execute_result",
          "data": {
            "text/plain": [
              "['Band_013',\n",
              " 'Band_014',\n",
              " 'Band_031',\n",
              " 'Band_033',\n",
              " 'Band_044',\n",
              " 'Band_060',\n",
              " 'Band_065',\n",
              " 'Band_067',\n",
              " 'Band_094',\n",
              " 'Band_095',\n",
              " 'Band_105',\n",
              " 'Band_110',\n",
              " 'Band_169']"
            ]
          },
          "metadata": {
            "tags": []
          },
          "execution_count": 13
        }
      ]
    },
    {
      "cell_type": "code",
      "metadata": {
        "id": "AtOF7kpiB_-s"
      },
      "source": [
        "# X = np.load('/content/drive/MyDrive/Thesis/dataset/segmented_normalized_one_tenth/X.npy')\n",
        "# y = np.load('/content/drive/MyDrive/Thesis/dataset/segmented_normalized_one_tenth/y.npy')"
      ],
      "execution_count": null,
      "outputs": []
    },
    {
      "cell_type": "code",
      "metadata": {
        "id": "CIH5JZCGCi4T"
      },
      "source": [
        "X = X[::10, :]\n",
        "y = y[::10]"
      ],
      "execution_count": null,
      "outputs": []
    },
    {
      "cell_type": "code",
      "metadata": {
        "colab": {
          "base_uri": "https://localhost:8080/",
          "height": 159
        },
        "id": "ClJ8mbfe7nc_",
        "outputId": "f9f8a414-e44d-43f8-9bb2-8bfb908b66d0"
      },
      "source": [
        "df = pd.DataFrame(data=X, columns=columns)\n",
        "df.head(2)"
      ],
      "execution_count": null,
      "outputs": [
        {
          "output_type": "execute_result",
          "data": {
            "text/html": [
              "<div>\n",
              "<style scoped>\n",
              "    .dataframe tbody tr th:only-of-type {\n",
              "        vertical-align: middle;\n",
              "    }\n",
              "\n",
              "    .dataframe tbody tr th {\n",
              "        vertical-align: top;\n",
              "    }\n",
              "\n",
              "    .dataframe thead th {\n",
              "        text-align: right;\n",
              "    }\n",
              "</style>\n",
              "<table border=\"1\" class=\"dataframe\">\n",
              "  <thead>\n",
              "    <tr style=\"text-align: right;\">\n",
              "      <th></th>\n",
              "      <th>Band_001</th>\n",
              "      <th>Band_002</th>\n",
              "      <th>Band_003</th>\n",
              "      <th>Band_004</th>\n",
              "      <th>Band_005</th>\n",
              "      <th>Band_006</th>\n",
              "      <th>Band_007</th>\n",
              "      <th>Band_008</th>\n",
              "      <th>Band_009</th>\n",
              "      <th>Band_010</th>\n",
              "      <th>Band_011</th>\n",
              "      <th>Band_012</th>\n",
              "      <th>Band_013</th>\n",
              "      <th>Band_014</th>\n",
              "      <th>Band_015</th>\n",
              "      <th>Band_016</th>\n",
              "      <th>Band_017</th>\n",
              "      <th>Band_018</th>\n",
              "      <th>Band_019</th>\n",
              "      <th>Band_020</th>\n",
              "      <th>Band_021</th>\n",
              "      <th>Band_022</th>\n",
              "      <th>Band_023</th>\n",
              "      <th>Band_024</th>\n",
              "      <th>Band_025</th>\n",
              "      <th>Band_026</th>\n",
              "      <th>Band_027</th>\n",
              "      <th>Band_028</th>\n",
              "      <th>Band_029</th>\n",
              "      <th>Band_030</th>\n",
              "      <th>Band_031</th>\n",
              "      <th>Band_032</th>\n",
              "      <th>Band_033</th>\n",
              "      <th>Band_034</th>\n",
              "      <th>Band_035</th>\n",
              "      <th>Band_036</th>\n",
              "      <th>Band_037</th>\n",
              "      <th>Band_038</th>\n",
              "      <th>Band_039</th>\n",
              "      <th>Band_040</th>\n",
              "      <th>...</th>\n",
              "      <th>Band_147</th>\n",
              "      <th>Band_148</th>\n",
              "      <th>Band_149</th>\n",
              "      <th>Band_150</th>\n",
              "      <th>Band_151</th>\n",
              "      <th>Band_152</th>\n",
              "      <th>Band_153</th>\n",
              "      <th>Band_154</th>\n",
              "      <th>Band_155</th>\n",
              "      <th>Band_156</th>\n",
              "      <th>Band_157</th>\n",
              "      <th>Band_158</th>\n",
              "      <th>Band_159</th>\n",
              "      <th>Band_160</th>\n",
              "      <th>Band_161</th>\n",
              "      <th>Band_162</th>\n",
              "      <th>Band_163</th>\n",
              "      <th>Band_164</th>\n",
              "      <th>Band_165</th>\n",
              "      <th>Band_166</th>\n",
              "      <th>Band_167</th>\n",
              "      <th>Band_168</th>\n",
              "      <th>Band_169</th>\n",
              "      <th>Band_170</th>\n",
              "      <th>Band_171</th>\n",
              "      <th>Band_172</th>\n",
              "      <th>Band_173</th>\n",
              "      <th>Band_174</th>\n",
              "      <th>Band_175</th>\n",
              "      <th>Band_176</th>\n",
              "      <th>Band_177</th>\n",
              "      <th>Band_178</th>\n",
              "      <th>Band_179</th>\n",
              "      <th>Band_180</th>\n",
              "      <th>Band_181</th>\n",
              "      <th>Band_182</th>\n",
              "      <th>Band_183</th>\n",
              "      <th>Band_184</th>\n",
              "      <th>Band_185</th>\n",
              "      <th>Band_186</th>\n",
              "    </tr>\n",
              "  </thead>\n",
              "  <tbody>\n",
              "    <tr>\n",
              "      <th>0</th>\n",
              "      <td>0.055364</td>\n",
              "      <td>0.071277</td>\n",
              "      <td>0.062560</td>\n",
              "      <td>0.062931</td>\n",
              "      <td>0.073905</td>\n",
              "      <td>0.055737</td>\n",
              "      <td>0.062921</td>\n",
              "      <td>0.060123</td>\n",
              "      <td>0.056552</td>\n",
              "      <td>0.062749</td>\n",
              "      <td>0.059414</td>\n",
              "      <td>0.059066</td>\n",
              "      <td>0.066134</td>\n",
              "      <td>0.064663</td>\n",
              "      <td>0.062497</td>\n",
              "      <td>0.063313</td>\n",
              "      <td>0.062573</td>\n",
              "      <td>0.063923</td>\n",
              "      <td>0.072067</td>\n",
              "      <td>0.061628</td>\n",
              "      <td>0.068952</td>\n",
              "      <td>0.069534</td>\n",
              "      <td>0.063854</td>\n",
              "      <td>0.063532</td>\n",
              "      <td>0.063523</td>\n",
              "      <td>0.063333</td>\n",
              "      <td>0.066438</td>\n",
              "      <td>0.065995</td>\n",
              "      <td>0.068486</td>\n",
              "      <td>0.067091</td>\n",
              "      <td>0.065591</td>\n",
              "      <td>0.069869</td>\n",
              "      <td>0.071611</td>\n",
              "      <td>0.071547</td>\n",
              "      <td>0.075075</td>\n",
              "      <td>0.079294</td>\n",
              "      <td>0.077710</td>\n",
              "      <td>0.074765</td>\n",
              "      <td>0.081016</td>\n",
              "      <td>0.080989</td>\n",
              "      <td>...</td>\n",
              "      <td>0.256003</td>\n",
              "      <td>0.244539</td>\n",
              "      <td>0.252226</td>\n",
              "      <td>0.255288</td>\n",
              "      <td>0.258960</td>\n",
              "      <td>0.255068</td>\n",
              "      <td>0.257223</td>\n",
              "      <td>0.266414</td>\n",
              "      <td>0.260323</td>\n",
              "      <td>0.269098</td>\n",
              "      <td>0.268707</td>\n",
              "      <td>0.262175</td>\n",
              "      <td>0.269845</td>\n",
              "      <td>0.263428</td>\n",
              "      <td>0.276127</td>\n",
              "      <td>0.277523</td>\n",
              "      <td>0.279097</td>\n",
              "      <td>0.271806</td>\n",
              "      <td>0.286093</td>\n",
              "      <td>0.284609</td>\n",
              "      <td>0.276917</td>\n",
              "      <td>0.290901</td>\n",
              "      <td>0.271737</td>\n",
              "      <td>0.296084</td>\n",
              "      <td>0.287388</td>\n",
              "      <td>0.288105</td>\n",
              "      <td>0.297305</td>\n",
              "      <td>0.287817</td>\n",
              "      <td>0.293130</td>\n",
              "      <td>0.280577</td>\n",
              "      <td>0.294222</td>\n",
              "      <td>0.307158</td>\n",
              "      <td>0.299976</td>\n",
              "      <td>0.291312</td>\n",
              "      <td>0.304959</td>\n",
              "      <td>0.295205</td>\n",
              "      <td>0.289494</td>\n",
              "      <td>0.300307</td>\n",
              "      <td>0.298140</td>\n",
              "      <td>0.306262</td>\n",
              "    </tr>\n",
              "    <tr>\n",
              "      <th>1</th>\n",
              "      <td>0.074993</td>\n",
              "      <td>0.072435</td>\n",
              "      <td>0.064133</td>\n",
              "      <td>0.080734</td>\n",
              "      <td>0.088216</td>\n",
              "      <td>0.070953</td>\n",
              "      <td>0.067431</td>\n",
              "      <td>0.068336</td>\n",
              "      <td>0.079696</td>\n",
              "      <td>0.081326</td>\n",
              "      <td>0.072144</td>\n",
              "      <td>0.064534</td>\n",
              "      <td>0.071140</td>\n",
              "      <td>0.076132</td>\n",
              "      <td>0.076926</td>\n",
              "      <td>0.073100</td>\n",
              "      <td>0.068827</td>\n",
              "      <td>0.075382</td>\n",
              "      <td>0.074642</td>\n",
              "      <td>0.074307</td>\n",
              "      <td>0.076571</td>\n",
              "      <td>0.078271</td>\n",
              "      <td>0.073199</td>\n",
              "      <td>0.074093</td>\n",
              "      <td>0.081167</td>\n",
              "      <td>0.073853</td>\n",
              "      <td>0.073868</td>\n",
              "      <td>0.075267</td>\n",
              "      <td>0.083201</td>\n",
              "      <td>0.082551</td>\n",
              "      <td>0.086952</td>\n",
              "      <td>0.093180</td>\n",
              "      <td>0.105580</td>\n",
              "      <td>0.112416</td>\n",
              "      <td>0.123468</td>\n",
              "      <td>0.129664</td>\n",
              "      <td>0.151454</td>\n",
              "      <td>0.161905</td>\n",
              "      <td>0.169379</td>\n",
              "      <td>0.175393</td>\n",
              "      <td>...</td>\n",
              "      <td>0.505026</td>\n",
              "      <td>0.494720</td>\n",
              "      <td>0.483715</td>\n",
              "      <td>0.488838</td>\n",
              "      <td>0.488722</td>\n",
              "      <td>0.487259</td>\n",
              "      <td>0.482478</td>\n",
              "      <td>0.480058</td>\n",
              "      <td>0.500768</td>\n",
              "      <td>0.489220</td>\n",
              "      <td>0.471241</td>\n",
              "      <td>0.482861</td>\n",
              "      <td>0.477204</td>\n",
              "      <td>0.484921</td>\n",
              "      <td>0.481572</td>\n",
              "      <td>0.477932</td>\n",
              "      <td>0.482379</td>\n",
              "      <td>0.469481</td>\n",
              "      <td>0.480970</td>\n",
              "      <td>0.455296</td>\n",
              "      <td>0.474330</td>\n",
              "      <td>0.453260</td>\n",
              "      <td>0.479589</td>\n",
              "      <td>0.466238</td>\n",
              "      <td>0.457954</td>\n",
              "      <td>0.463635</td>\n",
              "      <td>0.447302</td>\n",
              "      <td>0.468616</td>\n",
              "      <td>0.465824</td>\n",
              "      <td>0.460319</td>\n",
              "      <td>0.453349</td>\n",
              "      <td>0.457308</td>\n",
              "      <td>0.448119</td>\n",
              "      <td>0.459175</td>\n",
              "      <td>0.454227</td>\n",
              "      <td>0.460216</td>\n",
              "      <td>0.452923</td>\n",
              "      <td>0.471841</td>\n",
              "      <td>0.476259</td>\n",
              "      <td>0.469941</td>\n",
              "    </tr>\n",
              "  </tbody>\n",
              "</table>\n",
              "<p>2 rows × 186 columns</p>\n",
              "</div>"
            ],
            "text/plain": [
              "   Band_001  Band_002  Band_003  ...  Band_184  Band_185  Band_186\n",
              "0  0.055364  0.071277  0.062560  ...  0.300307  0.298140  0.306262\n",
              "1  0.074993  0.072435  0.064133  ...  0.471841  0.476259  0.469941\n",
              "\n",
              "[2 rows x 186 columns]"
            ]
          },
          "metadata": {
            "tags": []
          },
          "execution_count": 14
        }
      ]
    },
    {
      "cell_type": "code",
      "metadata": {
        "colab": {
          "base_uri": "https://localhost:8080/",
          "height": 110
        },
        "id": "Q2Y-RLoi7546",
        "outputId": "876b4916-1aa1-40be-cca5-4e1511c6f8f4"
      },
      "source": [
        "df = df[selected_fatures]\n",
        "df.head(2)"
      ],
      "execution_count": null,
      "outputs": [
        {
          "output_type": "execute_result",
          "data": {
            "text/html": [
              "<div>\n",
              "<style scoped>\n",
              "    .dataframe tbody tr th:only-of-type {\n",
              "        vertical-align: middle;\n",
              "    }\n",
              "\n",
              "    .dataframe tbody tr th {\n",
              "        vertical-align: top;\n",
              "    }\n",
              "\n",
              "    .dataframe thead th {\n",
              "        text-align: right;\n",
              "    }\n",
              "</style>\n",
              "<table border=\"1\" class=\"dataframe\">\n",
              "  <thead>\n",
              "    <tr style=\"text-align: right;\">\n",
              "      <th></th>\n",
              "      <th>Band_013</th>\n",
              "      <th>Band_014</th>\n",
              "      <th>Band_031</th>\n",
              "      <th>Band_033</th>\n",
              "      <th>Band_044</th>\n",
              "      <th>Band_060</th>\n",
              "      <th>Band_065</th>\n",
              "      <th>Band_067</th>\n",
              "      <th>Band_094</th>\n",
              "      <th>Band_095</th>\n",
              "      <th>Band_105</th>\n",
              "      <th>Band_110</th>\n",
              "      <th>Band_169</th>\n",
              "    </tr>\n",
              "  </thead>\n",
              "  <tbody>\n",
              "    <tr>\n",
              "      <th>0</th>\n",
              "      <td>0.066134</td>\n",
              "      <td>0.064663</td>\n",
              "      <td>0.065591</td>\n",
              "      <td>0.071611</td>\n",
              "      <td>0.081628</td>\n",
              "      <td>0.092798</td>\n",
              "      <td>0.098142</td>\n",
              "      <td>0.094276</td>\n",
              "      <td>0.122954</td>\n",
              "      <td>0.135042</td>\n",
              "      <td>0.19498</td>\n",
              "      <td>0.194963</td>\n",
              "      <td>0.271737</td>\n",
              "    </tr>\n",
              "    <tr>\n",
              "      <th>1</th>\n",
              "      <td>0.071140</td>\n",
              "      <td>0.076132</td>\n",
              "      <td>0.086952</td>\n",
              "      <td>0.105580</td>\n",
              "      <td>0.197195</td>\n",
              "      <td>0.177255</td>\n",
              "      <td>0.170280</td>\n",
              "      <td>0.159244</td>\n",
              "      <td>0.252641</td>\n",
              "      <td>0.282450</td>\n",
              "      <td>0.48494</td>\n",
              "      <td>0.492199</td>\n",
              "      <td>0.479589</td>\n",
              "    </tr>\n",
              "  </tbody>\n",
              "</table>\n",
              "</div>"
            ],
            "text/plain": [
              "   Band_013  Band_014  Band_031  ...  Band_105  Band_110  Band_169\n",
              "0  0.066134  0.064663  0.065591  ...   0.19498  0.194963  0.271737\n",
              "1  0.071140  0.076132  0.086952  ...   0.48494  0.492199  0.479589\n",
              "\n",
              "[2 rows x 13 columns]"
            ]
          },
          "metadata": {
            "tags": []
          },
          "execution_count": 15
        }
      ]
    },
    {
      "cell_type": "code",
      "metadata": {
        "colab": {
          "base_uri": "https://localhost:8080/"
        },
        "id": "AuyIE-obB5ZE",
        "outputId": "d562776b-94bc-4fd1-ab66-9ef9fa1edf04"
      },
      "source": [
        "df.shape"
      ],
      "execution_count": null,
      "outputs": [
        {
          "output_type": "execute_result",
          "data": {
            "text/plain": [
              "(84101, 13)"
            ]
          },
          "metadata": {
            "tags": []
          },
          "execution_count": 16
        }
      ]
    },
    {
      "cell_type": "code",
      "metadata": {
        "id": "3cLAjMobLCLx"
      },
      "source": [
        ""
      ],
      "execution_count": null,
      "outputs": []
    },
    {
      "cell_type": "code",
      "metadata": {
        "id": "nQpNkSnmLyBL"
      },
      "source": [
        "clf = LogisticRegression(max_iter=1000000, random_state=42)"
      ],
      "execution_count": null,
      "outputs": []
    },
    {
      "cell_type": "code",
      "metadata": {
        "id": "-f6J3iFBLxs0"
      },
      "source": [
        "param_grid = [{'C': [0.1, 0.3, 0.5, 0.7, 0.9, 1], 'solver': ['newton-cg', 'lbfgs', 'sag'], 'penalty': ['l2']},\n",
        "              {'solver': ['newton-cg', 'lbfgs', 'liblinear', 'sag', 'saga'], 'penalty': ['none']}]"
      ],
      "execution_count": null,
      "outputs": []
    },
    {
      "cell_type": "code",
      "metadata": {
        "id": "Y4AA6u_0G2xQ"
      },
      "source": [
        "grid_search = GridSearchCV(estimator = clf,\n",
        "                           param_grid = param_grid,\n",
        "                           scoring = 'accuracy',\n",
        "                           cv = 5,\n",
        "                           n_jobs = -1)\n",
        "grid_search = grid_search.fit(df, y)"
      ],
      "execution_count": null,
      "outputs": []
    },
    {
      "cell_type": "code",
      "metadata": {
        "id": "kl8FPYTbG2mm"
      },
      "source": [
        "best_estimator = grid_search.best_estimator_"
      ],
      "execution_count": null,
      "outputs": []
    },
    {
      "cell_type": "code",
      "metadata": {
        "id": "Pj2n1x7aGOhv",
        "colab": {
          "base_uri": "https://localhost:8080/"
        },
        "outputId": "68ff475d-ec8c-46b6-b5dd-b3063912be51"
      },
      "source": [
        "grid_search.best_score_"
      ],
      "execution_count": null,
      "outputs": [
        {
          "output_type": "execute_result",
          "data": {
            "text/plain": [
              "0.9445427792859288"
            ]
          },
          "metadata": {
            "tags": []
          },
          "execution_count": 24
        }
      ]
    },
    {
      "cell_type": "code",
      "metadata": {
        "id": "FiLAcCzXGOXj",
        "colab": {
          "base_uri": "https://localhost:8080/"
        },
        "outputId": "f10358f3-7f1f-4228-af0f-6e69bf37df21"
      },
      "source": [
        "grid_search.best_params_"
      ],
      "execution_count": null,
      "outputs": [
        {
          "output_type": "execute_result",
          "data": {
            "text/plain": [
              "{'penalty': 'none', 'solver': 'sag'}"
            ]
          },
          "metadata": {
            "tags": []
          },
          "execution_count": 25
        }
      ]
    },
    {
      "cell_type": "code",
      "metadata": {
        "colab": {
          "base_uri": "https://localhost:8080/"
        },
        "id": "bZU2oPyDaeWO",
        "outputId": "c589974c-2036-4666-b4de-e2ba8c3f22d4"
      },
      "source": [
        "# param_grid[0]['C']"
      ],
      "execution_count": null,
      "outputs": [
        {
          "output_type": "execute_result",
          "data": {
            "text/plain": [
              "[0.1, 0.3, 0.5, 0.7, 0.9, 1]"
            ]
          },
          "metadata": {
            "tags": []
          },
          "execution_count": 39
        }
      ]
    },
    {
      "cell_type": "code",
      "metadata": {
        "colab": {
          "base_uri": "https://localhost:8080/",
          "height": 295
        },
        "id": "Jo01SNp-aeTd",
        "outputId": "d0c11d00-7412-4b5d-b4d1-7d43c0771c37"
      },
      "source": [
        "plt.scatter(np.arange(18)+1,grid_search.cv_results_['mean_test_score'][:18], label='l2 regularized')\n",
        "plt.scatter(np.arange(5)+19,grid_search.cv_results_['mean_test_score'][18:], label='no regularization')\n",
        "plt.title('combination of GridsearchCV')\n",
        "plt.xlabel('each combination of grid parameters')\n",
        "plt.ylabel('accuracy')\n",
        "plt.legend(loc='upper left')\n",
        "plt.show()"
      ],
      "execution_count": null,
      "outputs": [
        {
          "output_type": "display_data",
          "data": {
            "image/png": "[encoded data removed]",
            "text/plain": [
              "<Figure size 432x288 with 1 Axes>"
            ]
          },
          "metadata": {
            "tags": [],
            "needs_background": "light"
          }
        }
      ]
    },
    {
      "cell_type": "code",
      "metadata": {
        "id": "6SJA65FfGONV",
        "colab": {
          "base_uri": "https://localhost:8080/"
        },
        "outputId": "df473c6b-5690-497f-8fcf-cfa240c6c9ad"
      },
      "source": [
        "grid_search.cv_results_['mean_test_score']"
      ],
      "execution_count": null,
      "outputs": [
        {
          "output_type": "execute_result",
          "data": {
            "text/plain": [
              "array([0.85469799, 0.85466232, 0.85461476, 0.88362754, 0.88360376,\n",
              "       0.88369889, 0.89601747, 0.89604125, 0.89601747, 0.90336583,\n",
              "       0.90334205, 0.9034015 , 0.90780101, 0.90778912, 0.90775345,\n",
              "       0.90988185, 0.90990564, 0.90975106, 0.94443576, 0.94440008,\n",
              "              nan, 0.94454278, 0.94417418])"
            ]
          },
          "metadata": {
            "tags": []
          },
          "execution_count": 31
        }
      ]
    },
    {
      "cell_type": "code",
      "metadata": {
        "colab": {
          "base_uri": "https://localhost:8080/"
        },
        "id": "JSXiHQaugCZc",
        "outputId": "ae50a696-2b0c-4c22-f546-d6a6a88e26fe"
      },
      "source": [
        "grid_search."
      ],
      "execution_count": null,
      "outputs": [
        {
          "output_type": "execute_result",
          "data": {
            "text/plain": [
              "<bound method BaseEstimator.get_params of GridSearchCV(cv=5, error_score=nan,\n",
              "             estimator=LogisticRegression(C=1.0, class_weight=None, dual=False,\n",
              "                                          fit_intercept=True,\n",
              "                                          intercept_scaling=1, l1_ratio=None,\n",
              "                                          max_iter=1000000, multi_class='auto',\n",
              "                                          n_jobs=None, penalty='l2',\n",
              "                                          random_state=42, solver='lbfgs',\n",
              "                                          tol=0.0001, verbose=0,\n",
              "                                          warm_start=False),\n",
              "             iid='deprecated', n_jobs=-1,\n",
              "             param_grid=[{'C': [0.1, 0.3, 0.5, 0.7, 0.9, 1], 'penalty': ['l2'],\n",
              "                          'solver': ['newton-cg', 'lbfgs', 'sag']},\n",
              "                         {'penalty': ['none'],\n",
              "                          'solver': ['newton-cg', 'lbfgs', 'liblinear', 'sag',\n",
              "                                     'saga']}],\n",
              "             pre_dispatch='2*n_jobs', refit=True, return_train_score=False,\n",
              "             scoring='accuracy', verbose=0)>"
            ]
          },
          "metadata": {
            "tags": []
          },
          "execution_count": 32
        }
      ]
    },
    {
      "cell_type": "code",
      "metadata": {
        "colab": {
          "base_uri": "https://localhost:8080/"
        },
        "id": "hruxFqypuWvh",
        "outputId": "be3e1cd2-0754-43f4-a683-a1a5c341871a"
      },
      "source": [
        "gs_cv.cv_results_"
      ],
      "execution_count": null,
      "outputs": [
        {
          "output_type": "execute_result",
          "data": {
            "text/plain": [
              "{'mean_fit_time': array([0.00646253, 0.0062839 , 0.03547606, 0.01736193, 0.26972961,\n",
              "        0.12502685, 0.26985936, 0.16969104]),\n",
              " 'mean_score_time': array([0.00068617, 0.00072894, 0.00069218, 0.00074873, 0.00072308,\n",
              "        0.00075555, 0.00075703, 0.00074983]),\n",
              " 'mean_test_score': array([0.66829016, 0.68446139, 0.95054094, 0.93960158, 0.9497086 ,\n",
              "        0.9497086 , 0.9497086 , 0.9497086 ]),\n",
              " 'param_max_iter': masked_array(data=[1, 1, 10, 10, 100, 100, 1000, 1000],\n",
              "              mask=[False, False, False, False, False, False, False, False],\n",
              "        fill_value='?',\n",
              "             dtype=object),\n",
              " 'param_solver': masked_array(data=['newton-cg', 'lbfgs', 'newton-cg', 'lbfgs',\n",
              "                    'newton-cg', 'lbfgs', 'newton-cg', 'lbfgs'],\n",
              "              mask=[False, False, False, False, False, False, False, False],\n",
              "        fill_value='?',\n",
              "             dtype=object),\n",
              " 'params': [{'max_iter': 1, 'solver': 'newton-cg'},\n",
              "  {'max_iter': 1, 'solver': 'lbfgs'},\n",
              "  {'max_iter': 10, 'solver': 'newton-cg'},\n",
              "  {'max_iter': 10, 'solver': 'lbfgs'},\n",
              "  {'max_iter': 100, 'solver': 'newton-cg'},\n",
              "  {'max_iter': 100, 'solver': 'lbfgs'},\n",
              "  {'max_iter': 1000, 'solver': 'newton-cg'},\n",
              "  {'max_iter': 1000, 'solver': 'lbfgs'}],\n",
              " 'rank_test_score': array([8, 7, 1, 6, 2, 2, 2, 2], dtype=int32),\n",
              " 'split0_test_score': array([0.67973856, 0.67973856, 0.9506833 , 0.9506833 , 0.9506833 ,\n",
              "        0.9506833 , 0.9506833 , 0.9506833 ]),\n",
              " 'split1_test_score': array([0.59334126, 0.66765755, 0.92271106, 0.89536266, 0.92449465,\n",
              "        0.92449465, 0.92449465, 0.92449465]),\n",
              " 'split2_test_score': array([0.6843044 , 0.69084423, 0.94887039, 0.94233056, 0.94946492,\n",
              "        0.94946492, 0.94946492, 0.94946492]),\n",
              " 'split3_test_score': array([0.71581451, 0.71581451, 0.96313912, 0.94292509, 0.96254459,\n",
              "        0.96254459, 0.96254459, 0.96254459]),\n",
              " 'split4_test_score': array([0.66825208, 0.66825208, 0.96730083, 0.9667063 , 0.96135553,\n",
              "        0.96135553, 0.96135553, 0.96135553]),\n",
              " 'std_fit_time': array([0.00028125, 0.00050571, 0.00256411, 0.00152381, 0.09768771,\n",
              "        0.00363891, 0.10083123, 0.01804035]),\n",
              " 'std_score_time': array([1.97625849e-05, 1.58454932e-05, 1.69289951e-05, 1.22470126e-05,\n",
              "        3.06281679e-05, 8.59365870e-06, 1.07844016e-04, 1.22742738e-05]),\n",
              " 'std_test_score': array([0.04065323, 0.01783914, 0.01560078, 0.02380355, 0.01369063,\n",
              "        0.01369063, 0.01369063, 0.01369063])}"
            ]
          },
          "metadata": {
            "tags": []
          },
          "execution_count": 71
        }
      ]
    },
    {
      "cell_type": "code",
      "metadata": {
        "id": "WN4qbYgTuWoH"
      },
      "source": [
        ""
      ],
      "execution_count": null,
      "outputs": []
    },
    {
      "cell_type": "markdown",
      "metadata": {
        "id": "ATAkiEUHLeni"
      },
      "source": [
        "#### test"
      ]
    },
    {
      "cell_type": "code",
      "metadata": {
        "colab": {
          "base_uri": "https://localhost:8080/"
        },
        "id": "RDCiNjxWG3Pc",
        "outputId": "3f884841-ae55-4a68-c506-afefeda87e9d"
      },
      "source": [
        "# getting list of cropped reference images\n",
        "source_file = '/content/drive/MyDrive/Thesis/source/VNIR_img.txt'\n",
        "img_list = []\n",
        "with open(source_file, \"r\") as listOfImages:\n",
        "    for line in listOfImages:\n",
        "        to_lower = str(line.strip()).lower() # make lower case to match reference imgs name\n",
        "        img_list.append(to_lower)\n",
        "        \n",
        "print(len(img_list))"
      ],
      "execution_count": null,
      "outputs": [
        {
          "output_type": "stream",
          "text": [
            "12\n"
          ],
          "name": "stdout"
        }
      ]
    },
    {
      "cell_type": "code",
      "metadata": {
        "colab": {
          "base_uri": "https://localhost:8080/",
          "height": 141
        },
        "id": "6P_gIm0qG3E3",
        "outputId": "9a85beac-909e-435d-9175-0859dec65d90"
      },
      "source": [
        "ref = pd.read_csv('/content/drive/MyDrive/Thesis/files/img_labels.csv', encoding='latin-1')\n",
        "ref.insert(loc=1, column='ref', value=img_list)\n",
        "ref.head(3)"
      ],
      "execution_count": null,
      "outputs": [
        {
          "output_type": "execute_result",
          "data": {
            "text/html": [
              "<div>\n",
              "<style scoped>\n",
              "    .dataframe tbody tr th:only-of-type {\n",
              "        vertical-align: middle;\n",
              "    }\n",
              "\n",
              "    .dataframe tbody tr th {\n",
              "        vertical-align: top;\n",
              "    }\n",
              "\n",
              "    .dataframe thead th {\n",
              "        text-align: right;\n",
              "    }\n",
              "</style>\n",
              "<table border=\"1\" class=\"dataframe\">\n",
              "  <thead>\n",
              "    <tr style=\"text-align: right;\">\n",
              "      <th></th>\n",
              "      <th>Img_name</th>\n",
              "      <th>ref</th>\n",
              "      <th>PCR</th>\n",
              "    </tr>\n",
              "  </thead>\n",
              "  <tbody>\n",
              "    <tr>\n",
              "      <th>0</th>\n",
              "      <td>Ind-AT1_V1-A_Blatt_VNIR</td>\n",
              "      <td>ind-at1_v1-a_blatt_vnir</td>\n",
              "      <td>1</td>\n",
              "    </tr>\n",
              "    <tr>\n",
              "      <th>1</th>\n",
              "      <td>Ind-AT1_V1-B_Blatt_VNIR</td>\n",
              "      <td>ind-at1_v1-b_blatt_vnir</td>\n",
              "      <td>1</td>\n",
              "    </tr>\n",
              "    <tr>\n",
              "      <th>2</th>\n",
              "      <td>Ind-AT1_V1-C_Blatt_VNIR</td>\n",
              "      <td>ind-at1_v1-c_blatt_vnir</td>\n",
              "      <td>1</td>\n",
              "    </tr>\n",
              "  </tbody>\n",
              "</table>\n",
              "</div>"
            ],
            "text/plain": [
              "                  Img_name                      ref  PCR\n",
              "0  Ind-AT1_V1-A_Blatt_VNIR  ind-at1_v1-a_blatt_vnir    1\n",
              "1  Ind-AT1_V1-B_Blatt_VNIR  ind-at1_v1-b_blatt_vnir    1\n",
              "2  Ind-AT1_V1-C_Blatt_VNIR  ind-at1_v1-c_blatt_vnir    1"
            ]
          },
          "metadata": {
            "tags": []
          },
          "execution_count": 58
        }
      ]
    },
    {
      "cell_type": "code",
      "metadata": {
        "colab": {
          "base_uri": "https://localhost:8080/"
        },
        "id": "izmGIFQ5Lymm",
        "outputId": "0e84fec5-3298-4a9f-c9cc-6fdf81d27cb7"
      },
      "source": [
        "selected_fatures_idx"
      ],
      "execution_count": null,
      "outputs": [
        {
          "output_type": "execute_result",
          "data": {
            "text/plain": [
              "[12, 13, 30, 32, 43, 59, 64, 66, 93, 94, 104, 109, 168]"
            ]
          },
          "metadata": {
            "tags": []
          },
          "execution_count": 59
        }
      ]
    },
    {
      "cell_type": "code",
      "metadata": {
        "id": "J6lm48OJNDW6",
        "colab": {
          "base_uri": "https://localhost:8080/",
          "height": 489
        },
        "outputId": "d46a6ff1-d558-42c1-c984-2963e631f3fa"
      },
      "source": [
        "for i in range(12):\n",
        "  X_pre = np.zeros((2270, 1270, len(selected_fatures_idx)))\n",
        "  img = np.load('/content/drive/MyDrive/Thesis/cropped_imgs/'+ ref.Img_name[i] +'.npy')\n",
        "  for ch in range(len(selected_fatures_idx)):\n",
        "    X_pre[:, :, ch:ch+1] = img[:, :, selected_fatures_idx[ch]:selected_fatures_idx[ch]+1]\n",
        "\n",
        "  X_pre = X_pre.reshape(2270 * 1270, len(selected_fatures_idx))\n",
        "  predicted = clf.predict(X_pre)\n",
        "  predicted = np.reshape(predicted, (2270, -1))\n",
        "\n",
        "  ref_img = np.load('/content/drive/MyDrive/Thesis/reference_img/cropped/'+ str(ref.ref[i]) +'.npy')\n",
        "  ref_img[ref_img>0] = 1\n",
        "\n",
        "  predicted_ref = predicted * ref_img\n",
        "  predicted_ref = predicted_ref.reshape(2270, 1270, 1)\n",
        "\n",
        "  rgb = np.zeros([2270, 1270, 3])\n",
        "  rgb[:, :, 0:1] = img[:,:, 45:46].reshape((2270, 1270, 1)) + predicted_ref\n",
        "  rgb[:, :, 1:2] = img[:,:, 120:121].reshape((2270, 1270, 1))\n",
        "  rgb[:, :, 2:3] = img[:,:, 76:77].reshape((2270, 1270, 1))\n",
        "\n",
        "  rgb = rgb / np.max(rgb)\n",
        "\n",
        "  plt.title('LR based prediction  ' + ref.Img_name[i])\n",
        "  plt.imsave('/content/drive/MyDrive/Thesis/predicted/FFS_LR_1percent_data_13bands/LR_predicted' + ref.Img_name[i] + '.png', rgb)\n",
        "\n",
        "  print(i)"
      ],
      "execution_count": null,
      "outputs": [
        {
          "output_type": "stream",
          "text": [
            "0\n",
            "1\n",
            "2\n",
            "3\n",
            "4\n",
            "5\n",
            "6\n",
            "7\n",
            "8\n",
            "9\n",
            "10\n",
            "11\n"
          ],
          "name": "stdout"
        },
        {
          "output_type": "display_data",
          "data": {
            "image/png": "[encoded data removed]",
            "text/plain": [
              "<Figure size 432x288 with 1 Axes>"
            ]
          },
          "metadata": {
            "tags": [],
            "needs_background": "light"
          }
        }
      ]
    },
    {
      "cell_type": "code",
      "metadata": {
        "colab": {
          "base_uri": "https://localhost:8080/",
          "height": 287
        },
        "id": "TFOEVgtoRtjp",
        "outputId": "125cc6b0-7445-40b7-e428-0c7a3b320aaf"
      },
      "source": [
        "plt.imshow(rgb)"
      ],
      "execution_count": null,
      "outputs": [
        {
          "output_type": "execute_result",
          "data": {
            "text/plain": [
              "<matplotlib.image.AxesImage at 0x7f28026d2a90>"
            ]
          },
          "metadata": {
            "tags": []
          },
          "execution_count": 43
        },
        {
          "output_type": "display_data",
          "data": {
            "image/png": "[encoded data removed]",
            "text/plain": [
              "<Figure size 432x288 with 1 Axes>"
            ]
          },
          "metadata": {
            "tags": [],
            "needs_background": "light"
          }
        }
      ]
    },
    {
      "cell_type": "code",
      "metadata": {
        "id": "ajn-9bSoteew"
      },
      "source": [
        ""
      ],
      "execution_count": null,
      "outputs": []
    },
    {
      "cell_type": "code",
      "metadata": {
        "id": "_i6_KX15teZj"
      },
      "source": [
        "X = np.load('/content/drive/MyDrive/Thesis/dataset/segmented_normalized_original_size/X.npy')\n",
        "y = np.load('/content/drive/MyDrive/Thesis/dataset/segmented_normalized_original_size/y.npy')"
      ],
      "execution_count": null,
      "outputs": []
    },
    {
      "cell_type": "code",
      "metadata": {
        "colab": {
          "base_uri": "https://localhost:8080/",
          "height": 110
        },
        "id": "NuqEzLWbteUI",
        "outputId": "e366260b-aefd-4002-a5bc-3c4026498ace"
      },
      "source": [
        "df = pd.DataFrame(data=X, columns=columns)\n",
        "df = df[selected_fatures]\n",
        "df.head(2)"
      ],
      "execution_count": null,
      "outputs": [
        {
          "output_type": "execute_result",
          "data": {
            "text/html": [
              "<div>\n",
              "<style scoped>\n",
              "    .dataframe tbody tr th:only-of-type {\n",
              "        vertical-align: middle;\n",
              "    }\n",
              "\n",
              "    .dataframe tbody tr th {\n",
              "        vertical-align: top;\n",
              "    }\n",
              "\n",
              "    .dataframe thead th {\n",
              "        text-align: right;\n",
              "    }\n",
              "</style>\n",
              "<table border=\"1\" class=\"dataframe\">\n",
              "  <thead>\n",
              "    <tr style=\"text-align: right;\">\n",
              "      <th></th>\n",
              "      <th>Band_013</th>\n",
              "      <th>Band_014</th>\n",
              "      <th>Band_031</th>\n",
              "      <th>Band_033</th>\n",
              "      <th>Band_044</th>\n",
              "      <th>Band_060</th>\n",
              "      <th>Band_065</th>\n",
              "      <th>Band_067</th>\n",
              "      <th>Band_094</th>\n",
              "      <th>Band_095</th>\n",
              "      <th>Band_105</th>\n",
              "      <th>Band_110</th>\n",
              "      <th>Band_169</th>\n",
              "    </tr>\n",
              "  </thead>\n",
              "  <tbody>\n",
              "    <tr>\n",
              "      <th>0</th>\n",
              "      <td>0.066134</td>\n",
              "      <td>0.064663</td>\n",
              "      <td>0.065591</td>\n",
              "      <td>0.071611</td>\n",
              "      <td>0.081628</td>\n",
              "      <td>0.092798</td>\n",
              "      <td>0.098142</td>\n",
              "      <td>0.094276</td>\n",
              "      <td>0.122954</td>\n",
              "      <td>0.135042</td>\n",
              "      <td>0.194980</td>\n",
              "      <td>0.194963</td>\n",
              "      <td>0.271737</td>\n",
              "    </tr>\n",
              "    <tr>\n",
              "      <th>1</th>\n",
              "      <td>0.054707</td>\n",
              "      <td>0.055160</td>\n",
              "      <td>0.068425</td>\n",
              "      <td>0.069881</td>\n",
              "      <td>0.093623</td>\n",
              "      <td>0.108971</td>\n",
              "      <td>0.104134</td>\n",
              "      <td>0.108792</td>\n",
              "      <td>0.154792</td>\n",
              "      <td>0.168122</td>\n",
              "      <td>0.251536</td>\n",
              "      <td>0.255374</td>\n",
              "      <td>0.337200</td>\n",
              "    </tr>\n",
              "  </tbody>\n",
              "</table>\n",
              "</div>"
            ],
            "text/plain": [
              "   Band_013  Band_014  Band_031  ...  Band_105  Band_110  Band_169\n",
              "0  0.066134  0.064663  0.065591  ...  0.194980  0.194963  0.271737\n",
              "1  0.054707  0.055160  0.068425  ...  0.251536  0.255374  0.337200\n",
              "\n",
              "[2 rows x 13 columns]"
            ]
          },
          "metadata": {
            "tags": []
          },
          "execution_count": 20
        }
      ]
    },
    {
      "cell_type": "code",
      "metadata": {
        "id": "XnT-Q509vMKQ"
      },
      "source": [
        "from sklearn.metrics import plot_precision_recall_curve"
      ],
      "execution_count": null,
      "outputs": []
    },
    {
      "cell_type": "code",
      "metadata": {
        "colab": {
          "base_uri": "https://localhost:8080/",
          "height": 279
        },
        "id": "ug6MkRowteRF",
        "outputId": "e6e2dbe3-70bf-4b42-d030-3edeceab1dab"
      },
      "source": [
        "disp = plot_precision_recall_curve(clf, df, y)"
      ],
      "execution_count": null,
      "outputs": [
        {
          "output_type": "display_data",
          "data": {
            "image/png": "[encoded data removed]",
            "text/plain": [
              "<Figure size 432x288 with 1 Axes>"
            ]
          },
          "metadata": {
            "tags": [],
            "needs_background": "light"
          }
        }
      ]
    },
    {
      "cell_type": "code",
      "metadata": {
        "colab": {
          "base_uri": "https://localhost:8080/"
        },
        "id": "-q1dwoHTul6j",
        "outputId": "b5b7041d-30ad-45a6-e343-a676d0d0fc86"
      },
      "source": [
        "print(classification_report(clf.predict(df), y))"
      ],
      "execution_count": null,
      "outputs": [
        {
          "output_type": "stream",
          "text": [
            "              precision    recall  f1-score   support\n",
            "\n",
            "           0       0.96      0.96      0.96   4759476\n",
            "           1       0.95      0.95      0.95   3650569\n",
            "\n",
            "    accuracy                           0.96   8410045\n",
            "   macro avg       0.96      0.96      0.96   8410045\n",
            "weighted avg       0.96      0.96      0.96   8410045\n",
            "\n"
          ],
          "name": "stdout"
        }
      ]
    },
    {
      "cell_type": "code",
      "metadata": {
        "id": "MNagLDicVbVE"
      },
      "source": [
        ""
      ],
      "execution_count": null,
      "outputs": []
    },
    {
      "cell_type": "code",
      "metadata": {
        "id": "BsE8q8acuWd0"
      },
      "source": [
        "# restart runtime and clear ram\n",
        "import os, signal\n",
        "os.kill(os.getpid(), signal.SIGKILL)"
      ],
      "execution_count": null,
      "outputs": []
    },
    {
      "cell_type": "code",
      "metadata": {
        "id": "8Yo7xRc-48V6"
      },
      "source": [
        ""
      ],
      "execution_count": null,
      "outputs": []
    }
  ]
}