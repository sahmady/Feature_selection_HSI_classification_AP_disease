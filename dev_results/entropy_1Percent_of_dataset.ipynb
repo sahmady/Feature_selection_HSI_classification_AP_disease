{
  "nbformat": 4,
  "nbformat_minor": 0,
  "metadata": {
    "colab": {
      "name": "entropy_1Percent_of_dataset.ipynb",
      "provenance": [],
      "collapsed_sections": [],
      "machine_shape": "hm"
    },
    "kernelspec": {
      "name": "python3",
      "display_name": "Python 3"
    }
  },
  "cells": [
    {
      "cell_type": "markdown",
      "metadata": {
        "id": "Zo-a97e4Nu_V"
      },
      "source": [
        "### increase ram size if required"
      ]
    },
    {
      "cell_type": "code",
      "metadata": {
        "id": "87T5BetZQYQv"
      },
      "source": [
        "i = []\n",
        "while True:\n",
        "  i.append(i)"
      ],
      "execution_count": null,
      "outputs": []
    },
    {
      "cell_type": "markdown",
      "metadata": {
        "id": "j54GcKUzOyWh"
      },
      "source": [
        "### mount google drive"
      ]
    },
    {
      "cell_type": "code",
      "metadata": {
        "colab": {
          "base_uri": "https://localhost:8080/"
        },
        "id": "7CKdxEViNnEs",
        "outputId": "5d4c9862-88a8-4a89-a8d1-a16bba327abd"
      },
      "source": [
        "from google.colab import drive\n",
        "drive.mount('/content/drive')"
      ],
      "execution_count": null,
      "outputs": [
        {
          "output_type": "stream",
          "name": "stdout",
          "text": [
            "Mounted at /content/drive\n"
          ]
        }
      ]
    },
    {
      "cell_type": "code",
      "metadata": {
        "id": "De9k_j9JNnBq"
      },
      "source": [
        "import cv2\n",
        "import numpy as np\n",
        "import matplotlib.pyplot as plt\n",
        "import pandas as pd\n",
        "from scipy import stats\n",
        "from scipy.stats import entropy\n",
        "from scipy.stats import ttest_ind_from_stats \n",
        "# import seaborn as sns\n",
        "# from sklearn.discriminant_analysis import LinearDiscriminantAnalysis"
      ],
      "execution_count": null,
      "outputs": []
    },
    {
      "cell_type": "code",
      "metadata": {
        "colab": {
          "base_uri": "https://localhost:8080/"
        },
        "id": "GHpqmVBvG1ZI",
        "outputId": "9f767449-d521-4941-d714-33f07626c39f"
      },
      "source": [
        "X = np.load('/content/drive/MyDrive/Thesis/dataset/segmented_normalized_one_tenth/X.npy')\n",
        "y = np.load('/content/drive/MyDrive/Thesis/dataset/segmented_normalized_one_tenth/y.npy')\n",
        "X.shape"
      ],
      "execution_count": null,
      "outputs": [
        {
          "output_type": "execute_result",
          "data": {
            "text/plain": [
              "(841005, 186)"
            ]
          },
          "metadata": {},
          "execution_count": 3
        }
      ]
    },
    {
      "cell_type": "code",
      "metadata": {
        "colab": {
          "base_uri": "https://localhost:8080/"
        },
        "id": "oWXI8cqfG4Ho",
        "outputId": "4aa375d0-5396-43b5-ebd1-e4be72fbfe06"
      },
      "source": [
        "X = X[::10, :]\n",
        "y = y[::10]\n",
        "X.shape"
      ],
      "execution_count": null,
      "outputs": [
        {
          "output_type": "execute_result",
          "data": {
            "text/plain": [
              "(84101, 186)"
            ]
          },
          "metadata": {},
          "execution_count": 4
        }
      ]
    },
    {
      "cell_type": "code",
      "metadata": {
        "id": "nEOBXk6CSKfC"
      },
      "source": [
        "dataset = pd.read_csv('/content/drive/MyDrive/Thesis/mean_dataset/normalized/dataset_mean_normalized.csv', encoding='latin-1')\n",
        "# dataset.head(3)\n",
        "columns = dataset.iloc[:, 2:].columns.values"
      ],
      "execution_count": null,
      "outputs": []
    },
    {
      "cell_type": "code",
      "metadata": {
        "id": "2JhZ-i2iX7PP"
      },
      "source": [
        "# ////////////////////////////////// load feature and make bins /////////////////////////////////\n",
        "# making 100 number of bins in the range of 1000\n",
        "number_of_bins = 100\n",
        "helper_scale = 1000\n",
        "step = int(helper_scale/number_of_bins)\n",
        "bins = np.arange(0, helper_scale, step)\n",
        "\n",
        "# zero numpy of columns [Band, bin_num, count_pos, count_neg]\n",
        "# count_arr = np.zeros((bins.shape[0] * 186, 4))\n",
        "count_arr = np.array([])\n",
        "\n",
        "label = np.array(y).reshape(-1, 1)\n",
        "\n",
        "for ch in range(186):\n",
        "    # build a dataframe of the specific band\n",
        "    band = np.array(X[:,ch:ch+1])\n",
        "    band = np.concatenate((band, label), axis=1)\n",
        "\n",
        "    band = pd.DataFrame(data=band, columns=['band_val', 'label'])\n",
        "\n",
        "    rescaled = np.array(band.band_val.values)\n",
        "    max_val = np.max(rescaled)\n",
        "    min_val = np.min(rescaled)\n",
        "    rescaled = (rescaled - min_val) / (max_val - min_val) * helper_scale\n",
        "    \n",
        "    # digitize bins\n",
        "    index = np.digitize(rescaled, bins)\n",
        "    # insert bins to dataframe\n",
        "    band.insert(2, \"ind_bins\", index, True)\n",
        "\n",
        "    \n",
        "    for i in range(bins.shape[0]):\n",
        "        count_neg = band[band.ind_bins == i][band.label == 0].shape[0]\n",
        "        count_pos = band[band.ind_bins == i][band.label == 1].shape[0]\n",
        "\n",
        "        count = np.array([ch + 1, i, count_pos, count_neg])\n",
        "\n",
        "        count_arr = np.append(count_arr, count)\n",
        "\n",
        "    print(ch)\n",
        "\n",
        "count_arr = np.reshape(count_arr, (-1, 4))\n",
        "# create a dataframe of counts\n",
        "df = pd.DataFrame(data=count_arr, columns=['Band', 'bin_num', 'count_pos', 'count_neg'])\n",
        "\n",
        "# save the dataframe of counts\n",
        "# df.to_csv('/content/drive/MyDrive/Thesis/files/df_class_count_' + str(number_of_bins) + 'bins.csv')"
      ],
      "execution_count": null,
      "outputs": []
    },
    {
      "cell_type": "code",
      "metadata": {
        "id": "r_rCCkBYRcmg",
        "colab": {
          "base_uri": "https://localhost:8080/",
          "height": 112
        },
        "outputId": "9647573d-7fad-4d8e-ccd0-05f9441c2159"
      },
      "source": [
        "# df = pd.read_csv('/content/drive/MyDrive/Thesis/files/df_class_count_100bins.csv')\n",
        "# df.drop(columns='Unnamed: 0', inplace=True)\n",
        "df.head(2)"
      ],
      "execution_count": null,
      "outputs": [
        {
          "output_type": "execute_result",
          "data": {
            "text/html": [
              "<div>\n",
              "<style scoped>\n",
              "    .dataframe tbody tr th:only-of-type {\n",
              "        vertical-align: middle;\n",
              "    }\n",
              "\n",
              "    .dataframe tbody tr th {\n",
              "        vertical-align: top;\n",
              "    }\n",
              "\n",
              "    .dataframe thead th {\n",
              "        text-align: right;\n",
              "    }\n",
              "</style>\n",
              "<table border=\"1\" class=\"dataframe\">\n",
              "  <thead>\n",
              "    <tr style=\"text-align: right;\">\n",
              "      <th></th>\n",
              "      <th>Band</th>\n",
              "      <th>bin_num</th>\n",
              "      <th>count_pos</th>\n",
              "      <th>count_neg</th>\n",
              "    </tr>\n",
              "  </thead>\n",
              "  <tbody>\n",
              "    <tr>\n",
              "      <th>0</th>\n",
              "      <td>1.0</td>\n",
              "      <td>0.0</td>\n",
              "      <td>0.0</td>\n",
              "      <td>0.0</td>\n",
              "    </tr>\n",
              "    <tr>\n",
              "      <th>1</th>\n",
              "      <td>1.0</td>\n",
              "      <td>1.0</td>\n",
              "      <td>32.0</td>\n",
              "      <td>2.0</td>\n",
              "    </tr>\n",
              "  </tbody>\n",
              "</table>\n",
              "</div>"
            ],
            "text/plain": [
              "   Band  bin_num  count_pos  count_neg\n",
              "0   1.0      0.0        0.0        0.0\n",
              "1   1.0      1.0       32.0        2.0"
            ]
          },
          "metadata": {},
          "execution_count": 8
        }
      ]
    },
    {
      "cell_type": "code",
      "metadata": {
        "id": "cWRHxz4dRckh",
        "colab": {
          "base_uri": "https://localhost:8080/",
          "height": 167
        },
        "outputId": "7153b772-0708-4a85-d18d-71c6ee6171d2"
      },
      "source": [
        "# insert total counts\n",
        "df.insert(df.shape[1], \"total_counts\", df.count_pos + df. count_neg)\n",
        "# insert count of entropy\n",
        "df.insert(df.shape[1], \"ind_entropy\", entropy([df.count_pos, df.count_neg], base=2)) \n",
        "# filter NaN out of the df\n",
        "df.dropna(inplace=True)\n",
        "# df['ind_entropy'] = df['ind_entropy'].fillna(0) not required here\n",
        "\n",
        "# insert entropy-values column with nan\n",
        "df.insert(df.shape[1], \"entropy_values\", value=0)\n",
        "df.head(2)"
      ],
      "execution_count": null,
      "outputs": [
        {
          "output_type": "stream",
          "name": "stderr",
          "text": [
            "/usr/local/lib/python3.7/dist-packages/scipy/stats/_distn_infrastructure.py:2664: RuntimeWarning: invalid value encountered in true_divide\n",
            "  pk = 1.0*pk / np.sum(pk, axis=axis, keepdims=True)\n"
          ]
        },
        {
          "output_type": "execute_result",
          "data": {
            "text/html": [
              "<div>\n",
              "<style scoped>\n",
              "    .dataframe tbody tr th:only-of-type {\n",
              "        vertical-align: middle;\n",
              "    }\n",
              "\n",
              "    .dataframe tbody tr th {\n",
              "        vertical-align: top;\n",
              "    }\n",
              "\n",
              "    .dataframe thead th {\n",
              "        text-align: right;\n",
              "    }\n",
              "</style>\n",
              "<table border=\"1\" class=\"dataframe\">\n",
              "  <thead>\n",
              "    <tr style=\"text-align: right;\">\n",
              "      <th></th>\n",
              "      <th>Band</th>\n",
              "      <th>bin_num</th>\n",
              "      <th>count_pos</th>\n",
              "      <th>count_neg</th>\n",
              "      <th>total_counts</th>\n",
              "      <th>ind_entropy</th>\n",
              "      <th>entropy_values</th>\n",
              "    </tr>\n",
              "  </thead>\n",
              "  <tbody>\n",
              "    <tr>\n",
              "      <th>1</th>\n",
              "      <td>1.0</td>\n",
              "      <td>1.0</td>\n",
              "      <td>32.0</td>\n",
              "      <td>2.0</td>\n",
              "      <td>34.0</td>\n",
              "      <td>0.322757</td>\n",
              "      <td>0</td>\n",
              "    </tr>\n",
              "    <tr>\n",
              "      <th>2</th>\n",
              "      <td>1.0</td>\n",
              "      <td>2.0</td>\n",
              "      <td>50.0</td>\n",
              "      <td>5.0</td>\n",
              "      <td>55.0</td>\n",
              "      <td>0.439497</td>\n",
              "      <td>0</td>\n",
              "    </tr>\n",
              "  </tbody>\n",
              "</table>\n",
              "</div>"
            ],
            "text/plain": [
              "   Band  bin_num  count_pos  ...  total_counts  ind_entropy  entropy_values\n",
              "1   1.0      1.0       32.0  ...          34.0     0.322757               0\n",
              "2   1.0      2.0       50.0  ...          55.0     0.439497               0\n",
              "\n",
              "[2 rows x 7 columns]"
            ]
          },
          "metadata": {},
          "execution_count": 9
        }
      ]
    },
    {
      "cell_type": "code",
      "metadata": {
        "id": "nlWFTljmRcgk",
        "colab": {
          "base_uri": "https://localhost:8080/"
        },
        "outputId": "09670294-bc06-4e00-f418-2fb8e7619348"
      },
      "source": [
        "for i in range(186):\n",
        "    bins_counts = df[df.Band == i + 1].shape[0]\n",
        "    g_total_counts = df[df.Band == i + 1].total_counts.sum()\n",
        "    entropy = df[df.Band == i + 1].total_counts / df[df.Band == i + 1].total_counts.sum() * df[df.Band == i + 1].ind_entropy\n",
        "    df.entropy_values[df.Band == i + 1] = entropy.sum()"
      ],
      "execution_count": null,
      "outputs": [
        {
          "output_type": "stream",
          "name": "stderr",
          "text": [
            "/usr/local/lib/python3.7/dist-packages/ipykernel_launcher.py:5: SettingWithCopyWarning: \n",
            "A value is trying to be set on a copy of a slice from a DataFrame\n",
            "\n",
            "See the caveats in the documentation: https://pandas.pydata.org/pandas-docs/stable/user_guide/indexing.html#returning-a-view-versus-a-copy\n",
            "  \"\"\"\n"
          ]
        }
      ]
    },
    {
      "cell_type": "code",
      "metadata": {
        "id": "NcEm26EVRceP"
      },
      "source": [
        "ent_df = df[['Band', 'entropy_values']].drop_duplicates(subset='Band')"
      ],
      "execution_count": null,
      "outputs": []
    },
    {
      "cell_type": "code",
      "metadata": {
        "id": "KuF1f9vFKgPw"
      },
      "source": [
        "ent_df.insert(ent_df.shape[1], \"select_band_ref\", (ent_df.entropy_values - 0.5).abs())"
      ],
      "execution_count": null,
      "outputs": []
    },
    {
      "cell_type": "code",
      "metadata": {
        "colab": {
          "base_uri": "https://localhost:8080/",
          "height": 206
        },
        "id": "Qq_Xs6dKJzK1",
        "outputId": "0ce51f18-4ec3-4b9a-d700-18aa1b444a0f"
      },
      "source": [
        "ent_df.head()"
      ],
      "execution_count": null,
      "outputs": [
        {
          "output_type": "execute_result",
          "data": {
            "text/html": [
              "<div>\n",
              "<style scoped>\n",
              "    .dataframe tbody tr th:only-of-type {\n",
              "        vertical-align: middle;\n",
              "    }\n",
              "\n",
              "    .dataframe tbody tr th {\n",
              "        vertical-align: top;\n",
              "    }\n",
              "\n",
              "    .dataframe thead th {\n",
              "        text-align: right;\n",
              "    }\n",
              "</style>\n",
              "<table border=\"1\" class=\"dataframe\">\n",
              "  <thead>\n",
              "    <tr style=\"text-align: right;\">\n",
              "      <th></th>\n",
              "      <th>Band</th>\n",
              "      <th>entropy_values</th>\n",
              "      <th>select_band_ref</th>\n",
              "    </tr>\n",
              "  </thead>\n",
              "  <tbody>\n",
              "    <tr>\n",
              "      <th>1</th>\n",
              "      <td>1.0</td>\n",
              "      <td>0.850272</td>\n",
              "      <td>0.350272</td>\n",
              "    </tr>\n",
              "    <tr>\n",
              "      <th>101</th>\n",
              "      <td>2.0</td>\n",
              "      <td>0.842119</td>\n",
              "      <td>0.342119</td>\n",
              "    </tr>\n",
              "    <tr>\n",
              "      <th>201</th>\n",
              "      <td>3.0</td>\n",
              "      <td>0.835355</td>\n",
              "      <td>0.335355</td>\n",
              "    </tr>\n",
              "    <tr>\n",
              "      <th>301</th>\n",
              "      <td>4.0</td>\n",
              "      <td>0.828154</td>\n",
              "      <td>0.328154</td>\n",
              "    </tr>\n",
              "    <tr>\n",
              "      <th>401</th>\n",
              "      <td>5.0</td>\n",
              "      <td>0.828509</td>\n",
              "      <td>0.328509</td>\n",
              "    </tr>\n",
              "  </tbody>\n",
              "</table>\n",
              "</div>"
            ],
            "text/plain": [
              "     Band  entropy_values  select_band_ref\n",
              "1     1.0        0.850272         0.350272\n",
              "101   2.0        0.842119         0.342119\n",
              "201   3.0        0.835355         0.335355\n",
              "301   4.0        0.828154         0.328154\n",
              "401   5.0        0.828509         0.328509"
            ]
          },
          "metadata": {},
          "execution_count": 18
        }
      ]
    },
    {
      "cell_type": "code",
      "metadata": {
        "colab": {
          "base_uri": "https://localhost:8080/",
          "height": 303
        },
        "id": "mBPunU5LzKSy",
        "outputId": "591a1823-2fdc-49e9-f791-91bd3dd39dc6"
      },
      "source": [
        "plt.figure(figsize=(17, 5))\n",
        "plt.bar(ent_df.Band.values, ent_df.entropy_values.values)\n",
        "plt.xlabel('Channel Number')\n",
        "plt.ylabel('entropy_values')\n",
        "plt.title('entropy chart')\n",
        "# plt.savefig('/content/drive/MyDrive/Thesis/images/entropy/entropy_raw' + '.png')\n",
        "plt.show() "
      ],
      "execution_count": null,
      "outputs": [
        {
          "output_type": "display_data",
          "data": {
            "image/png": "[encoded data removed]",
            "text/plain": [
              "<Figure size 1224x360 with 1 Axes>"
            ]
          },
          "metadata": {
            "needs_background": "light"
          }
        }
      ]
    },
    {
      "cell_type": "code",
      "metadata": {
        "colab": {
          "base_uri": "https://localhost:8080/",
          "height": 310
        },
        "id": "N2uhDJQ6zKPw",
        "outputId": "0bb43704-6e85-4ceb-f379-9f3a2ff7f84f"
      },
      "source": [
        "plt.figure(figsize=(17, 5))\n",
        "plt.bar(ent_df.Band.values, ent_df.select_band_ref.values)\n",
        "plt.xlabel('bands')\n",
        "plt.ylabel('entropy_values')\n",
        "plt.title('entropy values calculated for all bands to select the head of tree')\n",
        "plt.xticks(ticks=np.arange(1, 187, 5), rotation=90)\n",
        "# plt.savefig('/content/drive/MyDrive/Thesis/images/entropy/entropy' + '.png')\n",
        "plt.show() "
      ],
      "execution_count": null,
      "outputs": [
        {
          "output_type": "display_data",
          "data": {
            "image/png": "[encoded data removed]",
            "text/plain": [
              "<Figure size 1224x360 with 1 Axes>"
            ]
          },
          "metadata": {
            "needs_background": "light"
          }
        }
      ]
    },
    {
      "cell_type": "code",
      "metadata": {
        "colab": {
          "base_uri": "https://localhost:8080/",
          "height": 303
        },
        "id": "zHq3z2kIzKNT",
        "outputId": "0f253d74-1696-4247-eee3-07878a27da62"
      },
      "source": [
        "plt.figure(figsize=(17, 5))\n",
        "plt.yscale(\"log\")\n",
        "plt.bar(ent_df.Band.values, ent_df.select_band_ref.values)\n",
        "plt.xlabel('bands')\n",
        "plt.ylabel('entropy_values')\n",
        "plt.title('entropy values calculated for all bands to select the head of tree')\n",
        "plt.xticks(ticks=np.arange(1, 187, 5), rotation=90)\n",
        "# plt.savefig('/content/drive/MyDrive/Thesis/images/entropy/entropy_log' + '.png')\n",
        "plt.show() "
      ],
      "execution_count": null,
      "outputs": [
        {
          "output_type": "display_data",
          "data": {
            "image/png": "[encoded data removed]",
            "text/plain": [
              "<Figure size 1224x360 with 1 Axes>"
            ]
          },
          "metadata": {
            "needs_background": "light"
          }
        }
      ]
    },
    {
      "cell_type": "code",
      "metadata": {
        "id": "L4sSc1BhzKKt"
      },
      "source": [
        ""
      ],
      "execution_count": null,
      "outputs": []
    },
    {
      "cell_type": "code",
      "metadata": {
        "id": "8j3E6Hwxi9Ru"
      },
      "source": [
        ""
      ],
      "execution_count": null,
      "outputs": []
    },
    {
      "cell_type": "code",
      "metadata": {
        "id": "K1SqCEUpi88q"
      },
      "source": [
        ""
      ],
      "execution_count": null,
      "outputs": []
    },
    {
      "cell_type": "code",
      "metadata": {
        "id": "HztMLkvFffDZ"
      },
      "source": [
        ""
      ],
      "execution_count": null,
      "outputs": []
    },
    {
      "cell_type": "code",
      "metadata": {
        "id": "sDEqxjo1jAAM"
      },
      "source": [
        ""
      ],
      "execution_count": null,
      "outputs": []
    },
    {
      "cell_type": "code",
      "metadata": {
        "id": "xlaZGIkWi_zO"
      },
      "source": [
        ""
      ],
      "execution_count": null,
      "outputs": []
    },
    {
      "cell_type": "code",
      "metadata": {
        "id": "VrwWrDydi_lc"
      },
      "source": [
        "import os, signal\n",
        "os.kill(os.getpid(), signal.SIGKILL)"
      ],
      "execution_count": null,
      "outputs": []
    },
    {
      "cell_type": "code",
      "metadata": {
        "id": "jpZXLIef_Iim"
      },
      "source": [
        ""
      ],
      "execution_count": null,
      "outputs": []
    }
  ]
}