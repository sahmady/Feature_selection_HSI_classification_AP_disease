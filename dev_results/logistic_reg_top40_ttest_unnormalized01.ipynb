{
  "nbformat": 4,
  "nbformat_minor": 0,
  "metadata": {
    "colab": {
      "name": "logistic_reg_top40_ttest_unnormalized01.ipynb",
      "provenance": [],
      "collapsed_sections": [],
      "machine_shape": "hm"
    },
    "kernelspec": {
      "display_name": "Python 3",
      "name": "python3"
    }
  },
  "cells": [
    {
      "cell_type": "markdown",
      "metadata": {
        "id": "Zo-a97e4Nu_V"
      },
      "source": [
        "### increase ram size if required"
      ]
    },
    {
      "cell_type": "code",
      "metadata": {
        "id": "87T5BetZQYQv"
      },
      "source": [
        "i = []\n",
        "while True:\n",
        "  i.append(i)"
      ],
      "execution_count": null,
      "outputs": []
    },
    {
      "cell_type": "markdown",
      "metadata": {
        "id": "j54GcKUzOyWh"
      },
      "source": [
        "### mount google drive"
      ]
    },
    {
      "cell_type": "code",
      "metadata": {
        "colab": {
          "base_uri": "https://localhost:8080/"
        },
        "id": "7CKdxEViNnEs",
        "outputId": "6fe12ad8-9700-46c5-cd0d-0e2cac9ba976"
      },
      "source": [
        "from google.colab import drive\n",
        "drive.mount('/content/drive')"
      ],
      "execution_count": null,
      "outputs": [
        {
          "output_type": "stream",
          "text": [
            "Drive already mounted at /content/drive; to attempt to forcibly remount, call drive.mount(\"/content/drive\", force_remount=True).\n"
          ],
          "name": "stdout"
        }
      ]
    },
    {
      "cell_type": "code",
      "metadata": {
        "colab": {
          "base_uri": "https://localhost:8080/"
        },
        "id": "De9k_j9JNnBq",
        "outputId": "92479e5e-6622-496d-f873-1f3bd8f8eef7"
      },
      "source": [
        "import cv2\n",
        "import numpy as np\n",
        "import matplotlib.pyplot as plt\n",
        "import seaborn as sns\n",
        "# import spectral.io.envi as envi\n",
        "import pandas as pd\n",
        "from sklearn.metrics import confusion_matrix, accuracy_score, recall_score, precision_score\n",
        "from sklearn.metrics import precision_recall_curve, classification_report\n",
        "from sklearn.model_selection import train_test_split\n",
        "from sklearn.linear_model import LogisticRegressionCV\n",
        "from sklearn.linear_model import LogisticRegression\n",
        "\n",
        "import tensorflow as tf\n",
        "from tensorflow import keras\n",
        "from tensorflow.keras import layers\n",
        "from tensorflow.keras.layers.experimental import preprocessing\n",
        "from tensorflow.keras.callbacks import EarlyStopping\n",
        "from keras.models import Sequential\n",
        "from keras.layers import Dense\n",
        "\n",
        "print(tf.__version__)"
      ],
      "execution_count": null,
      "outputs": [
        {
          "output_type": "stream",
          "text": [
            "2.4.1\n"
          ],
          "name": "stdout"
        }
      ]
    },
    {
      "cell_type": "markdown",
      "metadata": {
        "id": "wIa5Kx_Vuog8"
      },
      "source": [
        "### get list of top 40 features based on t-test"
      ]
    },
    {
      "cell_type": "code",
      "metadata": {
        "id": "VBd_fgt_u_dP"
      },
      "source": [
        "ttest_df = pd.read_csv('/content/drive/MyDrive/Thesis/files/unnormalized/t_statistic_array_pre.csv', encoding='latin-1')\n",
        "ttest_df.ttest_val = np.abs(ttest_df.ttest_val.values)"
      ],
      "execution_count": null,
      "outputs": []
    },
    {
      "cell_type": "code",
      "metadata": {
        "colab": {
          "base_uri": "https://localhost:8080/",
          "height": 350
        },
        "id": "mRlvEEqS04Nb",
        "outputId": "c1c5d3ec-8c50-44f9-88e1-9e7550158ae0"
      },
      "source": [
        "plt.figure(figsize=(17, 5))\n",
        "plt.bar(ttest_df.band_no.values, ttest_df.ttest_val.values)\n",
        "plt.xlabel('Channel Number')\n",
        "plt.ylabel('ttest_values')\n",
        "plt.title('t_test chart')\n",
        "# plt.savefig('/content/drive/MyDrive/Thesis/images/' + '.png')\n",
        "plt.show() "
      ],
      "execution_count": null,
      "outputs": [
        {
          "output_type": "display_data",
          "data": {
            "image/png": "[encoded data removed]",
            "text/plain": [
              "<Figure size 1224x360 with 1 Axes>"
            ]
          },
          "metadata": {
            "tags": [],
            "needs_background": "light"
          }
        }
      ]
    },
    {
      "cell_type": "code",
      "metadata": {
        "id": "2MrVurQN04FH"
      },
      "source": [
        "sorted_ttest_df = ttest_df.sort_values(ascending=False, by='ttest_val')"
      ],
      "execution_count": null,
      "outputs": []
    },
    {
      "cell_type": "code",
      "metadata": {
        "id": "LfJU9waa3n-P"
      },
      "source": [
        "top_selected = sorted_ttest_df.iloc[:40,:]"
      ],
      "execution_count": null,
      "outputs": []
    },
    {
      "cell_type": "code",
      "metadata": {
        "colab": {
          "base_uri": "https://localhost:8080/",
          "height": 350
        },
        "id": "QyQgLZ-94N69",
        "outputId": "ef376f85-49fa-4293-8a42-700ac86e94c2"
      },
      "source": [
        "plt.figure(figsize=(17, 5))\n",
        "plt.bar(ttest_df.band_no.values, ttest_df.ttest_val.values, label='less_important_channels_based_on_ttest')\n",
        "plt.bar(top_selected.band_no.values, top_selected.ttest_val.values, color='cyan', label='top40_channels_based_on_ttest')\n",
        "plt.xlabel('Channel Number')\n",
        "plt.ylabel('ttest_values')\n",
        "plt.title('t_test chart')\n",
        "plt.legend(loc='upper right')\n",
        "plt.savefig('/content/drive/MyDrive/Thesis/images/unnormalized/LR/' + 'top40_ttest_unnormalized' + '.png')\n",
        "plt.show() "
      ],
      "execution_count": null,
      "outputs": [
        {
          "output_type": "display_data",
          "data": {
            "image/png": "[encoded data removed]",
            "text/plain": [
              "<Figure size 1224x360 with 1 Axes>"
            ]
          },
          "metadata": {
            "tags": [],
            "needs_background": "light"
          }
        }
      ]
    },
    {
      "cell_type": "markdown",
      "metadata": {
        "id": "yKi4bc7S5jU6"
      },
      "source": [
        "### load selected channels for training"
      ]
    },
    {
      "cell_type": "code",
      "metadata": {
        "id": "nO9IltV161MN"
      },
      "source": [
        "# bands_list = top_selected.band_no.values"
      ],
      "execution_count": null,
      "outputs": []
    },
    {
      "cell_type": "code",
      "metadata": {
        "colab": {
          "base_uri": "https://localhost:8080/"
        },
        "id": "Ra2FdKN19DF2",
        "outputId": "e7901dd4-54ce-4ad0-e949-4fb38b4ae96d"
      },
      "source": [
        "# bands_list"
      ],
      "execution_count": null,
      "outputs": [
        {
          "output_type": "execute_result",
          "data": {
            "text/plain": [
              "array([ 46,  47,  45,  48,  44,  43,  49,  42,  50,  41,  51,  52,  40,\n",
              "        53,  39,  54,  55,  38, 117, 118, 130, 131, 116, 119, 129, 115,\n",
              "       132, 137, 138, 124, 123, 120, 133, 128, 122, 134, 136, 139, 121,\n",
              "       125])"
            ]
          },
          "metadata": {
            "tags": []
          },
          "execution_count": 14
        }
      ]
    },
    {
      "cell_type": "code",
      "metadata": {
        "id": "LyAIPGDC9W_S"
      },
      "source": [
        "# y = np.load('/content/drive/MyDrive/Thesis/bands_unnormalized/label.npy').reshape(-1, 1)"
      ],
      "execution_count": null,
      "outputs": []
    },
    {
      "cell_type": "code",
      "metadata": {
        "id": "myn0BZ2t9d1t"
      },
      "source": [
        "# X = np.zeros((34594800, 40), dtype='float32')"
      ],
      "execution_count": null,
      "outputs": []
    },
    {
      "cell_type": "code",
      "metadata": {
        "id": "6DavEs7v-6Zf"
      },
      "source": [
        "# for i in range(len(bands_list)):\n",
        "#   X[:, i:i+1] = np.load('/content/drive/MyDrive/Thesis/bands_unnormalized/band_' + str(bands_list[i]) + '.npy')\n",
        "#   print(i)"
      ],
      "execution_count": null,
      "outputs": []
    },
    {
      "cell_type": "code",
      "metadata": {
        "id": "YUSVpxa5LWzG"
      },
      "source": [
        "# using numpy =====================================\n",
        "# X = np.concatenate((X, y), axis=1)\n",
        "# np.random.shuffle(X)\n",
        "# y = X[:, 50:]\n",
        "# X = np.delete(X, 50, 1)"
      ],
      "execution_count": null,
      "outputs": []
    },
    {
      "cell_type": "code",
      "metadata": {
        "colab": {
          "base_uri": "https://localhost:8080/",
          "height": 161
        },
        "id": "cZVkb6BNlBHs",
        "outputId": "7f795a7c-2691-4d48-c19a-7f166ec06809"
      },
      "source": [
        "df = pd.DataFrame(data=X)\n",
        "df.head(3)"
      ],
      "execution_count": null,
      "outputs": [
        {
          "output_type": "execute_result",
          "data": {
            "text/html": [
              "<div>\n",
              "<style scoped>\n",
              "    .dataframe tbody tr th:only-of-type {\n",
              "        vertical-align: middle;\n",
              "    }\n",
              "\n",
              "    .dataframe tbody tr th {\n",
              "        vertical-align: top;\n",
              "    }\n",
              "\n",
              "    .dataframe thead th {\n",
              "        text-align: right;\n",
              "    }\n",
              "</style>\n",
              "<table border=\"1\" class=\"dataframe\">\n",
              "  <thead>\n",
              "    <tr style=\"text-align: right;\">\n",
              "      <th></th>\n",
              "      <th>0</th>\n",
              "      <th>1</th>\n",
              "      <th>2</th>\n",
              "      <th>3</th>\n",
              "      <th>4</th>\n",
              "      <th>5</th>\n",
              "      <th>6</th>\n",
              "      <th>7</th>\n",
              "      <th>8</th>\n",
              "      <th>9</th>\n",
              "      <th>10</th>\n",
              "      <th>11</th>\n",
              "      <th>12</th>\n",
              "      <th>13</th>\n",
              "      <th>14</th>\n",
              "      <th>15</th>\n",
              "      <th>16</th>\n",
              "      <th>17</th>\n",
              "      <th>18</th>\n",
              "      <th>19</th>\n",
              "      <th>20</th>\n",
              "      <th>21</th>\n",
              "      <th>22</th>\n",
              "      <th>23</th>\n",
              "      <th>24</th>\n",
              "      <th>25</th>\n",
              "      <th>26</th>\n",
              "      <th>27</th>\n",
              "      <th>28</th>\n",
              "      <th>29</th>\n",
              "      <th>30</th>\n",
              "      <th>31</th>\n",
              "      <th>32</th>\n",
              "      <th>33</th>\n",
              "      <th>34</th>\n",
              "      <th>35</th>\n",
              "      <th>36</th>\n",
              "      <th>37</th>\n",
              "      <th>38</th>\n",
              "      <th>39</th>\n",
              "    </tr>\n",
              "  </thead>\n",
              "  <tbody>\n",
              "    <tr>\n",
              "      <th>0</th>\n",
              "      <td>0.002880</td>\n",
              "      <td>0.002742</td>\n",
              "      <td>0.002643</td>\n",
              "      <td>0.002778</td>\n",
              "      <td>0.002507</td>\n",
              "      <td>0.002450</td>\n",
              "      <td>0.002881</td>\n",
              "      <td>0.002616</td>\n",
              "      <td>0.003010</td>\n",
              "      <td>0.002568</td>\n",
              "      <td>0.003084</td>\n",
              "      <td>0.002944</td>\n",
              "      <td>0.002427</td>\n",
              "      <td>0.002954</td>\n",
              "      <td>0.002463</td>\n",
              "      <td>0.003019</td>\n",
              "      <td>0.003206</td>\n",
              "      <td>0.002395</td>\n",
              "      <td>0.003713</td>\n",
              "      <td>0.003540</td>\n",
              "      <td>0.003705</td>\n",
              "      <td>0.003615</td>\n",
              "      <td>0.003695</td>\n",
              "      <td>0.003746</td>\n",
              "      <td>0.003480</td>\n",
              "      <td>0.003918</td>\n",
              "      <td>0.003543</td>\n",
              "      <td>0.003267</td>\n",
              "      <td>0.003301</td>\n",
              "      <td>0.003767</td>\n",
              "      <td>0.003685</td>\n",
              "      <td>0.003509</td>\n",
              "      <td>0.003300</td>\n",
              "      <td>0.003495</td>\n",
              "      <td>0.003745</td>\n",
              "      <td>0.003422</td>\n",
              "      <td>0.003163</td>\n",
              "      <td>0.003299</td>\n",
              "      <td>0.003701</td>\n",
              "      <td>0.003625</td>\n",
              "    </tr>\n",
              "    <tr>\n",
              "      <th>1</th>\n",
              "      <td>0.002811</td>\n",
              "      <td>0.002881</td>\n",
              "      <td>0.002664</td>\n",
              "      <td>0.002777</td>\n",
              "      <td>0.002606</td>\n",
              "      <td>0.002518</td>\n",
              "      <td>0.002921</td>\n",
              "      <td>0.002479</td>\n",
              "      <td>0.002832</td>\n",
              "      <td>0.002581</td>\n",
              "      <td>0.002948</td>\n",
              "      <td>0.002994</td>\n",
              "      <td>0.002504</td>\n",
              "      <td>0.002950</td>\n",
              "      <td>0.002503</td>\n",
              "      <td>0.003016</td>\n",
              "      <td>0.003078</td>\n",
              "      <td>0.002411</td>\n",
              "      <td>0.003871</td>\n",
              "      <td>0.003814</td>\n",
              "      <td>0.003608</td>\n",
              "      <td>0.003456</td>\n",
              "      <td>0.003758</td>\n",
              "      <td>0.003719</td>\n",
              "      <td>0.003583</td>\n",
              "      <td>0.003636</td>\n",
              "      <td>0.003459</td>\n",
              "      <td>0.003253</td>\n",
              "      <td>0.003314</td>\n",
              "      <td>0.003627</td>\n",
              "      <td>0.003859</td>\n",
              "      <td>0.003631</td>\n",
              "      <td>0.003583</td>\n",
              "      <td>0.003612</td>\n",
              "      <td>0.003786</td>\n",
              "      <td>0.003410</td>\n",
              "      <td>0.003639</td>\n",
              "      <td>0.003359</td>\n",
              "      <td>0.003557</td>\n",
              "      <td>0.003633</td>\n",
              "    </tr>\n",
              "    <tr>\n",
              "      <th>2</th>\n",
              "      <td>0.002783</td>\n",
              "      <td>0.002697</td>\n",
              "      <td>0.002683</td>\n",
              "      <td>0.002831</td>\n",
              "      <td>0.002660</td>\n",
              "      <td>0.002594</td>\n",
              "      <td>0.002749</td>\n",
              "      <td>0.002626</td>\n",
              "      <td>0.002846</td>\n",
              "      <td>0.002644</td>\n",
              "      <td>0.002980</td>\n",
              "      <td>0.003039</td>\n",
              "      <td>0.002499</td>\n",
              "      <td>0.003092</td>\n",
              "      <td>0.002449</td>\n",
              "      <td>0.003011</td>\n",
              "      <td>0.003077</td>\n",
              "      <td>0.002468</td>\n",
              "      <td>0.003563</td>\n",
              "      <td>0.003793</td>\n",
              "      <td>0.003410</td>\n",
              "      <td>0.003673</td>\n",
              "      <td>0.003546</td>\n",
              "      <td>0.003810</td>\n",
              "      <td>0.003656</td>\n",
              "      <td>0.003558</td>\n",
              "      <td>0.003365</td>\n",
              "      <td>0.003408</td>\n",
              "      <td>0.003462</td>\n",
              "      <td>0.003808</td>\n",
              "      <td>0.003618</td>\n",
              "      <td>0.003593</td>\n",
              "      <td>0.003372</td>\n",
              "      <td>0.003455</td>\n",
              "      <td>0.003543</td>\n",
              "      <td>0.003389</td>\n",
              "      <td>0.003401</td>\n",
              "      <td>0.003279</td>\n",
              "      <td>0.003834</td>\n",
              "      <td>0.003647</td>\n",
              "    </tr>\n",
              "  </tbody>\n",
              "</table>\n",
              "</div>"
            ],
            "text/plain": [
              "         0         1         2   ...        37        38        39\n",
              "0  0.002880  0.002742  0.002643  ...  0.003299  0.003701  0.003625\n",
              "1  0.002811  0.002881  0.002664  ...  0.003359  0.003557  0.003633\n",
              "2  0.002783  0.002697  0.002683  ...  0.003279  0.003834  0.003647\n",
              "\n",
              "[3 rows x 40 columns]"
            ]
          },
          "metadata": {
            "tags": []
          },
          "execution_count": 18
        }
      ]
    },
    {
      "cell_type": "code",
      "metadata": {
        "id": "8oDzAcFolA49"
      },
      "source": [
        "df.insert(0, \"label\", value=np.array(y, dtype=int), allow_duplicates=True)"
      ],
      "execution_count": null,
      "outputs": []
    },
    {
      "cell_type": "code",
      "metadata": {
        "colab": {
          "base_uri": "https://localhost:8080/",
          "height": 161
        },
        "id": "AkLutXjGlA25",
        "outputId": "10f73048-a8ce-4217-88e7-3e994053c295"
      },
      "source": [
        "df = df.sample(frac = 1)\n",
        "df.head(3)"
      ],
      "execution_count": null,
      "outputs": [
        {
          "output_type": "execute_result",
          "data": {
            "text/html": [
              "<div>\n",
              "<style scoped>\n",
              "    .dataframe tbody tr th:only-of-type {\n",
              "        vertical-align: middle;\n",
              "    }\n",
              "\n",
              "    .dataframe tbody tr th {\n",
              "        vertical-align: top;\n",
              "    }\n",
              "\n",
              "    .dataframe thead th {\n",
              "        text-align: right;\n",
              "    }\n",
              "</style>\n",
              "<table border=\"1\" class=\"dataframe\">\n",
              "  <thead>\n",
              "    <tr style=\"text-align: right;\">\n",
              "      <th></th>\n",
              "      <th>label</th>\n",
              "      <th>0</th>\n",
              "      <th>1</th>\n",
              "      <th>2</th>\n",
              "      <th>3</th>\n",
              "      <th>4</th>\n",
              "      <th>5</th>\n",
              "      <th>6</th>\n",
              "      <th>7</th>\n",
              "      <th>8</th>\n",
              "      <th>9</th>\n",
              "      <th>10</th>\n",
              "      <th>11</th>\n",
              "      <th>12</th>\n",
              "      <th>13</th>\n",
              "      <th>14</th>\n",
              "      <th>15</th>\n",
              "      <th>16</th>\n",
              "      <th>17</th>\n",
              "      <th>18</th>\n",
              "      <th>19</th>\n",
              "      <th>20</th>\n",
              "      <th>21</th>\n",
              "      <th>22</th>\n",
              "      <th>23</th>\n",
              "      <th>24</th>\n",
              "      <th>25</th>\n",
              "      <th>26</th>\n",
              "      <th>27</th>\n",
              "      <th>28</th>\n",
              "      <th>29</th>\n",
              "      <th>30</th>\n",
              "      <th>31</th>\n",
              "      <th>32</th>\n",
              "      <th>33</th>\n",
              "      <th>34</th>\n",
              "      <th>35</th>\n",
              "      <th>36</th>\n",
              "      <th>37</th>\n",
              "      <th>38</th>\n",
              "      <th>39</th>\n",
              "    </tr>\n",
              "  </thead>\n",
              "  <tbody>\n",
              "    <tr>\n",
              "      <th>985779</th>\n",
              "      <td>1</td>\n",
              "      <td>0.005834</td>\n",
              "      <td>0.005864</td>\n",
              "      <td>0.005952</td>\n",
              "      <td>0.005980</td>\n",
              "      <td>0.005716</td>\n",
              "      <td>0.005713</td>\n",
              "      <td>0.006302</td>\n",
              "      <td>0.005447</td>\n",
              "      <td>0.006192</td>\n",
              "      <td>0.005482</td>\n",
              "      <td>0.006492</td>\n",
              "      <td>0.006664</td>\n",
              "      <td>0.005352</td>\n",
              "      <td>0.006556</td>\n",
              "      <td>0.005125</td>\n",
              "      <td>0.006694</td>\n",
              "      <td>0.006721</td>\n",
              "      <td>0.005179</td>\n",
              "      <td>0.007598</td>\n",
              "      <td>0.007868</td>\n",
              "      <td>0.007599</td>\n",
              "      <td>0.007965</td>\n",
              "      <td>0.008016</td>\n",
              "      <td>0.007876</td>\n",
              "      <td>0.007817</td>\n",
              "      <td>0.007903</td>\n",
              "      <td>0.007814</td>\n",
              "      <td>0.007504</td>\n",
              "      <td>0.007529</td>\n",
              "      <td>0.008169</td>\n",
              "      <td>0.008153</td>\n",
              "      <td>0.008083</td>\n",
              "      <td>0.007590</td>\n",
              "      <td>0.007630</td>\n",
              "      <td>0.008192</td>\n",
              "      <td>0.007682</td>\n",
              "      <td>0.007487</td>\n",
              "      <td>0.007606</td>\n",
              "      <td>0.007889</td>\n",
              "      <td>0.008014</td>\n",
              "    </tr>\n",
              "    <tr>\n",
              "      <th>29481454</th>\n",
              "      <td>0</td>\n",
              "      <td>0.005575</td>\n",
              "      <td>0.005702</td>\n",
              "      <td>0.005663</td>\n",
              "      <td>0.005903</td>\n",
              "      <td>0.005545</td>\n",
              "      <td>0.005494</td>\n",
              "      <td>0.005982</td>\n",
              "      <td>0.005368</td>\n",
              "      <td>0.005800</td>\n",
              "      <td>0.005270</td>\n",
              "      <td>0.006008</td>\n",
              "      <td>0.006098</td>\n",
              "      <td>0.005209</td>\n",
              "      <td>0.006319</td>\n",
              "      <td>0.005233</td>\n",
              "      <td>0.006181</td>\n",
              "      <td>0.006298</td>\n",
              "      <td>0.004932</td>\n",
              "      <td>0.007891</td>\n",
              "      <td>0.008041</td>\n",
              "      <td>0.007681</td>\n",
              "      <td>0.007392</td>\n",
              "      <td>0.007946</td>\n",
              "      <td>0.007828</td>\n",
              "      <td>0.007385</td>\n",
              "      <td>0.007909</td>\n",
              "      <td>0.007433</td>\n",
              "      <td>0.007865</td>\n",
              "      <td>0.007170</td>\n",
              "      <td>0.007935</td>\n",
              "      <td>0.007707</td>\n",
              "      <td>0.007700</td>\n",
              "      <td>0.007575</td>\n",
              "      <td>0.007712</td>\n",
              "      <td>0.008008</td>\n",
              "      <td>0.007422</td>\n",
              "      <td>0.007617</td>\n",
              "      <td>0.007560</td>\n",
              "      <td>0.007978</td>\n",
              "      <td>0.008199</td>\n",
              "    </tr>\n",
              "    <tr>\n",
              "      <th>9693757</th>\n",
              "      <td>0</td>\n",
              "      <td>0.008921</td>\n",
              "      <td>0.009288</td>\n",
              "      <td>0.008603</td>\n",
              "      <td>0.009568</td>\n",
              "      <td>0.008037</td>\n",
              "      <td>0.007709</td>\n",
              "      <td>0.009487</td>\n",
              "      <td>0.007578</td>\n",
              "      <td>0.009334</td>\n",
              "      <td>0.007201</td>\n",
              "      <td>0.009653</td>\n",
              "      <td>0.009598</td>\n",
              "      <td>0.006687</td>\n",
              "      <td>0.009444</td>\n",
              "      <td>0.006310</td>\n",
              "      <td>0.008985</td>\n",
              "      <td>0.009052</td>\n",
              "      <td>0.005552</td>\n",
              "      <td>0.043750</td>\n",
              "      <td>0.043055</td>\n",
              "      <td>0.042652</td>\n",
              "      <td>0.043065</td>\n",
              "      <td>0.043062</td>\n",
              "      <td>0.043022</td>\n",
              "      <td>0.042283</td>\n",
              "      <td>0.043519</td>\n",
              "      <td>0.042966</td>\n",
              "      <td>0.042697</td>\n",
              "      <td>0.042422</td>\n",
              "      <td>0.042619</td>\n",
              "      <td>0.043460</td>\n",
              "      <td>0.043002</td>\n",
              "      <td>0.043063</td>\n",
              "      <td>0.042459</td>\n",
              "      <td>0.043537</td>\n",
              "      <td>0.042690</td>\n",
              "      <td>0.044024</td>\n",
              "      <td>0.042124</td>\n",
              "      <td>0.043483</td>\n",
              "      <td>0.043575</td>\n",
              "    </tr>\n",
              "  </tbody>\n",
              "</table>\n",
              "</div>"
            ],
            "text/plain": [
              "          label         0         1  ...        37        38        39\n",
              "985779        1  0.005834  0.005864  ...  0.007606  0.007889  0.008014\n",
              "29481454      0  0.005575  0.005702  ...  0.007560  0.007978  0.008199\n",
              "9693757       0  0.008921  0.009288  ...  0.042124  0.043483  0.043575\n",
              "\n",
              "[3 rows x 41 columns]"
            ]
          },
          "metadata": {
            "tags": []
          },
          "execution_count": 20
        }
      ]
    },
    {
      "cell_type": "code",
      "metadata": {
        "id": "x--wRz4aRpD9"
      },
      "source": [
        "# df.to_pickle('/content/drive/MyDrive/Thesis/shuffled_top40/dataset.pkl')"
      ],
      "execution_count": null,
      "outputs": []
    },
    {
      "cell_type": "markdown",
      "metadata": {
        "id": "wdKAin1QmcD0"
      },
      "source": [
        "### logistic regression using keras"
      ]
    },
    {
      "cell_type": "code",
      "metadata": {
        "id": "BzUe1WpbmwyZ"
      },
      "source": [
        "# X = df.iloc[:, 1:]"
      ],
      "execution_count": null,
      "outputs": []
    },
    {
      "cell_type": "code",
      "metadata": {
        "id": "XC9eZIgHgCYm"
      },
      "source": [
        "# np.save('/content/drive/MyDrive/Thesis/shuffled_top40_unnormalized/dataset.npy', X)"
      ],
      "execution_count": null,
      "outputs": []
    },
    {
      "cell_type": "code",
      "metadata": {
        "id": "nxbYFt2PCjey"
      },
      "source": [
        "# y = df.iloc[:, 0:1]"
      ],
      "execution_count": null,
      "outputs": []
    },
    {
      "cell_type": "code",
      "metadata": {
        "id": "M0Z6iOaYgtAs"
      },
      "source": [
        "# np.save('/content/drive/MyDrive/Thesis/shuffled_top40_unnormalized/label.npy', y)"
      ],
      "execution_count": null,
      "outputs": []
    },
    {
      "cell_type": "code",
      "metadata": {
        "id": "GZZqnQ4YhfPB"
      },
      "source": [
        "y = np.load('/content/drive/MyDrive/Thesis/shuffled_top40_unnormalized/label.npy')"
      ],
      "execution_count": null,
      "outputs": []
    },
    {
      "cell_type": "code",
      "metadata": {
        "id": "HZJ5PZ8rhfLw"
      },
      "source": [
        "X = np.load('/content/drive/MyDrive/Thesis/shuffled_top40_unnormalized/dataset.npy')"
      ],
      "execution_count": null,
      "outputs": []
    },
    {
      "cell_type": "markdown",
      "metadata": {
        "id": "MLQJKWrMDsv4"
      },
      "source": [
        "start preparing dataset"
      ]
    },
    {
      "cell_type": "code",
      "metadata": {
        "colab": {
          "base_uri": "https://localhost:8080/"
        },
        "id": "UW5lTvtsGPJn",
        "outputId": "2bc69dc3-0e4c-4e21-ff99-3f3f9d6c7b9a"
      },
      "source": [
        "input_shape = [X.shape[1],]\n",
        "input_shape"
      ],
      "execution_count": null,
      "outputs": [
        {
          "output_type": "execute_result",
          "data": {
            "text/plain": [
              "[40]"
            ]
          },
          "metadata": {
            "tags": []
          },
          "execution_count": 6
        }
      ]
    },
    {
      "cell_type": "code",
      "metadata": {
        "id": "6p8MCPSlGPHn"
      },
      "source": [
        "band_normalizer = preprocessing.Normalization(input_shape=input_shape)"
      ],
      "execution_count": null,
      "outputs": []
    },
    {
      "cell_type": "code",
      "metadata": {
        "id": "L6sCwedWGPFm"
      },
      "source": [
        "bands = np.array(X)"
      ],
      "execution_count": null,
      "outputs": []
    },
    {
      "cell_type": "code",
      "metadata": {
        "id": "0PFQ4LCKGPCd"
      },
      "source": [
        "band_normalizer.adapt(bands)"
      ],
      "execution_count": null,
      "outputs": []
    },
    {
      "cell_type": "code",
      "metadata": {
        "colab": {
          "base_uri": "https://localhost:8080/"
        },
        "id": "ImR-tjGkGO_X",
        "outputId": "5bb6deb1-42e9-4fc4-81dc-041f75336296"
      },
      "source": [
        "model = tf.keras.Sequential([\n",
        "    band_normalizer,\n",
        "    layers.Dense(units=1, activation='sigmoid')\n",
        "])\n",
        "\n",
        "model.summary()"
      ],
      "execution_count": null,
      "outputs": [
        {
          "output_type": "stream",
          "text": [
            "Model: \"sequential\"\n",
            "_________________________________________________________________\n",
            "Layer (type)                 Output Shape              Param #   \n",
            "=================================================================\n",
            "normalization (Normalization (None, 40)                81        \n",
            "_________________________________________________________________\n",
            "dense (Dense)                (None, 1)                 41        \n",
            "=================================================================\n",
            "Total params: 122\n",
            "Trainable params: 41\n",
            "Non-trainable params: 81\n",
            "_________________________________________________________________\n"
          ],
          "name": "stdout"
        }
      ]
    },
    {
      "cell_type": "code",
      "metadata": {
        "id": "uIjpJVB0GO9d"
      },
      "source": [
        "model.compile(\n",
        "    optimizer=tf.optimizers.Adam(learning_rate=0.1),\n",
        "    loss='binary_crossentropy', metrics=['accuracy'])"
      ],
      "execution_count": null,
      "outputs": []
    },
    {
      "cell_type": "code",
      "metadata": {
        "id": "zlhQjpGFGO6S"
      },
      "source": [
        "callback = tf.keras.callbacks.EarlyStopping(monitor='loss', min_delta=1e-3, patience=3)"
      ],
      "execution_count": null,
      "outputs": []
    },
    {
      "cell_type": "code",
      "metadata": {
        "colab": {
          "base_uri": "https://localhost:8080/"
        },
        "id": "e7gEXG-fGO4e",
        "outputId": "442c0cff-398d-405f-8d57-d0d1488ef4a7"
      },
      "source": [
        "%%time\n",
        "history = model.fit(\n",
        "    X, y,\n",
        "    epochs=100,\n",
        "    # suppress logging\n",
        "    verbose=1,\n",
        "    # Calculate validation results on 25% of the training data\n",
        "    validation_split = 0.25,\n",
        "    callbacks=[callback]\n",
        "    )"
      ],
      "execution_count": null,
      "outputs": [
        {
          "output_type": "stream",
          "text": [
            "Epoch 1/100\n",
            "810816/810816 [==============================] - 961s 1ms/step - loss: 0.7194 - accuracy: 0.5598 - val_loss: 0.7612 - val_accuracy: 0.5720\n",
            "Epoch 2/100\n",
            "810816/810816 [==============================] - 965s 1ms/step - loss: 0.7201 - accuracy: 0.5600 - val_loss: 0.6644 - val_accuracy: 0.5839\n",
            "Epoch 3/100\n",
            "810816/810816 [==============================] - 963s 1ms/step - loss: 0.7198 - accuracy: 0.5601 - val_loss: 0.7129 - val_accuracy: 0.5661\n",
            "Epoch 4/100\n",
            "810816/810816 [==============================] - 967s 1ms/step - loss: 0.7198 - accuracy: 0.5599 - val_loss: 0.6839 - val_accuracy: 0.5764\n",
            "CPU times: user 1h 19min 59s, sys: 11min 39s, total: 1h 31min 38s\n",
            "Wall time: 1h 4min 16s\n"
          ],
          "name": "stdout"
        }
      ]
    },
    {
      "cell_type": "code",
      "metadata": {
        "colab": {
          "base_uri": "https://localhost:8080/",
          "height": 171
        },
        "id": "VznfDEliGO1p",
        "outputId": "bce2a3a6-e4e0-4dfc-d0b7-71ee65924d1f"
      },
      "source": [
        "hist = pd.DataFrame(history.history)\n",
        "hist['epoch'] = history.epoch\n",
        "hist.tail()"
      ],
      "execution_count": null,
      "outputs": [
        {
          "output_type": "execute_result",
          "data": {
            "text/html": [
              "<div>\n",
              "<style scoped>\n",
              "    .dataframe tbody tr th:only-of-type {\n",
              "        vertical-align: middle;\n",
              "    }\n",
              "\n",
              "    .dataframe tbody tr th {\n",
              "        vertical-align: top;\n",
              "    }\n",
              "\n",
              "    .dataframe thead th {\n",
              "        text-align: right;\n",
              "    }\n",
              "</style>\n",
              "<table border=\"1\" class=\"dataframe\">\n",
              "  <thead>\n",
              "    <tr style=\"text-align: right;\">\n",
              "      <th></th>\n",
              "      <th>loss</th>\n",
              "      <th>accuracy</th>\n",
              "      <th>val_loss</th>\n",
              "      <th>val_accuracy</th>\n",
              "      <th>epoch</th>\n",
              "    </tr>\n",
              "  </thead>\n",
              "  <tbody>\n",
              "    <tr>\n",
              "      <th>0</th>\n",
              "      <td>0.719220</td>\n",
              "      <td>0.560103</td>\n",
              "      <td>0.761222</td>\n",
              "      <td>0.571956</td>\n",
              "      <td>0</td>\n",
              "    </tr>\n",
              "    <tr>\n",
              "      <th>1</th>\n",
              "      <td>0.719571</td>\n",
              "      <td>0.560110</td>\n",
              "      <td>0.664442</td>\n",
              "      <td>0.583929</td>\n",
              "      <td>1</td>\n",
              "    </tr>\n",
              "    <tr>\n",
              "      <th>2</th>\n",
              "      <td>0.719715</td>\n",
              "      <td>0.560037</td>\n",
              "      <td>0.712933</td>\n",
              "      <td>0.566102</td>\n",
              "      <td>2</td>\n",
              "    </tr>\n",
              "    <tr>\n",
              "      <th>3</th>\n",
              "      <td>0.719572</td>\n",
              "      <td>0.559892</td>\n",
              "      <td>0.683911</td>\n",
              "      <td>0.576414</td>\n",
              "      <td>3</td>\n",
              "    </tr>\n",
              "  </tbody>\n",
              "</table>\n",
              "</div>"
            ],
            "text/plain": [
              "       loss  accuracy  val_loss  val_accuracy  epoch\n",
              "0  0.719220  0.560103  0.761222      0.571956      0\n",
              "1  0.719571  0.560110  0.664442      0.583929      1\n",
              "2  0.719715  0.560037  0.712933      0.566102      2\n",
              "3  0.719572  0.559892  0.683911      0.576414      3"
            ]
          },
          "metadata": {
            "tags": []
          },
          "execution_count": 15
        }
      ]
    },
    {
      "cell_type": "code",
      "metadata": {
        "id": "JOSGVQWwG-iH"
      },
      "source": [
        "def plot_loss(history):\n",
        "  plt.plot(history.history['loss'], label='loss')\n",
        "  plt.plot(history.history['val_loss'], label='val_loss')\n",
        "  plt.ylim([0, 5])\n",
        "  plt.xlabel('Epoch')\n",
        "  plt.ylabel('error')\n",
        "  plt.legend()\n",
        "  plt.grid(True)"
      ],
      "execution_count": null,
      "outputs": []
    },
    {
      "cell_type": "code",
      "metadata": {
        "id": "XLDZhEGesW3e"
      },
      "source": [
        "def plot_accuracy(history):\n",
        "  plt.plot(history.history['accuracy'], label='accuracy')\n",
        "  plt.plot(history.history['val_accuracy'], label='val_accuracy')\n",
        "  plt.ylim([0, 1])\n",
        "  plt.xlabel('Epoch')\n",
        "  plt.ylabel('accuracy')\n",
        "  plt.legend()\n",
        "  plt.grid(True)"
      ],
      "execution_count": null,
      "outputs": []
    },
    {
      "cell_type": "code",
      "metadata": {
        "colab": {
          "base_uri": "https://localhost:8080/",
          "height": 283
        },
        "id": "UhJwFA05G-gU",
        "outputId": "866ca632-0463-4876-a9a6-94e658c694d9"
      },
      "source": [
        "plot_loss(history)"
      ],
      "execution_count": null,
      "outputs": [
        {
          "output_type": "display_data",
          "data": {
            "image/png": "[encoded data removed]",
            "text/plain": [
              "<Figure size 432x288 with 1 Axes>"
            ]
          },
          "metadata": {
            "tags": [],
            "needs_background": "light"
          }
        }
      ]
    },
    {
      "cell_type": "code",
      "metadata": {
        "colab": {
          "base_uri": "https://localhost:8080/",
          "height": 283
        },
        "id": "6QOEsV_QsnnJ",
        "outputId": "1eafc739-67ef-48bd-82dd-c4e2631bba5e"
      },
      "source": [
        "plot_accuracy(history)"
      ],
      "execution_count": null,
      "outputs": [
        {
          "output_type": "display_data",
          "data": {
            "image/png": "[encoded data removed]",
            "text/plain": [
              "<Figure size 432x288 with 1 Axes>"
            ]
          },
          "metadata": {
            "tags": [],
            "needs_background": "light"
          }
        }
      ]
    },
    {
      "cell_type": "code",
      "metadata": {
        "id": "IL3iwhczG-az"
      },
      "source": [
        "# predict = model.predict(X)\n",
        "# accuracy_score(np.round(predict), y[:])"
      ],
      "execution_count": null,
      "outputs": []
    },
    {
      "cell_type": "code",
      "metadata": {
        "id": "ksUFxnaVGOy9"
      },
      "source": [
        ""
      ],
      "execution_count": null,
      "outputs": []
    },
    {
      "cell_type": "code",
      "metadata": {
        "id": "JwxwqL5LnDgu"
      },
      "source": [
        ""
      ],
      "execution_count": null,
      "outputs": []
    },
    {
      "cell_type": "code",
      "metadata": {
        "id": "M4DKp9YtnEin"
      },
      "source": [
        ""
      ],
      "execution_count": null,
      "outputs": []
    },
    {
      "cell_type": "code",
      "metadata": {
        "id": "dcwtJFIdHO_F"
      },
      "source": [
        ""
      ],
      "execution_count": null,
      "outputs": []
    },
    {
      "cell_type": "code",
      "metadata": {
        "id": "xlaZGIkWi_zO"
      },
      "source": [
        ""
      ],
      "execution_count": null,
      "outputs": []
    },
    {
      "cell_type": "code",
      "metadata": {
        "id": "VrwWrDydi_lc"
      },
      "source": [
        "import os, signal\n",
        "os.kill(os.getpid(), signal.SIGKILL)"
      ],
      "execution_count": null,
      "outputs": []
    },
    {
      "cell_type": "code",
      "metadata": {
        "id": "yBaqJLdUC8Bb"
      },
      "source": [
        ""
      ],
      "execution_count": null,
      "outputs": []
    }
  ]
}