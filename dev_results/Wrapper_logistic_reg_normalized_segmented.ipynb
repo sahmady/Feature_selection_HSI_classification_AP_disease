{
  "nbformat": 4,
  "nbformat_minor": 0,
  "metadata": {
    "colab": {
      "name": "Wrapper_logistic_reg_normalized_segmented.ipynb",
      "provenance": [],
      "collapsed_sections": [],
      "machine_shape": "hm"
    },
    "kernelspec": {
      "display_name": "Python 3",
      "name": "python3"
    }
  },
  "cells": [
    {
      "cell_type": "markdown",
      "metadata": {
        "id": "Zo-a97e4Nu_V"
      },
      "source": [
        "### increase ram size if required"
      ]
    },
    {
      "cell_type": "code",
      "metadata": {
        "id": "87T5BetZQYQv"
      },
      "source": [
        "i = []\n",
        "while True:\n",
        "  i.append(i)"
      ],
      "execution_count": null,
      "outputs": []
    },
    {
      "cell_type": "markdown",
      "metadata": {
        "id": "j54GcKUzOyWh"
      },
      "source": [
        "### mount google drive"
      ]
    },
    {
      "cell_type": "code",
      "metadata": {
        "colab": {
          "base_uri": "https://localhost:8080/"
        },
        "id": "7CKdxEViNnEs",
        "outputId": "b3949d40-59a6-4478-e0c5-4c44a2f526cd"
      },
      "source": [
        "from google.colab import drive\n",
        "drive.mount('/content/drive')"
      ],
      "execution_count": null,
      "outputs": [
        {
          "output_type": "stream",
          "text": [
            "Mounted at /content/drive\n"
          ],
          "name": "stdout"
        }
      ]
    },
    {
      "cell_type": "code",
      "metadata": {
        "colab": {
          "base_uri": "https://localhost:8080/"
        },
        "id": "De9k_j9JNnBq",
        "outputId": "465e93af-95f3-4674-973c-33d94593dd43"
      },
      "source": [
        "import cv2\n",
        "import numpy as np\n",
        "import matplotlib.pyplot as plt\n",
        "import seaborn as sns\n",
        "# import spectral.io.envi as envi\n",
        "import pandas as pd\n",
        "from sklearn.metrics import confusion_matrix, accuracy_score, recall_score, precision_score\n",
        "from sklearn.metrics import precision_recall_curve, classification_report\n",
        "from sklearn.model_selection import train_test_split\n",
        "from sklearn.linear_model import LogisticRegressionCV\n",
        "from sklearn.linear_model import LogisticRegression\n",
        "from sklearn.linear_model import SGDClassifier\n",
        "from sklearn.preprocessing import StandardScaler\n",
        "from sklearn.pipeline import make_pipeline\n",
        "from sklearn.naive_bayes import GaussianNB\n",
        "from sklearn.svm import SVC\n",
        "# from sklearn.datasets import load_digits\n",
        "from sklearn.model_selection import learning_curve\n",
        "from sklearn.model_selection import ShuffleSplit\n",
        "from sklearn.model_selection import KFold\n",
        "\n",
        "import tensorflow as tf\n",
        "from tensorflow import keras\n",
        "from tensorflow.keras import layers\n",
        "from tensorflow.keras.layers.experimental import preprocessing\n",
        "from tensorflow.keras.callbacks import EarlyStopping\n",
        "from keras.models import Sequential\n",
        "from keras.layers import Dense\n",
        "\n",
        "print(tf.__version__)"
      ],
      "execution_count": null,
      "outputs": [
        {
          "output_type": "stream",
          "text": [
            "2.4.1\n"
          ],
          "name": "stdout"
        }
      ]
    },
    {
      "cell_type": "markdown",
      "metadata": {
        "id": "hQFFKxzgwAzD"
      },
      "source": [
        "## Get order of features based on t-test"
      ]
    },
    {
      "cell_type": "code",
      "metadata": {
        "id": "Yo3GS2eXvVLB"
      },
      "source": [
        "t_statistic_array = np.abs(np.genfromtxt(\"/content/drive/MyDrive/Thesis/files/no_background/t_statistic_array.csv\", delimiter=','))\n",
        "ttest_df = pd.DataFrame(data=t_statistic_array, columns=['ttest_val'])\n",
        "ttest_df.ttest_val = np.abs(ttest_df.ttest_val.values)\n",
        "ttest_df.insert(loc=0, column='band_no', value=np.arange(186))\n",
        "ttest_df.band_no = ttest_df.band_no + 1"
      ],
      "execution_count": null,
      "outputs": []
    },
    {
      "cell_type": "code",
      "metadata": {
        "colab": {
          "base_uri": "https://localhost:8080/",
          "height": 350
        },
        "id": "6M1gt-0_vWgB",
        "outputId": "af58fc76-28a4-480d-bcd6-327235d9045f"
      },
      "source": [
        "plt.figure(figsize=(17, 5))\n",
        "plt.bar(ttest_df.band_no.values, ttest_df.ttest_val.values)\n",
        "plt.xlabel('Channel Number')\n",
        "plt.ylabel('ttest_values')\n",
        "plt.title('t_test chart')\n",
        "# plt.savefig('/content/drive/MyDrive/Thesis/images/normalized/no_background/LR/' + 'ttest_normalized' + '.png')\n",
        "plt.show() "
      ],
      "execution_count": null,
      "outputs": [
        {
          "output_type": "display_data",
          "data": {
            "image/png": "[encoded data removed]",
            "text/plain": [
              "<Figure size 1224x360 with 1 Axes>"
            ]
          },
          "metadata": {
            "tags": [],
            "needs_background": "light"
          }
        }
      ]
    },
    {
      "cell_type": "code",
      "metadata": {
        "id": "h0M9vMaXvWd1"
      },
      "source": [
        "sorted_ttest_df = ttest_df.sort_values(ascending=False, by='ttest_val')"
      ],
      "execution_count": null,
      "outputs": []
    },
    {
      "cell_type": "code",
      "metadata": {
        "id": "LVZ9W7-4vWbK"
      },
      "source": [
        "ordered_bands = sorted_ttest_df.band_no.values"
      ],
      "execution_count": null,
      "outputs": []
    },
    {
      "cell_type": "markdown",
      "metadata": {
        "id": "1IFooo7pv7RQ"
      },
      "source": [
        "## Load dataset"
      ]
    },
    {
      "cell_type": "markdown",
      "metadata": {
        "id": "el4rCPG_wQ_L"
      },
      "source": [
        "### save dataset in drive for later use"
      ]
    },
    {
      "cell_type": "code",
      "metadata": {
        "id": "ue93ND4QVW37"
      },
      "source": [
        "directory = '/content/drive/MyDrive/Thesis/segmented_bands/'\n",
        "y = np.array(np.load(directory + 'label.npy'), dtype='int')"
      ],
      "execution_count": null,
      "outputs": []
    },
    {
      "cell_type": "code",
      "metadata": {
        "id": "8PNnyMvhVWvE"
      },
      "source": [
        "X = np.zeros((8410045, 186), dtype='float32')"
      ],
      "execution_count": null,
      "outputs": []
    },
    {
      "cell_type": "code",
      "metadata": {
        "colab": {
          "base_uri": "https://localhost:8080/"
        },
        "id": "NGhoUquMNctg",
        "outputId": "cc522da7-f1c1-40c4-9b3c-4d9a6c8f61b3"
      },
      "source": [
        "ordered_bands"
      ],
      "execution_count": null,
      "outputs": [
        {
          "output_type": "execute_result",
          "data": {
            "text/plain": [
              "array([ 44,  45,  46,  47,  42,  43,  48,  49,  41,  40,   6,  10,  11,\n",
              "         9,  39,   8,  50,  13,   4,  14, 167,  12,   7, 119,   3,   5,\n",
              "       124, 125, 117,  51, 110, 115,  15, 118, 114, 121, 113, 170,   2,\n",
              "       176, 149, 173, 111,  38, 126, 116, 161, 146, 144, 130,  16,   1,\n",
              "       123, 164, 128, 150, 147, 132, 120,  19, 112, 153, 174,  18, 154,\n",
              "       133,  17, 177, 135, 143, 127, 172, 183, 169, 109, 141, 156, 134,\n",
              "       140, 131, 160, 138, 179, 122, 178, 137, 152, 148, 158,  52, 136,\n",
              "       155,  20, 139, 151, 162, 171, 142, 175,  37, 129,  22, 165,  21,\n",
              "        23, 180, 168, 145, 108, 163, 157, 166, 107,  53,  36, 106,  24,\n",
              "       159, 185, 184, 181,  25,  26,  35, 186,  27,  54, 182,  34,  28,\n",
              "        33,  32,  29,  30,  31, 105,  55, 104,  56,  57, 103,  58,  59,\n",
              "        60, 102,  61,  62,  63,  64,  65,  79,  78, 101,  77,  80,  83,\n",
              "        66,  85,  84,  81,  82,  86,  87,  76,  67,  88,  68,  75,  69,\n",
              "        70, 100,  74,  89,  71,  72,  73,  94,  95,  93,  99,  90,  92,\n",
              "        96,  98,  97,  91])"
            ]
          },
          "metadata": {
            "tags": []
          },
          "execution_count": 14
        }
      ]
    },
    {
      "cell_type": "code",
      "metadata": {
        "id": "st8sc2CANRF_"
      },
      "source": [
        "# # store in the order of t_test\n",
        "# for i in range(186):\n",
        "#   X[:, i:i+1] = np.array(np.load('/content/drive/MyDrive/Thesis/segmented_bands/band_' + str(ordered_bands[i]) + '.npy'), dtype='float32').reshape(-1, 1)\n",
        "#   print(i)"
      ],
      "execution_count": null,
      "outputs": []
    },
    {
      "cell_type": "code",
      "metadata": {
        "id": "9LMGr4gfOE0U"
      },
      "source": [
        "# np.save('/content/drive/MyDrive/Thesis/dataset/ttest_ordered_segmented_normalized_original_size/X.npy', X)\n",
        "# np.save('/content/drive/MyDrive/Thesis/dataset/ttest_ordered_segmented_normalized_original_size/y.npy', y)"
      ],
      "execution_count": null,
      "outputs": []
    },
    {
      "cell_type": "code",
      "metadata": {
        "id": "u3p23IEuVWpo"
      },
      "source": [
        "# for i in range(186):\n",
        "#   X[:, i:i+1] = np.array(np.load('/content/drive/MyDrive/Thesis/segmented_bands/band_' + str(i+1) + '.npy'), dtype='float32').reshape(-1, 1)\n",
        "#   print(i)"
      ],
      "execution_count": null,
      "outputs": []
    },
    {
      "cell_type": "code",
      "metadata": {
        "id": "GhspjduiVWWp"
      },
      "source": [
        "# np.save('/content/drive/MyDrive/Thesis/dataset/segmented_normalized_original_size/X.npy', X)\n",
        "# np.save('/content/drive/MyDrive/Thesis/dataset/segmented_normalized_original_size/y.npy', y)"
      ],
      "execution_count": null,
      "outputs": []
    },
    {
      "cell_type": "code",
      "metadata": {
        "id": "0YQ1SySLVWNv"
      },
      "source": [
        "# X_4th = X[::10,:]\n",
        "# y_4th = y[::10]"
      ],
      "execution_count": null,
      "outputs": []
    },
    {
      "cell_type": "code",
      "metadata": {
        "id": "jf5rf6mcVWRF"
      },
      "source": [
        "# np.save('/content/drive/MyDrive/Thesis/dataset/ttest_ordered_segmented_normalized_one_tenth/X.npy', X_4th)\n",
        "# np.save('/content/drive/MyDrive/Thesis/dataset/ttest_ordered_segmented_normalized_one_tenth/y.npy', y_4th)"
      ],
      "execution_count": null,
      "outputs": []
    },
    {
      "cell_type": "markdown",
      "metadata": {
        "id": "DUc1pE_Cwaz2"
      },
      "source": [
        "### load dataset"
      ]
    },
    {
      "cell_type": "code",
      "metadata": {
        "id": "u0PpcgSCkts_"
      },
      "source": [
        "X = np.array(np.load('/content/drive/MyDrive/Thesis/dataset/segmented_normalized_one_fourth/X.npy'), dtype='float32')\n",
        "y = np.array(np.load('/content/drive/MyDrive/Thesis/dataset/segmented_normalized_one_fourth/y.npy'), dtype='int')"
      ],
      "execution_count": null,
      "outputs": []
    },
    {
      "cell_type": "code",
      "metadata": {
        "colab": {
          "base_uri": "https://localhost:8080/"
        },
        "id": "_O4ZBTXNGhhO",
        "outputId": "800f9b45-30ce-4d57-baf7-7cea17c9e1c7"
      },
      "source": [
        "ordered_bands"
      ],
      "execution_count": null,
      "outputs": [
        {
          "output_type": "execute_result",
          "data": {
            "text/plain": [
              "array([ 44,  45,  46,  47,  42,  43,  48,  49,  41,  40,   6,  10,  11,\n",
              "         9,  39,   8,  50,  13,   4,  14, 167,  12,   7, 119,   3,   5,\n",
              "       124, 125, 117,  51, 110, 115,  15, 118, 114, 121, 113, 170,   2,\n",
              "       176, 149, 173, 111,  38, 126, 116, 161, 146, 144, 130,  16,   1,\n",
              "       123, 164, 128, 150, 147, 132, 120,  19, 112, 153, 174,  18, 154,\n",
              "       133,  17, 177, 135, 143, 127, 172, 183, 169, 109, 141, 156, 134,\n",
              "       140, 131, 160, 138, 179, 122, 178, 137, 152, 148, 158,  52, 136,\n",
              "       155,  20, 139, 151, 162, 171, 142, 175,  37, 129,  22, 165,  21,\n",
              "        23, 180, 168, 145, 108, 163, 157, 166, 107,  53,  36, 106,  24,\n",
              "       159, 185, 184, 181,  25,  26,  35, 186,  27,  54, 182,  34,  28,\n",
              "        33,  32,  29,  30,  31, 105,  55, 104,  56,  57, 103,  58,  59,\n",
              "        60, 102,  61,  62,  63,  64,  65,  79,  78, 101,  77,  80,  83,\n",
              "        66,  85,  84,  81,  82,  86,  87,  76,  67,  88,  68,  75,  69,\n",
              "        70, 100,  74,  89,  71,  72,  73,  94,  95,  93,  99,  90,  92,\n",
              "        96,  98,  97,  91])"
            ]
          },
          "metadata": {
            "tags": []
          },
          "execution_count": 10
        }
      ]
    },
    {
      "cell_type": "code",
      "metadata": {
        "id": "BlKlZQcIItGn"
      },
      "source": [
        "C = np.zeros_like(X, dtype='float32')"
      ],
      "execution_count": null,
      "outputs": []
    },
    {
      "cell_type": "code",
      "metadata": {
        "id": "rcMR_DNaUzjF"
      },
      "source": [
        "for i in range(186):\n",
        "  C[:,i:i+1] = X[:,ordered_bands[i]:ordered_bands[i]+1]"
      ],
      "execution_count": null,
      "outputs": []
    },
    {
      "cell_type": "code",
      "metadata": {
        "id": "f6Ejks8UUzgL"
      },
      "source": [
        "X = C"
      ],
      "execution_count": null,
      "outputs": []
    },
    {
      "cell_type": "code",
      "metadata": {
        "id": "qOndMjtbUzVL"
      },
      "source": [
        ""
      ],
      "execution_count": null,
      "outputs": []
    },
    {
      "cell_type": "code",
      "metadata": {
        "id": "kVp1Qa6HJ9_g"
      },
      "source": [
        "num_of_folds = 5\n",
        "kf = KFold(n_splits=num_of_folds, shuffle=True, random_state=42)"
      ],
      "execution_count": null,
      "outputs": []
    },
    {
      "cell_type": "code",
      "metadata": {
        "id": "aFDxdKkmJvGz"
      },
      "source": [
        "for train_index, val_index in kf.split(X):\n",
        "  # print(\"TRAIN:\", train_index, \"TEST:\", val_index)\n",
        "  X_train, X_val = X[:, ordered_bands[0]:ordered_bands[0]+1][train_index], X[val_index]"
      ],
      "execution_count": null,
      "outputs": []
    },
    {
      "cell_type": "code",
      "metadata": {
        "colab": {
          "base_uri": "https://localhost:8080/",
          "height": 745
        },
        "id": "5LqKFeeUGOiW",
        "outputId": "a342d467-e196-4afc-ed05-1d0994975d55"
      },
      "source": [
        "%%time\n",
        "\n",
        "num_of_folds = 5\n",
        "kf = KFold(n_splits=num_of_folds, shuffle=True, random_state=42)\n",
        "\n",
        "train_scores_mean_arr = np.array([])\n",
        "train_scores_std_arr = np.array([])\n",
        "val_scores_mean_arr = np.array([])\n",
        "val_scores_std_arr = np.array([])\n",
        "\n",
        "train_scores = np.array([])\n",
        "val_scores = np.array([])\n",
        "\n",
        "for train_index, val_index in kf.split(X):\n",
        "  # print(\"TRAIN:\", train_index, \"TEST:\", val_index)\n",
        "  X_train, X_val = X[:, 0:1][train_index], X[:, 0:1][val_index]\n",
        "  y_train, y_val = y[train_index], y[val_index]\n",
        "\n",
        "  # clf = LogisticRegression(penalty='none', max_iter=500).fit(X_train, y_train)\n",
        "  clf = make_pipeline(StandardScaler(), LogisticRegression(penalty='none', max_iter=500))\n",
        "  clf.fit(X_train, y_train)\n",
        "\n",
        "  train_score = clf.score(X_train, y_train)\n",
        "  val_score = clf.score(X_val, y_val)\n",
        "\n",
        "  train_scores = np.append(train_scores, train_score)\n",
        "  val_scores = np.append(val_scores, val_score)\n",
        "\n",
        "train_scores_mean = np.mean(train_scores)\n",
        "train_scores_std = np.std(train_scores)\n",
        "val_scores_mean = np.mean(val_scores)\n",
        "val_scores_std = np.std(val_scores)\n",
        "\n",
        "train_scores_mean_arr = np.append(train_scores_mean_arr, train_scores_mean)\n",
        "train_scores_std_arr = np.append(train_scores_std_arr, train_scores_std)\n",
        "val_scores_mean_arr = np.append(val_scores_mean_arr, val_scores_mean)\n",
        "val_scores_std_arr = np.append(val_scores_std_arr, val_scores_std)\n",
        "\n",
        "for i in range(1, len(ordered_bands)):\n",
        "  # concatenate features one by one\n",
        "  # X = np.concatenate((X, \n",
        "  #                     np.array(np.load(directory + 'band_' + str(bands_list[i]) + '.npy').reshape(-1, 1), \n",
        "  #                     dtype='float32')), axis=1)\n",
        "\n",
        "  # instantiate cross_validation instance\n",
        "  kf = KFold(n_splits=num_of_folds, shuffle=True, random_state=42)\n",
        "\n",
        "  train_scores = np.array([])\n",
        "  val_scores = np.array([])\n",
        "\n",
        "  for train_index, val_index in kf.split(X):\n",
        "    # print(\"TRAIN:\", train_index, \"TEST:\", val_index)\n",
        "    X_train, X_val = X[:, 0:i+1][train_index], X[:, 0:i+1][val_index]\n",
        "    y_train, y_val = y[train_index], y[val_index]\n",
        "\n",
        "    # clf = LogisticRegression(penalty='none', max_iter=500).fit(X_train, y_train)\n",
        "    clf = make_pipeline(StandardScaler(), LogisticRegression(penalty='none', max_iter=500))\n",
        "    clf.fit(X_train, y_train)\n",
        "\n",
        "    train_score = clf.score(X_train, y_train)\n",
        "    val_score = clf.score(X_val, y_val)\n",
        "\n",
        "    train_scores = np.append(train_scores, train_score)\n",
        "    val_scores = np.append(val_scores, val_score)\n",
        "\n",
        "  train_scores_mean = np.mean(train_scores)\n",
        "  train_scores_std = np.std(train_scores)\n",
        "  val_scores_mean = np.mean(val_scores)\n",
        "  val_scores_std = np.std(val_scores)\n",
        "\n",
        "  train_scores_mean_arr = np.append(train_scores_mean_arr, train_scores_mean)\n",
        "  train_scores_std_arr = np.append(train_scores_std_arr, train_scores_std)\n",
        "  val_scores_mean_arr = np.append(val_scores_mean_arr, val_scores_mean)\n",
        "  val_scores_std_arr = np.append(val_scores_std_arr, val_scores_std)\n",
        "\n",
        "  print(i)"
      ],
      "execution_count": null,
      "outputs": [
        {
          "output_type": "stream",
          "text": [
            "1\n",
            "2\n",
            "3\n",
            "4\n",
            "5\n",
            "6\n",
            "7\n",
            "8\n",
            "9\n",
            "10\n",
            "11\n"
          ],
          "name": "stdout"
        },
        {
          "output_type": "error",
          "ename": "KeyboardInterrupt",
          "evalue": "ignored",
          "traceback": [
            "\u001b[0;31m---------------------------------------------------------------------------\u001b[0m",
            "\u001b[0;31mKeyboardInterrupt\u001b[0m                         Traceback (most recent call last)",
            "\u001b[0;32m<ipython-input-43-4e56183c690c>\u001b[0m in \u001b[0;36m<module>\u001b[0;34m()\u001b[0m\n\u001b[0;32m----> 1\u001b[0;31m \u001b[0mget_ipython\u001b[0m\u001b[0;34m(\u001b[0m\u001b[0;34m)\u001b[0m\u001b[0;34m.\u001b[0m\u001b[0mrun_cell_magic\u001b[0m\u001b[0;34m(\u001b[0m\u001b[0;34m'time'\u001b[0m\u001b[0;34m,\u001b[0m \u001b[0;34m''\u001b[0m\u001b[0;34m,\u001b[0m \u001b[0;34m'\\nnum_of_folds = 5\\nkf = KFold(n_splits=num_of_folds, shuffle=True, random_state=42)\\n\\ntrain_scores_mean_arr = np.array([])\\ntrain_scores_std_arr = np.array([])\\nval_scores_mean_arr = np.array([])\\nval_scores_std_arr = np.array([])\\n\\ntrain_scores = np.array([])\\nval_scores = np.array([])\\n\\nfor train_index, val_index in kf.split(X):\\n  # print(\"TRAIN:\", train_index, \"TEST:\", val_index)\\n  X_train, X_val = X[:, 0:1][train_index], X[:, 0:1][val_index]\\n  y_train, y_val = y[train_index], y[val_index]\\n\\n  # clf = LogisticRegression(penalty=\\'none\\', max_iter=500).fit(X_train, y_train)\\n  clf = make_pipeline(StandardScaler(), LogisticRegression(penalty=\\'none\\', max_iter=500))\\n  clf.fit(X_train, y_train)\\n\\n  train_score = clf.score(X_train, y_train)\\n  val_score = clf.score(X_val, y_val)\\n\\n  train_scores = np.append(train_scores, train_score)\\n  val_scores = np.append(val_scores, val_score)\\n\\ntrain_scores_mean = np.mean(train_scores)\\ntrain_scores_std = np.std(train_scores)\\nval_scores_mean = np.mean(val_scores)\\nval_scores_std = np.std(val_scores)\\n\\ntrain_scores_mean_arr = np.append(train_scores_mean_arr, train_scores_mean)\\ntrain_scores_std_arr = np.append(train_scores_std_arr, train_scores_std)\\nval_scores_mean_arr = np.append(val_scores_mean_arr, val_scores_mean)\\nval_scores_std_arr = np.append...\n\u001b[0m",
            "\u001b[0;32m/usr/local/lib/python3.7/dist-packages/IPython/core/interactiveshell.py\u001b[0m in \u001b[0;36mrun_cell_magic\u001b[0;34m(self, magic_name, line, cell)\u001b[0m\n\u001b[1;32m   2115\u001b[0m             \u001b[0mmagic_arg_s\u001b[0m \u001b[0;34m=\u001b[0m \u001b[0mself\u001b[0m\u001b[0;34m.\u001b[0m\u001b[0mvar_expand\u001b[0m\u001b[0;34m(\u001b[0m\u001b[0mline\u001b[0m\u001b[0;34m,\u001b[0m \u001b[0mstack_depth\u001b[0m\u001b[0;34m)\u001b[0m\u001b[0;34m\u001b[0m\u001b[0;34m\u001b[0m\u001b[0m\n\u001b[1;32m   2116\u001b[0m             \u001b[0;32mwith\u001b[0m \u001b[0mself\u001b[0m\u001b[0;34m.\u001b[0m\u001b[0mbuiltin_trap\u001b[0m\u001b[0;34m:\u001b[0m\u001b[0;34m\u001b[0m\u001b[0;34m\u001b[0m\u001b[0m\n\u001b[0;32m-> 2117\u001b[0;31m                 \u001b[0mresult\u001b[0m \u001b[0;34m=\u001b[0m \u001b[0mfn\u001b[0m\u001b[0;34m(\u001b[0m\u001b[0mmagic_arg_s\u001b[0m\u001b[0;34m,\u001b[0m \u001b[0mcell\u001b[0m\u001b[0;34m)\u001b[0m\u001b[0;34m\u001b[0m\u001b[0;34m\u001b[0m\u001b[0m\n\u001b[0m\u001b[1;32m   2118\u001b[0m             \u001b[0;32mreturn\u001b[0m \u001b[0mresult\u001b[0m\u001b[0;34m\u001b[0m\u001b[0;34m\u001b[0m\u001b[0m\n\u001b[1;32m   2119\u001b[0m \u001b[0;34m\u001b[0m\u001b[0m\n",
            "\u001b[0;32m<decorator-gen-53>\u001b[0m in \u001b[0;36mtime\u001b[0;34m(self, line, cell, local_ns)\u001b[0m\n",
            "\u001b[0;32m/usr/local/lib/python3.7/dist-packages/IPython/core/magic.py\u001b[0m in \u001b[0;36m<lambda>\u001b[0;34m(f, *a, **k)\u001b[0m\n\u001b[1;32m    186\u001b[0m     \u001b[0;31m# but it's overkill for just that one bit of state.\u001b[0m\u001b[0;34m\u001b[0m\u001b[0;34m\u001b[0m\u001b[0;34m\u001b[0m\u001b[0m\n\u001b[1;32m    187\u001b[0m     \u001b[0;32mdef\u001b[0m \u001b[0mmagic_deco\u001b[0m\u001b[0;34m(\u001b[0m\u001b[0marg\u001b[0m\u001b[0;34m)\u001b[0m\u001b[0;34m:\u001b[0m\u001b[0;34m\u001b[0m\u001b[0;34m\u001b[0m\u001b[0m\n\u001b[0;32m--> 188\u001b[0;31m         \u001b[0mcall\u001b[0m \u001b[0;34m=\u001b[0m \u001b[0;32mlambda\u001b[0m \u001b[0mf\u001b[0m\u001b[0;34m,\u001b[0m \u001b[0;34m*\u001b[0m\u001b[0ma\u001b[0m\u001b[0;34m,\u001b[0m \u001b[0;34m**\u001b[0m\u001b[0mk\u001b[0m\u001b[0;34m:\u001b[0m \u001b[0mf\u001b[0m\u001b[0;34m(\u001b[0m\u001b[0;34m*\u001b[0m\u001b[0ma\u001b[0m\u001b[0;34m,\u001b[0m \u001b[0;34m**\u001b[0m\u001b[0mk\u001b[0m\u001b[0;34m)\u001b[0m\u001b[0;34m\u001b[0m\u001b[0;34m\u001b[0m\u001b[0m\n\u001b[0m\u001b[1;32m    189\u001b[0m \u001b[0;34m\u001b[0m\u001b[0m\n\u001b[1;32m    190\u001b[0m         \u001b[0;32mif\u001b[0m \u001b[0mcallable\u001b[0m\u001b[0;34m(\u001b[0m\u001b[0marg\u001b[0m\u001b[0;34m)\u001b[0m\u001b[0;34m:\u001b[0m\u001b[0;34m\u001b[0m\u001b[0;34m\u001b[0m\u001b[0m\n",
            "\u001b[0;32m/usr/local/lib/python3.7/dist-packages/IPython/core/magics/execution.py\u001b[0m in \u001b[0;36mtime\u001b[0;34m(self, line, cell, local_ns)\u001b[0m\n\u001b[1;32m   1191\u001b[0m         \u001b[0;32melse\u001b[0m\u001b[0;34m:\u001b[0m\u001b[0;34m\u001b[0m\u001b[0;34m\u001b[0m\u001b[0m\n\u001b[1;32m   1192\u001b[0m             \u001b[0mst\u001b[0m \u001b[0;34m=\u001b[0m \u001b[0mclock2\u001b[0m\u001b[0;34m(\u001b[0m\u001b[0;34m)\u001b[0m\u001b[0;34m\u001b[0m\u001b[0;34m\u001b[0m\u001b[0m\n\u001b[0;32m-> 1193\u001b[0;31m             \u001b[0mexec\u001b[0m\u001b[0;34m(\u001b[0m\u001b[0mcode\u001b[0m\u001b[0;34m,\u001b[0m \u001b[0mglob\u001b[0m\u001b[0;34m,\u001b[0m \u001b[0mlocal_ns\u001b[0m\u001b[0;34m)\u001b[0m\u001b[0;34m\u001b[0m\u001b[0;34m\u001b[0m\u001b[0m\n\u001b[0m\u001b[1;32m   1194\u001b[0m             \u001b[0mend\u001b[0m \u001b[0;34m=\u001b[0m \u001b[0mclock2\u001b[0m\u001b[0;34m(\u001b[0m\u001b[0;34m)\u001b[0m\u001b[0;34m\u001b[0m\u001b[0;34m\u001b[0m\u001b[0m\n\u001b[1;32m   1195\u001b[0m             \u001b[0mout\u001b[0m \u001b[0;34m=\u001b[0m \u001b[0;32mNone\u001b[0m\u001b[0;34m\u001b[0m\u001b[0;34m\u001b[0m\u001b[0m\n",
            "\u001b[0;32m<timed exec>\u001b[0m in \u001b[0;36m<module>\u001b[0;34m()\u001b[0m\n",
            "\u001b[0;32m/usr/local/lib/python3.7/dist-packages/sklearn/pipeline.py\u001b[0m in \u001b[0;36mfit\u001b[0;34m(self, X, y, **fit_params)\u001b[0m\n\u001b[1;32m    352\u001b[0m                                  self._log_message(len(self.steps) - 1)):\n\u001b[1;32m    353\u001b[0m             \u001b[0;32mif\u001b[0m \u001b[0mself\u001b[0m\u001b[0;34m.\u001b[0m\u001b[0m_final_estimator\u001b[0m \u001b[0;34m!=\u001b[0m \u001b[0;34m'passthrough'\u001b[0m\u001b[0;34m:\u001b[0m\u001b[0;34m\u001b[0m\u001b[0;34m\u001b[0m\u001b[0m\n\u001b[0;32m--> 354\u001b[0;31m                 \u001b[0mself\u001b[0m\u001b[0;34m.\u001b[0m\u001b[0m_final_estimator\u001b[0m\u001b[0;34m.\u001b[0m\u001b[0mfit\u001b[0m\u001b[0;34m(\u001b[0m\u001b[0mXt\u001b[0m\u001b[0;34m,\u001b[0m \u001b[0my\u001b[0m\u001b[0;34m,\u001b[0m \u001b[0;34m**\u001b[0m\u001b[0mfit_params\u001b[0m\u001b[0;34m)\u001b[0m\u001b[0;34m\u001b[0m\u001b[0;34m\u001b[0m\u001b[0m\n\u001b[0m\u001b[1;32m    355\u001b[0m         \u001b[0;32mreturn\u001b[0m \u001b[0mself\u001b[0m\u001b[0;34m\u001b[0m\u001b[0;34m\u001b[0m\u001b[0m\n\u001b[1;32m    356\u001b[0m \u001b[0;34m\u001b[0m\u001b[0m\n",
            "\u001b[0;32m/usr/local/lib/python3.7/dist-packages/sklearn/linear_model/_logistic.py\u001b[0m in \u001b[0;36mfit\u001b[0;34m(self, X, y, sample_weight)\u001b[0m\n\u001b[1;32m   1599\u001b[0m                       \u001b[0mpenalty\u001b[0m\u001b[0;34m=\u001b[0m\u001b[0mpenalty\u001b[0m\u001b[0;34m,\u001b[0m \u001b[0mmax_squared_sum\u001b[0m\u001b[0;34m=\u001b[0m\u001b[0mmax_squared_sum\u001b[0m\u001b[0;34m,\u001b[0m\u001b[0;34m\u001b[0m\u001b[0;34m\u001b[0m\u001b[0m\n\u001b[1;32m   1600\u001b[0m                       sample_weight=sample_weight)\n\u001b[0;32m-> 1601\u001b[0;31m             for class_, warm_start_coef_ in zip(classes_, warm_start_coef))\n\u001b[0m\u001b[1;32m   1602\u001b[0m \u001b[0;34m\u001b[0m\u001b[0m\n\u001b[1;32m   1603\u001b[0m         \u001b[0mfold_coefs_\u001b[0m\u001b[0;34m,\u001b[0m \u001b[0m_\u001b[0m\u001b[0;34m,\u001b[0m \u001b[0mn_iter_\u001b[0m \u001b[0;34m=\u001b[0m \u001b[0mzip\u001b[0m\u001b[0;34m(\u001b[0m\u001b[0;34m*\u001b[0m\u001b[0mfold_coefs_\u001b[0m\u001b[0;34m)\u001b[0m\u001b[0;34m\u001b[0m\u001b[0;34m\u001b[0m\u001b[0m\n",
            "\u001b[0;32m/usr/local/lib/python3.7/dist-packages/joblib/parallel.py\u001b[0m in \u001b[0;36m__call__\u001b[0;34m(self, iterable)\u001b[0m\n\u001b[1;32m   1039\u001b[0m             \u001b[0;31m# remaining jobs.\u001b[0m\u001b[0;34m\u001b[0m\u001b[0;34m\u001b[0m\u001b[0;34m\u001b[0m\u001b[0m\n\u001b[1;32m   1040\u001b[0m             \u001b[0mself\u001b[0m\u001b[0;34m.\u001b[0m\u001b[0m_iterating\u001b[0m \u001b[0;34m=\u001b[0m \u001b[0;32mFalse\u001b[0m\u001b[0;34m\u001b[0m\u001b[0;34m\u001b[0m\u001b[0m\n\u001b[0;32m-> 1041\u001b[0;31m             \u001b[0;32mif\u001b[0m \u001b[0mself\u001b[0m\u001b[0;34m.\u001b[0m\u001b[0mdispatch_one_batch\u001b[0m\u001b[0;34m(\u001b[0m\u001b[0miterator\u001b[0m\u001b[0;34m)\u001b[0m\u001b[0;34m:\u001b[0m\u001b[0;34m\u001b[0m\u001b[0;34m\u001b[0m\u001b[0m\n\u001b[0m\u001b[1;32m   1042\u001b[0m                 \u001b[0mself\u001b[0m\u001b[0;34m.\u001b[0m\u001b[0m_iterating\u001b[0m \u001b[0;34m=\u001b[0m \u001b[0mself\u001b[0m\u001b[0;34m.\u001b[0m\u001b[0m_original_iterator\u001b[0m \u001b[0;32mis\u001b[0m \u001b[0;32mnot\u001b[0m \u001b[0;32mNone\u001b[0m\u001b[0;34m\u001b[0m\u001b[0;34m\u001b[0m\u001b[0m\n\u001b[1;32m   1043\u001b[0m \u001b[0;34m\u001b[0m\u001b[0m\n",
            "\u001b[0;32m/usr/local/lib/python3.7/dist-packages/joblib/parallel.py\u001b[0m in \u001b[0;36mdispatch_one_batch\u001b[0;34m(self, iterator)\u001b[0m\n\u001b[1;32m    857\u001b[0m                 \u001b[0;32mreturn\u001b[0m \u001b[0;32mFalse\u001b[0m\u001b[0;34m\u001b[0m\u001b[0;34m\u001b[0m\u001b[0m\n\u001b[1;32m    858\u001b[0m             \u001b[0;32melse\u001b[0m\u001b[0;34m:\u001b[0m\u001b[0;34m\u001b[0m\u001b[0;34m\u001b[0m\u001b[0m\n\u001b[0;32m--> 859\u001b[0;31m                 \u001b[0mself\u001b[0m\u001b[0;34m.\u001b[0m\u001b[0m_dispatch\u001b[0m\u001b[0;34m(\u001b[0m\u001b[0mtasks\u001b[0m\u001b[0;34m)\u001b[0m\u001b[0;34m\u001b[0m\u001b[0;34m\u001b[0m\u001b[0m\n\u001b[0m\u001b[1;32m    860\u001b[0m                 \u001b[0;32mreturn\u001b[0m \u001b[0;32mTrue\u001b[0m\u001b[0;34m\u001b[0m\u001b[0;34m\u001b[0m\u001b[0m\n\u001b[1;32m    861\u001b[0m \u001b[0;34m\u001b[0m\u001b[0m\n",
            "\u001b[0;32m/usr/local/lib/python3.7/dist-packages/joblib/parallel.py\u001b[0m in \u001b[0;36m_dispatch\u001b[0;34m(self, batch)\u001b[0m\n\u001b[1;32m    775\u001b[0m         \u001b[0;32mwith\u001b[0m \u001b[0mself\u001b[0m\u001b[0;34m.\u001b[0m\u001b[0m_lock\u001b[0m\u001b[0;34m:\u001b[0m\u001b[0;34m\u001b[0m\u001b[0;34m\u001b[0m\u001b[0m\n\u001b[1;32m    776\u001b[0m             \u001b[0mjob_idx\u001b[0m \u001b[0;34m=\u001b[0m \u001b[0mlen\u001b[0m\u001b[0;34m(\u001b[0m\u001b[0mself\u001b[0m\u001b[0;34m.\u001b[0m\u001b[0m_jobs\u001b[0m\u001b[0;34m)\u001b[0m\u001b[0;34m\u001b[0m\u001b[0;34m\u001b[0m\u001b[0m\n\u001b[0;32m--> 777\u001b[0;31m             \u001b[0mjob\u001b[0m \u001b[0;34m=\u001b[0m \u001b[0mself\u001b[0m\u001b[0;34m.\u001b[0m\u001b[0m_backend\u001b[0m\u001b[0;34m.\u001b[0m\u001b[0mapply_async\u001b[0m\u001b[0;34m(\u001b[0m\u001b[0mbatch\u001b[0m\u001b[0;34m,\u001b[0m \u001b[0mcallback\u001b[0m\u001b[0;34m=\u001b[0m\u001b[0mcb\u001b[0m\u001b[0;34m)\u001b[0m\u001b[0;34m\u001b[0m\u001b[0;34m\u001b[0m\u001b[0m\n\u001b[0m\u001b[1;32m    778\u001b[0m             \u001b[0;31m# A job can complete so quickly than its callback is\u001b[0m\u001b[0;34m\u001b[0m\u001b[0;34m\u001b[0m\u001b[0;34m\u001b[0m\u001b[0m\n\u001b[1;32m    779\u001b[0m             \u001b[0;31m# called before we get here, causing self._jobs to\u001b[0m\u001b[0;34m\u001b[0m\u001b[0;34m\u001b[0m\u001b[0;34m\u001b[0m\u001b[0m\n",
            "\u001b[0;32m/usr/local/lib/python3.7/dist-packages/joblib/_parallel_backends.py\u001b[0m in \u001b[0;36mapply_async\u001b[0;34m(self, func, callback)\u001b[0m\n\u001b[1;32m    206\u001b[0m     \u001b[0;32mdef\u001b[0m \u001b[0mapply_async\u001b[0m\u001b[0;34m(\u001b[0m\u001b[0mself\u001b[0m\u001b[0;34m,\u001b[0m \u001b[0mfunc\u001b[0m\u001b[0;34m,\u001b[0m \u001b[0mcallback\u001b[0m\u001b[0;34m=\u001b[0m\u001b[0;32mNone\u001b[0m\u001b[0;34m)\u001b[0m\u001b[0;34m:\u001b[0m\u001b[0;34m\u001b[0m\u001b[0;34m\u001b[0m\u001b[0m\n\u001b[1;32m    207\u001b[0m         \u001b[0;34m\"\"\"Schedule a func to be run\"\"\"\u001b[0m\u001b[0;34m\u001b[0m\u001b[0;34m\u001b[0m\u001b[0m\n\u001b[0;32m--> 208\u001b[0;31m         \u001b[0mresult\u001b[0m \u001b[0;34m=\u001b[0m \u001b[0mImmediateResult\u001b[0m\u001b[0;34m(\u001b[0m\u001b[0mfunc\u001b[0m\u001b[0;34m)\u001b[0m\u001b[0;34m\u001b[0m\u001b[0;34m\u001b[0m\u001b[0m\n\u001b[0m\u001b[1;32m    209\u001b[0m         \u001b[0;32mif\u001b[0m \u001b[0mcallback\u001b[0m\u001b[0;34m:\u001b[0m\u001b[0;34m\u001b[0m\u001b[0;34m\u001b[0m\u001b[0m\n\u001b[1;32m    210\u001b[0m             \u001b[0mcallback\u001b[0m\u001b[0;34m(\u001b[0m\u001b[0mresult\u001b[0m\u001b[0;34m)\u001b[0m\u001b[0;34m\u001b[0m\u001b[0;34m\u001b[0m\u001b[0m\n",
            "\u001b[0;32m/usr/local/lib/python3.7/dist-packages/joblib/_parallel_backends.py\u001b[0m in \u001b[0;36m__init__\u001b[0;34m(self, batch)\u001b[0m\n\u001b[1;32m    570\u001b[0m         \u001b[0;31m# Don't delay the application, to avoid keeping the input\u001b[0m\u001b[0;34m\u001b[0m\u001b[0;34m\u001b[0m\u001b[0;34m\u001b[0m\u001b[0m\n\u001b[1;32m    571\u001b[0m         \u001b[0;31m# arguments in memory\u001b[0m\u001b[0;34m\u001b[0m\u001b[0;34m\u001b[0m\u001b[0;34m\u001b[0m\u001b[0m\n\u001b[0;32m--> 572\u001b[0;31m         \u001b[0mself\u001b[0m\u001b[0;34m.\u001b[0m\u001b[0mresults\u001b[0m \u001b[0;34m=\u001b[0m \u001b[0mbatch\u001b[0m\u001b[0;34m(\u001b[0m\u001b[0;34m)\u001b[0m\u001b[0;34m\u001b[0m\u001b[0;34m\u001b[0m\u001b[0m\n\u001b[0m\u001b[1;32m    573\u001b[0m \u001b[0;34m\u001b[0m\u001b[0m\n\u001b[1;32m    574\u001b[0m     \u001b[0;32mdef\u001b[0m \u001b[0mget\u001b[0m\u001b[0;34m(\u001b[0m\u001b[0mself\u001b[0m\u001b[0;34m)\u001b[0m\u001b[0;34m:\u001b[0m\u001b[0;34m\u001b[0m\u001b[0;34m\u001b[0m\u001b[0m\n",
            "\u001b[0;32m/usr/local/lib/python3.7/dist-packages/joblib/parallel.py\u001b[0m in \u001b[0;36m__call__\u001b[0;34m(self)\u001b[0m\n\u001b[1;32m    261\u001b[0m         \u001b[0;32mwith\u001b[0m \u001b[0mparallel_backend\u001b[0m\u001b[0;34m(\u001b[0m\u001b[0mself\u001b[0m\u001b[0;34m.\u001b[0m\u001b[0m_backend\u001b[0m\u001b[0;34m,\u001b[0m \u001b[0mn_jobs\u001b[0m\u001b[0;34m=\u001b[0m\u001b[0mself\u001b[0m\u001b[0;34m.\u001b[0m\u001b[0m_n_jobs\u001b[0m\u001b[0;34m)\u001b[0m\u001b[0;34m:\u001b[0m\u001b[0;34m\u001b[0m\u001b[0;34m\u001b[0m\u001b[0m\n\u001b[1;32m    262\u001b[0m             return [func(*args, **kwargs)\n\u001b[0;32m--> 263\u001b[0;31m                     for func, args, kwargs in self.items]\n\u001b[0m\u001b[1;32m    264\u001b[0m \u001b[0;34m\u001b[0m\u001b[0m\n\u001b[1;32m    265\u001b[0m     \u001b[0;32mdef\u001b[0m \u001b[0m__reduce__\u001b[0m\u001b[0;34m(\u001b[0m\u001b[0mself\u001b[0m\u001b[0;34m)\u001b[0m\u001b[0;34m:\u001b[0m\u001b[0;34m\u001b[0m\u001b[0;34m\u001b[0m\u001b[0m\n",
            "\u001b[0;32m/usr/local/lib/python3.7/dist-packages/joblib/parallel.py\u001b[0m in \u001b[0;36m<listcomp>\u001b[0;34m(.0)\u001b[0m\n\u001b[1;32m    261\u001b[0m         \u001b[0;32mwith\u001b[0m \u001b[0mparallel_backend\u001b[0m\u001b[0;34m(\u001b[0m\u001b[0mself\u001b[0m\u001b[0;34m.\u001b[0m\u001b[0m_backend\u001b[0m\u001b[0;34m,\u001b[0m \u001b[0mn_jobs\u001b[0m\u001b[0;34m=\u001b[0m\u001b[0mself\u001b[0m\u001b[0;34m.\u001b[0m\u001b[0m_n_jobs\u001b[0m\u001b[0;34m)\u001b[0m\u001b[0;34m:\u001b[0m\u001b[0;34m\u001b[0m\u001b[0;34m\u001b[0m\u001b[0m\n\u001b[1;32m    262\u001b[0m             return [func(*args, **kwargs)\n\u001b[0;32m--> 263\u001b[0;31m                     for func, args, kwargs in self.items]\n\u001b[0m\u001b[1;32m    264\u001b[0m \u001b[0;34m\u001b[0m\u001b[0m\n\u001b[1;32m    265\u001b[0m     \u001b[0;32mdef\u001b[0m \u001b[0m__reduce__\u001b[0m\u001b[0;34m(\u001b[0m\u001b[0mself\u001b[0m\u001b[0;34m)\u001b[0m\u001b[0;34m:\u001b[0m\u001b[0;34m\u001b[0m\u001b[0;34m\u001b[0m\u001b[0m\n",
            "\u001b[0;32m/usr/local/lib/python3.7/dist-packages/sklearn/linear_model/_logistic.py\u001b[0m in \u001b[0;36m_logistic_regression_path\u001b[0;34m(X, y, pos_class, Cs, fit_intercept, max_iter, tol, verbose, solver, coef, class_weight, dual, penalty, intercept_scaling, multi_class, random_state, check_input, max_squared_sum, sample_weight, l1_ratio)\u001b[0m\n\u001b[1;32m    934\u001b[0m                 \u001b[0mfunc\u001b[0m\u001b[0;34m,\u001b[0m \u001b[0mw0\u001b[0m\u001b[0;34m,\u001b[0m \u001b[0mmethod\u001b[0m\u001b[0;34m=\u001b[0m\u001b[0;34m\"L-BFGS-B\"\u001b[0m\u001b[0;34m,\u001b[0m \u001b[0mjac\u001b[0m\u001b[0;34m=\u001b[0m\u001b[0;32mTrue\u001b[0m\u001b[0;34m,\u001b[0m\u001b[0;34m\u001b[0m\u001b[0;34m\u001b[0m\u001b[0m\n\u001b[1;32m    935\u001b[0m                 \u001b[0margs\u001b[0m\u001b[0;34m=\u001b[0m\u001b[0;34m(\u001b[0m\u001b[0mX\u001b[0m\u001b[0;34m,\u001b[0m \u001b[0mtarget\u001b[0m\u001b[0;34m,\u001b[0m \u001b[0;36m1.\u001b[0m \u001b[0;34m/\u001b[0m \u001b[0mC\u001b[0m\u001b[0;34m,\u001b[0m \u001b[0msample_weight\u001b[0m\u001b[0;34m)\u001b[0m\u001b[0;34m,\u001b[0m\u001b[0;34m\u001b[0m\u001b[0;34m\u001b[0m\u001b[0m\n\u001b[0;32m--> 936\u001b[0;31m                 \u001b[0moptions\u001b[0m\u001b[0;34m=\u001b[0m\u001b[0;34m{\u001b[0m\u001b[0;34m\"iprint\"\u001b[0m\u001b[0;34m:\u001b[0m \u001b[0miprint\u001b[0m\u001b[0;34m,\u001b[0m \u001b[0;34m\"gtol\"\u001b[0m\u001b[0;34m:\u001b[0m \u001b[0mtol\u001b[0m\u001b[0;34m,\u001b[0m \u001b[0;34m\"maxiter\"\u001b[0m\u001b[0;34m:\u001b[0m \u001b[0mmax_iter\u001b[0m\u001b[0;34m}\u001b[0m\u001b[0;34m\u001b[0m\u001b[0;34m\u001b[0m\u001b[0m\n\u001b[0m\u001b[1;32m    937\u001b[0m             )\n\u001b[1;32m    938\u001b[0m             n_iter_i = _check_optimize_result(\n",
            "\u001b[0;32m/usr/local/lib/python3.7/dist-packages/scipy/optimize/_minimize.py\u001b[0m in \u001b[0;36mminimize\u001b[0;34m(fun, x0, args, method, jac, hess, hessp, bounds, constraints, tol, callback, options)\u001b[0m\n\u001b[1;32m    608\u001b[0m     \u001b[0;32melif\u001b[0m \u001b[0mmeth\u001b[0m \u001b[0;34m==\u001b[0m \u001b[0;34m'l-bfgs-b'\u001b[0m\u001b[0;34m:\u001b[0m\u001b[0;34m\u001b[0m\u001b[0;34m\u001b[0m\u001b[0m\n\u001b[1;32m    609\u001b[0m         return _minimize_lbfgsb(fun, x0, args, jac, bounds,\n\u001b[0;32m--> 610\u001b[0;31m                                 callback=callback, **options)\n\u001b[0m\u001b[1;32m    611\u001b[0m     \u001b[0;32melif\u001b[0m \u001b[0mmeth\u001b[0m \u001b[0;34m==\u001b[0m \u001b[0;34m'tnc'\u001b[0m\u001b[0;34m:\u001b[0m\u001b[0;34m\u001b[0m\u001b[0;34m\u001b[0m\u001b[0m\n\u001b[1;32m    612\u001b[0m         return _minimize_tnc(fun, x0, args, jac, bounds, callback=callback,\n",
            "\u001b[0;32m/usr/local/lib/python3.7/dist-packages/scipy/optimize/lbfgsb.py\u001b[0m in \u001b[0;36m_minimize_lbfgsb\u001b[0;34m(fun, x0, args, jac, bounds, disp, maxcor, ftol, gtol, eps, maxfun, maxiter, iprint, callback, maxls, **unknown_options)\u001b[0m\n\u001b[1;32m    343\u001b[0m             \u001b[0;31m# until the completion of the current minimization iteration.\u001b[0m\u001b[0;34m\u001b[0m\u001b[0;34m\u001b[0m\u001b[0;34m\u001b[0m\u001b[0m\n\u001b[1;32m    344\u001b[0m             \u001b[0;31m# Overwrite f and g:\u001b[0m\u001b[0;34m\u001b[0m\u001b[0;34m\u001b[0m\u001b[0;34m\u001b[0m\u001b[0m\n\u001b[0;32m--> 345\u001b[0;31m             \u001b[0mf\u001b[0m\u001b[0;34m,\u001b[0m \u001b[0mg\u001b[0m \u001b[0;34m=\u001b[0m \u001b[0mfunc_and_grad\u001b[0m\u001b[0;34m(\u001b[0m\u001b[0mx\u001b[0m\u001b[0;34m)\u001b[0m\u001b[0;34m\u001b[0m\u001b[0;34m\u001b[0m\u001b[0m\n\u001b[0m\u001b[1;32m    346\u001b[0m         \u001b[0;32melif\u001b[0m \u001b[0mtask_str\u001b[0m\u001b[0;34m.\u001b[0m\u001b[0mstartswith\u001b[0m\u001b[0;34m(\u001b[0m\u001b[0;34mb'NEW_X'\u001b[0m\u001b[0;34m)\u001b[0m\u001b[0;34m:\u001b[0m\u001b[0;34m\u001b[0m\u001b[0;34m\u001b[0m\u001b[0m\n\u001b[1;32m    347\u001b[0m             \u001b[0;31m# new iteration\u001b[0m\u001b[0;34m\u001b[0m\u001b[0;34m\u001b[0m\u001b[0;34m\u001b[0m\u001b[0m\n",
            "\u001b[0;32m/usr/local/lib/python3.7/dist-packages/scipy/optimize/lbfgsb.py\u001b[0m in \u001b[0;36mfunc_and_grad\u001b[0;34m(x)\u001b[0m\n\u001b[1;32m    293\u001b[0m     \u001b[0;32melse\u001b[0m\u001b[0;34m:\u001b[0m\u001b[0;34m\u001b[0m\u001b[0;34m\u001b[0m\u001b[0m\n\u001b[1;32m    294\u001b[0m         \u001b[0;32mdef\u001b[0m \u001b[0mfunc_and_grad\u001b[0m\u001b[0;34m(\u001b[0m\u001b[0mx\u001b[0m\u001b[0;34m)\u001b[0m\u001b[0;34m:\u001b[0m\u001b[0;34m\u001b[0m\u001b[0;34m\u001b[0m\u001b[0m\n\u001b[0;32m--> 295\u001b[0;31m             \u001b[0mf\u001b[0m \u001b[0;34m=\u001b[0m \u001b[0mfun\u001b[0m\u001b[0;34m(\u001b[0m\u001b[0mx\u001b[0m\u001b[0;34m,\u001b[0m \u001b[0;34m*\u001b[0m\u001b[0margs\u001b[0m\u001b[0;34m)\u001b[0m\u001b[0;34m\u001b[0m\u001b[0;34m\u001b[0m\u001b[0m\n\u001b[0m\u001b[1;32m    296\u001b[0m             \u001b[0mg\u001b[0m \u001b[0;34m=\u001b[0m \u001b[0mjac\u001b[0m\u001b[0;34m(\u001b[0m\u001b[0mx\u001b[0m\u001b[0;34m,\u001b[0m \u001b[0;34m*\u001b[0m\u001b[0margs\u001b[0m\u001b[0;34m)\u001b[0m\u001b[0;34m\u001b[0m\u001b[0;34m\u001b[0m\u001b[0m\n\u001b[1;32m    297\u001b[0m             \u001b[0;32mreturn\u001b[0m \u001b[0mf\u001b[0m\u001b[0;34m,\u001b[0m \u001b[0mg\u001b[0m\u001b[0;34m\u001b[0m\u001b[0;34m\u001b[0m\u001b[0m\n",
            "\u001b[0;32m/usr/local/lib/python3.7/dist-packages/scipy/optimize/optimize.py\u001b[0m in \u001b[0;36mfunction_wrapper\u001b[0;34m(*wrapper_args)\u001b[0m\n\u001b[1;32m    325\u001b[0m     \u001b[0;32mdef\u001b[0m \u001b[0mfunction_wrapper\u001b[0m\u001b[0;34m(\u001b[0m\u001b[0;34m*\u001b[0m\u001b[0mwrapper_args\u001b[0m\u001b[0;34m)\u001b[0m\u001b[0;34m:\u001b[0m\u001b[0;34m\u001b[0m\u001b[0;34m\u001b[0m\u001b[0m\n\u001b[1;32m    326\u001b[0m         \u001b[0mncalls\u001b[0m\u001b[0;34m[\u001b[0m\u001b[0;36m0\u001b[0m\u001b[0;34m]\u001b[0m \u001b[0;34m+=\u001b[0m \u001b[0;36m1\u001b[0m\u001b[0;34m\u001b[0m\u001b[0;34m\u001b[0m\u001b[0m\n\u001b[0;32m--> 327\u001b[0;31m         \u001b[0;32mreturn\u001b[0m \u001b[0mfunction\u001b[0m\u001b[0;34m(\u001b[0m\u001b[0;34m*\u001b[0m\u001b[0;34m(\u001b[0m\u001b[0mwrapper_args\u001b[0m \u001b[0;34m+\u001b[0m \u001b[0margs\u001b[0m\u001b[0;34m)\u001b[0m\u001b[0;34m)\u001b[0m\u001b[0;34m\u001b[0m\u001b[0;34m\u001b[0m\u001b[0m\n\u001b[0m\u001b[1;32m    328\u001b[0m \u001b[0;34m\u001b[0m\u001b[0m\n\u001b[1;32m    329\u001b[0m     \u001b[0;32mreturn\u001b[0m \u001b[0mncalls\u001b[0m\u001b[0;34m,\u001b[0m \u001b[0mfunction_wrapper\u001b[0m\u001b[0;34m\u001b[0m\u001b[0;34m\u001b[0m\u001b[0m\n",
            "\u001b[0;32m/usr/local/lib/python3.7/dist-packages/scipy/optimize/optimize.py\u001b[0m in \u001b[0;36m__call__\u001b[0;34m(self, x, *args)\u001b[0m\n\u001b[1;32m     63\u001b[0m     \u001b[0;32mdef\u001b[0m \u001b[0m__call__\u001b[0m\u001b[0;34m(\u001b[0m\u001b[0mself\u001b[0m\u001b[0;34m,\u001b[0m \u001b[0mx\u001b[0m\u001b[0;34m,\u001b[0m \u001b[0;34m*\u001b[0m\u001b[0margs\u001b[0m\u001b[0;34m)\u001b[0m\u001b[0;34m:\u001b[0m\u001b[0;34m\u001b[0m\u001b[0;34m\u001b[0m\u001b[0m\n\u001b[1;32m     64\u001b[0m         \u001b[0mself\u001b[0m\u001b[0;34m.\u001b[0m\u001b[0mx\u001b[0m \u001b[0;34m=\u001b[0m \u001b[0mnumpy\u001b[0m\u001b[0;34m.\u001b[0m\u001b[0masarray\u001b[0m\u001b[0;34m(\u001b[0m\u001b[0mx\u001b[0m\u001b[0;34m)\u001b[0m\u001b[0;34m.\u001b[0m\u001b[0mcopy\u001b[0m\u001b[0;34m(\u001b[0m\u001b[0;34m)\u001b[0m\u001b[0;34m\u001b[0m\u001b[0;34m\u001b[0m\u001b[0m\n\u001b[0;32m---> 65\u001b[0;31m         \u001b[0mfg\u001b[0m \u001b[0;34m=\u001b[0m \u001b[0mself\u001b[0m\u001b[0;34m.\u001b[0m\u001b[0mfun\u001b[0m\u001b[0;34m(\u001b[0m\u001b[0mx\u001b[0m\u001b[0;34m,\u001b[0m \u001b[0;34m*\u001b[0m\u001b[0margs\u001b[0m\u001b[0;34m)\u001b[0m\u001b[0;34m\u001b[0m\u001b[0;34m\u001b[0m\u001b[0m\n\u001b[0m\u001b[1;32m     66\u001b[0m         \u001b[0mself\u001b[0m\u001b[0;34m.\u001b[0m\u001b[0mjac\u001b[0m \u001b[0;34m=\u001b[0m \u001b[0mfg\u001b[0m\u001b[0;34m[\u001b[0m\u001b[0;36m1\u001b[0m\u001b[0;34m]\u001b[0m\u001b[0;34m\u001b[0m\u001b[0;34m\u001b[0m\u001b[0m\n\u001b[1;32m     67\u001b[0m         \u001b[0;32mreturn\u001b[0m \u001b[0mfg\u001b[0m\u001b[0;34m[\u001b[0m\u001b[0;36m0\u001b[0m\u001b[0;34m]\u001b[0m\u001b[0;34m\u001b[0m\u001b[0;34m\u001b[0m\u001b[0m\n",
            "\u001b[0;32m/usr/local/lib/python3.7/dist-packages/sklearn/linear_model/_logistic.py\u001b[0m in \u001b[0;36m_logistic_loss_and_grad\u001b[0;34m(w, X, y, alpha, sample_weight)\u001b[0m\n\u001b[1;32m    122\u001b[0m \u001b[0;34m\u001b[0m\u001b[0m\n\u001b[1;32m    123\u001b[0m     \u001b[0;31m# Logistic loss is the negative of the log of the logistic function.\u001b[0m\u001b[0;34m\u001b[0m\u001b[0;34m\u001b[0m\u001b[0;34m\u001b[0m\u001b[0m\n\u001b[0;32m--> 124\u001b[0;31m     \u001b[0mout\u001b[0m \u001b[0;34m=\u001b[0m \u001b[0;34m-\u001b[0m\u001b[0mnp\u001b[0m\u001b[0;34m.\u001b[0m\u001b[0msum\u001b[0m\u001b[0;34m(\u001b[0m\u001b[0msample_weight\u001b[0m \u001b[0;34m*\u001b[0m \u001b[0mlog_logistic\u001b[0m\u001b[0;34m(\u001b[0m\u001b[0myz\u001b[0m\u001b[0;34m)\u001b[0m\u001b[0;34m)\u001b[0m \u001b[0;34m+\u001b[0m \u001b[0;36m.5\u001b[0m \u001b[0;34m*\u001b[0m \u001b[0malpha\u001b[0m \u001b[0;34m*\u001b[0m \u001b[0mnp\u001b[0m\u001b[0;34m.\u001b[0m\u001b[0mdot\u001b[0m\u001b[0;34m(\u001b[0m\u001b[0mw\u001b[0m\u001b[0;34m,\u001b[0m \u001b[0mw\u001b[0m\u001b[0;34m)\u001b[0m\u001b[0;34m\u001b[0m\u001b[0;34m\u001b[0m\u001b[0m\n\u001b[0m\u001b[1;32m    125\u001b[0m \u001b[0;34m\u001b[0m\u001b[0m\n\u001b[1;32m    126\u001b[0m     \u001b[0mz\u001b[0m \u001b[0;34m=\u001b[0m \u001b[0mexpit\u001b[0m\u001b[0;34m(\u001b[0m\u001b[0myz\u001b[0m\u001b[0;34m)\u001b[0m\u001b[0;34m\u001b[0m\u001b[0;34m\u001b[0m\u001b[0m\n",
            "\u001b[0;32m/usr/local/lib/python3.7/dist-packages/sklearn/utils/extmath.py\u001b[0m in \u001b[0;36mlog_logistic\u001b[0;34m(X, out)\u001b[0m\n\u001b[1;32m    576\u001b[0m         \u001b[0mout\u001b[0m \u001b[0;34m=\u001b[0m \u001b[0mnp\u001b[0m\u001b[0;34m.\u001b[0m\u001b[0mempty_like\u001b[0m\u001b[0;34m(\u001b[0m\u001b[0mX\u001b[0m\u001b[0;34m)\u001b[0m\u001b[0;34m\u001b[0m\u001b[0;34m\u001b[0m\u001b[0m\n\u001b[1;32m    577\u001b[0m \u001b[0;34m\u001b[0m\u001b[0m\n\u001b[0;32m--> 578\u001b[0;31m     \u001b[0m_log_logistic_sigmoid\u001b[0m\u001b[0;34m(\u001b[0m\u001b[0mn_samples\u001b[0m\u001b[0;34m,\u001b[0m \u001b[0mn_features\u001b[0m\u001b[0;34m,\u001b[0m \u001b[0mX\u001b[0m\u001b[0;34m,\u001b[0m \u001b[0mout\u001b[0m\u001b[0;34m)\u001b[0m\u001b[0;34m\u001b[0m\u001b[0;34m\u001b[0m\u001b[0m\n\u001b[0m\u001b[1;32m    579\u001b[0m \u001b[0;34m\u001b[0m\u001b[0m\n\u001b[1;32m    580\u001b[0m     \u001b[0;32mif\u001b[0m \u001b[0mis_1d\u001b[0m\u001b[0;34m:\u001b[0m\u001b[0;34m\u001b[0m\u001b[0;34m\u001b[0m\u001b[0m\n",
            "\u001b[0;31mKeyboardInterrupt\u001b[0m: "
          ]
        }
      ]
    },
    {
      "cell_type": "code",
      "metadata": {
        "colab": {
          "base_uri": "https://localhost:8080/",
          "height": 295
        },
        "id": "mQ50ismbGOMP",
        "outputId": "6f943ab8-7e3d-4fda-bba7-13ccb7338455"
      },
      "source": [
        "steps = np.arange(12) + 1\n",
        "plt.fill_between(steps, train_scores_mean_arr - train_scores_std_arr,\n",
        "                 train_scores_mean_arr + train_scores_std_arr, alpha=0.1, color=\"r\")\n",
        "plt.fill_between(steps, val_scores_mean_arr - val_scores_std_arr,\n",
        "                 val_scores_mean_arr + val_scores_std_arr, alpha=0.1, color=\"g\")\n",
        "plt.plot(steps, train_scores_mean_arr, 'o-', color=\"r\", label=\"Training score\")\n",
        "plt.plot(steps, val_scores_mean_arr, 'o-', color=\"g\", label=\"Cross-validation score\")\n",
        "plt.axvline(x=val_scores_mean_arr.argmax() + 1, ls='--', label='n_features = {}, Score = {}'.format                             (val_scores_mean_arr.argmax()+1, round(val_scores_mean_arr.max(), 2)))\n",
        "plt.xlabel(\"Bands\")\n",
        "plt.ylabel(\"Accuracy\")\n",
        "plt.title(\"Learning Curve (Logistic Regression)\")\n",
        "plt.grid(b=True, which='major', color='silver', linestyle='--')\n",
        "plt.legend(loc=\"best\")\n",
        "plt.show()"
      ],
      "execution_count": null,
      "outputs": [
        {
          "output_type": "display_data",
          "data": {
            "image/png": "[encoded data removed]",
            "text/plain": [
              "<Figure size 432x288 with 1 Axes>"
            ]
          },
          "metadata": {
            "tags": [],
            "needs_background": "light"
          }
        }
      ]
    },
    {
      "cell_type": "code",
      "metadata": {
        "id": "1_MD6g3mGOH4"
      },
      "source": [
        ""
      ],
      "execution_count": null,
      "outputs": []
    },
    {
      "cell_type": "code",
      "metadata": {
        "id": "dkNmJx4EGOFO"
      },
      "source": [
        ""
      ],
      "execution_count": null,
      "outputs": []
    },
    {
      "cell_type": "code",
      "metadata": {
        "id": "JEhOfbvRGN5-"
      },
      "source": [
        ""
      ],
      "execution_count": null,
      "outputs": []
    },
    {
      "cell_type": "code",
      "metadata": {
        "id": "IC5GZRrMkto5"
      },
      "source": [
        ""
      ],
      "execution_count": null,
      "outputs": []
    },
    {
      "cell_type": "code",
      "metadata": {
        "id": "c_HPWKyDbsCI"
      },
      "source": [
        ""
      ],
      "execution_count": null,
      "outputs": []
    },
    {
      "cell_type": "code",
      "metadata": {
        "id": "myn0BZ2t9d1t"
      },
      "source": [
        "# %%time\n",
        "# directory = '/content/drive/MyDrive/Thesis/segmented_bands/'\n",
        "# num_of_folds = 5\n",
        "# kf = KFold(n_splits=num_of_folds, shuffle=True, random_state=42)\n",
        "\n",
        "# X = np.array(np.load(directory + 'band_' + str(bands_list[0]) + '.npy').reshape(-1, 1), dtype='float32')\n",
        "# y = np.array(np.load(directory + 'label.npy'), dtype='int')\n",
        "\n",
        "# train_scores_mean_arr = np.array([])\n",
        "# train_scores_std_arr = np.array([])\n",
        "# val_scores_mean_arr = np.array([])\n",
        "# val_scores_std_arr = np.array([])\n",
        "\n",
        "\n",
        "# train_scores = np.array([])\n",
        "# val_scores = np.array([])\n",
        "\n",
        "# for train_index, val_index in kf.split(X):\n",
        "#   # print(\"TRAIN:\", train_index, \"TEST:\", val_index)\n",
        "#   X_train, X_val = X[train_index], X[val_index]\n",
        "#   y_train, y_val = y[train_index], y[val_index]\n",
        "\n",
        "#   # clf = LogisticRegression(penalty='none', max_iter=500).fit(X_train, y_train)\n",
        "#   clf = make_pipeline(StandardScaler(), LogisticRegression(penalty='none', max_iter=500))\n",
        "#   clf.fit(X_train, y_train)\n",
        "\n",
        "#   train_score = clf.score(X_train, y_train)\n",
        "#   val_score = clf.score(X_val, y_val)\n",
        "\n",
        "#   train_scores = np.append(train_scores, train_score)\n",
        "#   val_scores = np.append(val_scores, val_score)\n",
        "\n",
        "# train_scores_mean = np.mean(train_scores)\n",
        "# train_scores_std = np.std(train_scores)\n",
        "# val_scores_mean = np.mean(val_scores)\n",
        "# val_scores_std = np.std(val_scores)\n",
        "\n",
        "# train_scores_mean_arr = np.append(train_scores_mean_arr, train_scores_mean)\n",
        "# train_scores_std_arr = np.append(train_scores_std_arr, train_scores_std)\n",
        "# val_scores_mean_arr = np.append(val_scores_mean_arr, val_scores_mean)\n",
        "# val_scores_std_arr = np.append(val_scores_std_arr, val_scores_std)\n",
        "\n",
        "# for i in range(1, len(bands_list)):\n",
        "#   # concatenate features one by one\n",
        "#   X = np.concatenate((X, \n",
        "#                       np.array(np.load(directory + 'band_' + str(bands_list[i]) + '.npy').reshape(-1, 1), \n",
        "#                       dtype='float32')), axis=1)\n",
        "\n",
        "#   # instantiate cross_validation instance\n",
        "#   kf = KFold(n_splits=num_of_folds, shuffle=True, random_state=42)\n",
        "\n",
        "#   train_scores = np.array([])\n",
        "#   val_scores = np.array([])\n",
        "\n",
        "#   for train_index, val_index in kf.split(X):\n",
        "#     # print(\"TRAIN:\", train_index, \"TEST:\", val_index)\n",
        "#     X_train, X_val = X[train_index], X[val_index]\n",
        "#     y_train, y_val = y[train_index], y[val_index]\n",
        "\n",
        "#     # clf = LogisticRegression(penalty='none', max_iter=500).fit(X_train, y_train)\n",
        "#     clf = make_pipeline(StandardScaler(), LogisticRegression(penalty='none', max_iter=500))\n",
        "#     clf.fit(X_train, y_train)\n",
        "\n",
        "#     train_score = clf.score(X_train, y_train)\n",
        "#     val_score = clf.score(X_val, y_val)\n",
        "\n",
        "#     train_scores = np.append(train_scores, train_score)\n",
        "#     val_scores = np.append(val_scores, val_score)\n",
        "\n",
        "#   train_scores_mean = np.mean(train_scores)\n",
        "#   train_scores_std = np.std(train_scores)\n",
        "#   val_scores_mean = np.mean(val_scores)\n",
        "#   val_scores_std = np.std(val_scores)\n",
        "\n",
        "#   train_scores_mean_arr = np.append(train_scores_mean_arr, train_scores_mean)\n",
        "#   train_scores_std_arr = np.append(train_scores_std_arr, train_scores_std)\n",
        "#   val_scores_mean_arr = np.append(val_scores_mean_arr, val_scores_mean)\n",
        "#   val_scores_std_arr = np.append(val_scores_std_arr, val_scores_std)\n",
        "\n",
        "#   print(i)"
      ],
      "execution_count": null,
      "outputs": []
    },
    {
      "cell_type": "code",
      "metadata": {
        "colab": {
          "base_uri": "https://localhost:8080/",
          "height": 295
        },
        "id": "2mQlIR0eODo6",
        "outputId": "5f0bf008-46d9-488b-dfc6-0a6ec9c01a1f"
      },
      "source": [
        "# steps = np.arange(40) + 1\n",
        "# plt.fill_between(steps, train_scores_mean_arr - train_scores_std_arr,\n",
        "#                  train_scores_mean_arr + train_scores_std_arr, alpha=0.1, color=\"r\")\n",
        "# plt.fill_between(steps, val_scores_mean_arr - val_scores_std_arr,\n",
        "#                  val_scores_mean_arr + val_scores_std_arr, alpha=0.1, color=\"g\")\n",
        "# plt.plot(steps, train_scores_mean_arr, 'o-', color=\"r\", label=\"Training score\")\n",
        "# plt.plot(steps, val_scores_mean_arr, 'o-', color=\"g\", label=\"Cross-validation score\")\n",
        "# plt.axvline(x=val_scores_mean_arr.argmax() + 1, ls='--', label='n_features = {}, Score = {}'.format                             (val_scores_mean_arr.argmax()+1, round(val_scores_mean_arr.max(), 2)))\n",
        "# plt.xlabel(\"Bands\")\n",
        "# plt.ylabel(\"Accuracy\")\n",
        "# plt.title(\"Learning Curve (Logistic Regression)\")\n",
        "# plt.grid(b=True, which='major', color='silver', linestyle='--')\n",
        "# plt.legend(loc=\"best\")\n",
        "# plt.show()"
      ],
      "execution_count": null,
      "outputs": [
        {
          "output_type": "display_data",
          "data": {
            "image/png": "[encoded data removed]",
            "text/plain": [
              "<Figure size 432x288 with 1 Axes>"
            ]
          },
          "metadata": {
            "tags": [],
            "needs_background": "light"
          }
        }
      ]
    },
    {
      "cell_type": "code",
      "metadata": {
        "id": "_0ndanhC7cda"
      },
      "source": [
        "# df = pd.DataFrame(data=steps, columns=['steps'])\n",
        "# df.insert(loc=1, column='ordered_bands', value=bands_list, allow_duplicates=True)\n",
        "# df.insert(loc=2, column='train_scores_mean', value=train_scores_mean_arr, allow_duplicates=True)\n",
        "# df.insert(loc=3, column='train_scores_std', value=train_scores_std_arr, allow_duplicates=True)\n",
        "# df.insert(loc=4, column='val_scores_mean', value=val_scores_mean_arr, allow_duplicates=True)\n",
        "# df.insert(loc=5, column='val_scores_std', value=val_scores_std_arr, allow_duplicates=True)"
      ],
      "execution_count": null,
      "outputs": []
    },
    {
      "cell_type": "code",
      "metadata": {
        "id": "lw2L9CGb7cVz"
      },
      "source": [
        "# df.to_csv('/content/drive/MyDrive/Thesis/models/ttest_LR_sklearn/leanrning_curve_sorted_40_band_ttest_sklearn.cvs')"
      ],
      "execution_count": null,
      "outputs": []
    },
    {
      "cell_type": "code",
      "metadata": {
        "id": "kcf2g07KnmDd"
      },
      "source": [
        "# np.save('/content/drive/MyDrive/Thesis/top40_ttest_order.npy', X)"
      ],
      "execution_count": null,
      "outputs": []
    },
    {
      "cell_type": "code",
      "metadata": {
        "id": "1Yz41XJe7caz"
      },
      "source": [
        "# df = pd.read_csv('/content/drive/MyDrive/Thesis/models/ttest_LR_sklearn/leanrning_curve_sorted_40_band_ttest_sklearn.cvs')\n",
        "# df.head(20)"
      ],
      "execution_count": null,
      "outputs": []
    },
    {
      "cell_type": "markdown",
      "metadata": {
        "id": "sNQUI-cbX3k7"
      },
      "source": [
        "## logistic regression sklearn, gradient decent"
      ]
    },
    {
      "cell_type": "code",
      "metadata": {
        "id": "qGxF9ugLYPdF"
      },
      "source": [
        "directory = '/content/drive/MyDrive/Thesis/segmented_bands/'\n",
        "X = np.array(np.load('/content/drive/MyDrive/Thesis/top40_ttest_order.npy'), dtype='float32')\n",
        "y = np.array(np.load(directory + 'label.npy'), dtype='int')"
      ],
      "execution_count": null,
      "outputs": []
    },
    {
      "cell_type": "code",
      "metadata": {
        "id": "-XjY3_jG5o7k"
      },
      "source": [
        "X = X[::100,:]\n",
        "y = y[::100]"
      ],
      "execution_count": null,
      "outputs": []
    },
    {
      "cell_type": "code",
      "metadata": {
        "colab": {
          "base_uri": "https://localhost:8080/"
        },
        "id": "IoVmah21Ck8Y",
        "outputId": "cf1411cb-bc1e-4516-a6fc-c6aa9f6c1e9c"
      },
      "source": [
        "X.shape"
      ],
      "execution_count": null,
      "outputs": [
        {
          "output_type": "execute_result",
          "data": {
            "text/plain": [
              "(8411, 40)"
            ]
          },
          "metadata": {
            "tags": []
          },
          "execution_count": 23
        }
      ]
    },
    {
      "cell_type": "code",
      "metadata": {
        "id": "WsRwdo9iXzzm"
      },
      "source": [
        "%%time\n",
        "# directory = '/content/drive/MyDrive/Thesis/segmented_bands/'\n",
        "num_of_folds = 5\n",
        "kf = KFold(n_splits=num_of_folds, shuffle=True, random_state=42)\n",
        "\n",
        "# X = np.array(np.load('/content/drive/MyDrive/Thesis/top40_ttest_order.npy'), dtype='float32')\n",
        "# y = np.array(np.load(directory + 'label.npy'), dtype='int')\n",
        "\n",
        "train_scores_mean_arr = np.array([])\n",
        "train_scores_std_arr = np.array([])\n",
        "val_scores_mean_arr = np.array([])\n",
        "val_scores_std_arr = np.array([])\n",
        "\n",
        "\n",
        "train_scores = np.array([])\n",
        "val_scores = np.array([])\n",
        "\n",
        "for train_index, val_index in kf.split(X):\n",
        "  # print(\"TRAIN:\", train_index, \"TEST:\", val_index)\n",
        "  X_train, X_val = X[:, 0:1][train_index], X[:, 0:1][val_index]\n",
        "  y_train, y_val = y[train_index], y[val_index]\n",
        "\n",
        "  # clf = LogisticRegression(penalty='none', max_iter=500).fit(X_train, y_train)\n",
        "  clf = make_pipeline(StandardScaler(), LogisticRegression(penalty='none', max_iter=500)) # solver='saga'\n",
        "  clf.fit(X_train, y_train)\n",
        "\n",
        "  train_score = clf.score(X_train, y_train)\n",
        "  val_score = clf.score(X_val, y_val)\n",
        "\n",
        "  train_scores = np.append(train_scores, train_score)\n",
        "  val_scores = np.append(val_scores, val_score)\n",
        "\n",
        "train_scores_mean = np.mean(train_scores)\n",
        "train_scores_std = np.std(train_scores)\n",
        "val_scores_mean = np.mean(val_scores)\n",
        "val_scores_std = np.std(val_scores)\n",
        "\n",
        "train_scores_mean_arr = np.append(train_scores_mean_arr, train_scores_mean)\n",
        "train_scores_std_arr = np.append(train_scores_std_arr, train_scores_std)\n",
        "val_scores_mean_arr = np.append(val_scores_mean_arr, val_scores_mean)\n",
        "val_scores_std_arr = np.append(val_scores_std_arr, val_scores_std)\n",
        "\n",
        "for i in range(1, len(bands_list)):\n",
        "  # concatenate features one by one\n",
        "  # X = np.concatenate((X, \n",
        "  #                     np.array(np.load(directory + 'band_' + str(bands_list[i]) + '.npy').reshape(-1, 1), \n",
        "  #                     dtype='float32')), axis=1)\n",
        "\n",
        "  # instantiate cross_validation instance\n",
        "  kf = KFold(n_splits=num_of_folds, shuffle=True, random_state=42)\n",
        "\n",
        "  train_scores = np.array([])\n",
        "  val_scores = np.array([])\n",
        "\n",
        "  for train_index, val_index in kf.split(X):\n",
        "    # print(\"TRAIN:\", train_index, \"TEST:\", val_index)\n",
        "    X_train, X_val = X[:, 0:i+1][train_index], X[:, 0:i+1][val_index]\n",
        "    y_train, y_val = y[train_index], y[val_index]\n",
        "\n",
        "    # clf = LogisticRegression(penalty='none', max_iter=500).fit(X_train, y_train)\n",
        "    clf = make_pipeline(StandardScaler(), LogisticRegression(penalty='none', max_iter=500)) # solver='saga'\n",
        "    clf.fit(X_train, y_train)\n",
        "\n",
        "    train_score = clf.score(X_train, y_train)\n",
        "    val_score = clf.score(X_val, y_val)\n",
        "\n",
        "    train_scores = np.append(train_scores, train_score)\n",
        "    val_scores = np.append(val_scores, val_score)\n",
        "\n",
        "  train_scores_mean = np.mean(train_scores)\n",
        "  train_scores_std = np.std(train_scores)\n",
        "  val_scores_mean = np.mean(val_scores)\n",
        "  val_scores_std = np.std(val_scores)\n",
        "\n",
        "  train_scores_mean_arr = np.append(train_scores_mean_arr, train_scores_mean)\n",
        "  train_scores_std_arr = np.append(train_scores_std_arr, train_scores_std)\n",
        "  val_scores_mean_arr = np.append(val_scores_mean_arr, val_scores_mean)\n",
        "  val_scores_std_arr = np.append(val_scores_std_arr, val_scores_std)\n",
        "\n",
        "  print(i)"
      ],
      "execution_count": null,
      "outputs": []
    },
    {
      "cell_type": "code",
      "metadata": {
        "colab": {
          "base_uri": "https://localhost:8080/",
          "height": 295
        },
        "id": "CwEEtSRUXzet",
        "outputId": "9a64258e-99f8-45ca-ded4-34713ac3d2f2"
      },
      "source": [
        "steps = np.arange(40) + 1\n",
        "plt.fill_between(steps, train_scores_mean_arr - train_scores_std_arr,\n",
        "                 train_scores_mean_arr + train_scores_std_arr, alpha=0.1, color=\"r\")\n",
        "plt.fill_between(steps, val_scores_mean_arr - val_scores_std_arr,\n",
        "                 val_scores_mean_arr + val_scores_std_arr, alpha=0.1, color=\"g\")\n",
        "plt.plot(steps, train_scores_mean_arr, 'o-', color=\"r\", label=\"Training score\")\n",
        "plt.plot(steps, val_scores_mean_arr, 'o-', color=\"g\", label=\"Cross-validation score\")\n",
        "plt.axvline(x=val_scores_mean_arr.argmax() + 1, ls='--', label='n_features = {}, Score = {}'.format                             (val_scores_mean_arr.argmax()+1, round(val_scores_mean_arr.max(), 2)))\n",
        "plt.xlabel(\"Bands\")\n",
        "plt.ylabel(\"Accuracy\")\n",
        "plt.title(\"Learning Curve (Logistic Regression)\")\n",
        "plt.grid(b=True, which='major', color='silver', linestyle='--')\n",
        "plt.legend(loc=\"best\")\n",
        "plt.show()"
      ],
      "execution_count": null,
      "outputs": [
        {
          "output_type": "display_data",
          "data": {
            "image/png": "[encoded data removed]",
            "text/plain": [
              "<Figure size 432x288 with 1 Axes>"
            ]
          },
          "metadata": {
            "tags": [],
            "needs_background": "light"
          }
        }
      ]
    },
    {
      "cell_type": "code",
      "metadata": {
        "id": "1KYXiYSCXzbk"
      },
      "source": [
        "def plot_learning_curve(estimator, title, X, y, axes=None, ylim=None, cv=None,\n",
        "                        n_jobs=None, train_sizes=np.linspace(.1, 1.0, 5)):\n",
        "    \"\"\"\n",
        "    Generate 3 plots: the test and training learning curve, the training\n",
        "    samples vs fit times curve, the fit times vs score curve.\n",
        "\n",
        "    Parameters\n",
        "    ----------\n",
        "    estimator : estimator instance\n",
        "        An estimator instance implementing `fit` and `predict` methods which\n",
        "        will be cloned for each validation.\n",
        "\n",
        "    title : str\n",
        "        Title for the chart.\n",
        "\n",
        "    X : array-like of shape (n_samples, n_features)\n",
        "        Training vector, where ``n_samples`` is the number of samples and\n",
        "        ``n_features`` is the number of features.\n",
        "\n",
        "    y : array-like of shape (n_samples) or (n_samples, n_features)\n",
        "        Target relative to ``X`` for classification or regression;\n",
        "        None for unsupervised learning.\n",
        "\n",
        "    axes : array-like of shape (3,), default=None\n",
        "        Axes to use for plotting the curves.\n",
        "\n",
        "    ylim : tuple of shape (2,), default=None\n",
        "        Defines minimum and maximum y-values plotted, e.g. (ymin, ymax).\n",
        "\n",
        "    cv : int, cross-validation generator or an iterable, default=None\n",
        "        Determines the cross-validation splitting strategy.\n",
        "        Possible inputs for cv are:\n",
        "\n",
        "          - None, to use the default 5-fold cross-validation,\n",
        "          - integer, to specify the number of folds.\n",
        "          - :term:`CV splitter`,\n",
        "          - An iterable yielding (train, test) splits as arrays of indices.\n",
        "\n",
        "        For integer/None inputs, if ``y`` is binary or multiclass,\n",
        "        :class:`StratifiedKFold` used. If the estimator is not a classifier\n",
        "        or if ``y`` is neither binary nor multiclass, :class:`KFold` is used.\n",
        "\n",
        "        Refer :ref:`User Guide <cross_validation>` for the various\n",
        "        cross-validators that can be used here.\n",
        "\n",
        "    n_jobs : int or None, default=None\n",
        "        Number of jobs to run in parallel.\n",
        "        ``None`` means 1 unless in a :obj:`joblib.parallel_backend` context.\n",
        "        ``-1`` means using all processors. See :term:`Glossary <n_jobs>`\n",
        "        for more details.\n",
        "\n",
        "    train_sizes : array-like of shape (n_ticks,)\n",
        "        Relative or absolute numbers of training examples that will be used to\n",
        "        generate the learning curve. If the ``dtype`` is float, it is regarded\n",
        "        as a fraction of the maximum size of the training set (that is\n",
        "        determined by the selected validation method), i.e. it has to be within\n",
        "        (0, 1]. Otherwise it is interpreted as absolute sizes of the training\n",
        "        sets. Note that for classification the number of samples usually have\n",
        "        to be big enough to contain at least one sample from each class.\n",
        "        (default: np.linspace(0.1, 1.0, 5))\n",
        "    \"\"\"\n",
        "    if axes is None:\n",
        "        _, axes = plt.subplots(1, 3, figsize=(20, 5))\n",
        "\n",
        "    axes[0].set_title(title)\n",
        "    if ylim is not None:\n",
        "        axes[0].set_ylim(*ylim)\n",
        "    axes[0].set_xlabel(\"Training examples\")\n",
        "    axes[0].set_ylabel(\"Score\")\n",
        "\n",
        "    train_sizes, train_scores, test_scores, fit_times, _ = \\\n",
        "        learning_curve(estimator, X, y, cv=cv, n_jobs=n_jobs,\n",
        "                       train_sizes=train_sizes,\n",
        "                       return_times=True)\n",
        "    train_scores_mean = np.mean(train_scores, axis=1)\n",
        "    train_scores_std = np.std(train_scores, axis=1)\n",
        "    test_scores_mean = np.mean(test_scores, axis=1)\n",
        "    test_scores_std = np.std(test_scores, axis=1)\n",
        "    fit_times_mean = np.mean(fit_times, axis=1)\n",
        "    fit_times_std = np.std(fit_times, axis=1)\n",
        "\n",
        "    # Plot learning curve\n",
        "    axes[0].grid()\n",
        "    axes[0].fill_between(train_sizes, train_scores_mean - train_scores_std,\n",
        "                         train_scores_mean + train_scores_std, alpha=0.1,\n",
        "                         color=\"r\")\n",
        "    axes[0].fill_between(train_sizes, test_scores_mean - test_scores_std,\n",
        "                         test_scores_mean + test_scores_std, alpha=0.1,\n",
        "                         color=\"g\")\n",
        "    axes[0].plot(train_sizes, train_scores_mean, 'o-', color=\"r\",\n",
        "                 label=\"Training score\")\n",
        "    axes[0].plot(train_sizes, test_scores_mean, 'o-', color=\"g\",\n",
        "                 label=\"Cross-validation score\")\n",
        "    axes[0].legend(loc=\"best\")\n",
        "\n",
        "    # Plot n_samples vs fit_times\n",
        "    axes[1].grid()\n",
        "    axes[1].plot(train_sizes, fit_times_mean, 'o-')\n",
        "    axes[1].fill_between(train_sizes, fit_times_mean - fit_times_std,\n",
        "                         fit_times_mean + fit_times_std, alpha=0.1)\n",
        "    axes[1].set_xlabel(\"Training examples\")\n",
        "    axes[1].set_ylabel(\"fit_times\")\n",
        "    axes[1].set_title(\"Scalability of the model\")\n",
        "\n",
        "    # Plot fit_time vs score\n",
        "    axes[2].grid()\n",
        "    axes[2].plot(fit_times_mean, test_scores_mean, 'o-')\n",
        "    axes[2].fill_between(fit_times_mean, test_scores_mean - test_scores_std,\n",
        "                         test_scores_mean + test_scores_std, alpha=0.1)\n",
        "    axes[2].set_xlabel(\"fit_times\")\n",
        "    axes[2].set_ylabel(\"Score\")\n",
        "    axes[2].set_title(\"Performance of the model\")\n",
        "\n",
        "    return plt"
      ],
      "execution_count": null,
      "outputs": []
    },
    {
      "cell_type": "code",
      "metadata": {
        "colab": {
          "base_uri": "https://localhost:8080/",
          "height": 364
        },
        "id": "w6XZliY4XzXh",
        "outputId": "d2bd59d3-87a0-48cc-924d-de15fe4a498c"
      },
      "source": [
        "title = \"Learning Curves (Logistic Regression)\"\n",
        "# Cross validation with 100 iterations to get smoother mean test and train\n",
        "# score curves, each time with 20% data randomly selected as a validation set.\n",
        "cv = ShuffleSplit(n_splits=100, test_size=0.2, random_state=42)\n",
        "\n",
        "# clf = LogisticRegression(penalty='none', max_iter=500)\n",
        "clf = make_pipeline(StandardScaler(), LogisticRegression(penalty='none', max_iter=500)) # solver='saga'\n",
        "# clf.fit(X_train, y_train)\n",
        "plot_learning_curve(clf, title, X, y, ylim=(0.7, 1.01), cv=cv)"
      ],
      "execution_count": null,
      "outputs": [
        {
          "output_type": "execute_result",
          "data": {
            "text/plain": [
              "<module 'matplotlib.pyplot' from '/usr/local/lib/python3.7/dist-packages/matplotlib/pyplot.py'>"
            ]
          },
          "metadata": {
            "tags": []
          },
          "execution_count": 27
        },
        {
          "output_type": "display_data",
          "data": {
            "image/png": "[encoded data removed]",
            "text/plain": [
              "<Figure size 1440x360 with 3 Axes>"
            ]
          },
          "metadata": {
            "tags": [],
            "needs_background": "light"
          }
        }
      ]
    },
    {
      "cell_type": "code",
      "metadata": {
        "id": "Xzc7vu7wFcKy"
      },
      "source": [
        ""
      ],
      "execution_count": null,
      "outputs": []
    },
    {
      "cell_type": "code",
      "metadata": {
        "id": "ZASdxbjIXzUn"
      },
      "source": [
        ""
      ],
      "execution_count": null,
      "outputs": []
    },
    {
      "cell_type": "code",
      "metadata": {
        "id": "e8BG1xPxXzBW"
      },
      "source": [
        ""
      ],
      "execution_count": null,
      "outputs": []
    },
    {
      "cell_type": "code",
      "metadata": {
        "id": "mqSg-QPJAQ5m"
      },
      "source": [
        ""
      ],
      "execution_count": null,
      "outputs": []
    },
    {
      "cell_type": "markdown",
      "metadata": {
        "id": "IUUyux6vZbsH"
      },
      "source": [
        "### Logistic Regression using sklearn"
      ]
    },
    {
      "cell_type": "code",
      "metadata": {
        "id": "M4DKp9YtnEin"
      },
      "source": [
        "X_train, X_test, y_train, y_test = train_test_split(X, y, test_size=0.25, random_state=42)"
      ],
      "execution_count": null,
      "outputs": []
    },
    {
      "cell_type": "code",
      "metadata": {
        "id": "ZYrb9Hv_m8e0",
        "colab": {
          "base_uri": "https://localhost:8080/"
        },
        "outputId": "44b3898e-62bd-4be5-ae61-be11253ecba9"
      },
      "source": [
        "clf = LogisticRegression(penalty='none' ,random_state=0).fit(X_train, y_train)"
      ],
      "execution_count": null,
      "outputs": [
        {
          "output_type": "stream",
          "text": [
            "/usr/local/lib/python3.7/dist-packages/sklearn/linear_model/_logistic.py:940: ConvergenceWarning: lbfgs failed to converge (status=1):\n",
            "STOP: TOTAL NO. of ITERATIONS REACHED LIMIT.\n",
            "\n",
            "Increase the number of iterations (max_iter) or scale the data as shown in:\n",
            "    https://scikit-learn.org/stable/modules/preprocessing.html\n",
            "Please also refer to the documentation for alternative solver options:\n",
            "    https://scikit-learn.org/stable/modules/linear_model.html#logistic-regression\n",
            "  extra_warning_msg=_LOGISTIC_SOLVER_CONVERGENCE_MSG)\n"
          ],
          "name": "stderr"
        }
      ]
    },
    {
      "cell_type": "code",
      "metadata": {
        "id": "azRvkfn1m8Pw"
      },
      "source": [
        "predict = clf.predict(X_test)"
      ],
      "execution_count": null,
      "outputs": []
    },
    {
      "cell_type": "code",
      "metadata": {
        "id": "o97aEqcem8Lf",
        "colab": {
          "base_uri": "https://localhost:8080/"
        },
        "outputId": "81fa9b62-6668-408a-c7be-6aad9593ac45"
      },
      "source": [
        "accuracy_score(predict, y_test)"
      ],
      "execution_count": null,
      "outputs": [
        {
          "output_type": "execute_result",
          "data": {
            "text/plain": [
              "0.9730333872348521"
            ]
          },
          "metadata": {
            "tags": []
          },
          "execution_count": 43
        }
      ]
    },
    {
      "cell_type": "code",
      "metadata": {
        "colab": {
          "base_uri": "https://localhost:8080/"
        },
        "id": "xveKK_ZoAn_f",
        "outputId": "17ffe60d-6896-4a0d-8486-2ee2f256dfe8"
      },
      "source": [
        "print(classification_report(predict, y_test))"
      ],
      "execution_count": null,
      "outputs": [
        {
          "output_type": "stream",
          "text": [
            "              precision    recall  f1-score   support\n",
            "\n",
            "           0       0.97      0.98      0.98     11982\n",
            "           1       0.97      0.97      0.97      9044\n",
            "\n",
            "    accuracy                           0.97     21026\n",
            "   macro avg       0.97      0.97      0.97     21026\n",
            "weighted avg       0.97      0.97      0.97     21026\n",
            "\n"
          ],
          "name": "stdout"
        }
      ]
    },
    {
      "cell_type": "code",
      "metadata": {
        "id": "sSE_qzSVCCvL"
      },
      "source": [
        "from sklearn.metrics import plot_precision_recall_curve"
      ],
      "execution_count": null,
      "outputs": []
    },
    {
      "cell_type": "code",
      "metadata": {
        "colab": {
          "base_uri": "https://localhost:8080/",
          "height": 279
        },
        "id": "abCk7YURCCsF",
        "outputId": "cb3dfa3d-2880-46af-a415-f00a1e9715b1"
      },
      "source": [
        "disp = plot_precision_recall_curve(clf, X_test, y_test)"
      ],
      "execution_count": null,
      "outputs": [
        {
          "output_type": "display_data",
          "data": {
            "image/png": "[encoded data removed]",
            "text/plain": [
              "<Figure size 432x288 with 1 Axes>"
            ]
          },
          "metadata": {
            "tags": [],
            "needs_background": "light"
          }
        }
      ]
    },
    {
      "cell_type": "code",
      "metadata": {
        "id": "--iH9BUxCCpN"
      },
      "source": [
        "# import pickle\n",
        "# filename = '/content/drive/MyDrive/Thesis/models/1_percent_data_training_LR.sav'\n",
        "# pickle.dump(clf, open(filename, 'wb'))"
      ],
      "execution_count": null,
      "outputs": []
    },
    {
      "cell_type": "markdown",
      "metadata": {
        "id": "vZMgQjX2uoKv"
      },
      "source": [
        "## prediction based on logistic regression"
      ]
    },
    {
      "cell_type": "code",
      "metadata": {
        "id": "oIIYEJA5bsja"
      },
      "source": [
        "X = np.load('/content/drive/MyDrive/Thesis/dataset/segmented_normalized_original_size/X.npy')"
      ],
      "execution_count": null,
      "outputs": []
    },
    {
      "cell_type": "code",
      "metadata": {
        "id": "ThSOnZtcbsLG"
      },
      "source": [
        "y = np.load('/content/drive/MyDrive/Thesis/dataset/segmented_normalized_original_size/y.npy')"
      ],
      "execution_count": null,
      "outputs": []
    },
    {
      "cell_type": "code",
      "metadata": {
        "id": "gUCSveHjbsIe"
      },
      "source": [
        "predict = clf.predict(X)"
      ],
      "execution_count": null,
      "outputs": []
    },
    {
      "cell_type": "code",
      "metadata": {
        "colab": {
          "base_uri": "https://localhost:8080/"
        },
        "id": "C7Wl7DXObsFU",
        "outputId": "1764272a-f1c1-4e0b-f4af-4ce2dc4438a2"
      },
      "source": [
        "print(classification_report(predict, y))"
      ],
      "execution_count": null,
      "outputs": [
        {
          "output_type": "stream",
          "text": [
            "              precision    recall  f1-score   support\n",
            "\n",
            "           0       0.97      0.98      0.98   4751083\n",
            "           1       0.97      0.97      0.97   3658962\n",
            "\n",
            "    accuracy                           0.97   8410045\n",
            "   macro avg       0.97      0.97      0.97   8410045\n",
            "weighted avg       0.97      0.97      0.97   8410045\n",
            "\n"
          ],
          "name": "stdout"
        }
      ]
    },
    {
      "cell_type": "code",
      "metadata": {
        "id": "JfqLhhp7kt6y"
      },
      "source": [
        ""
      ],
      "execution_count": null,
      "outputs": []
    },
    {
      "cell_type": "code",
      "metadata": {
        "colab": {
          "base_uri": "https://localhost:8080/"
        },
        "id": "-jRDqdyzkt1D",
        "outputId": "e31249c4-5a82-48ce-d778-a1df6a06e23e"
      },
      "source": [
        "# getting list of cropped reference images\n",
        "source_file = '/content/drive/MyDrive/Thesis/source/VNIR_img.txt'\n",
        "img_list = []\n",
        "with open(source_file, \"r\") as listOfImages:\n",
        "    for line in listOfImages:\n",
        "        to_lower = str(line.strip()).lower() # make lower case to match reference imgs name\n",
        "        img_list.append(to_lower)\n",
        "        \n",
        "print(len(img_list))"
      ],
      "execution_count": null,
      "outputs": [
        {
          "output_type": "stream",
          "text": [
            "12\n"
          ],
          "name": "stdout"
        }
      ]
    },
    {
      "cell_type": "code",
      "metadata": {
        "colab": {
          "base_uri": "https://localhost:8080/",
          "height": 141
        },
        "id": "Nu9EgU_rlAbU",
        "outputId": "8e06bb9c-a94a-4395-df49-c4da1bedb647"
      },
      "source": [
        "ref = pd.read_csv('/content/drive/MyDrive/Thesis/files/img_labels.csv', encoding='latin-1')\n",
        "ref.insert(loc=1, column='ref', value=img_list)\n",
        "ref.head(3)"
      ],
      "execution_count": null,
      "outputs": [
        {
          "output_type": "execute_result",
          "data": {
            "text/html": [
              "<div>\n",
              "<style scoped>\n",
              "    .dataframe tbody tr th:only-of-type {\n",
              "        vertical-align: middle;\n",
              "    }\n",
              "\n",
              "    .dataframe tbody tr th {\n",
              "        vertical-align: top;\n",
              "    }\n",
              "\n",
              "    .dataframe thead th {\n",
              "        text-align: right;\n",
              "    }\n",
              "</style>\n",
              "<table border=\"1\" class=\"dataframe\">\n",
              "  <thead>\n",
              "    <tr style=\"text-align: right;\">\n",
              "      <th></th>\n",
              "      <th>Img_name</th>\n",
              "      <th>ref</th>\n",
              "      <th>PCR</th>\n",
              "    </tr>\n",
              "  </thead>\n",
              "  <tbody>\n",
              "    <tr>\n",
              "      <th>0</th>\n",
              "      <td>Ind-AT1_V1-A_Blatt_VNIR</td>\n",
              "      <td>ind-at1_v1-a_blatt_vnir</td>\n",
              "      <td>1</td>\n",
              "    </tr>\n",
              "    <tr>\n",
              "      <th>1</th>\n",
              "      <td>Ind-AT1_V1-B_Blatt_VNIR</td>\n",
              "      <td>ind-at1_v1-b_blatt_vnir</td>\n",
              "      <td>1</td>\n",
              "    </tr>\n",
              "    <tr>\n",
              "      <th>2</th>\n",
              "      <td>Ind-AT1_V1-C_Blatt_VNIR</td>\n",
              "      <td>ind-at1_v1-c_blatt_vnir</td>\n",
              "      <td>1</td>\n",
              "    </tr>\n",
              "  </tbody>\n",
              "</table>\n",
              "</div>"
            ],
            "text/plain": [
              "                  Img_name                      ref  PCR\n",
              "0  Ind-AT1_V1-A_Blatt_VNIR  ind-at1_v1-a_blatt_vnir    1\n",
              "1  Ind-AT1_V1-B_Blatt_VNIR  ind-at1_v1-b_blatt_vnir    1\n",
              "2  Ind-AT1_V1-C_Blatt_VNIR  ind-at1_v1-c_blatt_vnir    1"
            ]
          },
          "metadata": {
            "tags": []
          },
          "execution_count": 55
        }
      ]
    },
    {
      "cell_type": "code",
      "metadata": {
        "id": "6YK-Ce3AlAXj"
      },
      "source": [
        "img = np.load('/content/drive/MyDrive/Thesis/cropped_imgs/'+ ref.Img_name[4] +'.npy')"
      ],
      "execution_count": null,
      "outputs": []
    },
    {
      "cell_type": "code",
      "metadata": {
        "colab": {
          "base_uri": "https://localhost:8080/"
        },
        "id": "BVTE_f4LlARM",
        "outputId": "51f7f1cd-8301-43e0-8f80-769e91ed9dde"
      },
      "source": [
        "img.shape"
      ],
      "execution_count": null,
      "outputs": [
        {
          "output_type": "execute_result",
          "data": {
            "text/plain": [
              "(2270, 1270, 186)"
            ]
          },
          "metadata": {
            "tags": []
          },
          "execution_count": 72
        }
      ]
    },
    {
      "cell_type": "code",
      "metadata": {
        "colab": {
          "base_uri": "https://localhost:8080/",
          "height": 287
        },
        "id": "UJ3iDtI7mMqc",
        "outputId": "3d66cd60-088e-47b3-c184-09c921e8a718"
      },
      "source": [
        "plt.imshow(img[:,:,130:133])"
      ],
      "execution_count": null,
      "outputs": [
        {
          "output_type": "execute_result",
          "data": {
            "text/plain": [
              "<matplotlib.image.AxesImage at 0x7f43e7732a10>"
            ]
          },
          "metadata": {
            "tags": []
          },
          "execution_count": 73
        },
        {
          "output_type": "display_data",
          "data": {
            "image/png": "[encoded data removed]",
            "text/plain": [
              "<Figure size 432x288 with 1 Axes>"
            ]
          },
          "metadata": {
            "tags": [],
            "needs_background": "light"
          }
        }
      ]
    },
    {
      "cell_type": "code",
      "metadata": {
        "id": "MNVaALHYmMk_"
      },
      "source": [
        "b = np.reshape(img, (-1, 186))"
      ],
      "execution_count": null,
      "outputs": []
    },
    {
      "cell_type": "code",
      "metadata": {
        "id": "Gk7EEeo3lAMQ"
      },
      "source": [
        "predict = clf.predict(b)"
      ],
      "execution_count": null,
      "outputs": []
    },
    {
      "cell_type": "code",
      "metadata": {
        "id": "mcS7GL3alAJZ"
      },
      "source": [
        "c = np.reshape(predict, (2270, -1))"
      ],
      "execution_count": null,
      "outputs": []
    },
    {
      "cell_type": "code",
      "metadata": {
        "colab": {
          "base_uri": "https://localhost:8080/",
          "height": 287
        },
        "id": "pr8AOhCflAGK",
        "outputId": "b613056d-42fb-45d4-b54c-9f9bd9ee5199"
      },
      "source": [
        "plt.imshow(c)"
      ],
      "execution_count": null,
      "outputs": [
        {
          "output_type": "execute_result",
          "data": {
            "text/plain": [
              "<matplotlib.image.AxesImage at 0x7f43e7714910>"
            ]
          },
          "metadata": {
            "tags": []
          },
          "execution_count": 77
        },
        {
          "output_type": "display_data",
          "data": {
            "image/png": "[encoded data removed]",
            "text/plain": [
              "<Figure size 432x288 with 1 Axes>"
            ]
          },
          "metadata": {
            "tags": [],
            "needs_background": "light"
          }
        }
      ]
    },
    {
      "cell_type": "code",
      "metadata": {
        "id": "FOcuv51qi0EU"
      },
      "source": [
        ""
      ],
      "execution_count": null,
      "outputs": []
    },
    {
      "cell_type": "code",
      "metadata": {
        "id": "xw85nZbUi0BY"
      },
      "source": [
        ""
      ],
      "execution_count": null,
      "outputs": []
    },
    {
      "cell_type": "code",
      "metadata": {
        "id": "dr9SCknciz-C"
      },
      "source": [
        ""
      ],
      "execution_count": null,
      "outputs": []
    },
    {
      "cell_type": "code",
      "metadata": {
        "id": "mid2KZrvYRlX"
      },
      "source": [
        ""
      ],
      "execution_count": null,
      "outputs": []
    },
    {
      "cell_type": "code",
      "metadata": {
        "id": "B3r5MrGaYkV1"
      },
      "source": [
        ""
      ],
      "execution_count": null,
      "outputs": []
    },
    {
      "cell_type": "code",
      "metadata": {
        "id": "kCLXiePBYkTb"
      },
      "source": [
        ""
      ],
      "execution_count": null,
      "outputs": []
    },
    {
      "cell_type": "code",
      "metadata": {
        "id": "s_fX-IYLE1km"
      },
      "source": [
        ""
      ],
      "execution_count": null,
      "outputs": []
    },
    {
      "cell_type": "code",
      "metadata": {
        "id": "iV5VF4VtE1h1"
      },
      "source": [
        ""
      ],
      "execution_count": null,
      "outputs": []
    },
    {
      "cell_type": "code",
      "metadata": {
        "id": "VrwWrDydi_lc"
      },
      "source": [
        "import os, signal\n",
        "os.kill(os.getpid(), signal.SIGKILL)"
      ],
      "execution_count": null,
      "outputs": []
    },
    {
      "cell_type": "code",
      "metadata": {
        "id": "HBlP8QipVZgI"
      },
      "source": [
        ""
      ],
      "execution_count": null,
      "outputs": []
    }
  ]
}