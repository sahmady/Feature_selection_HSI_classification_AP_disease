{
  "nbformat": 4,
  "nbformat_minor": 0,
  "metadata": {
    "colab": {
      "name": "LR_LDA_SVM_RF_normalized_mean_values_186Bands.ipynb",
      "provenance": [],
      "collapsed_sections": [],
      "toc_visible": true,
      "machine_shape": "hm"
    },
    "kernelspec": {
      "display_name": "Python 3",
      "name": "python3"
    }
  },
  "cells": [
    {
      "cell_type": "markdown",
      "metadata": {
        "id": "Zo-a97e4Nu_V"
      },
      "source": [
        "### increase ram size if required"
      ]
    },
    {
      "cell_type": "code",
      "metadata": {
        "id": "87T5BetZQYQv"
      },
      "source": [
        "i = []\n",
        "while True:\n",
        "  i.append(i)"
      ],
      "execution_count": null,
      "outputs": []
    },
    {
      "cell_type": "markdown",
      "metadata": {
        "id": "j54GcKUzOyWh"
      },
      "source": [
        "### mount google drive"
      ]
    },
    {
      "cell_type": "code",
      "metadata": {
        "colab": {
          "base_uri": "https://localhost:8080/"
        },
        "id": "7CKdxEViNnEs",
        "outputId": "88dc25e3-7f59-47a3-abd6-2948db3bae40"
      },
      "source": [
        "from google.colab import drive\n",
        "drive.mount('/content/drive')"
      ],
      "execution_count": null,
      "outputs": [
        {
          "output_type": "stream",
          "text": [
            "Mounted at /content/drive\n"
          ],
          "name": "stdout"
        }
      ]
    },
    {
      "cell_type": "code",
      "metadata": {
        "colab": {
          "base_uri": "https://localhost:8080/"
        },
        "id": "De9k_j9JNnBq",
        "outputId": "23ccb7de-4651-4715-a151-97770e1507e9"
      },
      "source": [
        "import pickle\n",
        "import cv2\n",
        "import numpy as np\n",
        "import matplotlib.pyplot as plt\n",
        "import seaborn as sns\n",
        "# import spectral.io.envi as envi\n",
        "import pandas as pd\n",
        "from sklearn.metrics import confusion_matrix, accuracy_score, recall_score, precision_score\n",
        "from sklearn.metrics import precision_recall_curve, classification_report\n",
        "from sklearn.model_selection import train_test_split\n",
        "from sklearn.linear_model import LogisticRegressionCV\n",
        "from sklearn.linear_model import LogisticRegression\n",
        "from sklearn.ensemble import RandomForestClassifier\n",
        "from sklearn.svm import SVC\n",
        "from sklearn.discriminant_analysis import LinearDiscriminantAnalysis\n",
        "from sklearn.metrics import plot_precision_recall_curve\n",
        "from sklearn.model_selection import cross_val_score\n",
        "\n",
        "\n",
        "import tensorflow as tf\n",
        "from tensorflow import keras\n",
        "from tensorflow.keras import layers\n",
        "from tensorflow.keras.layers.experimental import preprocessing\n",
        "from tensorflow.keras.callbacks import EarlyStopping\n",
        "from keras.models import Sequential\n",
        "from keras.layers import Dense\n",
        "\n",
        "print(tf.__version__)"
      ],
      "execution_count": null,
      "outputs": [
        {
          "output_type": "stream",
          "text": [
            "2.4.1\n"
          ],
          "name": "stdout"
        }
      ]
    },
    {
      "cell_type": "markdown",
      "metadata": {
        "id": "yKi4bc7S5jU6"
      },
      "source": [
        "### load dataset"
      ]
    },
    {
      "cell_type": "code",
      "metadata": {
        "id": "2cQzG6HAKSwh"
      },
      "source": [
        "dataset = pd.read_csv('/content/drive/MyDrive/Thesis/mean_dataset/normalized/dataset_mean_normalized.csv', encoding='latin-1')"
      ],
      "execution_count": null,
      "outputs": []
    },
    {
      "cell_type": "code",
      "metadata": {
        "colab": {
          "base_uri": "https://localhost:8080/",
          "height": 242
        },
        "id": "AqgRukqpKYBl",
        "outputId": "8b669615-d7e8-450f-9098-11a8a6985161"
      },
      "source": [
        "dataset.head(3)"
      ],
      "execution_count": null,
      "outputs": [
        {
          "output_type": "execute_result",
          "data": {
            "text/html": [
              "<div>\n",
              "<style scoped>\n",
              "    .dataframe tbody tr th:only-of-type {\n",
              "        vertical-align: middle;\n",
              "    }\n",
              "\n",
              "    .dataframe tbody tr th {\n",
              "        vertical-align: top;\n",
              "    }\n",
              "\n",
              "    .dataframe thead th {\n",
              "        text-align: right;\n",
              "    }\n",
              "</style>\n",
              "<table border=\"1\" class=\"dataframe\">\n",
              "  <thead>\n",
              "    <tr style=\"text-align: right;\">\n",
              "      <th></th>\n",
              "      <th>img_name</th>\n",
              "      <th>PCR</th>\n",
              "      <th>Band_001</th>\n",
              "      <th>Band_002</th>\n",
              "      <th>Band_003</th>\n",
              "      <th>Band_004</th>\n",
              "      <th>Band_005</th>\n",
              "      <th>Band_006</th>\n",
              "      <th>Band_007</th>\n",
              "      <th>Band_008</th>\n",
              "      <th>Band_009</th>\n",
              "      <th>Band_010</th>\n",
              "      <th>Band_011</th>\n",
              "      <th>Band_012</th>\n",
              "      <th>Band_013</th>\n",
              "      <th>Band_014</th>\n",
              "      <th>Band_015</th>\n",
              "      <th>Band_016</th>\n",
              "      <th>Band_017</th>\n",
              "      <th>Band_018</th>\n",
              "      <th>Band_019</th>\n",
              "      <th>Band_020</th>\n",
              "      <th>Band_021</th>\n",
              "      <th>Band_022</th>\n",
              "      <th>Band_023</th>\n",
              "      <th>Band_024</th>\n",
              "      <th>Band_025</th>\n",
              "      <th>Band_026</th>\n",
              "      <th>Band_027</th>\n",
              "      <th>Band_028</th>\n",
              "      <th>Band_029</th>\n",
              "      <th>Band_030</th>\n",
              "      <th>Band_031</th>\n",
              "      <th>Band_032</th>\n",
              "      <th>Band_033</th>\n",
              "      <th>Band_034</th>\n",
              "      <th>Band_035</th>\n",
              "      <th>Band_036</th>\n",
              "      <th>Band_037</th>\n",
              "      <th>Band_038</th>\n",
              "      <th>...</th>\n",
              "      <th>Band_147</th>\n",
              "      <th>Band_148</th>\n",
              "      <th>Band_149</th>\n",
              "      <th>Band_150</th>\n",
              "      <th>Band_151</th>\n",
              "      <th>Band_152</th>\n",
              "      <th>Band_153</th>\n",
              "      <th>Band_154</th>\n",
              "      <th>Band_155</th>\n",
              "      <th>Band_156</th>\n",
              "      <th>Band_157</th>\n",
              "      <th>Band_158</th>\n",
              "      <th>Band_159</th>\n",
              "      <th>Band_160</th>\n",
              "      <th>Band_161</th>\n",
              "      <th>Band_162</th>\n",
              "      <th>Band_163</th>\n",
              "      <th>Band_164</th>\n",
              "      <th>Band_165</th>\n",
              "      <th>Band_166</th>\n",
              "      <th>Band_167</th>\n",
              "      <th>Band_168</th>\n",
              "      <th>Band_169</th>\n",
              "      <th>Band_170</th>\n",
              "      <th>Band_171</th>\n",
              "      <th>Band_172</th>\n",
              "      <th>Band_173</th>\n",
              "      <th>Band_174</th>\n",
              "      <th>Band_175</th>\n",
              "      <th>Band_176</th>\n",
              "      <th>Band_177</th>\n",
              "      <th>Band_178</th>\n",
              "      <th>Band_179</th>\n",
              "      <th>Band_180</th>\n",
              "      <th>Band_181</th>\n",
              "      <th>Band_182</th>\n",
              "      <th>Band_183</th>\n",
              "      <th>Band_184</th>\n",
              "      <th>Band_185</th>\n",
              "      <th>Band_186</th>\n",
              "    </tr>\n",
              "  </thead>\n",
              "  <tbody>\n",
              "    <tr>\n",
              "      <th>0</th>\n",
              "      <td>Ind-AT1_V1-A_Blatt_VNIR_leaf1</td>\n",
              "      <td>1</td>\n",
              "      <td>0.042757</td>\n",
              "      <td>0.042500</td>\n",
              "      <td>0.041592</td>\n",
              "      <td>0.041078</td>\n",
              "      <td>0.040800</td>\n",
              "      <td>0.040361</td>\n",
              "      <td>0.039828</td>\n",
              "      <td>0.038660</td>\n",
              "      <td>0.038783</td>\n",
              "      <td>0.038519</td>\n",
              "      <td>0.038543</td>\n",
              "      <td>0.038561</td>\n",
              "      <td>0.038081</td>\n",
              "      <td>0.038824</td>\n",
              "      <td>0.039211</td>\n",
              "      <td>0.040024</td>\n",
              "      <td>0.040291</td>\n",
              "      <td>0.040896</td>\n",
              "      <td>0.041143</td>\n",
              "      <td>0.041149</td>\n",
              "      <td>0.041354</td>\n",
              "      <td>0.040995</td>\n",
              "      <td>0.041068</td>\n",
              "      <td>0.041388</td>\n",
              "      <td>0.041236</td>\n",
              "      <td>0.041743</td>\n",
              "      <td>0.042129</td>\n",
              "      <td>0.043451</td>\n",
              "      <td>0.045655</td>\n",
              "      <td>0.047804</td>\n",
              "      <td>0.051727</td>\n",
              "      <td>0.056356</td>\n",
              "      <td>0.061765</td>\n",
              "      <td>0.069235</td>\n",
              "      <td>0.076570</td>\n",
              "      <td>0.084432</td>\n",
              "      <td>0.092334</td>\n",
              "      <td>0.099457</td>\n",
              "      <td>...</td>\n",
              "      <td>0.374524</td>\n",
              "      <td>0.372751</td>\n",
              "      <td>0.367952</td>\n",
              "      <td>0.372332</td>\n",
              "      <td>0.368956</td>\n",
              "      <td>0.368538</td>\n",
              "      <td>0.371721</td>\n",
              "      <td>0.366032</td>\n",
              "      <td>0.369821</td>\n",
              "      <td>0.365835</td>\n",
              "      <td>0.365953</td>\n",
              "      <td>0.361308</td>\n",
              "      <td>0.369411</td>\n",
              "      <td>0.366450</td>\n",
              "      <td>0.361704</td>\n",
              "      <td>0.359386</td>\n",
              "      <td>0.360887</td>\n",
              "      <td>0.360975</td>\n",
              "      <td>0.362344</td>\n",
              "      <td>0.356860</td>\n",
              "      <td>0.358135</td>\n",
              "      <td>0.358035</td>\n",
              "      <td>0.358289</td>\n",
              "      <td>0.354475</td>\n",
              "      <td>0.354115</td>\n",
              "      <td>0.355115</td>\n",
              "      <td>0.353141</td>\n",
              "      <td>0.352625</td>\n",
              "      <td>0.355285</td>\n",
              "      <td>0.353739</td>\n",
              "      <td>0.352703</td>\n",
              "      <td>0.346970</td>\n",
              "      <td>0.349752</td>\n",
              "      <td>0.353019</td>\n",
              "      <td>0.347417</td>\n",
              "      <td>0.359075</td>\n",
              "      <td>0.343918</td>\n",
              "      <td>0.353503</td>\n",
              "      <td>0.354541</td>\n",
              "      <td>0.351962</td>\n",
              "    </tr>\n",
              "    <tr>\n",
              "      <th>1</th>\n",
              "      <td>Ind-AT1_V1-A_Blatt_VNIR_leaf2</td>\n",
              "      <td>1</td>\n",
              "      <td>0.054513</td>\n",
              "      <td>0.053463</td>\n",
              "      <td>0.052781</td>\n",
              "      <td>0.052297</td>\n",
              "      <td>0.052243</td>\n",
              "      <td>0.051998</td>\n",
              "      <td>0.051635</td>\n",
              "      <td>0.050230</td>\n",
              "      <td>0.050737</td>\n",
              "      <td>0.050458</td>\n",
              "      <td>0.050446</td>\n",
              "      <td>0.050422</td>\n",
              "      <td>0.049771</td>\n",
              "      <td>0.050815</td>\n",
              "      <td>0.051363</td>\n",
              "      <td>0.052438</td>\n",
              "      <td>0.052924</td>\n",
              "      <td>0.053760</td>\n",
              "      <td>0.054197</td>\n",
              "      <td>0.054258</td>\n",
              "      <td>0.054424</td>\n",
              "      <td>0.053992</td>\n",
              "      <td>0.054002</td>\n",
              "      <td>0.054436</td>\n",
              "      <td>0.054224</td>\n",
              "      <td>0.054891</td>\n",
              "      <td>0.055532</td>\n",
              "      <td>0.057463</td>\n",
              "      <td>0.060564</td>\n",
              "      <td>0.063724</td>\n",
              "      <td>0.069373</td>\n",
              "      <td>0.076115</td>\n",
              "      <td>0.084015</td>\n",
              "      <td>0.094852</td>\n",
              "      <td>0.105776</td>\n",
              "      <td>0.117760</td>\n",
              "      <td>0.130039</td>\n",
              "      <td>0.141149</td>\n",
              "      <td>...</td>\n",
              "      <td>0.464383</td>\n",
              "      <td>0.462340</td>\n",
              "      <td>0.456413</td>\n",
              "      <td>0.461740</td>\n",
              "      <td>0.457462</td>\n",
              "      <td>0.456875</td>\n",
              "      <td>0.460833</td>\n",
              "      <td>0.453393</td>\n",
              "      <td>0.458087</td>\n",
              "      <td>0.453037</td>\n",
              "      <td>0.453090</td>\n",
              "      <td>0.447301</td>\n",
              "      <td>0.457268</td>\n",
              "      <td>0.453473</td>\n",
              "      <td>0.447552</td>\n",
              "      <td>0.444284</td>\n",
              "      <td>0.445377</td>\n",
              "      <td>0.444452</td>\n",
              "      <td>0.445233</td>\n",
              "      <td>0.438580</td>\n",
              "      <td>0.441019</td>\n",
              "      <td>0.441110</td>\n",
              "      <td>0.441341</td>\n",
              "      <td>0.437160</td>\n",
              "      <td>0.436360</td>\n",
              "      <td>0.437367</td>\n",
              "      <td>0.434748</td>\n",
              "      <td>0.433953</td>\n",
              "      <td>0.436947</td>\n",
              "      <td>0.435019</td>\n",
              "      <td>0.433693</td>\n",
              "      <td>0.426707</td>\n",
              "      <td>0.430217</td>\n",
              "      <td>0.434486</td>\n",
              "      <td>0.427096</td>\n",
              "      <td>0.441592</td>\n",
              "      <td>0.422943</td>\n",
              "      <td>0.434340</td>\n",
              "      <td>0.435683</td>\n",
              "      <td>0.432486</td>\n",
              "    </tr>\n",
              "    <tr>\n",
              "      <th>2</th>\n",
              "      <td>Ind-AT1_V1-A_Blatt_VNIR_leaf3</td>\n",
              "      <td>1</td>\n",
              "      <td>0.045973</td>\n",
              "      <td>0.044950</td>\n",
              "      <td>0.043583</td>\n",
              "      <td>0.043210</td>\n",
              "      <td>0.043156</td>\n",
              "      <td>0.042604</td>\n",
              "      <td>0.042271</td>\n",
              "      <td>0.041378</td>\n",
              "      <td>0.041775</td>\n",
              "      <td>0.041273</td>\n",
              "      <td>0.041186</td>\n",
              "      <td>0.041018</td>\n",
              "      <td>0.040566</td>\n",
              "      <td>0.041445</td>\n",
              "      <td>0.041889</td>\n",
              "      <td>0.042783</td>\n",
              "      <td>0.043127</td>\n",
              "      <td>0.043670</td>\n",
              "      <td>0.043902</td>\n",
              "      <td>0.043824</td>\n",
              "      <td>0.043889</td>\n",
              "      <td>0.043486</td>\n",
              "      <td>0.043477</td>\n",
              "      <td>0.043759</td>\n",
              "      <td>0.043583</td>\n",
              "      <td>0.044062</td>\n",
              "      <td>0.044495</td>\n",
              "      <td>0.045952</td>\n",
              "      <td>0.048338</td>\n",
              "      <td>0.050775</td>\n",
              "      <td>0.055047</td>\n",
              "      <td>0.060031</td>\n",
              "      <td>0.065683</td>\n",
              "      <td>0.073364</td>\n",
              "      <td>0.080773</td>\n",
              "      <td>0.088667</td>\n",
              "      <td>0.096480</td>\n",
              "      <td>0.103367</td>\n",
              "      <td>...</td>\n",
              "      <td>0.437286</td>\n",
              "      <td>0.435530</td>\n",
              "      <td>0.429971</td>\n",
              "      <td>0.434998</td>\n",
              "      <td>0.430716</td>\n",
              "      <td>0.430171</td>\n",
              "      <td>0.433931</td>\n",
              "      <td>0.427000</td>\n",
              "      <td>0.431423</td>\n",
              "      <td>0.426543</td>\n",
              "      <td>0.426435</td>\n",
              "      <td>0.421053</td>\n",
              "      <td>0.430575</td>\n",
              "      <td>0.427107</td>\n",
              "      <td>0.421556</td>\n",
              "      <td>0.418549</td>\n",
              "      <td>0.420126</td>\n",
              "      <td>0.419704</td>\n",
              "      <td>0.420925</td>\n",
              "      <td>0.414672</td>\n",
              "      <td>0.416421</td>\n",
              "      <td>0.416151</td>\n",
              "      <td>0.415843</td>\n",
              "      <td>0.411914</td>\n",
              "      <td>0.411053</td>\n",
              "      <td>0.412158</td>\n",
              "      <td>0.409740</td>\n",
              "      <td>0.408987</td>\n",
              "      <td>0.411997</td>\n",
              "      <td>0.410212</td>\n",
              "      <td>0.408952</td>\n",
              "      <td>0.402570</td>\n",
              "      <td>0.406094</td>\n",
              "      <td>0.410080</td>\n",
              "      <td>0.403254</td>\n",
              "      <td>0.416451</td>\n",
              "      <td>0.399093</td>\n",
              "      <td>0.409626</td>\n",
              "      <td>0.410648</td>\n",
              "      <td>0.407662</td>\n",
              "    </tr>\n",
              "  </tbody>\n",
              "</table>\n",
              "<p>3 rows × 188 columns</p>\n",
              "</div>"
            ],
            "text/plain": [
              "                        img_name  PCR  Band_001  ...  Band_184  Band_185  Band_186\n",
              "0  Ind-AT1_V1-A_Blatt_VNIR_leaf1    1  0.042757  ...  0.353503  0.354541  0.351962\n",
              "1  Ind-AT1_V1-A_Blatt_VNIR_leaf2    1  0.054513  ...  0.434340  0.435683  0.432486\n",
              "2  Ind-AT1_V1-A_Blatt_VNIR_leaf3    1  0.045973  ...  0.409626  0.410648  0.407662\n",
              "\n",
              "[3 rows x 188 columns]"
            ]
          },
          "metadata": {
            "tags": []
          },
          "execution_count": 4
        }
      ]
    },
    {
      "cell_type": "code",
      "metadata": {
        "colab": {
          "base_uri": "https://localhost:8080/",
          "height": 283
        },
        "id": "uPZCTbMTKejG",
        "outputId": "b2f91edd-3303-49ff-cd67-c2fc77594694"
      },
      "source": [
        "plt.scatter(np.arange(186), dataset.iloc[4:5,2:].values)"
      ],
      "execution_count": null,
      "outputs": [
        {
          "output_type": "execute_result",
          "data": {
            "text/plain": [
              "<matplotlib.collections.PathCollection at 0x7f599e5e1250>"
            ]
          },
          "metadata": {
            "tags": []
          },
          "execution_count": 5
        },
        {
          "output_type": "display_data",
          "data": {
            "image/png": "[encoded data removed]",
            "text/plain": [
              "<Figure size 432x288 with 1 Axes>"
            ]
          },
          "metadata": {
            "tags": [],
            "needs_background": "light"
          }
        }
      ]
    },
    {
      "cell_type": "code",
      "metadata": {
        "colab": {
          "base_uri": "https://localhost:8080/",
          "height": 242
        },
        "id": "AkLutXjGlA25",
        "outputId": "3a55d334-17de-44a5-8104-a149ade0d9f8"
      },
      "source": [
        "# shuffel dataset\n",
        "dataset = dataset.sample(frac = 1)\n",
        "dataset.head(3)"
      ],
      "execution_count": null,
      "outputs": [
        {
          "output_type": "execute_result",
          "data": {
            "text/html": [
              "<div>\n",
              "<style scoped>\n",
              "    .dataframe tbody tr th:only-of-type {\n",
              "        vertical-align: middle;\n",
              "    }\n",
              "\n",
              "    .dataframe tbody tr th {\n",
              "        vertical-align: top;\n",
              "    }\n",
              "\n",
              "    .dataframe thead th {\n",
              "        text-align: right;\n",
              "    }\n",
              "</style>\n",
              "<table border=\"1\" class=\"dataframe\">\n",
              "  <thead>\n",
              "    <tr style=\"text-align: right;\">\n",
              "      <th></th>\n",
              "      <th>img_name</th>\n",
              "      <th>PCR</th>\n",
              "      <th>Band_001</th>\n",
              "      <th>Band_002</th>\n",
              "      <th>Band_003</th>\n",
              "      <th>Band_004</th>\n",
              "      <th>Band_005</th>\n",
              "      <th>Band_006</th>\n",
              "      <th>Band_007</th>\n",
              "      <th>Band_008</th>\n",
              "      <th>Band_009</th>\n",
              "      <th>Band_010</th>\n",
              "      <th>Band_011</th>\n",
              "      <th>Band_012</th>\n",
              "      <th>Band_013</th>\n",
              "      <th>Band_014</th>\n",
              "      <th>Band_015</th>\n",
              "      <th>Band_016</th>\n",
              "      <th>Band_017</th>\n",
              "      <th>Band_018</th>\n",
              "      <th>Band_019</th>\n",
              "      <th>Band_020</th>\n",
              "      <th>Band_021</th>\n",
              "      <th>Band_022</th>\n",
              "      <th>Band_023</th>\n",
              "      <th>Band_024</th>\n",
              "      <th>Band_025</th>\n",
              "      <th>Band_026</th>\n",
              "      <th>Band_027</th>\n",
              "      <th>Band_028</th>\n",
              "      <th>Band_029</th>\n",
              "      <th>Band_030</th>\n",
              "      <th>Band_031</th>\n",
              "      <th>Band_032</th>\n",
              "      <th>Band_033</th>\n",
              "      <th>Band_034</th>\n",
              "      <th>Band_035</th>\n",
              "      <th>Band_036</th>\n",
              "      <th>Band_037</th>\n",
              "      <th>Band_038</th>\n",
              "      <th>...</th>\n",
              "      <th>Band_147</th>\n",
              "      <th>Band_148</th>\n",
              "      <th>Band_149</th>\n",
              "      <th>Band_150</th>\n",
              "      <th>Band_151</th>\n",
              "      <th>Band_152</th>\n",
              "      <th>Band_153</th>\n",
              "      <th>Band_154</th>\n",
              "      <th>Band_155</th>\n",
              "      <th>Band_156</th>\n",
              "      <th>Band_157</th>\n",
              "      <th>Band_158</th>\n",
              "      <th>Band_159</th>\n",
              "      <th>Band_160</th>\n",
              "      <th>Band_161</th>\n",
              "      <th>Band_162</th>\n",
              "      <th>Band_163</th>\n",
              "      <th>Band_164</th>\n",
              "      <th>Band_165</th>\n",
              "      <th>Band_166</th>\n",
              "      <th>Band_167</th>\n",
              "      <th>Band_168</th>\n",
              "      <th>Band_169</th>\n",
              "      <th>Band_170</th>\n",
              "      <th>Band_171</th>\n",
              "      <th>Band_172</th>\n",
              "      <th>Band_173</th>\n",
              "      <th>Band_174</th>\n",
              "      <th>Band_175</th>\n",
              "      <th>Band_176</th>\n",
              "      <th>Band_177</th>\n",
              "      <th>Band_178</th>\n",
              "      <th>Band_179</th>\n",
              "      <th>Band_180</th>\n",
              "      <th>Band_181</th>\n",
              "      <th>Band_182</th>\n",
              "      <th>Band_183</th>\n",
              "      <th>Band_184</th>\n",
              "      <th>Band_185</th>\n",
              "      <th>Band_186</th>\n",
              "    </tr>\n",
              "  </thead>\n",
              "  <tbody>\n",
              "    <tr>\n",
              "      <th>111</th>\n",
              "      <td>Ind-K1-6_Blatt_VNIR_leaf6</td>\n",
              "      <td>0</td>\n",
              "      <td>0.062844</td>\n",
              "      <td>0.061342</td>\n",
              "      <td>0.060671</td>\n",
              "      <td>0.061331</td>\n",
              "      <td>0.061458</td>\n",
              "      <td>0.061608</td>\n",
              "      <td>0.061312</td>\n",
              "      <td>0.061390</td>\n",
              "      <td>0.060872</td>\n",
              "      <td>0.060592</td>\n",
              "      <td>0.060283</td>\n",
              "      <td>0.060003</td>\n",
              "      <td>0.060132</td>\n",
              "      <td>0.060347</td>\n",
              "      <td>0.061261</td>\n",
              "      <td>0.062015</td>\n",
              "      <td>0.062483</td>\n",
              "      <td>0.062424</td>\n",
              "      <td>0.062554</td>\n",
              "      <td>0.062916</td>\n",
              "      <td>0.062659</td>\n",
              "      <td>0.062837</td>\n",
              "      <td>0.063442</td>\n",
              "      <td>0.063254</td>\n",
              "      <td>0.063591</td>\n",
              "      <td>0.063832</td>\n",
              "      <td>0.064539</td>\n",
              "      <td>0.065072</td>\n",
              "      <td>0.066850</td>\n",
              "      <td>0.069329</td>\n",
              "      <td>0.073166</td>\n",
              "      <td>0.077665</td>\n",
              "      <td>0.084261</td>\n",
              "      <td>0.093398</td>\n",
              "      <td>0.103935</td>\n",
              "      <td>0.115929</td>\n",
              "      <td>0.130631</td>\n",
              "      <td>0.144828</td>\n",
              "      <td>...</td>\n",
              "      <td>0.473125</td>\n",
              "      <td>0.464971</td>\n",
              "      <td>0.470372</td>\n",
              "      <td>0.468819</td>\n",
              "      <td>0.465356</td>\n",
              "      <td>0.464644</td>\n",
              "      <td>0.463782</td>\n",
              "      <td>0.464182</td>\n",
              "      <td>0.464037</td>\n",
              "      <td>0.463044</td>\n",
              "      <td>0.456934</td>\n",
              "      <td>0.464596</td>\n",
              "      <td>0.456860</td>\n",
              "      <td>0.465603</td>\n",
              "      <td>0.456237</td>\n",
              "      <td>0.456461</td>\n",
              "      <td>0.450239</td>\n",
              "      <td>0.451513</td>\n",
              "      <td>0.448295</td>\n",
              "      <td>0.451848</td>\n",
              "      <td>0.456318</td>\n",
              "      <td>0.449201</td>\n",
              "      <td>0.444348</td>\n",
              "      <td>0.452550</td>\n",
              "      <td>0.454561</td>\n",
              "      <td>0.447834</td>\n",
              "      <td>0.449485</td>\n",
              "      <td>0.448263</td>\n",
              "      <td>0.440539</td>\n",
              "      <td>0.443799</td>\n",
              "      <td>0.441165</td>\n",
              "      <td>0.441017</td>\n",
              "      <td>0.446522</td>\n",
              "      <td>0.446276</td>\n",
              "      <td>0.440461</td>\n",
              "      <td>0.435480</td>\n",
              "      <td>0.433824</td>\n",
              "      <td>0.442211</td>\n",
              "      <td>0.438866</td>\n",
              "      <td>0.435861</td>\n",
              "    </tr>\n",
              "    <tr>\n",
              "      <th>41</th>\n",
              "      <td>Ind-AT1_V1-E_Blatt_VNIR_leaf4</td>\n",
              "      <td>0</td>\n",
              "      <td>0.065011</td>\n",
              "      <td>0.064625</td>\n",
              "      <td>0.064731</td>\n",
              "      <td>0.063544</td>\n",
              "      <td>0.064214</td>\n",
              "      <td>0.064837</td>\n",
              "      <td>0.060134</td>\n",
              "      <td>0.063846</td>\n",
              "      <td>0.063658</td>\n",
              "      <td>0.064037</td>\n",
              "      <td>0.063875</td>\n",
              "      <td>0.063604</td>\n",
              "      <td>0.063404</td>\n",
              "      <td>0.063750</td>\n",
              "      <td>0.063662</td>\n",
              "      <td>0.064209</td>\n",
              "      <td>0.064053</td>\n",
              "      <td>0.063868</td>\n",
              "      <td>0.064324</td>\n",
              "      <td>0.063774</td>\n",
              "      <td>0.063444</td>\n",
              "      <td>0.063697</td>\n",
              "      <td>0.064235</td>\n",
              "      <td>0.063404</td>\n",
              "      <td>0.062763</td>\n",
              "      <td>0.063413</td>\n",
              "      <td>0.063793</td>\n",
              "      <td>0.063868</td>\n",
              "      <td>0.064116</td>\n",
              "      <td>0.064302</td>\n",
              "      <td>0.064722</td>\n",
              "      <td>0.067314</td>\n",
              "      <td>0.068849</td>\n",
              "      <td>0.071154</td>\n",
              "      <td>0.075598</td>\n",
              "      <td>0.079971</td>\n",
              "      <td>0.085134</td>\n",
              "      <td>0.093290</td>\n",
              "      <td>...</td>\n",
              "      <td>0.464337</td>\n",
              "      <td>0.458206</td>\n",
              "      <td>0.462875</td>\n",
              "      <td>0.462360</td>\n",
              "      <td>0.462746</td>\n",
              "      <td>0.462625</td>\n",
              "      <td>0.461330</td>\n",
              "      <td>0.455735</td>\n",
              "      <td>0.459480</td>\n",
              "      <td>0.457138</td>\n",
              "      <td>0.459337</td>\n",
              "      <td>0.455119</td>\n",
              "      <td>0.451163</td>\n",
              "      <td>0.459632</td>\n",
              "      <td>0.457002</td>\n",
              "      <td>0.448401</td>\n",
              "      <td>0.452438</td>\n",
              "      <td>0.445304</td>\n",
              "      <td>0.437616</td>\n",
              "      <td>0.446628</td>\n",
              "      <td>0.447089</td>\n",
              "      <td>0.445251</td>\n",
              "      <td>0.446131</td>\n",
              "      <td>0.448615</td>\n",
              "      <td>0.446807</td>\n",
              "      <td>0.445699</td>\n",
              "      <td>0.446022</td>\n",
              "      <td>0.442390</td>\n",
              "      <td>0.435920</td>\n",
              "      <td>0.437242</td>\n",
              "      <td>0.429208</td>\n",
              "      <td>0.439585</td>\n",
              "      <td>0.428882</td>\n",
              "      <td>0.432865</td>\n",
              "      <td>0.430311</td>\n",
              "      <td>0.442713</td>\n",
              "      <td>0.439378</td>\n",
              "      <td>0.436734</td>\n",
              "      <td>0.433757</td>\n",
              "      <td>0.433323</td>\n",
              "    </tr>\n",
              "    <tr>\n",
              "      <th>10</th>\n",
              "      <td>Ind-AT1_V1-B_Blatt_VNIR_leaf10</td>\n",
              "      <td>1</td>\n",
              "      <td>0.033860</td>\n",
              "      <td>0.033897</td>\n",
              "      <td>0.033246</td>\n",
              "      <td>0.032633</td>\n",
              "      <td>0.033760</td>\n",
              "      <td>0.032938</td>\n",
              "      <td>0.032622</td>\n",
              "      <td>0.033263</td>\n",
              "      <td>0.033330</td>\n",
              "      <td>0.033228</td>\n",
              "      <td>0.032296</td>\n",
              "      <td>0.032959</td>\n",
              "      <td>0.032493</td>\n",
              "      <td>0.032875</td>\n",
              "      <td>0.033250</td>\n",
              "      <td>0.033240</td>\n",
              "      <td>0.033794</td>\n",
              "      <td>0.033363</td>\n",
              "      <td>0.033729</td>\n",
              "      <td>0.033754</td>\n",
              "      <td>0.033796</td>\n",
              "      <td>0.033620</td>\n",
              "      <td>0.033709</td>\n",
              "      <td>0.033731</td>\n",
              "      <td>0.033659</td>\n",
              "      <td>0.034278</td>\n",
              "      <td>0.034297</td>\n",
              "      <td>0.034858</td>\n",
              "      <td>0.035642</td>\n",
              "      <td>0.036611</td>\n",
              "      <td>0.038080</td>\n",
              "      <td>0.039854</td>\n",
              "      <td>0.042271</td>\n",
              "      <td>0.045467</td>\n",
              "      <td>0.048212</td>\n",
              "      <td>0.051576</td>\n",
              "      <td>0.054829</td>\n",
              "      <td>0.057724</td>\n",
              "      <td>...</td>\n",
              "      <td>0.354768</td>\n",
              "      <td>0.357501</td>\n",
              "      <td>0.354653</td>\n",
              "      <td>0.354215</td>\n",
              "      <td>0.357120</td>\n",
              "      <td>0.352162</td>\n",
              "      <td>0.348837</td>\n",
              "      <td>0.350742</td>\n",
              "      <td>0.353728</td>\n",
              "      <td>0.353947</td>\n",
              "      <td>0.351736</td>\n",
              "      <td>0.354389</td>\n",
              "      <td>0.350365</td>\n",
              "      <td>0.349522</td>\n",
              "      <td>0.348937</td>\n",
              "      <td>0.349197</td>\n",
              "      <td>0.350407</td>\n",
              "      <td>0.341813</td>\n",
              "      <td>0.349363</td>\n",
              "      <td>0.350054</td>\n",
              "      <td>0.346829</td>\n",
              "      <td>0.348502</td>\n",
              "      <td>0.341438</td>\n",
              "      <td>0.343755</td>\n",
              "      <td>0.338170</td>\n",
              "      <td>0.338754</td>\n",
              "      <td>0.342331</td>\n",
              "      <td>0.341238</td>\n",
              "      <td>0.339668</td>\n",
              "      <td>0.338983</td>\n",
              "      <td>0.338047</td>\n",
              "      <td>0.338307</td>\n",
              "      <td>0.332147</td>\n",
              "      <td>0.341694</td>\n",
              "      <td>0.340189</td>\n",
              "      <td>0.343669</td>\n",
              "      <td>0.338232</td>\n",
              "      <td>0.340444</td>\n",
              "      <td>0.332906</td>\n",
              "      <td>0.341993</td>\n",
              "    </tr>\n",
              "  </tbody>\n",
              "</table>\n",
              "<p>3 rows × 188 columns</p>\n",
              "</div>"
            ],
            "text/plain": [
              "                           img_name  PCR  ...  Band_185  Band_186\n",
              "111       Ind-K1-6_Blatt_VNIR_leaf6    0  ...  0.438866  0.435861\n",
              "41    Ind-AT1_V1-E_Blatt_VNIR_leaf4    0  ...  0.433757  0.433323\n",
              "10   Ind-AT1_V1-B_Blatt_VNIR_leaf10    1  ...  0.332906  0.341993\n",
              "\n",
              "[3 rows x 188 columns]"
            ]
          },
          "metadata": {
            "tags": []
          },
          "execution_count": 10
        }
      ]
    },
    {
      "cell_type": "code",
      "metadata": {
        "id": "HZJ5PZ8rhfLw"
      },
      "source": [
        "X = dataset.iloc[:,2:].values\n",
        "y = np.array(dataset.PCR.values, dtype=int)"
      ],
      "execution_count": null,
      "outputs": []
    },
    {
      "cell_type": "markdown",
      "metadata": {
        "id": "WH_jajbaOCB3"
      },
      "source": [
        "### preview bands 45 and 120"
      ]
    },
    {
      "cell_type": "code",
      "metadata": {
        "id": "L6-Z7jcC6oSB"
      },
      "source": [
        "band45 = X[:,45:46]"
      ],
      "execution_count": null,
      "outputs": []
    },
    {
      "cell_type": "code",
      "metadata": {
        "id": "vVVZZeu46oPB"
      },
      "source": [
        "band120 = X[:, 120:121]"
      ],
      "execution_count": null,
      "outputs": []
    },
    {
      "cell_type": "code",
      "metadata": {
        "id": "ksUFxnaVGOy9",
        "colab": {
          "base_uri": "https://localhost:8080/",
          "height": 366
        },
        "outputId": "3a500e74-9525-43eb-cd7f-50c28cd17044"
      },
      "source": [
        "plt.figure(figsize=(5, 5))\n",
        "plt.scatter(band45, band120, c=y)\n",
        "plt.title('Bands 45 and 120 based on mean values of leaves \\n')\n",
        "plt.xlabel('Band_45')\n",
        "plt.ylabel('Band_120')\n",
        "plt.show()"
      ],
      "execution_count": null,
      "outputs": [
        {
          "output_type": "display_data",
          "data": {
            "image/png": "[encoded data removed]",
            "text/plain": [
              "<Figure size 360x360 with 1 Axes>"
            ]
          },
          "metadata": {
            "tags": [],
            "needs_background": "light"
          }
        }
      ]
    },
    {
      "cell_type": "markdown",
      "metadata": {
        "id": "wdKAin1QmcD0"
      },
      "source": [
        "### Logistic Regression (keras)"
      ]
    },
    {
      "cell_type": "markdown",
      "metadata": {
        "id": "5ljCaRudGEC-"
      },
      "source": [
        "start preparing dataset"
      ]
    },
    {
      "cell_type": "code",
      "metadata": {
        "colab": {
          "base_uri": "https://localhost:8080/"
        },
        "id": "UW5lTvtsGPJn",
        "outputId": "4d573c02-7035-4c5f-ff2c-af9e100a9c69"
      },
      "source": [
        "input_shape = [X.shape[1],]\n",
        "input_shape"
      ],
      "execution_count": null,
      "outputs": [
        {
          "output_type": "execute_result",
          "data": {
            "text/plain": [
              "[186]"
            ]
          },
          "metadata": {
            "tags": []
          },
          "execution_count": 12
        }
      ]
    },
    {
      "cell_type": "code",
      "metadata": {
        "id": "6p8MCPSlGPHn"
      },
      "source": [
        "band_normalizer = preprocessing.Normalization(input_shape=input_shape)"
      ],
      "execution_count": null,
      "outputs": []
    },
    {
      "cell_type": "code",
      "metadata": {
        "id": "L6sCwedWGPFm"
      },
      "source": [
        "bands = np.array(X)"
      ],
      "execution_count": null,
      "outputs": []
    },
    {
      "cell_type": "code",
      "metadata": {
        "id": "0PFQ4LCKGPCd"
      },
      "source": [
        "band_normalizer.adapt(bands)"
      ],
      "execution_count": null,
      "outputs": []
    },
    {
      "cell_type": "code",
      "metadata": {
        "colab": {
          "base_uri": "https://localhost:8080/"
        },
        "id": "ImR-tjGkGO_X",
        "outputId": "45f6d146-4138-4d89-8b36-789ae7e4a33e"
      },
      "source": [
        "model = tf.keras.Sequential([\n",
        "    band_normalizer,\n",
        "    layers.Dense(units=1, activation='sigmoid')\n",
        "])\n",
        "\n",
        "model.summary()"
      ],
      "execution_count": null,
      "outputs": [
        {
          "output_type": "stream",
          "text": [
            "Model: \"sequential\"\n",
            "_________________________________________________________________\n",
            "Layer (type)                 Output Shape              Param #   \n",
            "=================================================================\n",
            "normalization (Normalization (None, 186)               373       \n",
            "_________________________________________________________________\n",
            "dense (Dense)                (None, 1)                 187       \n",
            "=================================================================\n",
            "Total params: 560\n",
            "Trainable params: 187\n",
            "Non-trainable params: 373\n",
            "_________________________________________________________________\n"
          ],
          "name": "stdout"
        }
      ]
    },
    {
      "cell_type": "code",
      "metadata": {
        "id": "uIjpJVB0GO9d"
      },
      "source": [
        "model.compile(\n",
        "    optimizer=tf.optimizers.Adam(learning_rate=0.1),\n",
        "    loss='binary_crossentropy', metrics=['accuracy'])"
      ],
      "execution_count": null,
      "outputs": []
    },
    {
      "cell_type": "code",
      "metadata": {
        "id": "zlhQjpGFGO6S"
      },
      "source": [
        "callback = tf.keras.callbacks.EarlyStopping(monitor='loss', min_delta=1e-3, patience=3)"
      ],
      "execution_count": null,
      "outputs": []
    },
    {
      "cell_type": "code",
      "metadata": {
        "colab": {
          "base_uri": "https://localhost:8080/"
        },
        "id": "e7gEXG-fGO4e",
        "outputId": "1facc987-178c-4370-a762-19a5f174c0c4"
      },
      "source": [
        "%%time\n",
        "history = model.fit(\n",
        "    X, y,\n",
        "    epochs=100,\n",
        "    # suppress logging\n",
        "    verbose=1,\n",
        "    # Calculate validation results on 20% of the training data\n",
        "    # validation_data=(X_val, y_val), \n",
        "    validation_split = 0.2,\n",
        "    callbacks=[callback]\n",
        "    )"
      ],
      "execution_count": null,
      "outputs": [
        {
          "output_type": "stream",
          "text": [
            "Epoch 1/100\n",
            "3/3 [==============================] - 0s 69ms/step - loss: 0.5800 - accuracy: 0.7174 - val_loss: 0.5509 - val_accuracy: 0.7826\n",
            "Epoch 2/100\n",
            "3/3 [==============================] - 0s 35ms/step - loss: 0.5542 - accuracy: 0.7283 - val_loss: 0.6529 - val_accuracy: 0.5652\n",
            "Epoch 3/100\n",
            "3/3 [==============================] - 0s 36ms/step - loss: 0.5397 - accuracy: 0.7283 - val_loss: 0.5344 - val_accuracy: 0.8261\n",
            "Epoch 4/100\n",
            "3/3 [==============================] - 0s 38ms/step - loss: 0.5446 - accuracy: 0.7609 - val_loss: 0.5202 - val_accuracy: 0.8696\n",
            "Epoch 5/100\n",
            "3/3 [==============================] - 0s 38ms/step - loss: 0.5271 - accuracy: 0.7609 - val_loss: 0.6155 - val_accuracy: 0.6087\n",
            "Epoch 6/100\n",
            "3/3 [==============================] - 0s 36ms/step - loss: 0.5503 - accuracy: 0.7717 - val_loss: 0.5162 - val_accuracy: 0.8261\n",
            "Epoch 7/100\n",
            "3/3 [==============================] - 0s 39ms/step - loss: 0.5046 - accuracy: 0.8478 - val_loss: 0.5564 - val_accuracy: 0.7391\n",
            "Epoch 8/100\n",
            "3/3 [==============================] - 0s 38ms/step - loss: 0.4953 - accuracy: 0.8043 - val_loss: 0.5599 - val_accuracy: 0.7391\n",
            "Epoch 9/100\n",
            "3/3 [==============================] - 0s 38ms/step - loss: 0.4963 - accuracy: 0.8043 - val_loss: 0.4986 - val_accuracy: 0.8261\n",
            "Epoch 10/100\n",
            "3/3 [==============================] - 0s 38ms/step - loss: 0.4919 - accuracy: 0.8152 - val_loss: 0.5375 - val_accuracy: 0.7391\n",
            "Epoch 11/100\n",
            "3/3 [==============================] - 0s 37ms/step - loss: 0.5088 - accuracy: 0.7283 - val_loss: 0.5348 - val_accuracy: 0.7391\n",
            "Epoch 12/100\n",
            "3/3 [==============================] - 0s 39ms/step - loss: 0.4644 - accuracy: 0.8370 - val_loss: 0.4695 - val_accuracy: 0.8696\n",
            "Epoch 13/100\n",
            "3/3 [==============================] - 0s 35ms/step - loss: 0.4822 - accuracy: 0.8370 - val_loss: 0.5118 - val_accuracy: 0.7391\n",
            "Epoch 14/100\n",
            "3/3 [==============================] - 0s 35ms/step - loss: 0.4714 - accuracy: 0.8261 - val_loss: 0.5513 - val_accuracy: 0.6957\n",
            "Epoch 15/100\n",
            "3/3 [==============================] - 0s 36ms/step - loss: 0.4578 - accuracy: 0.8478 - val_loss: 0.4541 - val_accuracy: 0.9130\n",
            "Epoch 16/100\n",
            "3/3 [==============================] - 0s 36ms/step - loss: 0.4613 - accuracy: 0.8804 - val_loss: 0.5145 - val_accuracy: 0.7391\n",
            "Epoch 17/100\n",
            "3/3 [==============================] - 0s 35ms/step - loss: 0.4920 - accuracy: 0.7717 - val_loss: 0.4871 - val_accuracy: 0.7391\n",
            "Epoch 18/100\n",
            "3/3 [==============================] - 0s 35ms/step - loss: 0.4838 - accuracy: 0.7935 - val_loss: 0.4396 - val_accuracy: 0.9130\n",
            "CPU times: user 1.55 s, sys: 57.8 ms, total: 1.61 s\n",
            "Wall time: 1.52 s\n"
          ],
          "name": "stdout"
        }
      ]
    },
    {
      "cell_type": "code",
      "metadata": {
        "colab": {
          "base_uri": "https://localhost:8080/",
          "height": 202
        },
        "id": "VznfDEliGO1p",
        "outputId": "8c5c696c-c7e2-4e05-d707-65ead5f947bb"
      },
      "source": [
        "hist = pd.DataFrame(history.history)\n",
        "hist['epoch'] = history.epoch\n",
        "hist.tail()"
      ],
      "execution_count": null,
      "outputs": [
        {
          "output_type": "execute_result",
          "data": {
            "text/html": [
              "<div>\n",
              "<style scoped>\n",
              "    .dataframe tbody tr th:only-of-type {\n",
              "        vertical-align: middle;\n",
              "    }\n",
              "\n",
              "    .dataframe tbody tr th {\n",
              "        vertical-align: top;\n",
              "    }\n",
              "\n",
              "    .dataframe thead th {\n",
              "        text-align: right;\n",
              "    }\n",
              "</style>\n",
              "<table border=\"1\" class=\"dataframe\">\n",
              "  <thead>\n",
              "    <tr style=\"text-align: right;\">\n",
              "      <th></th>\n",
              "      <th>loss</th>\n",
              "      <th>accuracy</th>\n",
              "      <th>val_loss</th>\n",
              "      <th>val_accuracy</th>\n",
              "      <th>epoch</th>\n",
              "    </tr>\n",
              "  </thead>\n",
              "  <tbody>\n",
              "    <tr>\n",
              "      <th>13</th>\n",
              "      <td>0.471367</td>\n",
              "      <td>0.826087</td>\n",
              "      <td>0.551299</td>\n",
              "      <td>0.695652</td>\n",
              "      <td>13</td>\n",
              "    </tr>\n",
              "    <tr>\n",
              "      <th>14</th>\n",
              "      <td>0.457783</td>\n",
              "      <td>0.847826</td>\n",
              "      <td>0.454052</td>\n",
              "      <td>0.913043</td>\n",
              "      <td>14</td>\n",
              "    </tr>\n",
              "    <tr>\n",
              "      <th>15</th>\n",
              "      <td>0.461294</td>\n",
              "      <td>0.880435</td>\n",
              "      <td>0.514537</td>\n",
              "      <td>0.739130</td>\n",
              "      <td>15</td>\n",
              "    </tr>\n",
              "    <tr>\n",
              "      <th>16</th>\n",
              "      <td>0.491999</td>\n",
              "      <td>0.771739</td>\n",
              "      <td>0.487075</td>\n",
              "      <td>0.739130</td>\n",
              "      <td>16</td>\n",
              "    </tr>\n",
              "    <tr>\n",
              "      <th>17</th>\n",
              "      <td>0.483846</td>\n",
              "      <td>0.793478</td>\n",
              "      <td>0.439649</td>\n",
              "      <td>0.913043</td>\n",
              "      <td>17</td>\n",
              "    </tr>\n",
              "  </tbody>\n",
              "</table>\n",
              "</div>"
            ],
            "text/plain": [
              "        loss  accuracy  val_loss  val_accuracy  epoch\n",
              "13  0.471367  0.826087  0.551299      0.695652     13\n",
              "14  0.457783  0.847826  0.454052      0.913043     14\n",
              "15  0.461294  0.880435  0.514537      0.739130     15\n",
              "16  0.491999  0.771739  0.487075      0.739130     16\n",
              "17  0.483846  0.793478  0.439649      0.913043     17"
            ]
          },
          "metadata": {
            "tags": []
          },
          "execution_count": 71
        }
      ]
    },
    {
      "cell_type": "code",
      "metadata": {
        "id": "JOSGVQWwG-iH"
      },
      "source": [
        "def plot_loss(history):\n",
        "  plt.plot(history.history['loss'], label='loss')\n",
        "  plt.plot(history.history['val_loss'], label='val_loss')\n",
        "  plt.ylim([0, 5])\n",
        "  plt.xlabel('Epoch')\n",
        "  plt.ylabel('error')\n",
        "  plt.legend()\n",
        "  plt.grid(True)"
      ],
      "execution_count": null,
      "outputs": []
    },
    {
      "cell_type": "code",
      "metadata": {
        "id": "XLDZhEGesW3e"
      },
      "source": [
        "def plot_accuracy(history):\n",
        "  plt.plot(history.history['accuracy'], label='accuracy')\n",
        "  plt.plot(history.history['val_accuracy'], label='val_accuracy')\n",
        "  plt.ylim([0, 1])\n",
        "  plt.xlabel('Epoch')\n",
        "  plt.ylabel('accuracy')\n",
        "  plt.legend()\n",
        "  plt.grid(True)"
      ],
      "execution_count": null,
      "outputs": []
    },
    {
      "cell_type": "code",
      "metadata": {
        "colab": {
          "base_uri": "https://localhost:8080/",
          "height": 283
        },
        "id": "UhJwFA05G-gU",
        "outputId": "9734e49c-7db5-4136-e16d-7dcecfa94ba0"
      },
      "source": [
        "plot_loss(history)"
      ],
      "execution_count": null,
      "outputs": [
        {
          "output_type": "display_data",
          "data": {
            "image/png": "[encoded data removed]",
            "text/plain": [
              "<Figure size 432x288 with 1 Axes>"
            ]
          },
          "metadata": {
            "tags": [],
            "needs_background": "light"
          }
        }
      ]
    },
    {
      "cell_type": "code",
      "metadata": {
        "colab": {
          "base_uri": "https://localhost:8080/",
          "height": 283
        },
        "id": "6QOEsV_QsnnJ",
        "outputId": "e522dc59-3c28-4bea-e567-276fa1688e26"
      },
      "source": [
        "plot_accuracy(history)"
      ],
      "execution_count": null,
      "outputs": [
        {
          "output_type": "display_data",
          "data": {
            "image/png": "[encoded data removed]",
            "text/plain": [
              "<Figure size 432x288 with 1 Axes>"
            ]
          },
          "metadata": {
            "tags": [],
            "needs_background": "light"
          }
        }
      ]
    },
    {
      "cell_type": "code",
      "metadata": {
        "id": "IL3iwhczG-az"
      },
      "source": [
        "# predict = model.predict(X)\n",
        "# accuracy_score(np.round(predict), y[:])"
      ],
      "execution_count": null,
      "outputs": []
    },
    {
      "cell_type": "markdown",
      "metadata": {
        "id": "Pf03HeNsRmjV"
      },
      "source": [
        "### split dataset to train validation parts"
      ]
    },
    {
      "cell_type": "code",
      "metadata": {
        "id": "M4DKp9YtnEin"
      },
      "source": [
        "# # split dataset to train and validation parts\n",
        "# X_train, X_val, y_train, y_val = train_test_split(X, y, test_size=0.25, random_state=42)"
      ],
      "execution_count": null,
      "outputs": []
    },
    {
      "cell_type": "code",
      "metadata": {
        "id": "4PpdT7FP10yC"
      },
      "source": [
        "num_folds = 4\n",
        "# Define per-fold score containers\n",
        "acc_per_fold = []\n",
        "loss_per_fold = []"
      ],
      "execution_count": null,
      "outputs": []
    },
    {
      "cell_type": "code",
      "metadata": {
        "id": "1I0eVgcg3Yls"
      },
      "source": [
        "from sklearn.model_selection import KFold"
      ],
      "execution_count": null,
      "outputs": []
    },
    {
      "cell_type": "code",
      "metadata": {
        "id": "TNMeqSNK4D8t"
      },
      "source": [
        "kf = KFold(n_splits=4, shuffle=True, random_state=42)"
      ],
      "execution_count": null,
      "outputs": []
    },
    {
      "cell_type": "code",
      "metadata": {
        "colab": {
          "base_uri": "https://localhost:8080/"
        },
        "id": "0XjuWqOl9DJZ",
        "outputId": "1572bcab-645a-4ff1-b186-07b9554ae680"
      },
      "source": [
        "kf.get_n_splits(X)"
      ],
      "execution_count": null,
      "outputs": [
        {
          "output_type": "execute_result",
          "data": {
            "text/plain": [
              "4"
            ]
          },
          "metadata": {
            "tags": []
          },
          "execution_count": 77
        }
      ]
    },
    {
      "cell_type": "code",
      "metadata": {
        "colab": {
          "base_uri": "https://localhost:8080/"
        },
        "id": "9ddSyq7Y9DFQ",
        "outputId": "847a118f-00c0-4f72-c869-3014f74ba240"
      },
      "source": [
        "print(kf)"
      ],
      "execution_count": null,
      "outputs": [
        {
          "output_type": "stream",
          "text": [
            "KFold(n_splits=4, random_state=42, shuffle=True)\n"
          ],
          "name": "stdout"
        }
      ]
    },
    {
      "cell_type": "code",
      "metadata": {
        "colab": {
          "base_uri": "https://localhost:8080/"
        },
        "id": "VaYmPqAB9DCc",
        "outputId": "a760438e-9325-4601-c718-143c899116f3"
      },
      "source": [
        "%%time\n",
        "score = np.array([])\n",
        "for train_index, val_index in kf.split(X):\n",
        "  # print(\"TRAIN:\", train_index, \"TEST:\", val_index)\n",
        "  X_train, X_val = X[train_index], X[val_index]\n",
        "  y_train, y_val = y[train_index], y[val_index]\n",
        "\n",
        "\n",
        "  input_shape = [X.shape[1],]\n",
        "  band_normalizer = preprocessing.Normalization(input_shape=input_shape)\n",
        "\n",
        "  model = tf.keras.Sequential([\n",
        "    band_normalizer,\n",
        "    layers.Dense(units=1, activation='sigmoid')\n",
        "  ])\n",
        "\n",
        "  model.compile(\n",
        "    optimizer=tf.optimizers.Adam(learning_rate=0.1),\n",
        "    loss='binary_crossentropy', metrics=['accuracy'])\n",
        "\n",
        "  callback = tf.keras.callbacks.EarlyStopping(monitor='loss', min_delta=1e-3, patience=3)\n",
        "\n",
        "  # %%time\n",
        "  history = model.fit(\n",
        "    X_train, y_train,\n",
        "    epochs=100,\n",
        "    # suppress logging\n",
        "    verbose=0,\n",
        "    # Calculate validation results on 25% of the training data\n",
        "    # validation_split = 0.25,\n",
        "    validation_data=(X_val, y_val), \n",
        "    callbacks=[callback]\n",
        "    )\n",
        "  \n",
        "  predict = model.predict(X_val)\n",
        "  acc = accuracy_score(np.round(predict), y_val)\n",
        "  score = np.append(score, acc)\n",
        "\n",
        "  # loss = history.history['loss']\n",
        "  # val_loss = history.history['val_loss']\n",
        "  # accuracy = history.history['accuracy']\n",
        "  # val_accuracy = history.history['val_accuracy']\n",
        "\n",
        "  hist = pd.DataFrame(history.history)\n",
        "\n",
        "  accuracy = hist.accuracy.iloc[-1]\n",
        "\n",
        "  # # Generate generalization metrics\n",
        "  # scores = model.evaluate(X[test], y[test], verbose=0)\n",
        "  # print(f'Score for fold {fold_no}: {model.metrics_names[0]} of {scores[0]}; {model.metrics_names[1]} of {scores[1]*100}%')\n",
        "  # acc_per_fold.append(scores[1] * 100)\n",
        "  # loss_per_fold.append(scores[0])\n",
        "\n",
        "\n",
        "\n",
        "  # # Increase fold number\n",
        "  # fold_no = fold_no + 1\n",
        "  print(acc)\n",
        "  # print(hist.accuracy)\n",
        "\n",
        "print(score)\n",
        "print(np.average(score))\n",
        "  "
      ],
      "execution_count": null,
      "outputs": [
        {
          "output_type": "stream",
          "text": [
            "WARNING:tensorflow:11 out of the last 11 calls to <function Model.make_predict_function.<locals>.predict_function at 0x7f5995e52560> triggered tf.function retracing. Tracing is expensive and the excessive number of tracings could be due to (1) creating @tf.function repeatedly in a loop, (2) passing tensors with different shapes, (3) passing Python objects instead of tensors. For (1), please define your @tf.function outside of the loop. For (2), @tf.function has experimental_relax_shapes=True option that relaxes argument shapes that can avoid unnecessary retracing. For (3), please refer to https://www.tensorflow.org/guide/function#controlling_retracing and https://www.tensorflow.org/api_docs/python/tf/function for  more details.\n",
            "0.6896551724137931\n",
            "WARNING:tensorflow:11 out of the last 11 calls to <function Model.make_predict_function.<locals>.predict_function at 0x7f5993c50290> triggered tf.function retracing. Tracing is expensive and the excessive number of tracings could be due to (1) creating @tf.function repeatedly in a loop, (2) passing tensors with different shapes, (3) passing Python objects instead of tensors. For (1), please define your @tf.function outside of the loop. For (2), @tf.function has experimental_relax_shapes=True option that relaxes argument shapes that can avoid unnecessary retracing. For (3), please refer to https://www.tensorflow.org/guide/function#controlling_retracing and https://www.tensorflow.org/api_docs/python/tf/function for  more details.\n",
            "0.8620689655172413\n",
            "WARNING:tensorflow:11 out of the last 11 calls to <function Model.make_predict_function.<locals>.predict_function at 0x7f597efa98c0> triggered tf.function retracing. Tracing is expensive and the excessive number of tracings could be due to (1) creating @tf.function repeatedly in a loop, (2) passing tensors with different shapes, (3) passing Python objects instead of tensors. For (1), please define your @tf.function outside of the loop. For (2), @tf.function has experimental_relax_shapes=True option that relaxes argument shapes that can avoid unnecessary retracing. For (3), please refer to https://www.tensorflow.org/guide/function#controlling_retracing and https://www.tensorflow.org/api_docs/python/tf/function for  more details.\n",
            "0.6206896551724138\n",
            "WARNING:tensorflow:11 out of the last 11 calls to <function Model.make_predict_function.<locals>.predict_function at 0x7f597b1633b0> triggered tf.function retracing. Tracing is expensive and the excessive number of tracings could be due to (1) creating @tf.function repeatedly in a loop, (2) passing tensors with different shapes, (3) passing Python objects instead of tensors. For (1), please define your @tf.function outside of the loop. For (2), @tf.function has experimental_relax_shapes=True option that relaxes argument shapes that can avoid unnecessary retracing. For (3), please refer to https://www.tensorflow.org/guide/function#controlling_retracing and https://www.tensorflow.org/api_docs/python/tf/function for  more details.\n",
            "0.7142857142857143\n",
            "[0.68965517 0.86206897 0.62068966 0.71428571]\n",
            "0.7216748768472907\n",
            "CPU times: user 11.9 s, sys: 292 ms, total: 12.2 s\n",
            "Wall time: 11.7 s\n"
          ],
          "name": "stdout"
        }
      ]
    },
    {
      "cell_type": "code",
      "metadata": {
        "id": "PwKbpT3XGtI_"
      },
      "source": [
        "kf = KFold(n_splits=5, shuffle=True, random_state=42)"
      ],
      "execution_count": null,
      "outputs": []
    },
    {
      "cell_type": "code",
      "metadata": {
        "colab": {
          "base_uri": "https://localhost:8080/"
        },
        "id": "-jtB5VYFGtEv",
        "outputId": "1e74b404-edc7-4eaf-937c-0e63714ba79d"
      },
      "source": [
        "score = np.array([])\n",
        "for train_index, val_index in kf.split(X):\n",
        "  # print(\"TRAIN:\", train_index, \"TEST:\", val_index)\n",
        "  X_train, X_val = X[train_index], X[val_index]\n",
        "  y_train, y_val = y[train_index], y[val_index]\n",
        "\n",
        "  clf = LogisticRegression(penalty='none' ,random_state=0).fit(X_train, y_train)\n",
        "  predict = clf.predict(X_val)\n",
        "  acc = accuracy_score(predict, y_val)\n",
        "  score = np.append(score, acc)\n",
        "  print(acc)"
      ],
      "execution_count": null,
      "outputs": [
        {
          "output_type": "stream",
          "text": [
            "1.0\n",
            "0.9310344827586207\n",
            "0.9310344827586207\n",
            "0.8571428571428571\n"
          ],
          "name": "stdout"
        }
      ]
    },
    {
      "cell_type": "code",
      "metadata": {
        "colab": {
          "base_uri": "https://localhost:8080/"
        },
        "id": "KmeZIRSn9K_9",
        "outputId": "a065b53a-181c-4e8f-9b06-d5add5d3d9b7"
      },
      "source": [
        "np.average(score)"
      ],
      "execution_count": null,
      "outputs": [
        {
          "output_type": "execute_result",
          "data": {
            "text/plain": [
              "0.9298029556650246"
            ]
          },
          "metadata": {
            "tags": []
          },
          "execution_count": 81
        }
      ]
    },
    {
      "cell_type": "code",
      "metadata": {
        "id": "jAAyWG4g9K9E"
      },
      "source": [
        ""
      ],
      "execution_count": null,
      "outputs": []
    },
    {
      "cell_type": "code",
      "metadata": {
        "id": "DLFTMKCX9CzB"
      },
      "source": [
        ""
      ],
      "execution_count": null,
      "outputs": []
    },
    {
      "cell_type": "code",
      "metadata": {
        "id": "KmW2kg3f10fe"
      },
      "source": [
        ""
      ],
      "execution_count": null,
      "outputs": []
    },
    {
      "cell_type": "code",
      "metadata": {
        "id": "cFnyjWMn10dN"
      },
      "source": [
        ""
      ],
      "execution_count": null,
      "outputs": []
    },
    {
      "cell_type": "code",
      "metadata": {
        "id": "nGenb4a110Z1"
      },
      "source": [
        ""
      ],
      "execution_count": null,
      "outputs": []
    },
    {
      "cell_type": "code",
      "metadata": {
        "id": "L8Ci9OZv10Wu"
      },
      "source": [
        ""
      ],
      "execution_count": null,
      "outputs": []
    },
    {
      "cell_type": "markdown",
      "metadata": {
        "id": "Jn-8yNuWQzem"
      },
      "source": [
        "### Logistic Regression (sklearn)"
      ]
    },
    {
      "cell_type": "code",
      "metadata": {
        "id": "ZYrb9Hv_m8e0"
      },
      "source": [
        "clf = LogisticRegression(penalty='none' ,random_state=42).fit(X_train, y_train)"
      ],
      "execution_count": null,
      "outputs": []
    },
    {
      "cell_type": "code",
      "metadata": {
        "id": "azRvkfn1m8Pw"
      },
      "source": [
        "predict = clf.predict(X_val)"
      ],
      "execution_count": null,
      "outputs": []
    },
    {
      "cell_type": "code",
      "metadata": {
        "id": "o97aEqcem8Lf",
        "colab": {
          "base_uri": "https://localhost:8080/"
        },
        "outputId": "2bb0e339-f003-4617-c6e8-4bf0b73a26c6"
      },
      "source": [
        "accuracy_score(predict, y_val)"
      ],
      "execution_count": null,
      "outputs": [
        {
          "output_type": "execute_result",
          "data": {
            "text/plain": [
              "0.782608695652174"
            ]
          },
          "metadata": {
            "tags": []
          },
          "execution_count": 62
        }
      ]
    },
    {
      "cell_type": "code",
      "metadata": {
        "colab": {
          "base_uri": "https://localhost:8080/"
        },
        "id": "xveKK_ZoAn_f",
        "outputId": "64f4e487-7328-44c5-8290-14062250020b"
      },
      "source": [
        "print(classification_report(predict, y_val))"
      ],
      "execution_count": null,
      "outputs": [
        {
          "output_type": "stream",
          "text": [
            "              precision    recall  f1-score   support\n",
            "\n",
            "           0       0.64      0.88      0.74         8\n",
            "           1       0.92      0.73      0.81        15\n",
            "\n",
            "    accuracy                           0.78        23\n",
            "   macro avg       0.78      0.80      0.78        23\n",
            "weighted avg       0.82      0.78      0.79        23\n",
            "\n"
          ],
          "name": "stdout"
        }
      ]
    },
    {
      "cell_type": "code",
      "metadata": {
        "colab": {
          "base_uri": "https://localhost:8080/",
          "height": 279
        },
        "id": "abCk7YURCCsF",
        "outputId": "f89c5588-7d0d-494c-9b24-efa34773ce5d"
      },
      "source": [
        "disp = plot_precision_recall_curve(clf, X_val, y_val)"
      ],
      "execution_count": null,
      "outputs": [
        {
          "output_type": "display_data",
          "data": {
            "image/png": "[encoded data removed]",
            "text/plain": [
              "<Figure size 432x288 with 1 Axes>"
            ]
          },
          "metadata": {
            "tags": [],
            "needs_background": "light"
          }
        }
      ]
    },
    {
      "cell_type": "code",
      "metadata": {
        "colab": {
          "base_uri": "https://localhost:8080/"
        },
        "id": "rOab7MqvSoIh",
        "outputId": "c956654c-69cb-4a5c-857c-10068c7afd4c"
      },
      "source": [
        "scores = cross_val_score(clf, X, y, cv=5)\n",
        "scores"
      ],
      "execution_count": null,
      "outputs": [
        {
          "output_type": "execute_result",
          "data": {
            "text/plain": [
              "array([1.        , 1.        , 0.86956522, 0.91304348, 0.91304348])"
            ]
          },
          "metadata": {
            "tags": []
          },
          "execution_count": 65
        }
      ]
    },
    {
      "cell_type": "code",
      "metadata": {
        "colab": {
          "base_uri": "https://localhost:8080/"
        },
        "id": "DCu47-m7TaJE",
        "outputId": "60f28b15-b10f-4cc5-8302-d7188370e0cb"
      },
      "source": [
        "np.average(scores)"
      ],
      "execution_count": null,
      "outputs": [
        {
          "output_type": "execute_result",
          "data": {
            "text/plain": [
              "0.9391304347826086"
            ]
          },
          "metadata": {
            "tags": []
          },
          "execution_count": 66
        }
      ]
    },
    {
      "cell_type": "markdown",
      "metadata": {
        "id": "jXGGuM6HYvD4"
      },
      "source": [
        "### Random Forest (sklearn)"
      ]
    },
    {
      "cell_type": "code",
      "metadata": {
        "id": "HsDGTil5PY-R"
      },
      "source": [
        "clf = RandomForestClassifier(max_depth=2, random_state=0)"
      ],
      "execution_count": null,
      "outputs": []
    },
    {
      "cell_type": "code",
      "metadata": {
        "id": "VixZ-eEmPY7Z"
      },
      "source": [
        "clf = clf.fit(X_train, y_train)"
      ],
      "execution_count": null,
      "outputs": []
    },
    {
      "cell_type": "code",
      "metadata": {
        "id": "ElHWsLmRPY5X"
      },
      "source": [
        "predict = clf.predict(X_val)"
      ],
      "execution_count": null,
      "outputs": []
    },
    {
      "cell_type": "code",
      "metadata": {
        "colab": {
          "base_uri": "https://localhost:8080/"
        },
        "id": "T5ODZfl8PY3F",
        "outputId": "674d9732-0076-4043-b82e-955e23288df0"
      },
      "source": [
        "print(classification_report(y_val, predict, target_names=['Pos', 'Neg']))"
      ],
      "execution_count": null,
      "outputs": [
        {
          "output_type": "stream",
          "text": [
            "              precision    recall  f1-score   support\n",
            "\n",
            "         Pos       0.83      1.00      0.91        15\n",
            "         Neg       1.00      0.79      0.88        14\n",
            "\n",
            "    accuracy                           0.90        29\n",
            "   macro avg       0.92      0.89      0.89        29\n",
            "weighted avg       0.91      0.90      0.90        29\n",
            "\n"
          ],
          "name": "stdout"
        }
      ]
    },
    {
      "cell_type": "code",
      "metadata": {
        "colab": {
          "base_uri": "https://localhost:8080/",
          "height": 279
        },
        "id": "YCQUCaacPYzr",
        "outputId": "4ffe332c-e51c-4cfd-b578-7e24267e7bc7"
      },
      "source": [
        "disp = plot_precision_recall_curve(clf, X_val, y_val)"
      ],
      "execution_count": null,
      "outputs": [
        {
          "output_type": "display_data",
          "data": {
            "image/png": "[encoded data removed]",
            "text/plain": [
              "<Figure size 432x288 with 1 Axes>"
            ]
          },
          "metadata": {
            "tags": [],
            "needs_background": "light"
          }
        }
      ]
    },
    {
      "cell_type": "code",
      "metadata": {
        "colab": {
          "base_uri": "https://localhost:8080/"
        },
        "id": "5QA9aTXBURCR",
        "outputId": "5a63205f-3f96-4565-bdd8-302b4f072cee"
      },
      "source": [
        "scores = cross_val_score(clf, X, y, cv=5)\n",
        "scores"
      ],
      "execution_count": null,
      "outputs": [
        {
          "output_type": "execute_result",
          "data": {
            "text/plain": [
              "array([0.86956522, 0.86956522, 0.65217391, 0.91304348, 0.86956522])"
            ]
          },
          "metadata": {
            "tags": []
          },
          "execution_count": 21
        }
      ]
    },
    {
      "cell_type": "code",
      "metadata": {
        "colab": {
          "base_uri": "https://localhost:8080/"
        },
        "id": "xs2lDl4tUSnZ",
        "outputId": "e353bfd4-4582-42d7-c8ee-c23c3c022724"
      },
      "source": [
        "np.average(scores)"
      ],
      "execution_count": null,
      "outputs": [
        {
          "output_type": "execute_result",
          "data": {
            "text/plain": [
              "0.8347826086956521"
            ]
          },
          "metadata": {
            "tags": []
          },
          "execution_count": 23
        }
      ]
    },
    {
      "cell_type": "markdown",
      "metadata": {
        "id": "oPF-Wt5DY7el"
      },
      "source": [
        "### LDA (sklearn)"
      ]
    },
    {
      "cell_type": "code",
      "metadata": {
        "id": "0jyyY5npPYsg"
      },
      "source": [
        "lda = LinearDiscriminantAnalysis()"
      ],
      "execution_count": null,
      "outputs": []
    },
    {
      "cell_type": "code",
      "metadata": {
        "id": "rhdpW7hXPYqc"
      },
      "source": [
        "clf = lda.fit(X_train, y_train)"
      ],
      "execution_count": null,
      "outputs": []
    },
    {
      "cell_type": "code",
      "metadata": {
        "id": "fr0IdtBkPYn3"
      },
      "source": [
        "predict = clf.predict(X_val)"
      ],
      "execution_count": null,
      "outputs": []
    },
    {
      "cell_type": "code",
      "metadata": {
        "colab": {
          "base_uri": "https://localhost:8080/"
        },
        "id": "kaMTr_CiPYk_",
        "outputId": "f9c4c144-0b6f-4c4c-de1b-a2d8613fedec"
      },
      "source": [
        "clf.explained_variance_ratio_"
      ],
      "execution_count": null,
      "outputs": [
        {
          "output_type": "execute_result",
          "data": {
            "text/plain": [
              "array([1.])"
            ]
          },
          "metadata": {
            "tags": []
          },
          "execution_count": 27
        }
      ]
    },
    {
      "cell_type": "code",
      "metadata": {
        "id": "qhcAPcvpAn5C",
        "colab": {
          "base_uri": "https://localhost:8080/"
        },
        "outputId": "0f667ae1-4251-49d1-bb37-cca9e871399d"
      },
      "source": [
        "accuracy_score(y_val, predict)"
      ],
      "execution_count": null,
      "outputs": [
        {
          "output_type": "execute_result",
          "data": {
            "text/plain": [
              "1.0"
            ]
          },
          "metadata": {
            "tags": []
          },
          "execution_count": 28
        }
      ]
    },
    {
      "cell_type": "code",
      "metadata": {
        "id": "dcwtJFIdHO_F",
        "colab": {
          "base_uri": "https://localhost:8080/"
        },
        "outputId": "4710dd74-82f5-4dfa-be36-52231d422b78"
      },
      "source": [
        "print(classification_report(y_val, predict, target_names=['Pos', 'Neg']))"
      ],
      "execution_count": null,
      "outputs": [
        {
          "output_type": "stream",
          "text": [
            "              precision    recall  f1-score   support\n",
            "\n",
            "         Pos       1.00      1.00      1.00        15\n",
            "         Neg       1.00      1.00      1.00        14\n",
            "\n",
            "    accuracy                           1.00        29\n",
            "   macro avg       1.00      1.00      1.00        29\n",
            "weighted avg       1.00      1.00      1.00        29\n",
            "\n"
          ],
          "name": "stdout"
        }
      ]
    },
    {
      "cell_type": "code",
      "metadata": {
        "colab": {
          "base_uri": "https://localhost:8080/",
          "height": 279
        },
        "id": "MciufmdyP9fn",
        "outputId": "e3fc3223-eec9-4fcf-bc55-944cb4d8f572"
      },
      "source": [
        "disp = plot_precision_recall_curve(clf, X_val, y_val)"
      ],
      "execution_count": null,
      "outputs": [
        {
          "output_type": "display_data",
          "data": {
            "image/png": "[encoded data removed]",
            "text/plain": [
              "<Figure size 432x288 with 1 Axes>"
            ]
          },
          "metadata": {
            "tags": [],
            "needs_background": "light"
          }
        }
      ]
    },
    {
      "cell_type": "code",
      "metadata": {
        "colab": {
          "base_uri": "https://localhost:8080/"
        },
        "id": "fGMcnyy1Ufb7",
        "outputId": "236f9a39-99fb-4abb-b6d0-08bf6c9b13c4"
      },
      "source": [
        "scores = cross_val_score(clf, X, y, cv=5)\n",
        "scores"
      ],
      "execution_count": null,
      "outputs": [
        {
          "output_type": "execute_result",
          "data": {
            "text/plain": [
              "array([1., 1., 1., 1., 1.])"
            ]
          },
          "metadata": {
            "tags": []
          },
          "execution_count": 31
        }
      ]
    },
    {
      "cell_type": "code",
      "metadata": {
        "colab": {
          "base_uri": "https://localhost:8080/"
        },
        "id": "E0zToA8TUi1M",
        "outputId": "8cc0a836-a983-450b-831e-9d6372852548"
      },
      "source": [
        "np.average(scores)"
      ],
      "execution_count": null,
      "outputs": [
        {
          "output_type": "execute_result",
          "data": {
            "text/plain": [
              "1.0"
            ]
          },
          "metadata": {
            "tags": []
          },
          "execution_count": 32
        }
      ]
    },
    {
      "cell_type": "code",
      "metadata": {
        "id": "mo6f-Oc-P9am"
      },
      "source": [
        "colors = ['royalblue','red','deeppink', 'maroon', 'mediumorchid', 'tan', 'forestgreen', 'olive', 'goldenrod', 'lightcyan', 'navy']\n",
        "vectorizer = np.vectorize(lambda x: colors[x % len(colors)])"
      ],
      "execution_count": null,
      "outputs": []
    },
    {
      "cell_type": "code",
      "metadata": {
        "id": "7OD-IlOoQKCZ"
      },
      "source": [
        "clf = clf.transform(X_train)"
      ],
      "execution_count": null,
      "outputs": []
    },
    {
      "cell_type": "code",
      "metadata": {
        "colab": {
          "base_uri": "https://localhost:8080/",
          "height": 283
        },
        "id": "IqRbBkY6QJ-F",
        "outputId": "21879ebd-a060-4a74-c4ef-80f57916e4b3"
      },
      "source": [
        "plt.scatter(clf[:,0], y_train, c=vectorizer(y_train))"
      ],
      "execution_count": null,
      "outputs": [
        {
          "output_type": "execute_result",
          "data": {
            "text/plain": [
              "<matplotlib.collections.PathCollection at 0x7fe955df18d0>"
            ]
          },
          "metadata": {
            "tags": []
          },
          "execution_count": 35
        },
        {
          "output_type": "display_data",
          "data": {
            "image/png": "[encoded data removed]",
            "text/plain": [
              "<Figure size 432x288 with 1 Axes>"
            ]
          },
          "metadata": {
            "tags": [],
            "needs_background": "light"
          }
        }
      ]
    },
    {
      "cell_type": "markdown",
      "metadata": {
        "id": "JmVGzIw4aL6X"
      },
      "source": [
        "### SVM (sklearn)"
      ]
    },
    {
      "cell_type": "code",
      "metadata": {
        "id": "SN3OPf_4aHJf"
      },
      "source": [
        "clf = SVC(shrinking=False)"
      ],
      "execution_count": null,
      "outputs": []
    },
    {
      "cell_type": "code",
      "metadata": {
        "id": "fvmCSCekaHDc"
      },
      "source": [
        "clf = clf.fit(X_train, y_train)"
      ],
      "execution_count": null,
      "outputs": []
    },
    {
      "cell_type": "code",
      "metadata": {
        "id": "o8zejLpZaHAR"
      },
      "source": [
        "predict = clf.predict(X_val)"
      ],
      "execution_count": null,
      "outputs": []
    },
    {
      "cell_type": "code",
      "metadata": {
        "colab": {
          "base_uri": "https://localhost:8080/"
        },
        "id": "IMPO9sZUQJ78",
        "outputId": "941326ca-b65c-48a9-876b-f7628a5a73a4"
      },
      "source": [
        "accuracy_score(y_val, predict)"
      ],
      "execution_count": null,
      "outputs": [
        {
          "output_type": "execute_result",
          "data": {
            "text/plain": [
              "0.8275862068965517"
            ]
          },
          "metadata": {
            "tags": []
          },
          "execution_count": 39
        }
      ]
    },
    {
      "cell_type": "code",
      "metadata": {
        "colab": {
          "base_uri": "https://localhost:8080/"
        },
        "id": "JlTnzbrnQJvB",
        "outputId": "1a3c6ab9-8191-4442-a7fe-ac2ccf5b3c4e"
      },
      "source": [
        "print(classification_report(y_val, predict, target_names=['Pos', 'Neg']))"
      ],
      "execution_count": null,
      "outputs": [
        {
          "output_type": "stream",
          "text": [
            "              precision    recall  f1-score   support\n",
            "\n",
            "         Pos       0.75      1.00      0.86        15\n",
            "         Neg       1.00      0.64      0.78        14\n",
            "\n",
            "    accuracy                           0.83        29\n",
            "   macro avg       0.88      0.82      0.82        29\n",
            "weighted avg       0.87      0.83      0.82        29\n",
            "\n"
          ],
          "name": "stdout"
        }
      ]
    },
    {
      "cell_type": "code",
      "metadata": {
        "id": "IxBTOHqPpW9a",
        "colab": {
          "base_uri": "https://localhost:8080/",
          "height": 279
        },
        "outputId": "c909f9bb-1cf1-4ead-9d13-7ade66f3d910"
      },
      "source": [
        "disp = plot_precision_recall_curve(clf, X_val, y_val)"
      ],
      "execution_count": null,
      "outputs": [
        {
          "output_type": "display_data",
          "data": {
            "image/png": "[encoded data removed]",
            "text/plain": [
              "<Figure size 432x288 with 1 Axes>"
            ]
          },
          "metadata": {
            "tags": [],
            "needs_background": "light"
          }
        }
      ]
    },
    {
      "cell_type": "code",
      "metadata": {
        "id": "bV9r5m7wpW6c",
        "colab": {
          "base_uri": "https://localhost:8080/"
        },
        "outputId": "5d8e7800-09fc-4db0-85c0-714970d3a46c"
      },
      "source": [
        "scores = cross_val_score(clf, X, y, cv=5)\n",
        "scores"
      ],
      "execution_count": null,
      "outputs": [
        {
          "output_type": "execute_result",
          "data": {
            "text/plain": [
              "array([0.86956522, 0.86956522, 0.69565217, 0.91304348, 0.73913043])"
            ]
          },
          "metadata": {
            "tags": []
          },
          "execution_count": 42
        }
      ]
    },
    {
      "cell_type": "code",
      "metadata": {
        "id": "GIdYqe6bpW35",
        "colab": {
          "base_uri": "https://localhost:8080/"
        },
        "outputId": "705f131e-4d22-4361-f145-076c4da8823a"
      },
      "source": [
        "np.average(scores)"
      ],
      "execution_count": null,
      "outputs": [
        {
          "output_type": "execute_result",
          "data": {
            "text/plain": [
              "0.8173913043478261"
            ]
          },
          "metadata": {
            "tags": []
          },
          "execution_count": 43
        }
      ]
    },
    {
      "cell_type": "code",
      "metadata": {
        "id": "xlaZGIkWi_zO"
      },
      "source": [
        ""
      ],
      "execution_count": null,
      "outputs": []
    },
    {
      "cell_type": "markdown",
      "metadata": {
        "id": "FY7lCclSPvQv"
      },
      "source": [
        "### restart runtime and clear ram"
      ]
    },
    {
      "cell_type": "code",
      "metadata": {
        "id": "VrwWrDydi_lc"
      },
      "source": [
        "# restart runtime and clear ram\n",
        "import os, signal\n",
        "os.kill(os.getpid(), signal.SIGKILL)"
      ],
      "execution_count": null,
      "outputs": []
    }
  ]
}