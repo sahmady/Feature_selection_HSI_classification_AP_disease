{
  "nbformat": 4,
  "nbformat_minor": 0,
  "metadata": {
    "colab": {
      "name": "Recursice_logistic_reg_top40_ttest_normalized_segmented.ipynb",
      "provenance": [],
      "collapsed_sections": [],
      "machine_shape": "hm"
    },
    "kernelspec": {
      "display_name": "Python 3",
      "name": "python3"
    }
  },
  "cells": [
    {
      "cell_type": "markdown",
      "metadata": {
        "id": "Zo-a97e4Nu_V"
      },
      "source": [
        "### increase ram size if required"
      ]
    },
    {
      "cell_type": "code",
      "metadata": {
        "id": "87T5BetZQYQv"
      },
      "source": [
        "i = []\n",
        "while True:\n",
        "  i.append(i)"
      ],
      "execution_count": null,
      "outputs": []
    },
    {
      "cell_type": "markdown",
      "metadata": {
        "id": "j54GcKUzOyWh"
      },
      "source": [
        "### mount google drive"
      ]
    },
    {
      "cell_type": "code",
      "metadata": {
        "colab": {
          "base_uri": "https://localhost:8080/"
        },
        "id": "7CKdxEViNnEs",
        "outputId": "e8c39fb5-9758-4720-bc07-0f010ec25f97"
      },
      "source": [
        "from google.colab import drive\n",
        "drive.mount('/content/drive')"
      ],
      "execution_count": null,
      "outputs": [
        {
          "output_type": "stream",
          "text": [
            "Mounted at /content/drive\n"
          ],
          "name": "stdout"
        }
      ]
    },
    {
      "cell_type": "code",
      "metadata": {
        "colab": {
          "base_uri": "https://localhost:8080/"
        },
        "id": "De9k_j9JNnBq",
        "outputId": "25cd0a28-6d72-4141-9288-fb28c2793970"
      },
      "source": [
        "import cv2\n",
        "import numpy as np\n",
        "import matplotlib.pyplot as plt\n",
        "import seaborn as sns\n",
        "# import spectral.io.envi as envi\n",
        "import pandas as pd\n",
        "from sklearn.metrics import confusion_matrix, accuracy_score, recall_score, precision_score\n",
        "from sklearn.metrics import precision_recall_curve, classification_report, plot_precision_recall_curve\n",
        "from sklearn.model_selection import train_test_split\n",
        "from sklearn.linear_model import LogisticRegressionCV\n",
        "from sklearn.linear_model import LogisticRegression\n",
        "from sklearn.linear_model import SGDClassifier\n",
        "from sklearn.preprocessing import StandardScaler\n",
        "from sklearn.pipeline import make_pipeline\n",
        "from sklearn.naive_bayes import GaussianNB\n",
        "from sklearn.svm import SVC\n",
        "# from sklearn.datasets import load_digits\n",
        "from sklearn.model_selection import learning_curve\n",
        "from sklearn.model_selection import ShuffleSplit\n",
        "from sklearn.model_selection import KFold\n",
        "\n",
        "# from yellowbrick.model_selection import RFECV\n",
        "\n",
        "import tensorflow as tf\n",
        "from tensorflow import keras\n",
        "from tensorflow.keras import layers\n",
        "from tensorflow.keras.layers.experimental import preprocessing\n",
        "from tensorflow.keras.callbacks import EarlyStopping\n",
        "from keras.models import Sequential\n",
        "from keras.layers import Dense\n",
        "\n",
        "print(tf.__version__)"
      ],
      "execution_count": null,
      "outputs": [
        {
          "output_type": "stream",
          "text": [
            "2.4.1\n"
          ],
          "name": "stdout"
        }
      ]
    },
    {
      "cell_type": "markdown",
      "metadata": {
        "id": "wIa5Kx_Vuog8"
      },
      "source": [
        "### get list of top 40 features based on t-test"
      ]
    },
    {
      "cell_type": "code",
      "metadata": {
        "id": "VBd_fgt_u_dP"
      },
      "source": [
        "t_statistic_array = np.abs(np.genfromtxt(\"/content/drive/MyDrive/Thesis/files/no_background/t_statistic_array.csv\", delimiter=','))\n",
        "ttest_df = pd.DataFrame(data=t_statistic_array, columns=['ttest_val'])\n",
        "ttest_df.ttest_val = np.abs(ttest_df.ttest_val.values)\n",
        "ttest_df.insert(loc=0, column='band_no', value=np.arange(186))\n",
        "ttest_df.band_no = ttest_df.band_no + 1"
      ],
      "execution_count": null,
      "outputs": []
    },
    {
      "cell_type": "code",
      "metadata": {
        "colab": {
          "base_uri": "https://localhost:8080/",
          "height": 350
        },
        "id": "mRlvEEqS04Nb",
        "outputId": "72a406d0-e2ed-4798-9faf-b6059646c0c4"
      },
      "source": [
        "plt.figure(figsize=(17, 5))\n",
        "plt.bar(ttest_df.band_no.values, ttest_df.ttest_val.values)\n",
        "plt.xlabel('Channel Number')\n",
        "plt.ylabel('ttest_values')\n",
        "plt.title('t_test chart')\n",
        "# plt.savefig('/content/drive/MyDrive/Thesis/images/normalized/no_background/LR/' + 'ttest_normalized' + '.png')\n",
        "plt.show() "
      ],
      "execution_count": null,
      "outputs": [
        {
          "output_type": "display_data",
          "data": {
            "image/png": "[encoded data removed]",
            "text/plain": [
              "<Figure size 1224x360 with 1 Axes>"
            ]
          },
          "metadata": {
            "tags": [],
            "needs_background": "light"
          }
        }
      ]
    },
    {
      "cell_type": "code",
      "metadata": {
        "id": "2MrVurQN04FH"
      },
      "source": [
        "sorted_ttest_df = ttest_df.sort_values(ascending=False, by='ttest_val')"
      ],
      "execution_count": null,
      "outputs": []
    },
    {
      "cell_type": "code",
      "metadata": {
        "id": "LfJU9waa3n-P"
      },
      "source": [
        "top_selected = sorted_ttest_df.iloc[:182,:]"
      ],
      "execution_count": null,
      "outputs": []
    },
    {
      "cell_type": "code",
      "metadata": {
        "colab": {
          "base_uri": "https://localhost:8080/",
          "height": 350
        },
        "id": "QyQgLZ-94N69",
        "outputId": "e6f29fe1-97c5-44c9-d85f-ad99a4008e40"
      },
      "source": [
        "plt.figure(figsize=(17, 5))\n",
        "plt.bar(ttest_df.band_no.values, ttest_df.ttest_val.values, label='less_important_channels_based_on_ttest')\n",
        "plt.bar(top_selected.band_no.values, top_selected.ttest_val.values, color='cyan', label='top40_channels_based_on_ttest')\n",
        "plt.xlabel('Channel Number')\n",
        "plt.ylabel('ttest_values')\n",
        "plt.title('t_test chart')\n",
        "plt.legend(loc='upper right')\n",
        "# plt.savefig('/content/drive/MyDrive/Thesis/images/normalized/no_background/LR/' + 'top40_ttest_normalized_no_background' + '.png')\n",
        "plt.show() "
      ],
      "execution_count": null,
      "outputs": [
        {
          "output_type": "display_data",
          "data": {
            "image/png": "[encoded data removed]",
            "text/plain": [
              "<Figure size 1224x360 with 1 Axes>"
            ]
          },
          "metadata": {
            "tags": [],
            "needs_background": "light"
          }
        }
      ]
    },
    {
      "cell_type": "markdown",
      "metadata": {
        "id": "yKi4bc7S5jU6"
      },
      "source": [
        "### load selected channels for training"
      ]
    },
    {
      "cell_type": "code",
      "metadata": {
        "id": "nO9IltV161MN"
      },
      "source": [
        "bands_list = top_selected.band_no.values"
      ],
      "execution_count": null,
      "outputs": []
    },
    {
      "cell_type": "code",
      "metadata": {
        "colab": {
          "base_uri": "https://localhost:8080/"
        },
        "id": "Ra2FdKN19DF2",
        "outputId": "dea8f9ab-9220-4d4a-8d53-bd8ff526db81"
      },
      "source": [
        "bands_list"
      ],
      "execution_count": null,
      "outputs": [
        {
          "output_type": "execute_result",
          "data": {
            "text/plain": [
              "array([ 44,  45,  46,  47,  42,  43,  48,  49,  41,  40,   6,  10,  11,\n",
              "         9,  39,   8,  50,  13,   4,  14, 167,  12,   7, 119,   3,   5,\n",
              "       124, 125, 117,  51, 110, 115,  15, 118, 114, 121, 113, 170,   2,\n",
              "       176, 149, 173, 111,  38, 126, 116, 161, 146, 144, 130,  16,   1,\n",
              "       123, 164, 128, 150, 147, 132, 120,  19, 112, 153, 174,  18, 154,\n",
              "       133,  17, 177, 135, 143, 127, 172, 183, 169, 109, 141, 156, 134,\n",
              "       140, 131, 160, 138, 179, 122, 178, 137, 152, 148, 158,  52, 136,\n",
              "       155,  20, 139, 151, 162, 171, 142, 175,  37, 129,  22, 165,  21,\n",
              "        23, 180, 168, 145, 108, 163, 157, 166, 107,  53,  36, 106,  24,\n",
              "       159, 185, 184, 181,  25,  26,  35, 186,  27,  54, 182,  34,  28,\n",
              "        33,  32,  29,  30,  31, 105,  55, 104,  56,  57, 103,  58,  59,\n",
              "        60, 102,  61,  62,  63,  64,  65,  79,  78, 101,  77,  80,  83,\n",
              "        66,  85,  84,  81,  82,  86,  87,  76,  67,  88,  68,  75,  69,\n",
              "        70, 100,  74,  89,  71,  72,  73,  94,  95,  93,  99,  90,  92])"
            ]
          },
          "metadata": {
            "tags": []
          },
          "execution_count": 9
        }
      ]
    },
    {
      "cell_type": "code",
      "metadata": {
        "id": "myn0BZ2t9d1t"
      },
      "source": [
        "# %%time\n",
        "# directory = '/content/drive/MyDrive/Thesis/segmented_bands/'\n",
        "# num_of_folds = 5\n",
        "# kf = KFold(n_splits=num_of_folds, shuffle=True, random_state=42)\n",
        "\n",
        "# X = np.array(np.load(directory + 'band_' + str(bands_list[0]) + '.npy').reshape(-1, 1), dtype='float32')\n",
        "# y = np.array(np.load(directory + 'label.npy'), dtype='int')\n",
        "\n",
        "# train_scores_mean_arr = np.array([])\n",
        "# train_scores_std_arr = np.array([])\n",
        "# val_scores_mean_arr = np.array([])\n",
        "# val_scores_std_arr = np.array([])\n",
        "\n",
        "\n",
        "# train_scores = np.array([])\n",
        "# val_scores = np.array([])\n",
        "\n",
        "# for train_index, val_index in kf.split(X):\n",
        "#   # print(\"TRAIN:\", train_index, \"TEST:\", val_index)\n",
        "#   X_train, X_val = X[train_index], X[val_index]\n",
        "#   y_train, y_val = y[train_index], y[val_index]\n",
        "\n",
        "#   # clf = LogisticRegression(penalty='none', max_iter=500).fit(X_train, y_train)\n",
        "#   clf = make_pipeline(StandardScaler(), LogisticRegression(penalty='none', max_iter=500))\n",
        "#   clf.fit(X_train, y_train)\n",
        "\n",
        "#   train_score = clf.score(X_train, y_train)\n",
        "#   val_score = clf.score(X_val, y_val)\n",
        "\n",
        "#   train_scores = np.append(train_scores, train_score)\n",
        "#   val_scores = np.append(val_scores, val_score)\n",
        "\n",
        "# train_scores_mean = np.mean(train_scores)\n",
        "# train_scores_std = np.std(train_scores)\n",
        "# val_scores_mean = np.mean(val_scores)\n",
        "# val_scores_std = np.std(val_scores)\n",
        "\n",
        "# train_scores_mean_arr = np.append(train_scores_mean_arr, train_scores_mean)\n",
        "# train_scores_std_arr = np.append(train_scores_std_arr, train_scores_std)\n",
        "# val_scores_mean_arr = np.append(val_scores_mean_arr, val_scores_mean)\n",
        "# val_scores_std_arr = np.append(val_scores_std_arr, val_scores_std)\n",
        "\n",
        "# for i in range(1, len(bands_list)):\n",
        "#   # concatenate features one by one\n",
        "#   X = np.concatenate((X, \n",
        "#                       np.array(np.load(directory + 'band_' + str(bands_list[i]) + '.npy').reshape(-1, 1), \n",
        "#                       dtype='float32')), axis=1)\n",
        "\n",
        "#   # instantiate cross_validation instance\n",
        "#   kf = KFold(n_splits=num_of_folds, shuffle=True, random_state=42)\n",
        "\n",
        "#   train_scores = np.array([])\n",
        "#   val_scores = np.array([])\n",
        "\n",
        "#   for train_index, val_index in kf.split(X):\n",
        "#     # print(\"TRAIN:\", train_index, \"TEST:\", val_index)\n",
        "#     X_train, X_val = X[train_index], X[val_index]\n",
        "#     y_train, y_val = y[train_index], y[val_index]\n",
        "\n",
        "#     # clf = LogisticRegression(penalty='none', max_iter=500).fit(X_train, y_train)\n",
        "#     clf = make_pipeline(StandardScaler(), LogisticRegression(penalty='none', max_iter=500))\n",
        "#     clf.fit(X_train, y_train)\n",
        "\n",
        "#     train_score = clf.score(X_train, y_train)\n",
        "#     val_score = clf.score(X_val, y_val)\n",
        "\n",
        "#     train_scores = np.append(train_scores, train_score)\n",
        "#     val_scores = np.append(val_scores, val_score)\n",
        "\n",
        "#   train_scores_mean = np.mean(train_scores)\n",
        "#   train_scores_std = np.std(train_scores)\n",
        "#   val_scores_mean = np.mean(val_scores)\n",
        "#   val_scores_std = np.std(val_scores)\n",
        "\n",
        "#   train_scores_mean_arr = np.append(train_scores_mean_arr, train_scores_mean)\n",
        "#   train_scores_std_arr = np.append(train_scores_std_arr, train_scores_std)\n",
        "#   val_scores_mean_arr = np.append(val_scores_mean_arr, val_scores_mean)\n",
        "#   val_scores_std_arr = np.append(val_scores_std_arr, val_scores_std)\n",
        "\n",
        "#   print(i)"
      ],
      "execution_count": null,
      "outputs": []
    },
    {
      "cell_type": "code",
      "metadata": {
        "colab": {
          "base_uri": "https://localhost:8080/",
          "height": 295
        },
        "id": "2mQlIR0eODo6",
        "outputId": "92bbf174-83fe-493f-b90f-ac4f51cf8841"
      },
      "source": [
        "# steps = np.arange(40) + 1\n",
        "# plt.fill_between(steps, train_scores_mean_arr - train_scores_std_arr,\n",
        "#                  train_scores_mean_arr + train_scores_std_arr, alpha=0.1, color=\"r\")\n",
        "# plt.fill_between(steps, val_scores_mean_arr - val_scores_std_arr,\n",
        "#                  val_scores_mean_arr + val_scores_std_arr, alpha=0.1, color=\"g\")\n",
        "# plt.plot(steps, train_scores_mean_arr, 'o-', color=\"r\", label=\"Training score\")\n",
        "# plt.plot(steps, val_scores_mean_arr, 'o-', color=\"g\", label=\"Cross-validation score\")\n",
        "# plt.axvline(x=val_scores_mean_arr.argmax() + 1, ls='--', label='n_features = {}, Score = {}'.format                             (val_scores_mean_arr.argmax()+1, round(val_scores_mean_arr.max(), 2)))\n",
        "# plt.xlabel(\"Bands\")\n",
        "# plt.ylabel(\"Accuracy\")\n",
        "# plt.title(\"Learning Curve (Logistic Regression)\")\n",
        "# plt.grid(b=True, which='major', color='silver', linestyle='--')\n",
        "# plt.legend(loc=\"best\")\n",
        "# plt.show()"
      ],
      "execution_count": null,
      "outputs": [
        {
          "output_type": "display_data",
          "data": {
            "image/png": "[encoded data removed]",
            "text/plain": [
              "<Figure size 432x288 with 1 Axes>"
            ]
          },
          "metadata": {
            "tags": [],
            "needs_background": "light"
          }
        }
      ]
    },
    {
      "cell_type": "code",
      "metadata": {
        "id": "_0ndanhC7cda"
      },
      "source": [
        "# df = pd.DataFrame(data=steps, columns=['steps'])\n",
        "# df.insert(loc=1, column='ordered_bands', value=bands_list, allow_duplicates=True)\n",
        "# df.insert(loc=2, column='train_scores_mean', value=train_scores_mean_arr, allow_duplicates=True)\n",
        "# df.insert(loc=3, column='train_scores_std', value=train_scores_std_arr, allow_duplicates=True)\n",
        "# df.insert(loc=4, column='val_scores_mean', value=val_scores_mean_arr, allow_duplicates=True)\n",
        "# df.insert(loc=5, column='val_scores_std', value=val_scores_std_arr, allow_duplicates=True)"
      ],
      "execution_count": null,
      "outputs": []
    },
    {
      "cell_type": "code",
      "metadata": {
        "id": "lw2L9CGb7cVz"
      },
      "source": [
        "# df.to_csv('/content/drive/MyDrive/Thesis/models/ttest_LR_sklearn/leanrning_curve_sorted_40_band_ttest_sklearn.cvs')"
      ],
      "execution_count": null,
      "outputs": []
    },
    {
      "cell_type": "code",
      "metadata": {
        "colab": {
          "base_uri": "https://localhost:8080/",
          "height": 662
        },
        "id": "1Yz41XJe7caz",
        "outputId": "834d8f20-2355-4695-a2f7-fc3f5f25199e"
      },
      "source": [
        "# df = pd.read_csv('/content/drive/MyDrive/Thesis/models/ttest_LR_sklearn/leanrning_curve_sorted_40_band_ttest_sklearn.cvs')\n",
        "# df.head(20)"
      ],
      "execution_count": null,
      "outputs": [
        {
          "output_type": "execute_result",
          "data": {
            "text/html": [
              "<div>\n",
              "<style scoped>\n",
              "    .dataframe tbody tr th:only-of-type {\n",
              "        vertical-align: middle;\n",
              "    }\n",
              "\n",
              "    .dataframe tbody tr th {\n",
              "        vertical-align: top;\n",
              "    }\n",
              "\n",
              "    .dataframe thead th {\n",
              "        text-align: right;\n",
              "    }\n",
              "</style>\n",
              "<table border=\"1\" class=\"dataframe\">\n",
              "  <thead>\n",
              "    <tr style=\"text-align: right;\">\n",
              "      <th></th>\n",
              "      <th>Unnamed: 0</th>\n",
              "      <th>steps</th>\n",
              "      <th>ordered_bands</th>\n",
              "      <th>train_scores_mean</th>\n",
              "      <th>train_scores_std</th>\n",
              "      <th>val_scores_mean</th>\n",
              "      <th>val_scores_std</th>\n",
              "    </tr>\n",
              "  </thead>\n",
              "  <tbody>\n",
              "    <tr>\n",
              "      <th>0</th>\n",
              "      <td>0</td>\n",
              "      <td>1</td>\n",
              "      <td>44</td>\n",
              "      <td>0.691189</td>\n",
              "      <td>0.000327</td>\n",
              "      <td>0.691179</td>\n",
              "      <td>0.001024</td>\n",
              "    </tr>\n",
              "    <tr>\n",
              "      <th>1</th>\n",
              "      <td>1</td>\n",
              "      <td>2</td>\n",
              "      <td>45</td>\n",
              "      <td>0.691706</td>\n",
              "      <td>0.000286</td>\n",
              "      <td>0.691707</td>\n",
              "      <td>0.000972</td>\n",
              "    </tr>\n",
              "    <tr>\n",
              "      <th>2</th>\n",
              "      <td>2</td>\n",
              "      <td>3</td>\n",
              "      <td>46</td>\n",
              "      <td>0.696251</td>\n",
              "      <td>0.000287</td>\n",
              "      <td>0.696291</td>\n",
              "      <td>0.000906</td>\n",
              "    </tr>\n",
              "    <tr>\n",
              "      <th>3</th>\n",
              "      <td>3</td>\n",
              "      <td>4</td>\n",
              "      <td>47</td>\n",
              "      <td>0.704288</td>\n",
              "      <td>0.000361</td>\n",
              "      <td>0.704257</td>\n",
              "      <td>0.001285</td>\n",
              "    </tr>\n",
              "    <tr>\n",
              "      <th>4</th>\n",
              "      <td>4</td>\n",
              "      <td>5</td>\n",
              "      <td>42</td>\n",
              "      <td>0.704384</td>\n",
              "      <td>0.000433</td>\n",
              "      <td>0.704367</td>\n",
              "      <td>0.001456</td>\n",
              "    </tr>\n",
              "    <tr>\n",
              "      <th>5</th>\n",
              "      <td>5</td>\n",
              "      <td>6</td>\n",
              "      <td>43</td>\n",
              "      <td>0.708803</td>\n",
              "      <td>0.000280</td>\n",
              "      <td>0.708777</td>\n",
              "      <td>0.000962</td>\n",
              "    </tr>\n",
              "    <tr>\n",
              "      <th>6</th>\n",
              "      <td>6</td>\n",
              "      <td>7</td>\n",
              "      <td>48</td>\n",
              "      <td>0.728820</td>\n",
              "      <td>0.000324</td>\n",
              "      <td>0.728833</td>\n",
              "      <td>0.001230</td>\n",
              "    </tr>\n",
              "    <tr>\n",
              "      <th>7</th>\n",
              "      <td>7</td>\n",
              "      <td>8</td>\n",
              "      <td>49</td>\n",
              "      <td>0.737690</td>\n",
              "      <td>0.000225</td>\n",
              "      <td>0.737690</td>\n",
              "      <td>0.000783</td>\n",
              "    </tr>\n",
              "    <tr>\n",
              "      <th>8</th>\n",
              "      <td>8</td>\n",
              "      <td>9</td>\n",
              "      <td>41</td>\n",
              "      <td>0.742854</td>\n",
              "      <td>0.000253</td>\n",
              "      <td>0.742815</td>\n",
              "      <td>0.000814</td>\n",
              "    </tr>\n",
              "    <tr>\n",
              "      <th>9</th>\n",
              "      <td>9</td>\n",
              "      <td>10</td>\n",
              "      <td>40</td>\n",
              "      <td>0.743601</td>\n",
              "      <td>0.000290</td>\n",
              "      <td>0.743569</td>\n",
              "      <td>0.001122</td>\n",
              "    </tr>\n",
              "    <tr>\n",
              "      <th>10</th>\n",
              "      <td>10</td>\n",
              "      <td>11</td>\n",
              "      <td>6</td>\n",
              "      <td>0.783674</td>\n",
              "      <td>0.000242</td>\n",
              "      <td>0.783683</td>\n",
              "      <td>0.000697</td>\n",
              "    </tr>\n",
              "    <tr>\n",
              "      <th>11</th>\n",
              "      <td>11</td>\n",
              "      <td>12</td>\n",
              "      <td>10</td>\n",
              "      <td>0.787354</td>\n",
              "      <td>0.000258</td>\n",
              "      <td>0.787318</td>\n",
              "      <td>0.000824</td>\n",
              "    </tr>\n",
              "    <tr>\n",
              "      <th>12</th>\n",
              "      <td>12</td>\n",
              "      <td>13</td>\n",
              "      <td>11</td>\n",
              "      <td>0.788115</td>\n",
              "      <td>0.000257</td>\n",
              "      <td>0.788075</td>\n",
              "      <td>0.000873</td>\n",
              "    </tr>\n",
              "    <tr>\n",
              "      <th>13</th>\n",
              "      <td>13</td>\n",
              "      <td>14</td>\n",
              "      <td>9</td>\n",
              "      <td>0.788586</td>\n",
              "      <td>0.000251</td>\n",
              "      <td>0.788533</td>\n",
              "      <td>0.000834</td>\n",
              "    </tr>\n",
              "    <tr>\n",
              "      <th>14</th>\n",
              "      <td>14</td>\n",
              "      <td>15</td>\n",
              "      <td>39</td>\n",
              "      <td>0.801933</td>\n",
              "      <td>0.000228</td>\n",
              "      <td>0.801933</td>\n",
              "      <td>0.000792</td>\n",
              "    </tr>\n",
              "    <tr>\n",
              "      <th>15</th>\n",
              "      <td>15</td>\n",
              "      <td>16</td>\n",
              "      <td>8</td>\n",
              "      <td>0.802075</td>\n",
              "      <td>0.000240</td>\n",
              "      <td>0.802070</td>\n",
              "      <td>0.000869</td>\n",
              "    </tr>\n",
              "    <tr>\n",
              "      <th>16</th>\n",
              "      <td>16</td>\n",
              "      <td>17</td>\n",
              "      <td>50</td>\n",
              "      <td>0.812597</td>\n",
              "      <td>0.000228</td>\n",
              "      <td>0.812502</td>\n",
              "      <td>0.000878</td>\n",
              "    </tr>\n",
              "    <tr>\n",
              "      <th>17</th>\n",
              "      <td>17</td>\n",
              "      <td>18</td>\n",
              "      <td>13</td>\n",
              "      <td>0.812608</td>\n",
              "      <td>0.000224</td>\n",
              "      <td>0.812562</td>\n",
              "      <td>0.000760</td>\n",
              "    </tr>\n",
              "    <tr>\n",
              "      <th>18</th>\n",
              "      <td>18</td>\n",
              "      <td>19</td>\n",
              "      <td>4</td>\n",
              "      <td>0.812614</td>\n",
              "      <td>0.000227</td>\n",
              "      <td>0.812550</td>\n",
              "      <td>0.000747</td>\n",
              "    </tr>\n",
              "    <tr>\n",
              "      <th>19</th>\n",
              "      <td>19</td>\n",
              "      <td>20</td>\n",
              "      <td>14</td>\n",
              "      <td>0.812648</td>\n",
              "      <td>0.000214</td>\n",
              "      <td>0.812561</td>\n",
              "      <td>0.000791</td>\n",
              "    </tr>\n",
              "  </tbody>\n",
              "</table>\n",
              "</div>"
            ],
            "text/plain": [
              "    Unnamed: 0  steps  ...  val_scores_mean  val_scores_std\n",
              "0            0      1  ...         0.691179        0.001024\n",
              "1            1      2  ...         0.691707        0.000972\n",
              "2            2      3  ...         0.696291        0.000906\n",
              "3            3      4  ...         0.704257        0.001285\n",
              "4            4      5  ...         0.704367        0.001456\n",
              "5            5      6  ...         0.708777        0.000962\n",
              "6            6      7  ...         0.728833        0.001230\n",
              "7            7      8  ...         0.737690        0.000783\n",
              "8            8      9  ...         0.742815        0.000814\n",
              "9            9     10  ...         0.743569        0.001122\n",
              "10          10     11  ...         0.783683        0.000697\n",
              "11          11     12  ...         0.787318        0.000824\n",
              "12          12     13  ...         0.788075        0.000873\n",
              "13          13     14  ...         0.788533        0.000834\n",
              "14          14     15  ...         0.801933        0.000792\n",
              "15          15     16  ...         0.802070        0.000869\n",
              "16          16     17  ...         0.812502        0.000878\n",
              "17          17     18  ...         0.812562        0.000760\n",
              "18          18     19  ...         0.812550        0.000747\n",
              "19          19     20  ...         0.812561        0.000791\n",
              "\n",
              "[20 rows x 7 columns]"
            ]
          },
          "metadata": {
            "tags": []
          },
          "execution_count": 43
        }
      ]
    },
    {
      "cell_type": "markdown",
      "metadata": {
        "id": "sNQUI-cbX3k7"
      },
      "source": [
        "## logistic regression sklearn, gradient decent"
      ]
    },
    {
      "cell_type": "code",
      "metadata": {
        "id": "00RgK6oIzxxk"
      },
      "source": [
        "# X = X[::10, :]\n",
        "# y = y[::10]"
      ],
      "execution_count": null,
      "outputs": []
    },
    {
      "cell_type": "code",
      "metadata": {
        "colab": {
          "base_uri": "https://localhost:8080/"
        },
        "id": "Qx0Py36Q1p1P",
        "outputId": "84842baa-af24-4a3d-f8f7-8e64186d4cc1"
      },
      "source": [
        "# X.shape"
      ],
      "execution_count": null,
      "outputs": [
        {
          "output_type": "execute_result",
          "data": {
            "text/plain": [
              "(8411, 186)"
            ]
          },
          "metadata": {
            "tags": []
          },
          "execution_count": 39
        }
      ]
    },
    {
      "cell_type": "code",
      "metadata": {
        "id": "MiigLlw1kWzp"
      },
      "source": [
        "# %%time\n",
        "# # directory = '/content/drive/MyDrive/Thesis/segmented_bands/'\n",
        "# num_of_folds = 5\n",
        "# # kf = KFold(n_splits=num_of_folds, shuffle=True, random_state=42)\n",
        "\n",
        "# # X = np.array(np.load(directory + 'band_' + str(bands_list[0]) + '.npy').reshape(-1, 1), dtype='float32')\n",
        "# # y = np.array(np.load(directory + 'label.npy'), dtype='int')\n",
        "\n",
        "# train_scores_mean_arr = np.array([])\n",
        "# train_scores_std_arr = np.array([])\n",
        "# val_scores_mean_arr = np.array([])\n",
        "# val_scores_std_arr = np.array([])\n",
        "\n",
        "\n",
        "# train_scores = np.array([])\n",
        "# val_scores = np.array([])\n",
        "\n",
        "# for i in range(0, 186):\n",
        "  \n",
        "#   # instantiate cross_validation instance\n",
        "#   kf = KFold(n_splits=num_of_folds, shuffle=True, random_state=42)\n",
        "\n",
        "#   train_scores = np.array([])\n",
        "#   val_scores = np.array([])\n",
        "\n",
        "#   for train_index, val_index in kf.split(X):\n",
        "#     # print(\"TRAIN:\", train_index, \"TEST:\", val_index)\n",
        "#     X_train, X_val = X[:, 0:i+1][train_index], X[:, 0:i+1][val_index]\n",
        "#     y_train, y_val = y[train_index], y[val_index]\n",
        "\n",
        "#     # clf = LogisticRegression(penalty='none', max_iter=500).fit(X_train, y_train)\n",
        "#     clf = make_pipeline(StandardScaler(), LogisticRegression(penalty='none', max_iter=1000))\n",
        "#     clf.fit(X_train, y_train)\n",
        "\n",
        "#     train_score = clf.score(X_train, y_train)\n",
        "#     val_score = clf.score(X_val, y_val)\n",
        "\n",
        "#     train_scores = np.append(train_scores, train_score)\n",
        "#     val_scores = np.append(val_scores, val_score)\n",
        "\n",
        "#   train_scores_mean = np.mean(train_scores)\n",
        "#   train_scores_std = np.std(train_scores)\n",
        "#   val_scores_mean = np.mean(val_scores)\n",
        "#   val_scores_std = np.std(val_scores)\n",
        "\n",
        "#   train_scores_mean_arr = np.append(train_scores_mean_arr, train_scores_mean)\n",
        "#   train_scores_std_arr = np.append(train_scores_std_arr, train_scores_std)\n",
        "#   val_scores_mean_arr = np.append(val_scores_mean_arr, val_scores_mean)\n",
        "#   val_scores_std_arr = np.append(val_scores_std_arr, val_scores_std)\n",
        "\n",
        "#   print(i)"
      ],
      "execution_count": null,
      "outputs": []
    },
    {
      "cell_type": "code",
      "metadata": {
        "colab": {
          "base_uri": "https://localhost:8080/",
          "height": 295
        },
        "id": "wfNTK9qePi9F",
        "outputId": "84580d7c-6546-47aa-84cd-b54b4bc26371"
      },
      "source": [
        "# steps = np.arange(40) + 1\n",
        "# # plt.figure(figsize=(18, 5))\n",
        "# plt.fill_between(steps, train_scores_mean_arr[0:40] - train_scores_std_arr[0:40],\n",
        "#                  train_scores_mean_arr[0:40] + train_scores_std_arr[0:40], alpha=0.1, color=\"r\")\n",
        "# plt.fill_between(steps, val_scores_mean_arr[0:40] - val_scores_std_arr[0:40],\n",
        "#                  val_scores_mean_arr[0:40] + val_scores_std_arr[0:40], alpha=0.1, color=\"g\")\n",
        "# plt.plot(steps, train_scores_mean_arr[0:40], 'o-', color=\"r\", label=\"Training score\")\n",
        "# plt.plot(steps, val_scores_mean_arr[0:40], 'o-', color=\"g\", label=\"Cross-validation score\")\n",
        "# plt.axvline(x=val_scores_mean_arr[0:40].argmax() + 1, ls='--', label='n_features = {}, Score = {}'.format                             (val_scores_mean_arr.argmax()+1, round(val_scores_mean_arr.max(), 2)))\n",
        "# plt.xlabel(\"Bands\")\n",
        "# plt.ylabel(\"Accuracy\")\n",
        "# plt.title(\"Learning Curve (Logistic Regression)\")\n",
        "# plt.grid(b=True, which='major', color='silver', linestyle='--')\n",
        "# plt.legend(loc=\"best\")\n",
        "# plt.show()"
      ],
      "execution_count": null,
      "outputs": [
        {
          "output_type": "display_data",
          "data": {
            "image/png": "[encoded data removed]",
            "text/plain": [
              "<Figure size 432x288 with 1 Axes>"
            ]
          },
          "metadata": {
            "tags": [],
            "needs_background": "light"
          }
        }
      ]
    },
    {
      "cell_type": "code",
      "metadata": {
        "colab": {
          "base_uri": "https://localhost:8080/",
          "height": 350
        },
        "id": "W2ZCh0GukWxB",
        "outputId": "9a11f51a-a2f3-4eb3-cbaa-091bb68bc743"
      },
      "source": [
        "# steps = np.arange(186) + 1\n",
        "# plt.figure(figsize=(18, 5))\n",
        "# plt.fill_between(steps, train_scores_mean_arr - train_scores_std_arr,\n",
        "#                  train_scores_mean_arr + train_scores_std_arr, alpha=0.1, color=\"r\")\n",
        "# plt.fill_between(steps, val_scores_mean_arr - val_scores_std_arr,\n",
        "#                  val_scores_mean_arr + val_scores_std_arr, alpha=0.1, color=\"g\")\n",
        "# plt.plot(steps, train_scores_mean_arr, 'o-', color=\"r\", label=\"Training score\")\n",
        "# plt.plot(steps, val_scores_mean_arr, 'o-', color=\"g\", label=\"Cross-validation score\")\n",
        "# plt.axvline(x=val_scores_mean_arr.argmax() + 1, ls='--', label='n_features = {}, Score = {}'.format                             (val_scores_mean_arr.argmax()+1, round(val_scores_mean_arr.max(), 2)))\n",
        "# plt.xlabel(\"Bands\")\n",
        "# plt.ylabel(\"Accuracy\")\n",
        "# plt.title(\"Learning Curve (Logistic Regression)\")\n",
        "# plt.grid(b=True, which='major', color='silver', linestyle='--')\n",
        "# plt.legend(loc=\"best\")\n",
        "# plt.show()"
      ],
      "execution_count": null,
      "outputs": [
        {
          "output_type": "display_data",
          "data": {
            "image/png": "[encoded data removed]",
            "text/plain": [
              "<Figure size 1296x360 with 1 Axes>"
            ]
          },
          "metadata": {
            "tags": [],
            "needs_background": "light"
          }
        }
      ]
    },
    {
      "cell_type": "code",
      "metadata": {
        "colab": {
          "base_uri": "https://localhost:8080/",
          "height": 295
        },
        "id": "77hUODsckWuM",
        "outputId": "40a6cc8a-2a36-4878-cd82-8492b1a176d4"
      },
      "source": [
        "# steps = np.arange(40) + 1\n",
        "# # plt.figure(figsize=(18, 5))\n",
        "# plt.fill_between(steps, train_scores_mean_arr[0:40] - train_scores_std_arr[0:40],\n",
        "#                  train_scores_mean_arr[0:40] + train_scores_std_arr[0:40], alpha=0.1, color=\"r\")\n",
        "# plt.fill_between(steps, val_scores_mean_arr[0:40] - val_scores_std_arr[0:40],\n",
        "#                  val_scores_mean_arr[0:40] + val_scores_std_arr[0:40], alpha=0.1, color=\"g\")\n",
        "# plt.plot(steps, train_scores_mean_arr[0:40], 'o-', color=\"r\", label=\"Training score\")\n",
        "# plt.plot(steps, val_scores_mean_arr[0:40], 'o-', color=\"g\", label=\"Cross-validation score\")\n",
        "# plt.axvline(x=val_scores_mean_arr[0:40].argmax() + 1, ls='--', label='n_features = {}, Score = {}'.format                             (val_scores_mean_arr.argmax()+1, round(val_scores_mean_arr.max(), 2)))\n",
        "# plt.xlabel(\"Bands\")\n",
        "# plt.ylabel(\"Accuracy\")\n",
        "# plt.title(\"Learning Curve (Logistic Regression)\")\n",
        "# plt.grid(b=True, which='major', color='silver', linestyle='--')\n",
        "# plt.legend(loc=\"best\")\n",
        "# plt.show()"
      ],
      "execution_count": null,
      "outputs": [
        {
          "output_type": "display_data",
          "data": {
            "image/png": "[encoded data removed]",
            "text/plain": [
              "<Figure size 432x288 with 1 Axes>"
            ]
          },
          "metadata": {
            "tags": [],
            "needs_background": "light"
          }
        }
      ]
    },
    {
      "cell_type": "code",
      "metadata": {
        "colab": {
          "base_uri": "https://localhost:8080/",
          "height": 350
        },
        "id": "d_KfP9BQkWrO",
        "outputId": "60172400-5bb9-4268-f36e-2f4aaec27e76"
      },
      "source": [
        "# steps = np.arange(186) + 1\n",
        "# plt.figure(figsize=(18, 5))\n",
        "# plt.fill_between(steps, train_scores_mean_arr - train_scores_std_arr,\n",
        "#                  train_scores_mean_arr + train_scores_std_arr, alpha=0.1, color=\"r\")\n",
        "# plt.fill_between(steps, val_scores_mean_arr - val_scores_std_arr,\n",
        "#                  val_scores_mean_arr + val_scores_std_arr, alpha=0.1, color=\"g\")\n",
        "# plt.plot(steps, train_scores_mean_arr, 'o-', color=\"r\", label=\"Training score\")\n",
        "# plt.plot(steps, val_scores_mean_arr, 'o-', color=\"g\", label=\"Cross-validation score\")\n",
        "# plt.axvline(x=val_scores_mean_arr.argmax() + 1, ls='--', label='n_features = {}, Score = {}'.format                             (val_scores_mean_arr.argmax()+1, round(val_scores_mean_arr.max(), 2)))\n",
        "# plt.xlabel(\"Bands\")\n",
        "# plt.ylabel(\"Accuracy\")\n",
        "# plt.title(\"Learning Curve (Logistic Regression)\")\n",
        "# plt.grid(b=True, which='major', color='silver', linestyle='--')\n",
        "# plt.legend(loc=\"best\")\n",
        "# plt.show()"
      ],
      "execution_count": null,
      "outputs": [
        {
          "output_type": "display_data",
          "data": {
            "image/png": "[encoded data removed]",
            "text/plain": [
              "<Figure size 1296x360 with 1 Axes>"
            ]
          },
          "metadata": {
            "tags": [],
            "needs_background": "light"
          }
        }
      ]
    },
    {
      "cell_type": "code",
      "metadata": {
        "id": "ci2aa6azkWjc"
      },
      "source": [
        ""
      ],
      "execution_count": null,
      "outputs": []
    },
    {
      "cell_type": "markdown",
      "metadata": {
        "id": "kexbW9wK8wlG"
      },
      "source": [
        "### plot learning curves"
      ]
    },
    {
      "cell_type": "code",
      "metadata": {
        "id": "1KYXiYSCXzbk"
      },
      "source": [
        "def plot_learning_curve(estimator, title, X, y, axes=None, ylim=None, cv=None,\n",
        "                        n_jobs=None, train_sizes=np.linspace(.1, 1.0, 5)):\n",
        "    \"\"\"\n",
        "    Generate 3 plots: the test and training learning curve, the training\n",
        "    samples vs fit times curve, the fit times vs score curve.\n",
        "\n",
        "    Parameters\n",
        "    ----------\n",
        "    estimator : estimator instance\n",
        "        An estimator instance implementing `fit` and `predict` methods which\n",
        "        will be cloned for each validation.\n",
        "\n",
        "    title : str\n",
        "        Title for the chart.\n",
        "\n",
        "    X : array-like of shape (n_samples, n_features)\n",
        "        Training vector, where ``n_samples`` is the number of samples and\n",
        "        ``n_features`` is the number of features.\n",
        "\n",
        "    y : array-like of shape (n_samples) or (n_samples, n_features)\n",
        "        Target relative to ``X`` for classification or regression;\n",
        "        None for unsupervised learning.\n",
        "\n",
        "    axes : array-like of shape (3,), default=None\n",
        "        Axes to use for plotting the curves.\n",
        "\n",
        "    ylim : tuple of shape (2,), default=None\n",
        "        Defines minimum and maximum y-values plotted, e.g. (ymin, ymax).\n",
        "\n",
        "    cv : int, cross-validation generator or an iterable, default=None\n",
        "        Determines the cross-validation splitting strategy.\n",
        "        Possible inputs for cv are:\n",
        "\n",
        "          - None, to use the default 5-fold cross-validation,\n",
        "          - integer, to specify the number of folds.\n",
        "          - :term:`CV splitter`,\n",
        "          - An iterable yielding (train, test) splits as arrays of indices.\n",
        "\n",
        "        For integer/None inputs, if ``y`` is binary or multiclass,\n",
        "        :class:`StratifiedKFold` used. If the estimator is not a classifier\n",
        "        or if ``y`` is neither binary nor multiclass, :class:`KFold` is used.\n",
        "\n",
        "        Refer :ref:`User Guide <cross_validation>` for the various\n",
        "        cross-validators that can be used here.\n",
        "\n",
        "    n_jobs : int or None, default=None\n",
        "        Number of jobs to run in parallel.\n",
        "        ``None`` means 1 unless in a :obj:`joblib.parallel_backend` context.\n",
        "        ``-1`` means using all processors. See :term:`Glossary <n_jobs>`\n",
        "        for more details.\n",
        "\n",
        "    train_sizes : array-like of shape (n_ticks,)\n",
        "        Relative or absolute numbers of training examples that will be used to\n",
        "        generate the learning curve. If the ``dtype`` is float, it is regarded\n",
        "        as a fraction of the maximum size of the training set (that is\n",
        "        determined by the selected validation method), i.e. it has to be within\n",
        "        (0, 1]. Otherwise it is interpreted as absolute sizes of the training\n",
        "        sets. Note that for classification the number of samples usually have\n",
        "        to be big enough to contain at least one sample from each class.\n",
        "        (default: np.linspace(0.1, 1.0, 5))\n",
        "    \"\"\"\n",
        "    if axes is None:\n",
        "        _, axes = plt.subplots(1, 3, figsize=(20, 5))\n",
        "\n",
        "    axes[0].set_title(title)\n",
        "    if ylim is not None:\n",
        "        axes[0].set_ylim(*ylim)\n",
        "    axes[0].set_xlabel(\"Training examples\")\n",
        "    axes[0].set_ylabel(\"Score\")\n",
        "\n",
        "    train_sizes, train_scores, test_scores, fit_times, _ = \\\n",
        "        learning_curve(estimator, X, y, cv=cv, n_jobs=n_jobs,\n",
        "                       train_sizes=train_sizes,\n",
        "                       return_times=True)\n",
        "    train_scores_mean = np.mean(train_scores, axis=1)\n",
        "    train_scores_std = np.std(train_scores, axis=1)\n",
        "    test_scores_mean = np.mean(test_scores, axis=1)\n",
        "    test_scores_std = np.std(test_scores, axis=1)\n",
        "    fit_times_mean = np.mean(fit_times, axis=1)\n",
        "    fit_times_std = np.std(fit_times, axis=1)\n",
        "\n",
        "    # Plot learning curve\n",
        "    axes[0].grid()\n",
        "    axes[0].fill_between(train_sizes, train_scores_mean - train_scores_std,\n",
        "                         train_scores_mean + train_scores_std, alpha=0.1,\n",
        "                         color=\"r\")\n",
        "    axes[0].fill_between(train_sizes, test_scores_mean - test_scores_std,\n",
        "                         test_scores_mean + test_scores_std, alpha=0.1,\n",
        "                         color=\"g\")\n",
        "    axes[0].plot(train_sizes, train_scores_mean, 'o-', color=\"r\",\n",
        "                 label=\"Training score\")\n",
        "    axes[0].plot(train_sizes, test_scores_mean, 'o-', color=\"g\",\n",
        "                 label=\"Cross-validation score\")\n",
        "    axes[0].legend(loc=\"best\")\n",
        "\n",
        "    # Plot n_samples vs fit_times\n",
        "    axes[1].grid()\n",
        "    axes[1].plot(train_sizes, fit_times_mean, 'o-')\n",
        "    axes[1].fill_between(train_sizes, fit_times_mean - fit_times_std,\n",
        "                         fit_times_mean + fit_times_std, alpha=0.1)\n",
        "    axes[1].set_xlabel(\"Training examples\")\n",
        "    axes[1].set_ylabel(\"fit_times\")\n",
        "    axes[1].set_title(\"Scalability of the model\")\n",
        "\n",
        "    # Plot fit_time vs score\n",
        "    axes[2].grid()\n",
        "    axes[2].plot(fit_times_mean, test_scores_mean, 'o-')\n",
        "    axes[2].fill_between(fit_times_mean, test_scores_mean - test_scores_std,\n",
        "                         test_scores_mean + test_scores_std, alpha=0.1)\n",
        "    axes[2].set_xlabel(\"fit_times\")\n",
        "    axes[2].set_ylabel(\"Score\")\n",
        "    axes[2].set_title(\"Performance of the model\")\n",
        "\n",
        "    return plt"
      ],
      "execution_count": null,
      "outputs": []
    },
    {
      "cell_type": "code",
      "metadata": {
        "colab": {
          "base_uri": "https://localhost:8080/",
          "height": 364
        },
        "id": "w6XZliY4XzXh",
        "outputId": "d2bd59d3-87a0-48cc-924d-de15fe4a498c"
      },
      "source": [
        "title = \"Learning Curves (Logistic Regression)\"\n",
        "# Cross validation with 100 iterations to get smoother mean test and train\n",
        "# score curves, each time with 20% data randomly selected as a validation set.\n",
        "cv = ShuffleSplit(n_splits=100, test_size=0.2, random_state=42)\n",
        "\n",
        "# clf = LogisticRegression(penalty='none', max_iter=500)\n",
        "clf = make_pipeline(StandardScaler(), LogisticRegression(penalty='none', max_iter=500)) # solver='saga'\n",
        "# clf.fit(X_train, y_train)\n",
        "plot_learning_curve(clf, title, X, y, ylim=(0.7, 1.01), cv=cv)"
      ],
      "execution_count": null,
      "outputs": [
        {
          "output_type": "execute_result",
          "data": {
            "text/plain": [
              "<module 'matplotlib.pyplot' from '/usr/local/lib/python3.7/dist-packages/matplotlib/pyplot.py'>"
            ]
          },
          "metadata": {
            "tags": []
          },
          "execution_count": 27
        },
        {
          "output_type": "display_data",
          "data": {
            "image/png": "[encoded data removed]",
            "text/plain": [
              "<Figure size 1440x360 with 3 Axes>"
            ]
          },
          "metadata": {
            "tags": [],
            "needs_background": "light"
          }
        }
      ]
    },
    {
      "cell_type": "code",
      "metadata": {
        "id": "Xzc7vu7wFcKy"
      },
      "source": [
        ""
      ],
      "execution_count": null,
      "outputs": []
    },
    {
      "cell_type": "code",
      "metadata": {
        "id": "e8BG1xPxXzBW"
      },
      "source": [
        ""
      ],
      "execution_count": null,
      "outputs": []
    },
    {
      "cell_type": "markdown",
      "metadata": {
        "id": "sIsQhFvDIA7r"
      },
      "source": [
        "## logistic regression keras, Adam optimization"
      ]
    },
    {
      "cell_type": "code",
      "metadata": {
        "id": "M2hvqewiItQm"
      },
      "source": [
        "# %%time\n",
        "directory = '/content/drive/MyDrive/Thesis/segmented_bands/'\n",
        "num_of_folds = 5\n",
        "kf = KFold(n_splits=num_of_folds, shuffle=True, random_state=42)\n",
        "\n",
        "# X = np.array(np.load('/content/drive/MyDrive/Thesis/top40_ttest_order.npy'), dtype='float32')\n",
        "# y = np.array(np.load(directory + 'label.npy'), dtype='int')\n",
        "\n",
        "train_scores_mean_arr = np.array([])\n",
        "train_scores_std_arr = np.array([])\n",
        "val_scores_mean_arr = np.array([])\n",
        "val_scores_std_arr = np.array([])\n",
        "\n",
        "train_scores = np.array([])\n",
        "val_scores = np.array([])\n",
        "\n",
        "for train_index, val_index in kf.split(X):\n",
        "  # print(\"TRAIN:\", train_index, \"TEST:\", val_index)\n",
        "  X_train, X_val = X[:, 0:1][train_index], X[:, 0:1][val_index]\n",
        "  y_train, y_val = y[train_index], y[val_index]\n",
        "\n",
        "  input_shape = [X[:, 0:1].shape[1],]\n",
        "  band_normalizer = preprocessing.Normalization(input_shape=input_shape)\n",
        "\n",
        "  model = tf.keras.Sequential([\n",
        "      band_normalizer,\n",
        "      layers.Dense(units=1, activation='sigmoid')\n",
        "  ])\n",
        "\n",
        "  model.compile(\n",
        "      optimizer=tf.optimizers.Adam(learning_rate=0.1),\n",
        "      loss='binary_crossentropy', metrics=['accuracy'])\n",
        "\n",
        "  callback = tf.keras.callbacks.EarlyStopping(monitor='loss', min_delta=1e-3, patience=3)\n",
        "\n",
        "  # %%time\n",
        "  history = model.fit(\n",
        "      X_train, y_train,\n",
        "      epochs=1,\n",
        "      # suppress logging\n",
        "      verbose=0,\n",
        "      # Calculate validation results on 25% of the training data\n",
        "      # validation_split = 0.25,\n",
        "      validation_data=(X_val, y_val), \n",
        "      # callbacks=[callback]\n",
        "      )\n",
        "\n",
        "\n",
        "  train_pred = model.predict(X_train)\n",
        "  train_score = accuracy_score(np.round(train_pred), y_train)\n",
        "\n",
        "  val_pred = model.predict(X_val)\n",
        "  val_score = accuracy_score(np.round(val_pred), y_val)\n",
        "\n",
        "  train_scores = np.append(train_scores, train_score)\n",
        "  val_scores = np.append(val_scores, val_score)\n",
        "\n",
        "train_scores_mean = np.mean(train_scores)\n",
        "train_scores_std = np.std(train_scores)\n",
        "val_scores_mean = np.mean(val_scores)\n",
        "val_scores_std = np.std(val_scores)\n",
        "\n",
        "train_scores_mean_arr = np.append(train_scores_mean_arr, train_scores_mean)\n",
        "train_scores_std_arr = np.append(train_scores_std_arr, train_scores_std)\n",
        "val_scores_mean_arr = np.append(val_scores_mean_arr, val_scores_mean)\n",
        "val_scores_std_arr = np.append(val_scores_std_arr, val_scores_std)"
      ],
      "execution_count": null,
      "outputs": []
    },
    {
      "cell_type": "code",
      "metadata": {
        "colab": {
          "base_uri": "https://localhost:8080/"
        },
        "id": "ao-_74nhG0uR",
        "outputId": "0ec3b2d6-2272-4283-8622-cedd8e8f9ffc"
      },
      "source": [
        "train_scores_mean_arr"
      ],
      "execution_count": null,
      "outputs": [
        {
          "output_type": "execute_result",
          "data": {
            "text/plain": [
              "array([0.68856715])"
            ]
          },
          "metadata": {
            "tags": []
          },
          "execution_count": 19
        }
      ]
    },
    {
      "cell_type": "code",
      "metadata": {
        "colab": {
          "base_uri": "https://localhost:8080/"
        },
        "id": "-Tz0xP31NyMR",
        "outputId": "05947417-d50c-46dc-a1a2-7e7484b3f74d"
      },
      "source": [
        "val_scores_mean_arr"
      ],
      "execution_count": null,
      "outputs": [
        {
          "output_type": "execute_result",
          "data": {
            "text/plain": [
              "array([0.68850821])"
            ]
          },
          "metadata": {
            "tags": []
          },
          "execution_count": 20
        }
      ]
    },
    {
      "cell_type": "code",
      "metadata": {
        "id": "meKMBbLRNyJZ"
      },
      "source": [
        ""
      ],
      "execution_count": null,
      "outputs": []
    },
    {
      "cell_type": "code",
      "metadata": {
        "id": "ohSypWpHNyFr"
      },
      "source": [
        ""
      ],
      "execution_count": null,
      "outputs": []
    },
    {
      "cell_type": "code",
      "metadata": {
        "id": "YWsmJtv1NyDA"
      },
      "source": [
        ""
      ],
      "execution_count": null,
      "outputs": []
    },
    {
      "cell_type": "code",
      "metadata": {
        "id": "XC9eZIgHgCYm"
      },
      "source": [
        "# np.save('/content/drive/MyDrive/Thesis/shuffled_top40/dataset.npy', X)"
      ],
      "execution_count": null,
      "outputs": []
    },
    {
      "cell_type": "code",
      "metadata": {
        "id": "IzlIFjylF4cD"
      },
      "source": [
        "y = df.iloc[:, 0:1]"
      ],
      "execution_count": null,
      "outputs": []
    },
    {
      "cell_type": "code",
      "metadata": {
        "id": "M0Z6iOaYgtAs"
      },
      "source": [
        "# np.save('/content/drive/MyDrive/Thesis/shuffled_top40/label.npy', y)"
      ],
      "execution_count": null,
      "outputs": []
    },
    {
      "cell_type": "code",
      "metadata": {
        "id": "GZZqnQ4YhfPB"
      },
      "source": [
        "# y = np.load('/content/drive/MyDrive/Thesis/shuffled_top40/label.npy')"
      ],
      "execution_count": null,
      "outputs": []
    },
    {
      "cell_type": "code",
      "metadata": {
        "id": "HZJ5PZ8rhfLw"
      },
      "source": [
        "# X = np.load('/content/drive/MyDrive/Thesis/shuffled_top40/dataset.npy')"
      ],
      "execution_count": null,
      "outputs": []
    },
    {
      "cell_type": "markdown",
      "metadata": {
        "id": "wdKAin1QmcD0"
      },
      "source": [
        "### logistic regression using keras"
      ]
    },
    {
      "cell_type": "markdown",
      "metadata": {
        "id": "5ljCaRudGEC-"
      },
      "source": [
        "start preparing dataset"
      ]
    },
    {
      "cell_type": "code",
      "metadata": {
        "colab": {
          "base_uri": "https://localhost:8080/"
        },
        "id": "UW5lTvtsGPJn",
        "outputId": "269bb0a4-6fe1-471d-a329-40fd92bd0a4f"
      },
      "source": [
        "input_shape = [X.shape[1],]\n",
        "input_shape"
      ],
      "execution_count": null,
      "outputs": [
        {
          "output_type": "execute_result",
          "data": {
            "text/plain": [
              "[40]"
            ]
          },
          "metadata": {
            "tags": []
          },
          "execution_count": 23
        }
      ]
    },
    {
      "cell_type": "code",
      "metadata": {
        "id": "6p8MCPSlGPHn"
      },
      "source": [
        "band_normalizer = preprocessing.Normalization(input_shape=input_shape)"
      ],
      "execution_count": null,
      "outputs": []
    },
    {
      "cell_type": "code",
      "metadata": {
        "id": "L6sCwedWGPFm"
      },
      "source": [
        "# bands = np.array(X)"
      ],
      "execution_count": null,
      "outputs": []
    },
    {
      "cell_type": "code",
      "metadata": {
        "id": "0PFQ4LCKGPCd"
      },
      "source": [
        "band_normalizer.adapt(np.array(X))"
      ],
      "execution_count": null,
      "outputs": []
    },
    {
      "cell_type": "code",
      "metadata": {
        "colab": {
          "base_uri": "https://localhost:8080/"
        },
        "id": "ImR-tjGkGO_X",
        "outputId": "b7b1af6e-2a43-4c6a-e63b-4cb1403e6ae0"
      },
      "source": [
        "model = tf.keras.Sequential([\n",
        "    band_normalizer,\n",
        "    layers.Dense(units=1, activation='sigmoid')\n",
        "])\n",
        "\n",
        "model.summary()"
      ],
      "execution_count": null,
      "outputs": [
        {
          "output_type": "stream",
          "text": [
            "Model: \"sequential\"\n",
            "_________________________________________________________________\n",
            "Layer (type)                 Output Shape              Param #   \n",
            "=================================================================\n",
            "normalization (Normalization (None, 40)                81        \n",
            "_________________________________________________________________\n",
            "dense (Dense)                (None, 1)                 41        \n",
            "=================================================================\n",
            "Total params: 122\n",
            "Trainable params: 41\n",
            "Non-trainable params: 81\n",
            "_________________________________________________________________\n"
          ],
          "name": "stdout"
        }
      ]
    },
    {
      "cell_type": "code",
      "metadata": {
        "id": "uIjpJVB0GO9d"
      },
      "source": [
        "model.compile(\n",
        "    optimizer=tf.optimizers.Adam(learning_rate=0.1),\n",
        "    loss='binary_crossentropy', metrics=['accuracy'])"
      ],
      "execution_count": null,
      "outputs": []
    },
    {
      "cell_type": "code",
      "metadata": {
        "id": "zlhQjpGFGO6S"
      },
      "source": [
        "callback = tf.keras.callbacks.EarlyStopping(monitor='loss', min_delta=1e-3, patience=3)"
      ],
      "execution_count": null,
      "outputs": []
    },
    {
      "cell_type": "code",
      "metadata": {
        "colab": {
          "base_uri": "https://localhost:8080/"
        },
        "id": "e7gEXG-fGO4e",
        "outputId": "7c18b6d7-a013-407d-e6ef-a2d77c95d083"
      },
      "source": [
        "%%time\n",
        "history = model.fit(\n",
        "    X, y,\n",
        "    epochs=100,\n",
        "    # suppress logging\n",
        "    verbose=1,\n",
        "    # Calculate validation results on 25% of the training data\n",
        "    validation_split = 0.25,\n",
        "    callbacks=[callback]\n",
        "    )"
      ],
      "execution_count": null,
      "outputs": [
        {
          "output_type": "stream",
          "text": [
            "Epoch 1/100\n",
            "197111/197111 [==============================] - 504s 3ms/step - loss: 0.4114 - accuracy: 0.8311 - val_loss: 0.3857 - val_accuracy: 0.8385\n",
            "Epoch 2/100\n",
            "197111/197111 [==============================] - 524s 3ms/step - loss: 0.4094 - accuracy: 0.8329 - val_loss: 0.4564 - val_accuracy: 0.8068\n",
            "Epoch 3/100\n",
            "197111/197111 [==============================] - 506s 3ms/step - loss: 0.4101 - accuracy: 0.8327 - val_loss: 0.4004 - val_accuracy: 0.8255\n",
            "Epoch 4/100\n",
            "197111/197111 [==============================] - 515s 3ms/step - loss: 0.4101 - accuracy: 0.8326 - val_loss: 0.3795 - val_accuracy: 0.8467\n",
            "CPU times: user 40min, sys: 7min 32s, total: 47min 32s\n",
            "Wall time: 34min 9s\n"
          ],
          "name": "stdout"
        }
      ]
    },
    {
      "cell_type": "code",
      "metadata": {
        "colab": {
          "base_uri": "https://localhost:8080/",
          "height": 171
        },
        "id": "VznfDEliGO1p",
        "outputId": "0f695335-8602-4de6-db39-7d2692c13da3"
      },
      "source": [
        "hist = pd.DataFrame(history.history)\n",
        "hist['epoch'] = history.epoch\n",
        "hist.tail()"
      ],
      "execution_count": null,
      "outputs": [
        {
          "output_type": "execute_result",
          "data": {
            "text/html": [
              "<div>\n",
              "<style scoped>\n",
              "    .dataframe tbody tr th:only-of-type {\n",
              "        vertical-align: middle;\n",
              "    }\n",
              "\n",
              "    .dataframe tbody tr th {\n",
              "        vertical-align: top;\n",
              "    }\n",
              "\n",
              "    .dataframe thead th {\n",
              "        text-align: right;\n",
              "    }\n",
              "</style>\n",
              "<table border=\"1\" class=\"dataframe\">\n",
              "  <thead>\n",
              "    <tr style=\"text-align: right;\">\n",
              "      <th></th>\n",
              "      <th>loss</th>\n",
              "      <th>accuracy</th>\n",
              "      <th>val_loss</th>\n",
              "      <th>val_accuracy</th>\n",
              "      <th>epoch</th>\n",
              "    </tr>\n",
              "  </thead>\n",
              "  <tbody>\n",
              "    <tr>\n",
              "      <th>0</th>\n",
              "      <td>0.410023</td>\n",
              "      <td>0.832448</td>\n",
              "      <td>0.385663</td>\n",
              "      <td>0.838519</td>\n",
              "      <td>0</td>\n",
              "    </tr>\n",
              "    <tr>\n",
              "      <th>1</th>\n",
              "      <td>0.409838</td>\n",
              "      <td>0.832613</td>\n",
              "      <td>0.456354</td>\n",
              "      <td>0.806801</td>\n",
              "      <td>1</td>\n",
              "    </tr>\n",
              "    <tr>\n",
              "      <th>2</th>\n",
              "      <td>0.409925</td>\n",
              "      <td>0.832628</td>\n",
              "      <td>0.400411</td>\n",
              "      <td>0.825494</td>\n",
              "      <td>2</td>\n",
              "    </tr>\n",
              "    <tr>\n",
              "      <th>3</th>\n",
              "      <td>0.409666</td>\n",
              "      <td>0.832609</td>\n",
              "      <td>0.379524</td>\n",
              "      <td>0.846710</td>\n",
              "      <td>3</td>\n",
              "    </tr>\n",
              "  </tbody>\n",
              "</table>\n",
              "</div>"
            ],
            "text/plain": [
              "       loss  accuracy  val_loss  val_accuracy  epoch\n",
              "0  0.410023  0.832448  0.385663      0.838519      0\n",
              "1  0.409838  0.832613  0.456354      0.806801      1\n",
              "2  0.409925  0.832628  0.400411      0.825494      2\n",
              "3  0.409666  0.832609  0.379524      0.846710      3"
            ]
          },
          "metadata": {
            "tags": []
          },
          "execution_count": 31
        }
      ]
    },
    {
      "cell_type": "code",
      "metadata": {
        "id": "JOSGVQWwG-iH"
      },
      "source": [
        "def plot_loss(history):\n",
        "  plt.plot(history.history['loss'], label='loss')\n",
        "  plt.plot(history.history['val_loss'], label='val_loss')\n",
        "  plt.ylim([0, 5])\n",
        "  plt.xlabel('Epoch')\n",
        "  plt.ylabel('error')\n",
        "  plt.legend()\n",
        "  plt.grid(True)"
      ],
      "execution_count": null,
      "outputs": []
    },
    {
      "cell_type": "code",
      "metadata": {
        "id": "XLDZhEGesW3e"
      },
      "source": [
        "def plot_accuracy(history):\n",
        "  plt.plot(history.history['accuracy'], label='accuracy')\n",
        "  plt.plot(history.history['val_accuracy'], label='val_accuracy')\n",
        "  plt.ylim([0, 1])\n",
        "  plt.xlabel('Epoch')\n",
        "  plt.ylabel('accuracy')\n",
        "  plt.legend()\n",
        "  plt.grid(True)"
      ],
      "execution_count": null,
      "outputs": []
    },
    {
      "cell_type": "code",
      "metadata": {
        "colab": {
          "base_uri": "https://localhost:8080/",
          "height": 283
        },
        "id": "UhJwFA05G-gU",
        "outputId": "48609e2d-0cdc-4372-9f66-f180e0b2c80a"
      },
      "source": [
        "plot_loss(history)"
      ],
      "execution_count": null,
      "outputs": [
        {
          "output_type": "display_data",
          "data": {
            "image/png": "[encoded data removed]",
            "text/plain": [
              "<Figure size 432x288 with 1 Axes>"
            ]
          },
          "metadata": {
            "tags": [],
            "needs_background": "light"
          }
        }
      ]
    },
    {
      "cell_type": "code",
      "metadata": {
        "colab": {
          "base_uri": "https://localhost:8080/",
          "height": 283
        },
        "id": "6QOEsV_QsnnJ",
        "outputId": "1b6a233b-452e-4fec-e18f-c8bbc52addda"
      },
      "source": [
        "plot_accuracy(history)"
      ],
      "execution_count": null,
      "outputs": [
        {
          "output_type": "display_data",
          "data": {
            "image/png": "[encoded data removed]",
            "text/plain": [
              "<Figure size 432x288 with 1 Axes>"
            ]
          },
          "metadata": {
            "tags": [],
            "needs_background": "light"
          }
        }
      ]
    },
    {
      "cell_type": "code",
      "metadata": {
        "colab": {
          "base_uri": "https://localhost:8080/"
        },
        "id": "fROtsPzxJoC1",
        "outputId": "2a365df5-fec4-4424-eb4d-c0c7cdd6dbdd"
      },
      "source": [
        "# # save model\n",
        "# model.save('/content/drive/MyDrive/Thesis/models/LR_normalized_top40_ttest_nobackground')"
      ],
      "execution_count": null,
      "outputs": [
        {
          "output_type": "stream",
          "text": [
            "INFO:tensorflow:Assets written to: /content/drive/MyDrive/Thesis/models/LR_normalized_top40_ttest_nobackground/assets\n"
          ],
          "name": "stdout"
        }
      ]
    },
    {
      "cell_type": "code",
      "metadata": {
        "id": "2pYjb7-xJn_Z"
      },
      "source": [
        "# # load model\n",
        "# from tensorflow import keras\n",
        "# model = keras.models.load_model('/content/drive/MyDrive/Thesis/models/LR_normalized_top40_ttest_nobackground')"
      ],
      "execution_count": null,
      "outputs": []
    },
    {
      "cell_type": "code",
      "metadata": {
        "id": "IL3iwhczG-az"
      },
      "source": [
        "# predict = model.predict(X)\n",
        "# accuracy_score(np.round(predict), y[:])"
      ],
      "execution_count": null,
      "outputs": []
    },
    {
      "cell_type": "markdown",
      "metadata": {
        "id": "cTh4xFNlMSdH"
      },
      "source": [
        "## test model"
      ]
    },
    {
      "cell_type": "code",
      "metadata": {
        "id": "8jPT-qVeQgF0"
      },
      "source": [
        "# X = np.array(np.load('/content/drive/MyDrive/Thesis/dataset/segmented_normalized_one_tenth/X.npy'), dtype='float32')\n",
        "# y = np.array(np.load('/content/drive/MyDrive/Thesis/dataset/segmented_normalized_one_tenth/y.npy'), dtype='int')"
      ],
      "execution_count": null,
      "outputs": []
    },
    {
      "cell_type": "code",
      "metadata": {
        "id": "VkcK55J-_0AK"
      },
      "source": [
        "# X = X[::10, :]\n",
        "# y = y[::10]"
      ],
      "execution_count": null,
      "outputs": []
    },
    {
      "cell_type": "code",
      "metadata": {
        "colab": {
          "base_uri": "https://localhost:8080/"
        },
        "id": "xmHTZuQCAB_d",
        "outputId": "03a5f82e-09dc-40d2-9258-fe00a16e5838"
      },
      "source": [
        "X.shape"
      ],
      "execution_count": null,
      "outputs": [
        {
          "output_type": "execute_result",
          "data": {
            "text/plain": [
              "(84101, 186)"
            ]
          },
          "metadata": {
            "tags": []
          },
          "execution_count": 50
        }
      ]
    },
    {
      "cell_type": "code",
      "metadata": {
        "colab": {
          "base_uri": "https://localhost:8080/"
        },
        "id": "k7TGJIZT9lW5",
        "outputId": "42b60781-e114-47cd-dab9-0bb4e5b3be3f"
      },
      "source": [
        "  %%time\n",
        "  # instantiate cross_validation instance\n",
        "  num_of_folds = 5\n",
        "  kf = KFold(n_splits=num_of_folds, shuffle=True, random_state=42)\n",
        "\n",
        "  train_scores = np.array([])\n",
        "  val_scores = np.array([])\n",
        "\n",
        "  for train_index, val_index in kf.split(X):\n",
        "    # print(\"TRAIN:\", train_index, \"TEST:\", val_index)\n",
        "    X_train, X_val = X[train_index], X[val_index]\n",
        "    y_train, y_val = y[train_index], y[val_index]\n",
        "\n",
        "    # clf = LogisticRegression(penalty='none', max_iter=500).fit(X_train, y_train)\n",
        "    clf = make_pipeline(StandardScaler(), LogisticRegression(penalty='none', max_iter=1000))\n",
        "    clf.fit(X_train, y_train)\n",
        "\n",
        "    train_score = clf.score(X_train, y_train)\n",
        "    val_score = clf.score(X_val, y_val)\n",
        "\n",
        "    train_scores = np.append(train_scores, train_score)\n",
        "    val_scores = np.append(val_scores, val_score)"
      ],
      "execution_count": null,
      "outputs": [
        {
          "output_type": "stream",
          "text": [
            "CPU times: user 5min 12s, sys: 1min 59s, total: 7min 12s\n",
            "Wall time: 1min 50s\n"
          ],
          "name": "stdout"
        }
      ]
    },
    {
      "cell_type": "code",
      "metadata": {
        "colab": {
          "base_uri": "https://localhost:8080/"
        },
        "id": "GWI3_tIjMSDL",
        "outputId": "c3bd9329-fb1f-40f6-c316-96e2f67b722e"
      },
      "source": [
        "# getting list of cropped reference images\n",
        "source_file = '/content/drive/MyDrive/Thesis/source/VNIR_img.txt'\n",
        "img_list = []\n",
        "with open(source_file, \"r\") as listOfImages:\n",
        "    for line in listOfImages:\n",
        "        to_lower = str(line.strip()).lower() # make lower case to match reference imgs name\n",
        "        img_list.append(to_lower)\n",
        "        \n",
        "print(len(img_list))"
      ],
      "execution_count": null,
      "outputs": [
        {
          "output_type": "stream",
          "text": [
            "12\n"
          ],
          "name": "stdout"
        }
      ]
    },
    {
      "cell_type": "code",
      "metadata": {
        "colab": {
          "base_uri": "https://localhost:8080/",
          "height": 141
        },
        "id": "I8ZTMUfnMR-G",
        "outputId": "94575ac8-ac4f-4dd6-b506-b6fdf976afa9"
      },
      "source": [
        "ref = pd.read_csv('/content/drive/MyDrive/Thesis/files/img_labels.csv', encoding='latin-1')\n",
        "ref.insert(loc=1, column='ref', value=img_list)\n",
        "ref.head(3)"
      ],
      "execution_count": null,
      "outputs": [
        {
          "output_type": "execute_result",
          "data": {
            "text/html": [
              "<div>\n",
              "<style scoped>\n",
              "    .dataframe tbody tr th:only-of-type {\n",
              "        vertical-align: middle;\n",
              "    }\n",
              "\n",
              "    .dataframe tbody tr th {\n",
              "        vertical-align: top;\n",
              "    }\n",
              "\n",
              "    .dataframe thead th {\n",
              "        text-align: right;\n",
              "    }\n",
              "</style>\n",
              "<table border=\"1\" class=\"dataframe\">\n",
              "  <thead>\n",
              "    <tr style=\"text-align: right;\">\n",
              "      <th></th>\n",
              "      <th>Img_name</th>\n",
              "      <th>ref</th>\n",
              "      <th>PCR</th>\n",
              "    </tr>\n",
              "  </thead>\n",
              "  <tbody>\n",
              "    <tr>\n",
              "      <th>0</th>\n",
              "      <td>Ind-AT1_V1-A_Blatt_VNIR</td>\n",
              "      <td>ind-at1_v1-a_blatt_vnir</td>\n",
              "      <td>1</td>\n",
              "    </tr>\n",
              "    <tr>\n",
              "      <th>1</th>\n",
              "      <td>Ind-AT1_V1-B_Blatt_VNIR</td>\n",
              "      <td>ind-at1_v1-b_blatt_vnir</td>\n",
              "      <td>1</td>\n",
              "    </tr>\n",
              "    <tr>\n",
              "      <th>2</th>\n",
              "      <td>Ind-AT1_V1-C_Blatt_VNIR</td>\n",
              "      <td>ind-at1_v1-c_blatt_vnir</td>\n",
              "      <td>1</td>\n",
              "    </tr>\n",
              "  </tbody>\n",
              "</table>\n",
              "</div>"
            ],
            "text/plain": [
              "                  Img_name                      ref  PCR\n",
              "0  Ind-AT1_V1-A_Blatt_VNIR  ind-at1_v1-a_blatt_vnir    1\n",
              "1  Ind-AT1_V1-B_Blatt_VNIR  ind-at1_v1-b_blatt_vnir    1\n",
              "2  Ind-AT1_V1-C_Blatt_VNIR  ind-at1_v1-c_blatt_vnir    1"
            ]
          },
          "metadata": {
            "tags": []
          },
          "execution_count": 53
        }
      ]
    },
    {
      "cell_type": "code",
      "metadata": {
        "id": "iE3jiRueMRmJ"
      },
      "source": [
        "for i in range(12):\n",
        "  img = np.load('/content/drive/MyDrive/Thesis/cropped_imgs/'+ ref.Img_name[i] +'.npy')\n",
        "  img_reshaped = img.reshape(2270 * 1270,186)\n",
        "  # prediction basedon logistic regression\n",
        "  LR_predicted = np.array(clf.predict(img_reshaped))\n",
        "  # loading segmentation reference\n",
        "  ref_img = np.load('/content/drive/MyDrive/Thesis/reference_img/cropped/'+ str(ref.ref[i]) +'.npy')\n",
        "  ref_img[ref_img>0] = 1\n",
        "\n",
        "  LR_predicted_ref = LR_predicted.reshape(2270, 1270) * ref_img\n",
        "  LR_predicted_ref = LR_predicted_ref.reshape(2270, 1270, 1)\n",
        "\n",
        "  ground_truth = np.zeros([2270, 1270, 3])\n",
        "  ground_truth[:, :, 0:1] = img[:,:, 45:46].reshape((2270, 1270, 1))\n",
        "  ground_truth[:, :, 1:2] = img[:,:, 120:121].reshape((2270, 1270, 1))\n",
        "  ground_truth[:, :, 2:3] = img[:,:, 76:77].reshape((2270, 1270, 1))\n",
        "\n",
        "  rgb_LR = np.zeros([2270, 1270, 3])\n",
        "  rgb_LR[:, :, 0:1] = img[:,:, 45:46].reshape((2270, 1270, 1)) + LR_predicted_ref\n",
        "  rgb_LR[:, :, 1:2] = img[:,:, 120:121].reshape((2270, 1270, 1))\n",
        "  rgb_LR[:, :, 2:3] = img[:,:, 76:77].reshape((2270, 1270, 1))\n",
        "\n",
        "  # plt.title('Ground_truth bands 44, 42, 47  ' + ref.Img_name[i])\n",
        "  # plt.imsave('/content/drive/MyDrive/Thesis/predicted/Ground_Truth/' + ref.Img_name[i] + '.png', ground_truth)\n",
        "  # # plt.imshow(ground_truth)\n",
        "\n",
        "  rgb_LR = rgb_LR / np.max(rgb_LR)\n",
        "  plt.title('LR based prediction  ' + ref.Img_name[i])\n",
        "  plt.imsave('/content/drive/MyDrive/Thesis/predicted/LR_1percent_data/LR_predicted' + ref.Img_name[i] + '.png', rgb_LR)\n",
        "  # plt.imshow(rgb_LR)\n",
        "  print(i)"
      ],
      "execution_count": null,
      "outputs": []
    },
    {
      "cell_type": "markdown",
      "metadata": {
        "id": "E6f8VFGbSSjK"
      },
      "source": [
        "### recall precision curve"
      ]
    },
    {
      "cell_type": "code",
      "metadata": {
        "id": "R0lLyhKCMRi6"
      },
      "source": [
        "X = np.array(np.load('/content/drive/MyDrive/Thesis/dataset/segmented_normalized_original_size/X.npy'), dtype='float32')\n",
        "y = np.array(np.load('/content/drive/MyDrive/Thesis/dataset/segmented_normalized_original_size/y.npy'), dtype='int')"
      ],
      "execution_count": null,
      "outputs": []
    },
    {
      "cell_type": "code",
      "metadata": {
        "id": "mqSg-QPJAQ5m"
      },
      "source": [
        "predicted = clf.predict(X)"
      ],
      "execution_count": null,
      "outputs": []
    },
    {
      "cell_type": "code",
      "metadata": {
        "id": "abCk7YURCCsF"
      },
      "source": [
        "disp = plot_precision_recall_curve(clf, X, y)"
      ],
      "execution_count": null,
      "outputs": []
    },
    {
      "cell_type": "code",
      "metadata": {
        "id": "--iH9BUxCCpN"
      },
      "source": [
        ""
      ],
      "execution_count": null,
      "outputs": []
    },
    {
      "cell_type": "code",
      "metadata": {
        "id": "mid2KZrvYRlX"
      },
      "source": [
        ""
      ],
      "execution_count": null,
      "outputs": []
    },
    {
      "cell_type": "code",
      "metadata": {
        "id": "B3r5MrGaYkV1"
      },
      "source": [
        ""
      ],
      "execution_count": null,
      "outputs": []
    },
    {
      "cell_type": "code",
      "metadata": {
        "id": "kCLXiePBYkTb"
      },
      "source": [
        ""
      ],
      "execution_count": null,
      "outputs": []
    },
    {
      "cell_type": "code",
      "metadata": {
        "id": "U5xGbdUYE1ph"
      },
      "source": [
        ""
      ],
      "execution_count": null,
      "outputs": []
    },
    {
      "cell_type": "code",
      "metadata": {
        "id": "OtiMgczdE1nS"
      },
      "source": [
        ""
      ],
      "execution_count": null,
      "outputs": []
    },
    {
      "cell_type": "code",
      "metadata": {
        "id": "s_fX-IYLE1km"
      },
      "source": [
        ""
      ],
      "execution_count": null,
      "outputs": []
    },
    {
      "cell_type": "code",
      "metadata": {
        "id": "iV5VF4VtE1h1"
      },
      "source": [
        ""
      ],
      "execution_count": null,
      "outputs": []
    },
    {
      "cell_type": "code",
      "metadata": {
        "id": "VrwWrDydi_lc"
      },
      "source": [
        "import os, signal\n",
        "os.kill(os.getpid(), signal.SIGKILL)"
      ],
      "execution_count": null,
      "outputs": []
    },
    {
      "cell_type": "code",
      "metadata": {
        "id": "mCZaU6HnVaJA"
      },
      "source": [
        ""
      ],
      "execution_count": null,
      "outputs": []
    }
  ]
}